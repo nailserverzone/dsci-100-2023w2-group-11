{
 "cells": [
  {
   "cell_type": "markdown",
   "id": "94f4dbfd-7bf0-4246-8b6d-79ce825f22a0",
   "metadata": {},
   "source": [
    "First, we install a package that will allow us to upsample our dataset, and load the libraries we will need for our data analysis."
   ]
  },
  {
   "cell_type": "code",
   "execution_count": 1,
   "id": "46b48142-65c0-4405-8699-0b24a532eaab",
   "metadata": {},
   "outputs": [
    {
     "name": "stderr",
     "output_type": "stream",
     "text": [
      "Updating HTML index of packages in '.Library'\n",
      "\n",
      "Making 'packages.html' ...\n",
      " done\n",
      "\n"
     ]
    }
   ],
   "source": [
    "#CAUTION: Takes a long time to load.\n",
    "install.packages(\"themis\")"
   ]
  },
  {
   "cell_type": "code",
   "execution_count": 2,
   "id": "18e9f3dc-d38a-4f62-ae68-565b9162ddb6",
   "metadata": {},
   "outputs": [
    {
     "name": "stderr",
     "output_type": "stream",
     "text": [
      "── \u001b[1mAttaching packages\u001b[22m ─────────────────────────────────────── tidyverse 1.3.1 ──\n",
      "\n",
      "\u001b[32m✔\u001b[39m \u001b[34mggplot2\u001b[39m 3.4.2     \u001b[32m✔\u001b[39m \u001b[34mpurrr  \u001b[39m 1.0.1\n",
      "\u001b[32m✔\u001b[39m \u001b[34mtibble \u001b[39m 3.2.1     \u001b[32m✔\u001b[39m \u001b[34mdplyr  \u001b[39m 1.1.1\n",
      "\u001b[32m✔\u001b[39m \u001b[34mtidyr  \u001b[39m 1.3.0     \u001b[32m✔\u001b[39m \u001b[34mstringr\u001b[39m 1.5.0\n",
      "\u001b[32m✔\u001b[39m \u001b[34mreadr  \u001b[39m 2.1.2     \u001b[32m✔\u001b[39m \u001b[34mforcats\u001b[39m 0.5.1\n",
      "\n",
      "── \u001b[1mConflicts\u001b[22m ────────────────────────────────────────── tidyverse_conflicts() ──\n",
      "\u001b[31m✖\u001b[39m \u001b[34mdplyr\u001b[39m::\u001b[32mfilter()\u001b[39m masks \u001b[34mstats\u001b[39m::filter()\n",
      "\u001b[31m✖\u001b[39m \u001b[34mdplyr\u001b[39m::\u001b[32mlag()\u001b[39m    masks \u001b[34mstats\u001b[39m::lag()\n",
      "\n",
      "── \u001b[1mAttaching packages\u001b[22m ────────────────────────────────────── tidymodels 1.0.0 ──\n",
      "\n",
      "\u001b[32m✔\u001b[39m \u001b[34mbroom       \u001b[39m 1.0.0          \u001b[32m✔\u001b[39m \u001b[34mrsample     \u001b[39m 1.1.1     \n",
      "\u001b[32m✔\u001b[39m \u001b[34mdials       \u001b[39m 1.2.0          \u001b[32m✔\u001b[39m \u001b[34mtune        \u001b[39m 1.1.1.\u001b[31m9000\u001b[39m\n",
      "\u001b[32m✔\u001b[39m \u001b[34minfer       \u001b[39m 1.0.2          \u001b[32m✔\u001b[39m \u001b[34mworkflows   \u001b[39m 1.1.3     \n",
      "\u001b[32m✔\u001b[39m \u001b[34mmodeldata   \u001b[39m 1.0.0          \u001b[32m✔\u001b[39m \u001b[34mworkflowsets\u001b[39m 1.0.0     \n",
      "\u001b[32m✔\u001b[39m \u001b[34mparsnip     \u001b[39m 1.1.0          \u001b[32m✔\u001b[39m \u001b[34myardstick   \u001b[39m 1.1.0     \n",
      "\u001b[32m✔\u001b[39m \u001b[34mrecipes     \u001b[39m 1.0.5          \n",
      "\n",
      "── \u001b[1mConflicts\u001b[22m ───────────────────────────────────────── tidymodels_conflicts() ──\n",
      "\u001b[31m✖\u001b[39m \u001b[34mscales\u001b[39m::\u001b[32mdiscard()\u001b[39m masks \u001b[34mpurrr\u001b[39m::discard()\n",
      "\u001b[31m✖\u001b[39m \u001b[34mdplyr\u001b[39m::\u001b[32mfilter()\u001b[39m   masks \u001b[34mstats\u001b[39m::filter()\n",
      "\u001b[31m✖\u001b[39m \u001b[34mrecipes\u001b[39m::\u001b[32mfixed()\u001b[39m  masks \u001b[34mstringr\u001b[39m::fixed()\n",
      "\u001b[31m✖\u001b[39m \u001b[34mdplyr\u001b[39m::\u001b[32mlag()\u001b[39m      masks \u001b[34mstats\u001b[39m::lag()\n",
      "\u001b[31m✖\u001b[39m \u001b[34myardstick\u001b[39m::\u001b[32mspec()\u001b[39m masks \u001b[34mreadr\u001b[39m::spec()\n",
      "\u001b[31m✖\u001b[39m \u001b[34mrecipes\u001b[39m::\u001b[32mstep()\u001b[39m   masks \u001b[34mstats\u001b[39m::step()\n",
      "\u001b[34m•\u001b[39m Use suppressPackageStartupMessages() to eliminate package startup messages\n",
      "\n"
     ]
    }
   ],
   "source": [
    "#load libraries\n",
    "library(tidyverse)\n",
    "library(repr)\n",
    "library(tidymodels)\n",
    "library(themis)\n",
    "library(RColorBrewer)\n",
    "options(repr.matrix.max.rows = 10)"
   ]
  },
  {
   "cell_type": "markdown",
   "id": "5084f591-cec4-4cb0-9818-7983d6ec3406",
   "metadata": {},
   "source": [
    "Next, we read in our data. Upon inspection, we see that the percanetage of observations corresponding to real pulsars is around 9%. To balance the proportion of real pulsar observations to false pulsar observations, we upsample the dataset (i.e. create more real pulsar observations that have predictor values similar to those in the original dataset). We also scale and center our 6 predictor values as part of preprocessing the data."
   ]
  },
  {
   "cell_type": "code",
   "execution_count": 3,
   "id": "f804ecb4-70e1-4a55-895f-aa14eaa2abbe",
   "metadata": {},
   "outputs": [
    {
     "name": "stderr",
     "output_type": "stream",
     "text": [
      "\u001b[1mRows: \u001b[22m\u001b[34m17898\u001b[39m \u001b[1mColumns: \u001b[22m\u001b[34m9\u001b[39m\n",
      "\u001b[36m──\u001b[39m \u001b[1mColumn specification\u001b[22m \u001b[36m────────────────────────────────────────────────────────\u001b[39m\n",
      "\u001b[1mDelimiter:\u001b[22m \",\"\n",
      "\u001b[32mdbl\u001b[39m (9): mean_integrated_profile, stand_dev_integrated_profile, exc_kurtosis...\n",
      "\n",
      "\u001b[36mℹ\u001b[39m Use `spec()` to retrieve the full column specification for this data.\n",
      "\u001b[36mℹ\u001b[39m Specify the column types or set `show_col_types = FALSE` to quiet this message.\n"
     ]
    },
    {
     "data": {
      "text/html": [
       "<table class=\"dataframe\">\n",
       "<caption>A tibble: 2 × 3</caption>\n",
       "<thead>\n",
       "\t<tr><th scope=col>class</th><th scope=col>n</th><th scope=col>percent</th></tr>\n",
       "\t<tr><th scope=col>&lt;fct&gt;</th><th scope=col>&lt;int&gt;</th><th scope=col>&lt;dbl&gt;</th></tr>\n",
       "</thead>\n",
       "<tbody>\n",
       "\t<tr><td>0</td><td>16259</td><td>90.842552</td></tr>\n",
       "\t<tr><td>1</td><td> 1639</td><td> 9.157448</td></tr>\n",
       "</tbody>\n",
       "</table>\n"
      ],
      "text/latex": [
       "A tibble: 2 × 3\n",
       "\\begin{tabular}{lll}\n",
       " class & n & percent\\\\\n",
       " <fct> & <int> & <dbl>\\\\\n",
       "\\hline\n",
       "\t 0 & 16259 & 90.842552\\\\\n",
       "\t 1 &  1639 &  9.157448\\\\\n",
       "\\end{tabular}\n"
      ],
      "text/markdown": [
       "\n",
       "A tibble: 2 × 3\n",
       "\n",
       "| class &lt;fct&gt; | n &lt;int&gt; | percent &lt;dbl&gt; |\n",
       "|---|---|---|\n",
       "| 0 | 16259 | 90.842552 |\n",
       "| 1 |  1639 |  9.157448 |\n",
       "\n"
      ],
      "text/plain": [
       "  class n     percent  \n",
       "1 0     16259 90.842552\n",
       "2 1      1639  9.157448"
      ]
     },
     "metadata": {},
     "output_type": "display_data"
    },
    {
     "data": {
      "text/html": [
       "<table class=\"dataframe\">\n",
       "<caption>A tibble: 32518 × 7</caption>\n",
       "<thead>\n",
       "\t<tr><th scope=col>exc_kurtosis_integrated_profile</th><th scope=col>skew_dmsnr</th><th scope=col>stand_dev_integrated_profile</th><th scope=col>mean_dmsnr</th><th scope=col>skew_integrated_profile</th><th scope=col>exc_kurtosis_dmsnr</th><th scope=col>class</th></tr>\n",
       "\t<tr><th scope=col>&lt;dbl&gt;</th><th scope=col>&lt;dbl&gt;</th><th scope=col>&lt;dbl&gt;</th><th scope=col>&lt;dbl&gt;</th><th scope=col>&lt;dbl&gt;</th><th scope=col>&lt;dbl&gt;</th><th scope=col>&lt;fct&gt;</th></tr>\n",
       "</thead>\n",
       "<tbody>\n",
       "\t<tr><td>-0.66955083</td><td>-0.2874301</td><td> 1.3347944</td><td>-0.3194313</td><td>-0.4004478</td><td>-0.07279575</td><td>0</td></tr>\n",
       "\t<tr><td>-0.01178443</td><td> 0.2115755</td><td> 1.8022150</td><td>-0.3710915</td><td>-0.3705251</td><td> 0.50441285</td><td>0</td></tr>\n",
       "\t<tr><td>-0.14522850</td><td>-0.3913625</td><td>-1.0532928</td><td>-0.3220980</td><td>-0.1165896</td><td>-0.12599257</td><td>0</td></tr>\n",
       "\t<tr><td>-0.51339427</td><td>-0.4812869</td><td> 1.5532110</td><td>-0.3043957</td><td>-0.3901672</td><td>-0.31225666</td><td>0</td></tr>\n",
       "\t<tr><td> 0.11560548</td><td> 1.3867553</td><td>-0.8588548</td><td>-0.3879995</td><td>-0.1048632</td><td> 1.32398915</td><td>0</td></tr>\n",
       "\t<tr><td>⋮</td><td>⋮</td><td>⋮</td><td>⋮</td><td>⋮</td><td>⋮</td><td>⋮</td></tr>\n",
       "\t<tr><td> 5.8020326</td><td>-0.9937477</td><td>-2.4652996</td><td> 3.8893842</td><td> 7.3114799</td><td>-1.873192</td><td>1</td></tr>\n",
       "\t<tr><td> 3.6369326</td><td>-0.9962654</td><td>-0.7867809</td><td> 3.2970935</td><td> 2.7530970</td><td>-1.840426</td><td>1</td></tr>\n",
       "\t<tr><td>-0.2387201</td><td> 3.2312103</td><td> 1.3834118</td><td>-0.4049643</td><td>-0.3797563</td><td> 2.691127</td><td>1</td></tr>\n",
       "\t<tr><td> 2.5882005</td><td>-0.9625085</td><td>-2.4093220</td><td> 0.6126364</td><td> 2.6332044</td><td>-1.404898</td><td>1</td></tr>\n",
       "\t<tr><td> 2.7396126</td><td>-0.9308988</td><td>-1.6665383</td><td> 0.4153858</td><td> 2.0854732</td><td>-1.276957</td><td>1</td></tr>\n",
       "</tbody>\n",
       "</table>\n"
      ],
      "text/latex": [
       "A tibble: 32518 × 7\n",
       "\\begin{tabular}{lllllll}\n",
       " exc\\_kurtosis\\_integrated\\_profile & skew\\_dmsnr & stand\\_dev\\_integrated\\_profile & mean\\_dmsnr & skew\\_integrated\\_profile & exc\\_kurtosis\\_dmsnr & class\\\\\n",
       " <dbl> & <dbl> & <dbl> & <dbl> & <dbl> & <dbl> & <fct>\\\\\n",
       "\\hline\n",
       "\t -0.66955083 & -0.2874301 &  1.3347944 & -0.3194313 & -0.4004478 & -0.07279575 & 0\\\\\n",
       "\t -0.01178443 &  0.2115755 &  1.8022150 & -0.3710915 & -0.3705251 &  0.50441285 & 0\\\\\n",
       "\t -0.14522850 & -0.3913625 & -1.0532928 & -0.3220980 & -0.1165896 & -0.12599257 & 0\\\\\n",
       "\t -0.51339427 & -0.4812869 &  1.5532110 & -0.3043957 & -0.3901672 & -0.31225666 & 0\\\\\n",
       "\t  0.11560548 &  1.3867553 & -0.8588548 & -0.3879995 & -0.1048632 &  1.32398915 & 0\\\\\n",
       "\t ⋮ & ⋮ & ⋮ & ⋮ & ⋮ & ⋮ & ⋮\\\\\n",
       "\t  5.8020326 & -0.9937477 & -2.4652996 &  3.8893842 &  7.3114799 & -1.873192 & 1\\\\\n",
       "\t  3.6369326 & -0.9962654 & -0.7867809 &  3.2970935 &  2.7530970 & -1.840426 & 1\\\\\n",
       "\t -0.2387201 &  3.2312103 &  1.3834118 & -0.4049643 & -0.3797563 &  2.691127 & 1\\\\\n",
       "\t  2.5882005 & -0.9625085 & -2.4093220 &  0.6126364 &  2.6332044 & -1.404898 & 1\\\\\n",
       "\t  2.7396126 & -0.9308988 & -1.6665383 &  0.4153858 &  2.0854732 & -1.276957 & 1\\\\\n",
       "\\end{tabular}\n"
      ],
      "text/markdown": [
       "\n",
       "A tibble: 32518 × 7\n",
       "\n",
       "| exc_kurtosis_integrated_profile &lt;dbl&gt; | skew_dmsnr &lt;dbl&gt; | stand_dev_integrated_profile &lt;dbl&gt; | mean_dmsnr &lt;dbl&gt; | skew_integrated_profile &lt;dbl&gt; | exc_kurtosis_dmsnr &lt;dbl&gt; | class &lt;fct&gt; |\n",
       "|---|---|---|---|---|---|---|\n",
       "| -0.66955083 | -0.2874301 |  1.3347944 | -0.3194313 | -0.4004478 | -0.07279575 | 0 |\n",
       "| -0.01178443 |  0.2115755 |  1.8022150 | -0.3710915 | -0.3705251 |  0.50441285 | 0 |\n",
       "| -0.14522850 | -0.3913625 | -1.0532928 | -0.3220980 | -0.1165896 | -0.12599257 | 0 |\n",
       "| -0.51339427 | -0.4812869 |  1.5532110 | -0.3043957 | -0.3901672 | -0.31225666 | 0 |\n",
       "|  0.11560548 |  1.3867553 | -0.8588548 | -0.3879995 | -0.1048632 |  1.32398915 | 0 |\n",
       "| ⋮ | ⋮ | ⋮ | ⋮ | ⋮ | ⋮ | ⋮ |\n",
       "|  5.8020326 | -0.9937477 | -2.4652996 |  3.8893842 |  7.3114799 | -1.873192 | 1 |\n",
       "|  3.6369326 | -0.9962654 | -0.7867809 |  3.2970935 |  2.7530970 | -1.840426 | 1 |\n",
       "| -0.2387201 |  3.2312103 |  1.3834118 | -0.4049643 | -0.3797563 |  2.691127 | 1 |\n",
       "|  2.5882005 | -0.9625085 | -2.4093220 |  0.6126364 |  2.6332044 | -1.404898 | 1 |\n",
       "|  2.7396126 | -0.9308988 | -1.6665383 |  0.4153858 |  2.0854732 | -1.276957 | 1 |\n",
       "\n"
      ],
      "text/plain": [
       "      exc_kurtosis_integrated_profile skew_dmsnr stand_dev_integrated_profile\n",
       "1     -0.66955083                     -0.2874301  1.3347944                  \n",
       "2     -0.01178443                      0.2115755  1.8022150                  \n",
       "3     -0.14522850                     -0.3913625 -1.0532928                  \n",
       "4     -0.51339427                     -0.4812869  1.5532110                  \n",
       "5      0.11560548                      1.3867553 -0.8588548                  \n",
       "⋮     ⋮                               ⋮          ⋮                           \n",
       "32514  5.8020326                      -0.9937477 -2.4652996                  \n",
       "32515  3.6369326                      -0.9962654 -0.7867809                  \n",
       "32516 -0.2387201                       3.2312103  1.3834118                  \n",
       "32517  2.5882005                      -0.9625085 -2.4093220                  \n",
       "32518  2.7396126                      -0.9308988 -1.6665383                  \n",
       "      mean_dmsnr skew_integrated_profile exc_kurtosis_dmsnr class\n",
       "1     -0.3194313 -0.4004478              -0.07279575        0    \n",
       "2     -0.3710915 -0.3705251               0.50441285        0    \n",
       "3     -0.3220980 -0.1165896              -0.12599257        0    \n",
       "4     -0.3043957 -0.3901672              -0.31225666        0    \n",
       "5     -0.3879995 -0.1048632               1.32398915        0    \n",
       "⋮     ⋮          ⋮                       ⋮                  ⋮    \n",
       "32514  3.8893842  7.3114799              -1.873192          1    \n",
       "32515  3.2970935  2.7530970              -1.840426          1    \n",
       "32516 -0.4049643 -0.3797563               2.691127          1    \n",
       "32517  0.6126364  2.6332044              -1.404898          1    \n",
       "32518  0.4153858  2.0854732              -1.276957          1    "
      ]
     },
     "metadata": {},
     "output_type": "display_data"
    },
    {
     "data": {
      "text/html": [
       "<table class=\"dataframe\">\n",
       "<caption>A tibble: 2 × 3</caption>\n",
       "<thead>\n",
       "\t<tr><th scope=col>class</th><th scope=col>n</th><th scope=col>percent</th></tr>\n",
       "\t<tr><th scope=col>&lt;fct&gt;</th><th scope=col>&lt;int&gt;</th><th scope=col>&lt;dbl&gt;</th></tr>\n",
       "</thead>\n",
       "<tbody>\n",
       "\t<tr><td>0</td><td>16259</td><td>50</td></tr>\n",
       "\t<tr><td>1</td><td>16259</td><td>50</td></tr>\n",
       "</tbody>\n",
       "</table>\n"
      ],
      "text/latex": [
       "A tibble: 2 × 3\n",
       "\\begin{tabular}{lll}\n",
       " class & n & percent\\\\\n",
       " <fct> & <int> & <dbl>\\\\\n",
       "\\hline\n",
       "\t 0 & 16259 & 50\\\\\n",
       "\t 1 & 16259 & 50\\\\\n",
       "\\end{tabular}\n"
      ],
      "text/markdown": [
       "\n",
       "A tibble: 2 × 3\n",
       "\n",
       "| class &lt;fct&gt; | n &lt;int&gt; | percent &lt;dbl&gt; |\n",
       "|---|---|---|\n",
       "| 0 | 16259 | 50 |\n",
       "| 1 | 16259 | 50 |\n",
       "\n"
      ],
      "text/plain": [
       "  class n     percent\n",
       "1 0     16259 50     \n",
       "2 1     16259 50     "
      ]
     },
     "metadata": {},
     "output_type": "display_data"
    }
   ],
   "source": [
    "#Add columns\n",
    "unscaled_data <- read_csv(\"pulsar_data.csv\", \n",
    "                        col_names = c(\"mean_integrated_profile\", \n",
    "                                      \"stand_dev_integrated_profile\", \n",
    "                                      \"exc_kurtosis_integrated_profile\", \n",
    "                                      \"skew_integrated_profile\",\n",
    "                                      \"mean_dmsnr\", \n",
    "                                      \"stand_dev_dmsnr\", \n",
    "                                      \"exc_kurtosis_dmsnr\", \n",
    "                                      \"skew_dmsnr\", \"class\")) \n",
    "\n",
    "unscaled_data <- unscaled_data |>\n",
    "    drop_na() |>\n",
    "    mutate(class = as_factor(class))\n",
    "#unscaled_data \n",
    "\n",
    "#Class proportions in pulsar dataset (Imbalanced)\n",
    "num_obs <- nrow(unscaled_data)\n",
    "pulsar_proportions <- unscaled_data |>\n",
    "    group_by(class) |>\n",
    "    summarize(n = n()) |>\n",
    "    mutate(percent = 100*n/nrow(unscaled_data))\n",
    "pulsar_proportions\n",
    "\n",
    "#Scale data and Upsample to balance data\n",
    "pulsar_recipe <- recipe(class ~ exc_kurtosis_integrated_profile + skew_dmsnr + stand_dev_integrated_profile + \n",
    "                        mean_dmsnr + skew_integrated_profile + exc_kurtosis_dmsnr, data = unscaled_data) |>\n",
    "    step_scale(all_predictors()) |>\n",
    "    step_center(all_predictors()) |>\n",
    "    step_upsample(class, over_ratio = 1, skip = FALSE) |>\n",
    "    prep()\n",
    "\n",
    "standardized_pulsar <- bake(pulsar_recipe, unscaled_data)\n",
    "standardized_pulsar\n",
    "\n",
    "#check proportions of upsampled data\n",
    "new_pulsar_proportions <- standardized_pulsar |>\n",
    "    group_by(class) |>\n",
    "    summarize(n = n()) |>\n",
    "    mutate(percent = 100*n/nrow(standardized_pulsar))\n",
    "new_pulsar_proportions"
   ]
  },
  {
   "cell_type": "markdown",
   "id": "cb3a496f-86a9-4d74-a88a-4ee4a4512e94",
   "metadata": {},
   "source": [
    "Here, we split our preproceesed data into training and testing sets, and put 75% of the data into the training set. We also build our recipe given our chosen predictors. "
   ]
  },
  {
   "cell_type": "code",
   "execution_count": 4,
   "id": "c18e7624-7e36-4f57-b9c5-0d0823d722f5",
   "metadata": {},
   "outputs": [
    {
     "name": "stderr",
     "output_type": "stream",
     "text": [
      "\n",
      "\n",
      "\u001b[36m──\u001b[39m \u001b[1mRecipe\u001b[22m \u001b[36m──────────────────────────────────────────────────────────────────────\u001b[39m\n",
      "\n",
      "\n",
      "\n",
      "── Inputs \n",
      "\n",
      "Number of variables by role\n",
      "\n",
      "outcome:   1\n",
      "predictor: 6\n",
      "\n"
     ]
    }
   ],
   "source": [
    "set.seed(1)\n",
    "pulsar_split <- initial_split(standardized_pulsar, prop = 0.75, strata = class)\n",
    "pulsar_train <- training(pulsar_split)\n",
    "pulsar_test <- testing(pulsar_split) \n",
    "\n",
    "pulsar_recipe <- recipe(class ~ exc_kurtosis_integrated_profile + skew_dmsnr + stand_dev_integrated_profile + \n",
    "                        mean_dmsnr + skew_integrated_profile + exc_kurtosis_dmsnr, data = pulsar_train)\n",
    "pulsar_recipe\n",
    "\n",
    "#pulsar_prediction_accuracy <- pulsar_test_predictions |>\n",
    "  #  metrics(truth = class, estimate = .pred_class) |>\n",
    " #   filter(.metric == \"accuracy\")\n",
    "#pulsar_prediction_accuracy"
   ]
  },
  {
   "cell_type": "markdown",
   "id": "238bd6de-c1ef-45c5-bdf3-0c857686f94a",
   "metadata": {},
   "source": [
    "Now we perform cross validation on the training set in order to select the best K value for our classifier (number of neighbors). To do this, we use 10 folds. But first, we build a classification model that specifies that we want to tune the number of neighbors. We create a tibble that contains each K value that we want to test."
   ]
  },
  {
   "cell_type": "code",
   "execution_count": null,
   "id": "e8ebb63d-702f-43a2-a0ee-dc200ab384a8",
   "metadata": {},
   "outputs": [],
   "source": [
    "#build the model, CAUTION: Takes a long time to load.\n",
    "knn_spec <- nearest_neighbor(weight_func = \"rectangular\", neighbors = tune()) |>\n",
    "            set_engine(\"kknn\") |>\n",
    "            set_mode(\"classification\")\n",
    "\n",
    "#Create a tibble for the K values\n",
    "k_vals <- tibble(neighbors = seq(from = 1, to = 75, by = 3))\n",
    "#k_vals\n",
    "\n",
    "#Set up and perform 10 fold cross validation\n",
    "pulsar_vfold <- vfold_cv(pulsar_train, v = 10, strata = class)\n",
    "\n",
    "knn_results <- workflow() |>\n",
    "               add_recipe(pulsar_recipe) |>\n",
    "               add_model(knn_spec) |>\n",
    "               tune_grid(resamples = pulsar_vfold, grid = k_vals) |>\n",
    "               collect_metrics() #assess the accuracy \n",
    "knn_results"
   ]
  },
  {
   "cell_type": "markdown",
   "id": "3dce61f3-3eec-49bd-a53e-ba534e3cf442",
   "metadata": {},
   "source": [
    "To determine the best K to use, we filter the collected metrics from cross validation and plot the accuracy against the K values we tested."
   ]
  },
  {
   "cell_type": "code",
   "execution_count": null,
   "id": "f3dad9b6-9233-474f-b1cb-eedb8b441f6a",
   "metadata": {},
   "outputs": [],
   "source": [
    "accuracies <- knn_results |> \n",
    "       filter(.metric == \"accuracy\")\n",
    "\n",
    "accuracy_versus_k <- ggplot(accuracies, aes(x = neighbors, y = mean))+\n",
    "       geom_point() +\n",
    "       geom_line() +\n",
    "       labs(x = \"Neighbors\", y = \"Accuracy Estimate\") +\n",
    "       ggtitle(\"Accuracy vs. K\") +\n",
    "       theme(text = element_text(size = 20))\n",
    "accuracy_versus_k"
   ]
  },
  {
   "cell_type": "markdown",
   "id": "2c175223-e80b-4e90-afd3-b872e2bbff7a",
   "metadata": {},
   "source": [
    "Based on the above plot, we see that the accuracy decreases quite steeply as the number of neighbors increases, before leveling off from around K = 16 onwards. We choose K = 17 for our classification model because the accuracy is high at this point, and the accuracy does not change drastically when looking at similar K values. Overall, we want to avoid overfitting the data by selecting too few neighbors, and 17 is an odd number (given that K-nearest neighbors classifies observations based on a majority rules system, using an even number of neighbors could be problematic in the event of a tie, since our class variable is binary). "
   ]
  },
  {
   "cell_type": "markdown",
   "id": "b94cc5c8-f7b7-462b-9dc3-ad4d81cdd5de",
   "metadata": {},
   "source": [
    "Upon determining the optimal K value for our classifier, we can finally predict on our testing set. As done below, we use the same recipe as before, but a new model that sets the number of neighbors to 17 must be built. Once we have used the model to predict the classes of the observations in the test set, we take a confusion matrix to view the accuracy."
   ]
  },
  {
   "cell_type": "code",
   "execution_count": null,
   "id": "9c8248be-dd71-44eb-bc6a-cc64a680de11",
   "metadata": {},
   "outputs": [],
   "source": [
    "knn_spec_final <- nearest_neighbor(weight_func = \"rectangular\", neighbors = 17) |>\n",
    "                    set_engine(\"kknn\") |>\n",
    "                    set_mode(\"classification\")\n",
    "\n",
    "pulsar_fit_final <- workflow() |>\n",
    "        add_recipe(pulsar_recipe) |>\n",
    "        add_model(knn_spec_final) |>\n",
    "        fit(data = pulsar_train)\n",
    "\n",
    "pulsar_test_predictions_final <-  predict(pulsar_fit_final, pulsar_test) |>\n",
    "        bind_cols(pulsar_test)\n",
    "\n",
    "pulsar_test_predictions_final                \n",
    "\n",
    "confusion_final <- pulsar_test_predictions_final |>\n",
    "    conf_mat(truth = class, estimate = .pred_class)\n",
    "confusion_final"
   ]
  },
  {
   "cell_type": "markdown",
   "id": "80337786-6d08-450c-8231-061bc18bf298",
   "metadata": {},
   "source": [
    "To visualize the accuracy of our classification model, we create a new column in the predictions table that will allow us to visualze the test data in such a way that colour-coding the observations will let us see the information stored in the confusion matrix. (***not worded very well)"
   ]
  },
  {
   "cell_type": "code",
   "execution_count": null,
   "id": "b4ab16dc-0121-4492-b614-091faa0061ad",
   "metadata": {},
   "outputs": [],
   "source": [
    "mutated_predictions <- pulsar_test_predictions_final |>\n",
    "    mutate(new_cat = case_when(.pred_class == 0 & class == 0 ~ \"False pulsar, correctly classified\",\n",
    "                               .pred_class == 1 & class == 1 ~ \"Real pulsar, correctly classified\",\n",
    "                               .pred_class == 1 & class == 0 ~ \"False pulsar, incorrectly classified\",\n",
    "                               .pred_class == 0 & class == 1 ~ \"Real pulsar, incorrectly classified\"))\n",
    "mutated_predictions\n",
    "\n",
    "#this code came from: https://community.rstudio.com/t/creating-a-new-variable-under-conditions-of-other-two-variables/51825 "
   ]
  },
  {
   "cell_type": "markdown",
   "id": "dfd50700-bf7e-4cf7-a342-d02cb65b0153",
   "metadata": {},
   "source": [
    "Visualization of our classifier's accuracy:"
   ]
  },
  {
   "cell_type": "code",
   "execution_count": null,
   "id": "4ab9c464-84ad-4a16-b9c8-855c6d16031f",
   "metadata": {},
   "outputs": [],
   "source": [
    "options(repr.plot.height = 10, repr.plot.width = 14)\n",
    "\n",
    "#First 2 predictors\n",
    "plot_1 <- ggplot() +\n",
    "    geom_point(data = mutated_predictions, mapping = aes(x = exc_kurtosis_integrated_profile, \n",
    "                                                              y = mean_dmsnr, colour = new_cat), alpha = 0.5) +\n",
    "    labs(x = \"Scaled Excess Kurtosis - Integrated Profile\", y = \"Scaled Mean - DMSNR curve\", colour = \"Prediction\") +\n",
    "    ggtitle(\"Classifier accuracy with regards to mean of DMSNR\n",
    "                \\ncurve and excess kurtosis of integrated profile\") +\n",
    "    scale_color_brewer(palette = \"Dark2\") +\n",
    "    theme(text = element_text(size = 20))\n",
    "plot_1\n",
    "\n",
    "\n",
    "\n",
    "#Next 2 predictors\n",
    "plot_2 <- ggplot() +\n",
    "    geom_point(data = mutated_predictions, mapping = aes(x = skew_dmsnr,\n",
    "                                                              y = skew_integrated_profile, colour = new_cat), alpha = 0.5) +\n",
    "    labs(x = \"Scaled Skewness - DMSNR curve\", y = \"Scaled Skewness - Integrated Profile\", colour = \"Prediction\") +\n",
    "    ggtitle(\"Classifier accuracy with regards to skewkness\n",
    "                \\nof both DMSNR curve and integrated profile\") +\n",
    "    scale_color_brewer(palette = \"Dark2\") +\n",
    "    theme(text = element_text(size = 20))\n",
    "plot_2\n",
    "\n",
    "\n",
    "\n",
    "#Last 2 predictors\n",
    "plot_3 <- ggplot() +\n",
    "    geom_point(data = mutated_predictions, mapping = aes(x = stand_dev_integrated_profile, \n",
    "                                                             y = exc_kurtosis_dmsnr, colour = new_cat), alpha = 0.5) +\n",
    "    labs(x = \"Scaled Standard Deviation - Integrated Profile\", y = \"Scaled Excess Kurtosis - DMSNR curve\", colour = \"Prediction\") +\n",
    "    ggtitle(\"Classifier accuracy with regards to excess kurtosis of\n",
    "                \\nDMSNR curve and standard deviation of integrated profile\") +\n",
    "    scale_color_brewer(palette = \"Dark2\") +\n",
    "    theme(text = element_text(size = 20))\n",
    "plot_3"
   ]
  },
  {
   "cell_type": "markdown",
   "id": "511f40e0-0a1a-4b35-862c-f6e1cab7a207",
   "metadata": {},
   "source": [
    "As can be seen above, there are very few observations in the testing set that were incorrectly classified. This indicates that our model is quite accurate. We can represent the accuracy of our model as a percentage, as well:"
   ]
  },
  {
   "cell_type": "code",
   "execution_count": null,
   "id": "9b2d99de-ed02-480e-8fc3-0e92d18fed0f",
   "metadata": {},
   "outputs": [],
   "source": [
    "#From the confusion matrix:\n",
    "\n",
    "accuracy_perc <- ((3838 + 3853)/8130)*100\n",
    "accuracy_perc"
   ]
  },
  {
   "cell_type": "markdown",
   "id": "b0cce850-d0c1-4a2b-a29a-0d4c27d51260",
   "metadata": {},
   "source": [
    "Therefore, <b> ~95% </b> is a good estimate of how accuracte our classication model is."
   ]
  },
  {
   "cell_type": "code",
   "execution_count": null,
   "id": "0d62c9b4-d944-4621-bd11-e2cbd147ac09",
   "metadata": {},
   "outputs": [],
   "source": []
  }
 ],
 "metadata": {
  "kernelspec": {
   "display_name": "R",
   "language": "R",
   "name": "ir"
  },
  "language_info": {
   "codemirror_mode": "r",
   "file_extension": ".r",
   "mimetype": "text/x-r-source",
   "name": "R",
   "pygments_lexer": "r",
   "version": "4.1.3"
  }
 },
 "nbformat": 4,
 "nbformat_minor": 5
}
