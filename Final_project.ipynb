{
 "cells": [
  {
   "cell_type": "markdown",
   "id": "8e3fcf7c-e9ec-4fd2-98a5-04d5534251fa",
   "metadata": {},
   "source": [
    "<b> Title: </b> Group 11 Final Project Report - DSCI 100 002 \n",
    "\n",
    "<b> Group members: </b> Katie Archer, Noor Naila Imtinan Himam, Matthew Yeung, Wenwen Zhao"
   ]
  },
  {
   "cell_type": "markdown",
   "id": "b692e83d-b171-416f-bad7-d00f894b36c9",
   "metadata": {},
   "source": [
    "<b>1. Introduction</b>\n",
    "<br>\n",
    "According to scientific research, pulsars are an uncommon form of neutron stars that emit regular pulses of radiation, varying from several seconds to milliseconds in frequency. The potent magnetic fields of these stars generate intense beams of light at both poles. These beams are periodically observed as the pulsar rotates quickly, and they can only be observed with large telescopes when they cross our line of sight from Earth (National Aeronautics and Space Administration, n.d.)\n",
    "\n",
    "Although pulsars emit a pattern of radio emission that can be detected as they rotate, it can be challenging to distinguish between genuine signals and background noise. Pulsar candidates are being classified as binary classification issues using machine learning tools. The HTRU 2 dataset, which is used to train classification models, includes examples of both real and false pulsar signals. The class labels used are 0 (negative) and 1 (positive), with the legitimate pulsar examples being the minority positive class. The eight continuous variables are obtained from the integrated pulse profile and the DM-SNR (Dispersion Measure-Signal-to-Noise Ratio) curve, which describes the longitude-resolved version of the signal averaged in both time and frequency (Keith et al., 2010). Each candidate in the dataset is described by eight continuous variables, one class variable, and no astronomical information. The integrated pulse profile and the DM-SNR curve are used to determine the eight variables.\n",
    "\n",
    "In this project, we aim to produce a KNN classification model from the integrated pulse profile and DM-SNR curve of pulsar candidates to classify whether signals are legitimate or spurious (real or false pulsar). The data will be used to explore the correlation between two variables, the class imbalance and the combination of predictors that would create a model with the greatest accuracy."
   ]
  },
  {
   "cell_type": "markdown",
   "id": "b2c4c763-a084-475b-b915-8832b6234d1b",
   "metadata": {},
   "source": [
    "<b>2. Preliminary exploratory data analysis:</b>\n"
   ]
  },
  {
   "cell_type": "markdown",
   "id": "2b4b953b-9773-4582-8247-c17372463d1c",
   "metadata": {},
   "source": [
    "First, we load all of the libraries that we will need for the remainder of this project. This includes installing a package that will allow us to upsample our dataset later on."
   ]
  },
  {
   "cell_type": "code",
   "execution_count": 1,
   "id": "57f97abf-d9bd-4147-95b2-c1a0c8da1e41",
   "metadata": {
    "tags": [],
    "vscode": {
     "languageId": "r"
    }
   },
   "outputs": [
    {
     "name": "stderr",
     "output_type": "stream",
     "text": [
      "Updating HTML index of packages in '.Library'\n",
      "\n",
      "Making 'packages.html' ...\n",
      " done\n",
      "\n",
      "Updating HTML index of packages in '.Library'\n",
      "\n",
      "Making 'packages.html' ...\n",
      " done\n",
      "\n",
      "Removing package from ‘/opt/conda/lib/R/library’\n",
      "(as ‘lib’ is unspecified)\n",
      "\n",
      "Updating HTML index of packages in '.Library'\n",
      "\n",
      "Making 'packages.html' ...\n",
      " done\n",
      "\n",
      "Updating HTML index of packages in '.Library'\n",
      "\n",
      "Making 'packages.html' ...\n",
      " done\n",
      "\n"
     ]
    }
   ],
   "source": [
    "#CAUTION: Takes a long time to load.\n",
    "#install.packages(c(\"DiceDesign\", \"modeldata\", \"dials\", \"tune\", \"workflowsets\"), dependencies = TRUE)\n",
    "install.packages(\"tidymodels\") #, dependencies = TRUE)\n",
    "install.packages(\"themis\")\n",
    "remove.packages(\"rlang\")\n",
    "install.packages(\"corrplot\")\n",
    "#install.packages(\"tidyverse\")\n",
    "#install.packages(\"kknn\")"
   ]
  },
  {
   "cell_type": "code",
   "execution_count": 1,
   "id": "fe00850e-2b65-4da2-96e2-08ae49344ad4",
   "metadata": {
    "tags": [],
    "vscode": {
     "languageId": "r"
    }
   },
   "outputs": [
    {
     "name": "stderr",
     "output_type": "stream",
     "text": [
      "Installing package into ‘/home/jupyter/R/x86_64-pc-linux-gnu-library/4.2’\n",
      "(as ‘lib’ is unspecified)\n",
      "\n",
      "Warning message in system(\"timedatectl\", intern = TRUE):\n",
      "“running command 'timedatectl' had status 1”\n",
      "── \u001b[1mAttaching core tidyverse packages\u001b[22m ──────────────────────── tidyverse 2.0.0 ──\n",
      "\u001b[32m✔\u001b[39m \u001b[34mdplyr    \u001b[39m 1.1.1     \u001b[32m✔\u001b[39m \u001b[34mreadr    \u001b[39m 2.1.4\n",
      "\u001b[32m✔\u001b[39m \u001b[34mforcats  \u001b[39m 1.0.0     \u001b[32m✔\u001b[39m \u001b[34mstringr  \u001b[39m 1.5.0\n",
      "\u001b[32m✔\u001b[39m \u001b[34mggplot2  \u001b[39m 3.4.2     \u001b[32m✔\u001b[39m \u001b[34mtibble   \u001b[39m 3.2.1\n",
      "\u001b[32m✔\u001b[39m \u001b[34mlubridate\u001b[39m 1.9.2     \u001b[32m✔\u001b[39m \u001b[34mtidyr    \u001b[39m 1.3.0\n",
      "\u001b[32m✔\u001b[39m \u001b[34mpurrr    \u001b[39m 1.0.1     \n",
      "── \u001b[1mConflicts\u001b[22m ────────────────────────────────────────── tidyverse_conflicts() ──\n",
      "\u001b[31m✖\u001b[39m \u001b[34mpurrr\u001b[39m::\u001b[32m%@%()\u001b[39m         masks \u001b[34mrlang\u001b[39m::%@%()\n",
      "\u001b[31m✖\u001b[39m \u001b[34mdplyr\u001b[39m::\u001b[32mfilter()\u001b[39m      masks \u001b[34mstats\u001b[39m::filter()\n",
      "\u001b[31m✖\u001b[39m \u001b[34mpurrr\u001b[39m::\u001b[32mflatten()\u001b[39m     masks \u001b[34mrlang\u001b[39m::flatten()\n",
      "\u001b[31m✖\u001b[39m \u001b[34mpurrr\u001b[39m::\u001b[32mflatten_chr()\u001b[39m masks \u001b[34mrlang\u001b[39m::flatten_chr()\n",
      "\u001b[31m✖\u001b[39m \u001b[34mpurrr\u001b[39m::\u001b[32mflatten_dbl()\u001b[39m masks \u001b[34mrlang\u001b[39m::flatten_dbl()\n",
      "\u001b[31m✖\u001b[39m \u001b[34mpurrr\u001b[39m::\u001b[32mflatten_int()\u001b[39m masks \u001b[34mrlang\u001b[39m::flatten_int()\n",
      "\u001b[31m✖\u001b[39m \u001b[34mpurrr\u001b[39m::\u001b[32mflatten_lgl()\u001b[39m masks \u001b[34mrlang\u001b[39m::flatten_lgl()\n",
      "\u001b[31m✖\u001b[39m \u001b[34mpurrr\u001b[39m::\u001b[32mflatten_raw()\u001b[39m masks \u001b[34mrlang\u001b[39m::flatten_raw()\n",
      "\u001b[31m✖\u001b[39m \u001b[34mpurrr\u001b[39m::\u001b[32minvoke()\u001b[39m      masks \u001b[34mrlang\u001b[39m::invoke()\n",
      "\u001b[31m✖\u001b[39m \u001b[34mdplyr\u001b[39m::\u001b[32mlag()\u001b[39m         masks \u001b[34mstats\u001b[39m::lag()\n",
      "\u001b[31m✖\u001b[39m \u001b[34mpurrr\u001b[39m::\u001b[32msplice()\u001b[39m      masks \u001b[34mrlang\u001b[39m::splice()\n",
      "\u001b[36mℹ\u001b[39m Use the conflicted package (\u001b[3m\u001b[34m<http://conflicted.r-lib.org/>\u001b[39m\u001b[23m) to force all conflicts to become errors\n",
      "── \u001b[1mAttaching packages\u001b[22m ────────────────────────────────────── tidymodels 1.0.0 ──\n",
      "\n",
      "\u001b[32m✔\u001b[39m \u001b[34mbroom       \u001b[39m 1.0.4          \u001b[32m✔\u001b[39m \u001b[34mrsample     \u001b[39m 1.1.1     \n",
      "\u001b[32m✔\u001b[39m \u001b[34mdials       \u001b[39m 1.2.0          \u001b[32m✔\u001b[39m \u001b[34mtune        \u001b[39m 1.1.1.\u001b[31m9000\u001b[39m\n",
      "\u001b[32m✔\u001b[39m \u001b[34minfer       \u001b[39m 1.0.4          \u001b[32m✔\u001b[39m \u001b[34mworkflows   \u001b[39m 1.1.3     \n",
      "\u001b[32m✔\u001b[39m \u001b[34mmodeldata   \u001b[39m 1.1.0          \u001b[32m✔\u001b[39m \u001b[34mworkflowsets\u001b[39m 1.0.1     \n",
      "\u001b[32m✔\u001b[39m \u001b[34mparsnip     \u001b[39m 1.1.0          \u001b[32m✔\u001b[39m \u001b[34myardstick   \u001b[39m 1.1.0     \n",
      "\u001b[32m✔\u001b[39m \u001b[34mrecipes     \u001b[39m 1.0.5          \n",
      "\n",
      "── \u001b[1mConflicts\u001b[22m ───────────────────────────────────────── tidymodels_conflicts() ──\n",
      "\u001b[31m✖\u001b[39m \u001b[34mpurrr\u001b[39m::\u001b[32m%@%()\u001b[39m         masks \u001b[34mrlang\u001b[39m::%@%()\n",
      "\u001b[31m✖\u001b[39m \u001b[34mscales\u001b[39m::\u001b[32mdiscard()\u001b[39m    masks \u001b[34mpurrr\u001b[39m::discard()\n",
      "\u001b[31m✖\u001b[39m \u001b[34mdplyr\u001b[39m::\u001b[32mfilter()\u001b[39m      masks \u001b[34mstats\u001b[39m::filter()\n",
      "\u001b[31m✖\u001b[39m \u001b[34mrecipes\u001b[39m::\u001b[32mfixed()\u001b[39m     masks \u001b[34mstringr\u001b[39m::fixed()\n",
      "\u001b[31m✖\u001b[39m \u001b[34mpurrr\u001b[39m::\u001b[32mflatten()\u001b[39m     masks \u001b[34mrlang\u001b[39m::flatten()\n",
      "\u001b[31m✖\u001b[39m \u001b[34mpurrr\u001b[39m::\u001b[32mflatten_chr()\u001b[39m masks \u001b[34mrlang\u001b[39m::flatten_chr()\n",
      "\u001b[31m✖\u001b[39m \u001b[34mpurrr\u001b[39m::\u001b[32mflatten_dbl()\u001b[39m masks \u001b[34mrlang\u001b[39m::flatten_dbl()\n",
      "\u001b[31m✖\u001b[39m \u001b[34mpurrr\u001b[39m::\u001b[32mflatten_int()\u001b[39m masks \u001b[34mrlang\u001b[39m::flatten_int()\n",
      "\u001b[31m✖\u001b[39m \u001b[34mpurrr\u001b[39m::\u001b[32mflatten_lgl()\u001b[39m masks \u001b[34mrlang\u001b[39m::flatten_lgl()\n",
      "\u001b[31m✖\u001b[39m \u001b[34mpurrr\u001b[39m::\u001b[32mflatten_raw()\u001b[39m masks \u001b[34mrlang\u001b[39m::flatten_raw()\n",
      "\u001b[31m✖\u001b[39m \u001b[34mpurrr\u001b[39m::\u001b[32minvoke()\u001b[39m      masks \u001b[34mrlang\u001b[39m::invoke()\n",
      "\u001b[31m✖\u001b[39m \u001b[34mdplyr\u001b[39m::\u001b[32mlag()\u001b[39m         masks \u001b[34mstats\u001b[39m::lag()\n",
      "\u001b[31m✖\u001b[39m \u001b[34myardstick\u001b[39m::\u001b[32mspec()\u001b[39m    masks \u001b[34mreadr\u001b[39m::spec()\n",
      "\u001b[31m✖\u001b[39m \u001b[34mpurrr\u001b[39m::\u001b[32msplice()\u001b[39m      masks \u001b[34mrlang\u001b[39m::splice()\n",
      "\u001b[31m✖\u001b[39m \u001b[34mrecipes\u001b[39m::\u001b[32mstep()\u001b[39m      masks \u001b[34mstats\u001b[39m::step()\n",
      "\u001b[34m•\u001b[39m Dig deeper into tidy modeling with R at \u001b[32mhttps://www.tmwr.org\u001b[39m\n",
      "\n",
      "Registered S3 method overwritten by 'GGally':\n",
      "  method from   \n",
      "  +.gg   ggplot2\n",
      "\n",
      "corrplot 0.92 loaded\n",
      "\n",
      "\n",
      "Attaching package: ‘e1071’\n",
      "\n",
      "\n",
      "The following object is masked from ‘package:tune’:\n",
      "\n",
      "    tune\n",
      "\n",
      "\n",
      "The following object is masked from ‘package:rsample’:\n",
      "\n",
      "    permutations\n",
      "\n",
      "\n",
      "The following object is masked from ‘package:parsnip’:\n",
      "\n",
      "    tune\n",
      "\n",
      "\n",
      "Skipping install of 'tune' from a github remote, the SHA1 (759ff543) has not changed since last install.\n",
      "  Use `force = TRUE` to force installation\n",
      "\n"
     ]
    }
   ],
   "source": [
    "install.packages(\"rlang\")\n",
    "library(rlang)\n",
    "library(tidyverse)\n",
    "library(repr)\n",
    "library(tidymodels)\n",
    "library(dplyr)\n",
    "library(ggplot2)\n",
    "library(GGally)\n",
    "library(corrplot)\n",
    "library(RColorBrewer)   \n",
    "library(class)          \n",
    "library(e1071)          \n",
    "library(stringr)\n",
    "library(themis)\n",
    "devtools::install_github(\"tidymodels/tune\")\n",
    "set.seed(1)\n",
    "options(repr.matrix.max.rows = 10)"
   ]
  },
  {
   "cell_type": "markdown",
   "id": "eedd1813-ed7d-4f58-890a-dff46784e132",
   "metadata": {},
   "source": [
    "<b>Summarize the data in at least one table </b>"
   ]
  },
  {
   "cell_type": "markdown",
   "id": "02c346e0-de04-4d35-adae-1c83cb5487e1",
   "metadata": {},
   "source": [
    "We begin by reading in our dataset and tidying it by adding column names and removing any rows with missing values."
   ]
  },
  {
   "cell_type": "code",
   "execution_count": 2,
   "id": "27e47eef-d5d1-44d7-b6fc-38cfa71beb0f",
   "metadata": {
    "tags": [],
    "vscode": {
     "languageId": "r"
    }
   },
   "outputs": [
    {
     "name": "stderr",
     "output_type": "stream",
     "text": [
      "\u001b[1mRows: \u001b[22m\u001b[34m17898\u001b[39m \u001b[1mColumns: \u001b[22m\u001b[34m9\u001b[39m\n",
      "\u001b[36m──\u001b[39m \u001b[1mColumn specification\u001b[22m \u001b[36m────────────────────────────────────────────────────────\u001b[39m\n",
      "\u001b[1mDelimiter:\u001b[22m \",\"\n",
      "\u001b[32mdbl\u001b[39m (9): mean_integrated_profile, stand_dev_integrated_profile, exc_kurtosis...\n",
      "\n",
      "\u001b[36mℹ\u001b[39m Use `spec()` to retrieve the full column specification for this data.\n",
      "\u001b[36mℹ\u001b[39m Specify the column types or set `show_col_types = FALSE` to quiet this message.\n"
     ]
    },
    {
     "name": "stdout",
     "output_type": "stream",
     "text": [
      "[1] \"Table 1: Pulsar Dataset\"\n"
     ]
    },
    {
     "data": {
      "text/html": [
       "<table class=\"dataframe\">\n",
       "<caption>A tibble: 6 × 9</caption>\n",
       "<thead>\n",
       "\t<tr><th scope=col>mean_integrated_profile</th><th scope=col>stand_dev_integrated_profile</th><th scope=col>exc_kurtosis_integrated_profile</th><th scope=col>skew_integrated_profile</th><th scope=col>mean_dmsnr</th><th scope=col>stand_dev_dmsnr</th><th scope=col>exc_kurtosis_dmsnr</th><th scope=col>skew_dmsnr</th><th scope=col>class</th></tr>\n",
       "\t<tr><th scope=col>&lt;dbl&gt;</th><th scope=col>&lt;dbl&gt;</th><th scope=col>&lt;dbl&gt;</th><th scope=col>&lt;dbl&gt;</th><th scope=col>&lt;dbl&gt;</th><th scope=col>&lt;dbl&gt;</th><th scope=col>&lt;dbl&gt;</th><th scope=col>&lt;dbl&gt;</th><th scope=col>&lt;dbl&gt;</th></tr>\n",
       "</thead>\n",
       "<tbody>\n",
       "\t<tr><td>140.56250</td><td>55.68378</td><td>-0.23457141</td><td>-0.6996484</td><td>3.199833</td><td>19.11043</td><td> 7.975532</td><td> 74.24222</td><td>0</td></tr>\n",
       "\t<tr><td>102.50781</td><td>58.88243</td><td> 0.46531815</td><td>-0.5150879</td><td>1.677258</td><td>14.86015</td><td>10.576487</td><td>127.39358</td><td>0</td></tr>\n",
       "\t<tr><td>103.01562</td><td>39.34165</td><td> 0.32332837</td><td> 1.0511644</td><td>3.121237</td><td>21.74467</td><td> 7.735822</td><td> 63.17191</td><td>0</td></tr>\n",
       "\t<tr><td>136.75000</td><td>57.17845</td><td>-0.06841464</td><td>-0.6362384</td><td>3.642977</td><td>20.95928</td><td> 6.896499</td><td> 53.59366</td><td>0</td></tr>\n",
       "\t<tr><td> 88.72656</td><td>40.67223</td><td> 0.60086608</td><td> 1.1234917</td><td>1.178930</td><td>11.46872</td><td>14.269573</td><td>252.56731</td><td>0</td></tr>\n",
       "\t<tr><td> 93.57031</td><td>46.69811</td><td> 0.53190485</td><td> 0.4167211</td><td>1.636288</td><td>14.54507</td><td>10.621748</td><td>131.39400</td><td>0</td></tr>\n",
       "</tbody>\n",
       "</table>\n"
      ],
      "text/latex": [
       "A tibble: 6 × 9\n",
       "\\begin{tabular}{lllllllll}\n",
       " mean\\_integrated\\_profile & stand\\_dev\\_integrated\\_profile & exc\\_kurtosis\\_integrated\\_profile & skew\\_integrated\\_profile & mean\\_dmsnr & stand\\_dev\\_dmsnr & exc\\_kurtosis\\_dmsnr & skew\\_dmsnr & class\\\\\n",
       " <dbl> & <dbl> & <dbl> & <dbl> & <dbl> & <dbl> & <dbl> & <dbl> & <dbl>\\\\\n",
       "\\hline\n",
       "\t 140.56250 & 55.68378 & -0.23457141 & -0.6996484 & 3.199833 & 19.11043 &  7.975532 &  74.24222 & 0\\\\\n",
       "\t 102.50781 & 58.88243 &  0.46531815 & -0.5150879 & 1.677258 & 14.86015 & 10.576487 & 127.39358 & 0\\\\\n",
       "\t 103.01562 & 39.34165 &  0.32332837 &  1.0511644 & 3.121237 & 21.74467 &  7.735822 &  63.17191 & 0\\\\\n",
       "\t 136.75000 & 57.17845 & -0.06841464 & -0.6362384 & 3.642977 & 20.95928 &  6.896499 &  53.59366 & 0\\\\\n",
       "\t  88.72656 & 40.67223 &  0.60086608 &  1.1234917 & 1.178930 & 11.46872 & 14.269573 & 252.56731 & 0\\\\\n",
       "\t  93.57031 & 46.69811 &  0.53190485 &  0.4167211 & 1.636288 & 14.54507 & 10.621748 & 131.39400 & 0\\\\\n",
       "\\end{tabular}\n"
      ],
      "text/markdown": [
       "\n",
       "A tibble: 6 × 9\n",
       "\n",
       "| mean_integrated_profile &lt;dbl&gt; | stand_dev_integrated_profile &lt;dbl&gt; | exc_kurtosis_integrated_profile &lt;dbl&gt; | skew_integrated_profile &lt;dbl&gt; | mean_dmsnr &lt;dbl&gt; | stand_dev_dmsnr &lt;dbl&gt; | exc_kurtosis_dmsnr &lt;dbl&gt; | skew_dmsnr &lt;dbl&gt; | class &lt;dbl&gt; |\n",
       "|---|---|---|---|---|---|---|---|---|\n",
       "| 140.56250 | 55.68378 | -0.23457141 | -0.6996484 | 3.199833 | 19.11043 |  7.975532 |  74.24222 | 0 |\n",
       "| 102.50781 | 58.88243 |  0.46531815 | -0.5150879 | 1.677258 | 14.86015 | 10.576487 | 127.39358 | 0 |\n",
       "| 103.01562 | 39.34165 |  0.32332837 |  1.0511644 | 3.121237 | 21.74467 |  7.735822 |  63.17191 | 0 |\n",
       "| 136.75000 | 57.17845 | -0.06841464 | -0.6362384 | 3.642977 | 20.95928 |  6.896499 |  53.59366 | 0 |\n",
       "|  88.72656 | 40.67223 |  0.60086608 |  1.1234917 | 1.178930 | 11.46872 | 14.269573 | 252.56731 | 0 |\n",
       "|  93.57031 | 46.69811 |  0.53190485 |  0.4167211 | 1.636288 | 14.54507 | 10.621748 | 131.39400 | 0 |\n",
       "\n"
      ],
      "text/plain": [
       "  mean_integrated_profile stand_dev_integrated_profile\n",
       "1 140.56250               55.68378                    \n",
       "2 102.50781               58.88243                    \n",
       "3 103.01562               39.34165                    \n",
       "4 136.75000               57.17845                    \n",
       "5  88.72656               40.67223                    \n",
       "6  93.57031               46.69811                    \n",
       "  exc_kurtosis_integrated_profile skew_integrated_profile mean_dmsnr\n",
       "1 -0.23457141                     -0.6996484              3.199833  \n",
       "2  0.46531815                     -0.5150879              1.677258  \n",
       "3  0.32332837                      1.0511644              3.121237  \n",
       "4 -0.06841464                     -0.6362384              3.642977  \n",
       "5  0.60086608                      1.1234917              1.178930  \n",
       "6  0.53190485                      0.4167211              1.636288  \n",
       "  stand_dev_dmsnr exc_kurtosis_dmsnr skew_dmsnr class\n",
       "1 19.11043         7.975532           74.24222  0    \n",
       "2 14.86015        10.576487          127.39358  0    \n",
       "3 21.74467         7.735822           63.17191  0    \n",
       "4 20.95928         6.896499           53.59366  0    \n",
       "5 11.46872        14.269573          252.56731  0    \n",
       "6 14.54507        10.621748          131.39400  0    "
      ]
     },
     "metadata": {},
     "output_type": "display_data"
    }
   ],
   "source": [
    "pulsar_data <- read_csv(\"pulsar_data.csv\", col_names = c(\"mean_integrated_profile\", \"stand_dev_integrated_profile\", \"exc_kurtosis_integrated_profile\", \n",
    "                                                         \"skew_integrated_profile\", \"mean_dmsnr\", \"stand_dev_dmsnr\", \"exc_kurtosis_dmsnr\", \n",
    "                                                         \"skew_dmsnr\", \"class\")) |>\n",
    "               drop_na()\n",
    "print(\"Table 1: Pulsar Dataset\")\n",
    "head(pulsar_data)"
   ]
  },
  {
   "cell_type": "markdown",
   "id": "9547a93a-e751-4a19-9e70-4799f98f4cc8",
   "metadata": {},
   "source": [
    "<b> Dataset Exploration Graphs (correlation): </b>"
   ]
  },
  {
   "cell_type": "code",
   "execution_count": 1,
   "id": "0e927b2c-4f9e-4557-b5fe-a54c99b27c12",
   "metadata": {
    "tags": [],
    "vscode": {
     "languageId": "r"
    }
   },
   "outputs": [
    {
     "ename": "ERROR",
     "evalue": "Error in is.data.frame(x): object 'pulsar_data' not found\n",
     "output_type": "error",
     "traceback": [
      "Error in is.data.frame(x): object 'pulsar_data' not found\nTraceback:\n",
      "1. cor(pulsar_data)",
      "2. is.data.frame(x)"
     ]
    }
   ],
   "source": [
    "options(repr.plot.width = 12, repr.plot.height = 12)\n",
    "cor_pulse <- cor(pulsar_data)\n",
    "corrplot(cor_pulse, type=\"upper\", order=\"hclust\",col=brewer.pal(n=8, name=\"RdYlBu\")) \n",
    "print(\"Figure 1: Correlation plot #1\")"
   ]
  },
  {
   "cell_type": "code",
   "execution_count": null,
   "id": "74437c16-426f-4f9f-bdbd-5b53413a3907",
   "metadata": {
    "tags": [],
    "vscode": {
     "languageId": "r"
    }
   },
   "outputs": [],
   "source": [
    "options(repr.plot.width = 17, repr.plot.height = 17)\n",
    "correlation_pairs <- select(pulsar_data, \"mean_integrated_profile\":\"skew_dmsnr\")%>%\n",
    "ggpairs() +\n",
    "ggtitle(\"Figure 2: Correlation plot #2\")\n",
    "\n",
    "correlation_pairs"
   ]
  },
  {
   "cell_type": "markdown",
   "id": "2dce568e-0bcd-424b-ab84-be68cb75cfa9",
   "metadata": {},
   "source": [
    "We can see that various pairs of variables have a different correlation value, where some have higher correlation values than others. "
   ]
  },
  {
   "cell_type": "markdown",
   "id": "103233dd-a390-46d3-97ac-d257507a0ba9",
   "metadata": {},
   "source": [
    "<b> Dataset Exploration Graph (variable distribution): </b>"
   ]
  },
  {
   "cell_type": "code",
   "execution_count": 6,
   "id": "3b9c4c2c-2aa0-4db6-9e03-8af8bf263e2c",
   "metadata": {
    "tags": [],
    "vscode": {
     "languageId": "r"
    }
   },
   "outputs": [
    {
     "data": {
      "image/png": "[encoded data removed]",
      "text/plain": [
       "plot without title"
      ]
     },
     "metadata": {
      "image/png": {
       "height": 780,
       "width": 780
      }
     },
     "output_type": "display_data"
    }
   ],
   "source": [
    "pulsar_data$class <- ifelse(pulsar_data$class == 1, \"P\", \"NP\")\n",
    "\n",
    "options(repr.plot.height = 13, repr.plot.width = 13)\n",
    "\n",
    "pulsar_data |> gather(predictors, value, -class) %>%\n",
    "  ggplot(aes(class, value, fill = class)) +\n",
    "  geom_boxplot() +\n",
    "  facet_wrap(~predictors, scales = \"free\", ncol = 4) +\n",
    "  theme(axis.text.x = element_blank(), legend.position=\"bottom\") +\n",
    "  theme(text = element_text(size = 18)) +\n",
    "  ggtitle(\"Figure 3: Variable Distribution\")"
   ]
  },
  {
   "cell_type": "markdown",
   "id": "78c3b09b-cfbb-43cd-a131-773618bfce16",
   "metadata": {},
   "source": [
    "As shown above, the distribution graph above shows that some of the variables' values show a distinct difference between real and false pulsars. NP is the negative class (false pulsar), while P is the positive class (real pulsar)."
   ]
  },
  {
   "cell_type": "markdown",
   "id": "2840a0df-c262-438e-b389-142d416e6430",
   "metadata": {},
   "source": [
    "Now, we look at the proportion of pulsars and non pulsars in the dataset to determine a data balancing method:"
   ]
  },
  {
   "cell_type": "code",
   "execution_count": 7,
   "id": "38c85961-7875-4665-a93b-614633a4c4df",
   "metadata": {
    "tags": [],
    "vscode": {
     "languageId": "r"
    }
   },
   "outputs": [
    {
     "data": {
      "text/plain": [
       "\n",
       "        NP          P \n",
       "0.90842552 0.09157448 "
      ]
     },
     "metadata": {},
     "output_type": "display_data"
    }
   ],
   "source": [
    "prop.table(table(pulsar_data$class))"
   ]
  },
  {
   "cell_type": "code",
   "execution_count": 8,
   "id": "b4d899b4-fc12-40c1-985a-11fa92a00a94",
   "metadata": {
    "tags": [],
    "vscode": {
     "languageId": "r"
    }
   },
   "outputs": [
    {
     "data": {
      "text/plain": [
       "\n",
       "   NP     P \n",
       "16259  1639 "
      ]
     },
     "metadata": {},
     "output_type": "display_data"
    }
   ],
   "source": [
    "table(pulsar_data$class)"
   ]
  },
  {
   "cell_type": "code",
   "execution_count": 3,
   "id": "a89f4f11-69c4-4872-b359-ab3f931796b2",
   "metadata": {
    "tags": [],
    "vscode": {
     "languageId": "r"
    }
   },
   "outputs": [
    {
     "ename": "ERROR",
     "evalue": "Error in select(bind_rows(filter(pulsar_data, class == \"P\"), slice_head(filter(pulsar_data, : could not find function \"select\"\n",
     "output_type": "error",
     "traceback": [
      "Error in select(bind_rows(filter(pulsar_data, class == \"P\"), slice_head(filter(pulsar_data, : could not find function \"select\"\nTraceback:\n"
     ]
    }
   ],
   "source": [
    "rare_pulsar <- bind_rows(\n",
    "      filter(pulsar_data, class == \"P\"),\n",
    "      pulsar_data |> filter(class == \"NP\") |> slice_head(n = 3)\n",
    "    ) |>\n",
    "    select(class, skew_integrated_profile, skew_dmsnr)\n",
    "\n",
    "rare_plot <- rare_pulsar |>\n",
    "  ggplot(aes(x = skew_integrated_profile, y = skew_dmsnr, color = class)) +\n",
    "  geom_point(alpha = 0.5) +\n",
    "  labs(x = \"Skew Integrated Profile\", \n",
    "       y = \"Skew DMSNR\",\n",
    "       color = \"Class\") +\n",
    "  scale_color_manual(labels = c(\"Pulsar\", \"Non Pulsar\"), \n",
    "                     values = c(\"orange2\", \"steelblue2\")) +\n",
    "  theme(text = element_text(size = 18)) +\n",
    "  ggtitle(\"Figure 4: Class Proportions\")\n",
    "\n",
    "rare_plot"
   ]
  },
  {
   "cell_type": "markdown",
   "id": "b945a217-ed00-4e47-b67b-d3f30bb12a10",
   "metadata": {},
   "source": [
    "As we can see from the proportions and the plot shown above in Figure 3, which uses two variables from the dataset, there are more non pulsars than pulsars. We must balance the number of pulsar points in the training set, otherwise our KNN classification model will be more likely to pick non pulsar as the majority class. Thus, the algorithm model will not learn correctly. \n",
    "\n",
    "For our purposes in this project, it will suffice to rebalance the data by oversampling the rare class. We will randomly duplicate observations of class 1 (real pulsars) until we have the same number of class 0 and class 1 in our training set."
   ]
  },
  {
   "cell_type": "markdown",
   "id": "f77d6b78-dd84-4691-89a4-f2e1808562b0",
   "metadata": {
    "tags": []
   },
   "source": [
    "**Data Analysis**"
   ]
  },
  {
   "cell_type": "markdown",
   "id": "7457429e-2084-4023-b09e-6dc06fe11b8a",
   "metadata": {},
   "source": [
    "To begin our data analysis, we must randomly split the dataset into a training and testing set and specify that 75% of the data be used to train our classification model. The training set will be used to train and tune our model while the testing set will be used to test the accuracy of our classification model. We also set the seed so the random splitting of our dataset can be reproduced later."
   ]
  },
  {
   "cell_type": "code",
   "execution_count": 10,
   "id": "c456c7dc-35f4-477d-b566-81d293ec9411",
   "metadata": {
    "tags": [],
    "vscode": {
     "languageId": "r"
    }
   },
   "outputs": [],
   "source": [
    "set.seed(1)\n",
    "#change the class variable to be a factor type\n",
    "pulsar_data <- pulsar_data |>\n",
    "    mutate(class = as_factor(class))\n",
    "\n",
    "#split the data\n",
    "pulsar_split <- initial_split(pulsar_data, prop = 0.75, strata = class)\n",
    "pulsar_train <- training(pulsar_split)\n",
    "pulsar_test <- testing(pulsar_split) "
   ]
  },
  {
   "cell_type": "markdown",
   "id": "85f72f4a-44f6-46ef-bc84-50f420d530be",
   "metadata": {},
   "source": [
    "**Selecting Predictors**"
   ]
  },
  {
   "cell_type": "markdown",
   "id": "3932bbb1-56bf-403b-b5c0-9c19a03a406e",
   "metadata": {},
   "source": [
    "To address our project question, we perform forward selection on the training set to determine how accurate our classification model would be, given various predictor combinations. For our purposes, it will be sufficient to use the training set to select our predictors as the training dataset is large enough. We will then select the set of predictors that is expected to yield the most accurate classifier for our data analysis."
   ]
  },
  {
   "cell_type": "code",
   "execution_count": 11,
   "id": "35af64df-3782-4115-84d0-9ed572eb4e47",
   "metadata": {
    "tags": [],
    "vscode": {
     "languageId": "r"
    }
   },
   "outputs": [
    {
     "data": {
      "text/html": [
       "<style>\n",
       ".list-inline {list-style: none; margin:0; padding: 0}\n",
       ".list-inline>li {display: inline-block}\n",
       ".list-inline>li:not(:last-child)::after {content: \"\\00b7\"; padding: 0 .5ex}\n",
       "</style>\n",
       "<ol class=list-inline><li>'mean_integrated_profile'</li><li>'stand_dev_integrated_profile'</li><li>'exc_kurtosis_integrated_profile'</li><li>'skew_integrated_profile'</li><li>'mean_dmsnr'</li><li>'stand_dev_dmsnr'</li><li>'exc_kurtosis_dmsnr'</li><li>'skew_dmsnr'</li></ol>\n"
      ],
      "text/latex": [
       "\\begin{enumerate*}\n",
       "\\item 'mean\\_integrated\\_profile'\n",
       "\\item 'stand\\_dev\\_integrated\\_profile'\n",
       "\\item 'exc\\_kurtosis\\_integrated\\_profile'\n",
       "\\item 'skew\\_integrated\\_profile'\n",
       "\\item 'mean\\_dmsnr'\n",
       "\\item 'stand\\_dev\\_dmsnr'\n",
       "\\item 'exc\\_kurtosis\\_dmsnr'\n",
       "\\item 'skew\\_dmsnr'\n",
       "\\end{enumerate*}\n"
      ],
      "text/markdown": [
       "1. 'mean_integrated_profile'\n",
       "2. 'stand_dev_integrated_profile'\n",
       "3. 'exc_kurtosis_integrated_profile'\n",
       "4. 'skew_integrated_profile'\n",
       "5. 'mean_dmsnr'\n",
       "6. 'stand_dev_dmsnr'\n",
       "7. 'exc_kurtosis_dmsnr'\n",
       "8. 'skew_dmsnr'\n",
       "\n",
       "\n"
      ],
      "text/plain": [
       "[1] \"mean_integrated_profile\"         \"stand_dev_integrated_profile\"   \n",
       "[3] \"exc_kurtosis_integrated_profile\" \"skew_integrated_profile\"        \n",
       "[5] \"mean_dmsnr\"                      \"stand_dev_dmsnr\"                \n",
       "[7] \"exc_kurtosis_dmsnr\"              \"skew_dmsnr\"                     "
      ]
     },
     "metadata": {},
     "output_type": "display_data"
    }
   ],
   "source": [
    "names <- colnames(pulsar_train |> select(-class))\n",
    "names"
   ]
  },
  {
   "cell_type": "code",
   "execution_count": 12,
   "id": "58a816e5-0c5e-4ff7-8c70-fdd88db355d8",
   "metadata": {
    "tags": [],
    "vscode": {
     "languageId": "r"
    }
   },
   "outputs": [
    {
     "data": {
      "text/html": [
       "'class ~ mean_integrated_profile+stand_dev_integrated_profile+exc_kurtosis_integrated_profile+skew_integrated_profile+mean_dmsnr+stand_dev_dmsnr+exc_kurtosis_dmsnr+skew_dmsnr'"
      ],
      "text/latex": [
       "'class \\textasciitilde{} mean\\_integrated\\_profile+stand\\_dev\\_integrated\\_profile+exc\\_kurtosis\\_integrated\\_profile+skew\\_integrated\\_profile+mean\\_dmsnr+stand\\_dev\\_dmsnr+exc\\_kurtosis\\_dmsnr+skew\\_dmsnr'"
      ],
      "text/markdown": [
       "'class ~ mean_integrated_profile+stand_dev_integrated_profile+exc_kurtosis_integrated_profile+skew_integrated_profile+mean_dmsnr+stand_dev_dmsnr+exc_kurtosis_dmsnr+skew_dmsnr'"
      ],
      "text/plain": [
       "[1] \"class ~ mean_integrated_profile+stand_dev_integrated_profile+exc_kurtosis_integrated_profile+skew_integrated_profile+mean_dmsnr+stand_dev_dmsnr+exc_kurtosis_dmsnr+skew_dmsnr\""
      ]
     },
     "metadata": {},
     "output_type": "display_data"
    }
   ],
   "source": [
    "example_formula <- paste(\"class\", \"~\", paste(names, collapse=\"+\"))\n",
    "example_formula"
   ]
  },
  {
   "cell_type": "code",
   "execution_count": 13,
   "id": "5b0871b1-5faa-4e50-9477-191a6ecb4e46",
   "metadata": {
    "tags": [],
    "vscode": {
     "languageId": "r"
    }
   },
   "outputs": [],
   "source": [
    "# create an empty tibble to store the results\n",
    "predictor_accuracies <- tibble(size = integer(), \n",
    "                     model_string = character(), \n",
    "                     accuracy = numeric())"
   ]
  },
  {
   "cell_type": "code",
   "execution_count": 14,
   "id": "00c90c12-50e1-439f-91a8-720183fc0712",
   "metadata": {
    "tags": [],
    "vscode": {
     "languageId": "r"
    }
   },
   "outputs": [
    {
     "data": {
      "text/html": [
       "<table class=\"dataframe\">\n",
       "<caption>A tibble: 8 × 3</caption>\n",
       "<thead>\n",
       "\t<tr><th scope=col>size</th><th scope=col>model_string</th><th scope=col>accuracy</th></tr>\n",
       "\t<tr><th scope=col>&lt;int&gt;</th><th scope=col>&lt;chr&gt;</th><th scope=col>&lt;dbl&gt;</th></tr>\n",
       "</thead>\n",
       "<tbody>\n",
       "\t<tr><td>1</td><td>class ~ exc_kurtosis_integrated_profile                                                                                                                                      </td><td>0.9768311</td></tr>\n",
       "\t<tr><td>2</td><td>class ~ exc_kurtosis_integrated_profile+mean_dmsnr                                                                                                                           </td><td>0.9790660</td></tr>\n",
       "\t<tr><td>3</td><td>class ~ exc_kurtosis_integrated_profile+mean_dmsnr+stand_dev_integrated_profile                                                                                              </td><td>0.9795871</td></tr>\n",
       "\t<tr><td>4</td><td>class ~ exc_kurtosis_integrated_profile+mean_dmsnr+stand_dev_integrated_profile+stand_dev_dmsnr                                                                              </td><td>0.9797366</td></tr>\n",
       "\t<tr><td>5</td><td>class ~ exc_kurtosis_integrated_profile+mean_dmsnr+stand_dev_integrated_profile+stand_dev_dmsnr+skew_integrated_profile                                                      </td><td>0.9802573</td></tr>\n",
       "\t<tr><td>6</td><td>class ~ exc_kurtosis_integrated_profile+mean_dmsnr+stand_dev_integrated_profile+stand_dev_dmsnr+skew_integrated_profile+skew_dmsnr                                           </td><td>0.9797368</td></tr>\n",
       "\t<tr><td>7</td><td>class ~ exc_kurtosis_integrated_profile+mean_dmsnr+stand_dev_integrated_profile+stand_dev_dmsnr+skew_integrated_profile+skew_dmsnr+exc_kurtosis_dmsnr                        </td><td>0.9794382</td></tr>\n",
       "\t<tr><td>8</td><td>class ~ exc_kurtosis_integrated_profile+mean_dmsnr+stand_dev_integrated_profile+stand_dev_dmsnr+skew_integrated_profile+skew_dmsnr+exc_kurtosis_dmsnr+mean_integrated_profile</td><td>0.9785442</td></tr>\n",
       "</tbody>\n",
       "</table>\n"
      ],
      "text/latex": [
       "A tibble: 8 × 3\n",
       "\\begin{tabular}{lll}\n",
       " size & model\\_string & accuracy\\\\\n",
       " <int> & <chr> & <dbl>\\\\\n",
       "\\hline\n",
       "\t 1 & class \\textasciitilde{} exc\\_kurtosis\\_integrated\\_profile                                                                                                                                       & 0.9768311\\\\\n",
       "\t 2 & class \\textasciitilde{} exc\\_kurtosis\\_integrated\\_profile+mean\\_dmsnr                                                                                                                            & 0.9790660\\\\\n",
       "\t 3 & class \\textasciitilde{} exc\\_kurtosis\\_integrated\\_profile+mean\\_dmsnr+stand\\_dev\\_integrated\\_profile                                                                                               & 0.9795871\\\\\n",
       "\t 4 & class \\textasciitilde{} exc\\_kurtosis\\_integrated\\_profile+mean\\_dmsnr+stand\\_dev\\_integrated\\_profile+stand\\_dev\\_dmsnr                                                                               & 0.9797366\\\\\n",
       "\t 5 & class \\textasciitilde{} exc\\_kurtosis\\_integrated\\_profile+mean\\_dmsnr+stand\\_dev\\_integrated\\_profile+stand\\_dev\\_dmsnr+skew\\_integrated\\_profile                                                       & 0.9802573\\\\\n",
       "\t 6 & class \\textasciitilde{} exc\\_kurtosis\\_integrated\\_profile+mean\\_dmsnr+stand\\_dev\\_integrated\\_profile+stand\\_dev\\_dmsnr+skew\\_integrated\\_profile+skew\\_dmsnr                                            & 0.9797368\\\\\n",
       "\t 7 & class \\textasciitilde{} exc\\_kurtosis\\_integrated\\_profile+mean\\_dmsnr+stand\\_dev\\_integrated\\_profile+stand\\_dev\\_dmsnr+skew\\_integrated\\_profile+skew\\_dmsnr+exc\\_kurtosis\\_dmsnr                         & 0.9794382\\\\\n",
       "\t 8 & class \\textasciitilde{} exc\\_kurtosis\\_integrated\\_profile+mean\\_dmsnr+stand\\_dev\\_integrated\\_profile+stand\\_dev\\_dmsnr+skew\\_integrated\\_profile+skew\\_dmsnr+exc\\_kurtosis\\_dmsnr+mean\\_integrated\\_profile & 0.9785442\\\\\n",
       "\\end{tabular}\n"
      ],
      "text/markdown": [
       "\n",
       "A tibble: 8 × 3\n",
       "\n",
       "| size &lt;int&gt; | model_string &lt;chr&gt; | accuracy &lt;dbl&gt; |\n",
       "|---|---|---|\n",
       "| 1 | class ~ exc_kurtosis_integrated_profile                                                                                                                                       | 0.9768311 |\n",
       "| 2 | class ~ exc_kurtosis_integrated_profile+mean_dmsnr                                                                                                                            | 0.9790660 |\n",
       "| 3 | class ~ exc_kurtosis_integrated_profile+mean_dmsnr+stand_dev_integrated_profile                                                                                               | 0.9795871 |\n",
       "| 4 | class ~ exc_kurtosis_integrated_profile+mean_dmsnr+stand_dev_integrated_profile+stand_dev_dmsnr                                                                               | 0.9797366 |\n",
       "| 5 | class ~ exc_kurtosis_integrated_profile+mean_dmsnr+stand_dev_integrated_profile+stand_dev_dmsnr+skew_integrated_profile                                                       | 0.9802573 |\n",
       "| 6 | class ~ exc_kurtosis_integrated_profile+mean_dmsnr+stand_dev_integrated_profile+stand_dev_dmsnr+skew_integrated_profile+skew_dmsnr                                            | 0.9797368 |\n",
       "| 7 | class ~ exc_kurtosis_integrated_profile+mean_dmsnr+stand_dev_integrated_profile+stand_dev_dmsnr+skew_integrated_profile+skew_dmsnr+exc_kurtosis_dmsnr                         | 0.9794382 |\n",
       "| 8 | class ~ exc_kurtosis_integrated_profile+mean_dmsnr+stand_dev_integrated_profile+stand_dev_dmsnr+skew_integrated_profile+skew_dmsnr+exc_kurtosis_dmsnr+mean_integrated_profile | 0.9785442 |\n",
       "\n"
      ],
      "text/plain": [
       "  size\n",
       "1 1   \n",
       "2 2   \n",
       "3 3   \n",
       "4 4   \n",
       "5 5   \n",
       "6 6   \n",
       "7 7   \n",
       "8 8   \n",
       "  model_string                                                                                                                                                                 \n",
       "1 class ~ exc_kurtosis_integrated_profile                                                                                                                                      \n",
       "2 class ~ exc_kurtosis_integrated_profile+mean_dmsnr                                                                                                                           \n",
       "3 class ~ exc_kurtosis_integrated_profile+mean_dmsnr+stand_dev_integrated_profile                                                                                              \n",
       "4 class ~ exc_kurtosis_integrated_profile+mean_dmsnr+stand_dev_integrated_profile+stand_dev_dmsnr                                                                              \n",
       "5 class ~ exc_kurtosis_integrated_profile+mean_dmsnr+stand_dev_integrated_profile+stand_dev_dmsnr+skew_integrated_profile                                                      \n",
       "6 class ~ exc_kurtosis_integrated_profile+mean_dmsnr+stand_dev_integrated_profile+stand_dev_dmsnr+skew_integrated_profile+skew_dmsnr                                           \n",
       "7 class ~ exc_kurtosis_integrated_profile+mean_dmsnr+stand_dev_integrated_profile+stand_dev_dmsnr+skew_integrated_profile+skew_dmsnr+exc_kurtosis_dmsnr                        \n",
       "8 class ~ exc_kurtosis_integrated_profile+mean_dmsnr+stand_dev_integrated_profile+stand_dev_dmsnr+skew_integrated_profile+skew_dmsnr+exc_kurtosis_dmsnr+mean_integrated_profile\n",
       "  accuracy \n",
       "1 0.9768311\n",
       "2 0.9790660\n",
       "3 0.9795871\n",
       "4 0.9797366\n",
       "5 0.9802573\n",
       "6 0.9797368\n",
       "7 0.9794382\n",
       "8 0.9785442"
      ]
     },
     "metadata": {},
     "output_type": "display_data"
    }
   ],
   "source": [
    "# store the total number of predictors\n",
    "n_total <- length(names)\n",
    "\n",
    "# stores selected predictors\n",
    "selected <- c()\n",
    "\n",
    "# for every size from 1 to the total number of predictors\n",
    "for (i in 1:n_total) {\n",
    "    # for every predictor still not added yet\n",
    "    accs <- list()\n",
    "    models <- list()\n",
    "    for (j in 1:length(names)) {\n",
    "        # create a model string for this combination of predictors\n",
    "        preds_new <- c(selected, names[[j]])\n",
    "        model_string <- paste(\"class\", \"~\", paste(preds_new, collapse=\"+\"))\n",
    "\n",
    "        # create a recipe from the model string\n",
    "        puls_recipe <- recipe(as.formula(model_string), \n",
    "                                data = pulsar_train) |>\n",
    "                          step_scale(all_predictors()) |>\n",
    "                          step_center(all_predictors())                        \n",
    "        \n",
    "        #set up a model\n",
    "        knn_spec <- nearest_neighbor(weight_func = \"rectangular\", neighbors = tune()) |>\n",
    "            set_engine(\"kknn\") |>\n",
    "            set_mode(\"classification\")                                        \n",
    "\n",
    "        puls_vfold <- vfold_cv(pulsar_train, v = 10, strata = class)\n",
    "        \n",
    "        # tune the KNN classifier with these predictors\n",
    "        acc <- workflow() |>\n",
    "          add_recipe(puls_recipe) |>\n",
    "          add_model(knn_spec) |>\n",
    "          tune_grid(resamples = puls_vfold, grid = 10) |>\n",
    "          collect_metrics() |>\n",
    "          filter(.metric == \"accuracy\") |>\n",
    "          summarize(mx = max(mean))\n",
    "        acc <- acc$mx |> unlist()\n",
    "\n",
    "        # add this result to the dataframe\n",
    "        accs[[j]] <- acc\n",
    "        models[[j]] <- model_string\n",
    "    }\n",
    "    jstar <- which.max(unlist(accs))\n",
    "predictor_accuracies <- predictor_accuracies |> \n",
    "      add_row(size = i, \n",
    "              model_string = models[[jstar]], \n",
    "              accuracy = accs[[jstar]])\n",
    "    selected <- c(selected, names[[jstar]])\n",
    "    names <- names[-jstar]\n",
    "}\n",
    "predictor_accuracies\n",
    "print(\"Table 2: Predictor combination accuracies\")"
   ]
  },
  {
   "cell_type": "markdown",
   "id": "8745b795-c699-4e97-b0c1-73fd9e460d5c",
   "metadata": {},
   "source": [
    "Based on the data above, the highest accuracy is obtained by using the following 5 predictors: exc_kurtosis_integrated_profile, stand_dev_dmsnr, stand_dev_integrated_profile, mean_dmsnr, and skew_integrated_profile."
   ]
  },
  {
   "cell_type": "markdown",
   "id": "5084f591-cec4-4cb0-9818-7983d6ec3406",
   "metadata": {},
   "source": [
    "Earlier, we saw that the percentage of observations corresponding to real pulsars is roughly 9%. A class imbalance is evident as there are more false pulsars than real pulsar observations."
   ]
  },
  {
   "cell_type": "code",
   "execution_count": 15,
   "id": "f804ecb4-70e1-4a55-895f-aa14eaa2abbe",
   "metadata": {
    "tags": [],
    "vscode": {
     "languageId": "r"
    }
   },
   "outputs": [
    {
     "data": {
      "text/html": [
       "<table class=\"dataframe\">\n",
       "<caption>A tibble: 2 × 3</caption>\n",
       "<thead>\n",
       "\t<tr><th scope=col>class</th><th scope=col>n</th><th scope=col>percent</th></tr>\n",
       "\t<tr><th scope=col>&lt;fct&gt;</th><th scope=col>&lt;int&gt;</th><th scope=col>&lt;dbl&gt;</th></tr>\n",
       "</thead>\n",
       "<tbody>\n",
       "\t<tr><td>NP</td><td>16259</td><td>90.842552</td></tr>\n",
       "\t<tr><td>P </td><td> 1639</td><td> 9.157448</td></tr>\n",
       "</tbody>\n",
       "</table>\n"
      ],
      "text/latex": [
       "A tibble: 2 × 3\n",
       "\\begin{tabular}{lll}\n",
       " class & n & percent\\\\\n",
       " <fct> & <int> & <dbl>\\\\\n",
       "\\hline\n",
       "\t NP & 16259 & 90.842552\\\\\n",
       "\t P  &  1639 &  9.157448\\\\\n",
       "\\end{tabular}\n"
      ],
      "text/markdown": [
       "\n",
       "A tibble: 2 × 3\n",
       "\n",
       "| class &lt;fct&gt; | n &lt;int&gt; | percent &lt;dbl&gt; |\n",
       "|---|---|---|\n",
       "| NP | 16259 | 90.842552 |\n",
       "| P  |  1639 |  9.157448 |\n",
       "\n"
      ],
      "text/plain": [
       "  class n     percent  \n",
       "1 NP    16259 90.842552\n",
       "2 P      1639  9.157448"
      ]
     },
     "metadata": {},
     "output_type": "display_data"
    }
   ],
   "source": [
    "#Class proportions in pulsar data set (Imbalanced)\n",
    "num_obs <- nrow(pulsar_data)\n",
    "pulsar_proportions <- pulsar_data |>\n",
    "    group_by(class) |>\n",
    "    summarize(n = n()) |>\n",
    "    mutate(percent = 100*n/nrow(pulsar_data))\n",
    "pulsar_proportions\n",
    "\n",
    "print(\"Table 3: Class percentages\")"
   ]
  },
  {
   "cell_type": "markdown",
   "id": "cb3a496f-86a9-4d74-a88a-4ee4a4512e94",
   "metadata": {},
   "source": [
    "Here, we reproduce the random split of our data into a training and testing set with the \"set.seed\" function. We balance the proportions of real pulsars to false pulsar observations by upsampling the training set only, such that there is a ratio of 1:1 of real pulsars and false pulsars. The testing set will not be upsampled as this will be used to test our accuracy. To preprocess the data, we scale and center our predictors such that the variables have a mean of 0 and standard deviation of 1. We also build our recipe with the 5 predictors that yields the highest performance, obtained from forward selection. "
   ]
  },
  {
   "cell_type": "code",
   "execution_count": 2,
   "id": "c18e7624-7e36-4f57-b9c5-0d0823d722f5",
   "metadata": {
    "tags": [],
    "vscode": {
     "languageId": "r"
    }
   },
   "outputs": [
    {
     "ename": "ERROR",
     "evalue": "Error in initial_split(pulsar_data, prop = 0.75, strata = class): could not find function \"initial_split\"\n",
     "output_type": "error",
     "traceback": [
      "Error in initial_split(pulsar_data, prop = 0.75, strata = class): could not find function \"initial_split\"\nTraceback:\n"
     ]
    }
   ],
   "source": [
    "set.seed(1)\n",
    "pulsar_split <- initial_split(pulsar_data, prop = 0.75, strata = class)\n",
    "pulsar_train <- training(pulsar_split)\n",
    "pulsar_test <- testing(pulsar_split) \n",
    "\n",
    "\n",
    "#Standardize and Upsample data to balance the training set\n",
    "pulsar_recipe <- recipe(class ~ exc_kurtosis_integrated_profile + \n",
    "                        stand_dev_dmsnr + \n",
    "                        stand_dev_integrated_profile + \n",
    "                        mean_dmsnr +\n",
    "                        skew_integrated_profile, data = pulsar_train) |>               #input the 5 predictors we obtained from forward selection\n",
    "    step_scale(all_predictors()) |>\n",
    "    step_center(all_predictors()) |>\n",
    "    themis::step_upsample(class, over_ratio = 1, skip = FALSE) |>\n",
    "    prep()\n",
    "pulsar_recipe\n",
    "\n",
    "pulsar_train <- bake(pulsar_recipe, pulsar_train)\n",
    "pulsar_train\n",
    "print(\"Table 4: Training data\")\n",
    "\n",
    "pulsar_recipe <- recipe(class ~ ., data = pulsar_train)\n",
    "\n",
    "#Check new proportions in training set\n",
    "new_pulsar_proportions <- pulsar_train |>\n",
    "    group_by(class) |>\n",
    "    summarize(n = n()) |>\n",
    "    mutate(percent = 100*n/nrow(pulsar_train))\n",
    "new_pulsar_proportions\n",
    "print(\"Table 5: Upsampled class percentages\")"
   ]
  },
  {
   "cell_type": "markdown",
   "id": "238bd6de-c1ef-45c5-bdf3-0c857686f94a",
   "metadata": {},
   "source": [
    "Now we perform cross-validation on the training set in order to select the best K parameter value for our classifier (number of neighbors). To do this, we perform 10-fold cross-validation. But first, we build a classification model that specifies that the number of neighbors to tune. We also create a tibble that contains each K value that we want to test."
   ]
  },
  {
   "cell_type": "code",
   "execution_count": null,
   "id": "e8ebb63d-702f-43a2-a0ee-dc200ab384a8",
   "metadata": {
    "tags": [],
    "vscode": {
     "languageId": "r"
    }
   },
   "outputs": [],
   "source": [
    "#build the model\n",
    "knn_spec <- nearest_neighbor(weight_func = \"rectangular\", neighbors = tune()) |>\n",
    "            set_engine(\"kknn\") |>\n",
    "            set_mode(\"classification\")\n",
    "\n",
    "#Create a tibble for the K values\n",
    "k_vals <- tibble(neighbors = seq(from = 1, to = 100, by = 3))\n",
    "#k_vals       \n",
    "print(\"Table 6: Test K values\")\n",
    "\n",
    "#Set up and perform 10 fold cross validation\n",
    "pulsar_vfold <- vfold_cv(pulsar_train, v = 10, strata = class)\n",
    "\n",
    "knn_results <- workflow() |>\n",
    "               add_recipe(pulsar_recipe) |>\n",
    "               add_model(knn_spec) |>\n",
    "               tune_grid(resamples = pulsar_vfold, grid = k_vals) |>\n",
    "               collect_metrics() #assess the accuracy \n",
    "knn_results\n",
    "(\"Table 7: Accuracy metrics\")"
   ]
  },
  {
   "cell_type": "markdown",
   "id": "3dce61f3-3eec-49bd-a53e-ba534e3cf442",
   "metadata": {},
   "source": [
    "To determine the best K to use, we filter the metrics collected from cross validation and plot the accuracy against the K values we tested."
   ]
  },
  {
   "cell_type": "code",
   "execution_count": null,
   "id": "f3dad9b6-9233-474f-b1cb-eedb8b441f6a",
   "metadata": {
    "tags": [],
    "vscode": {
     "languageId": "r"
    }
   },
   "outputs": [],
   "source": [
    "accuracies <- knn_results |> \n",
    "       filter(.metric == \"accuracy\")\n",
    "\n",
    "accuracy_versus_k <- ggplot(accuracies, aes(x = neighbors, y = mean))+\n",
    "       geom_point() +\n",
    "       geom_line() +\n",
    "       labs(x = \"Neighbors\", y = \"Accuracy Estimate\") +\n",
    "       ggtitle(\"Figure 5: Accuracy vs. K\") +\n",
    "       theme(text = element_text(size = 20))\n",
    "accuracy_versus_k"
   ]
  },
  {
   "cell_type": "markdown",
   "id": "2c175223-e80b-4e90-afd3-b872e2bbff7a",
   "metadata": {},
   "source": [
    "Based on the above plot, we see that the accuracy decreases quite steeply as the number of neighbors increases, before leveling off from around K = 16** onwards. We choose K = 17** for our classification model because the accuracy is high at this point, and the accuracy does not change drastically when looking at similar K values. Overall, we want to avoid overfitting the data by selecting too few neighbors, and 17** is an odd number (given that K-nearest neighbors classifies observations based on a majority rules system, using an even number of neighbors could be problematic in the event of a tie, since our class variable is binary). "
   ]
  },
  {
   "cell_type": "markdown",
   "id": "b94cc5c8-f7b7-462b-9dc3-ad4d81cdd5de",
   "metadata": {},
   "source": [
    "Upon determining the optimal K value for our classifier, we can finally predict on our testing set. As done below, we use the same recipe as before, but a new model that specifies the number of neighbors, K = 17** is built. Once we have used the model to predict the classes of the observations in the test set, we take a confusion matrix to view the accuracy."
   ]
  },
  {
   "cell_type": "code",
   "execution_count": null,
   "id": "9c8248be-dd71-44eb-bc6a-cc64a680de11",
   "metadata": {
    "tags": [],
    "vscode": {
     "languageId": "r"
    }
   },
   "outputs": [],
   "source": [
    "knn_spec_final <- nearest_neighbor(weight_func = \"rectangular\", neighbors = 17) |>\n",
    "                    set_engine(\"kknn\") |>\n",
    "                    set_mode(\"classification\")\n",
    "\n",
    "pulsar_fit_final <- workflow() |>\n",
    "        add_recipe(pulsar_recipe) |>\n",
    "        add_model(knn_spec_final) |>\n",
    "        fit(data = pulsar_train)\n",
    "\n",
    "pulsar_test_predictions_final <-  predict(pulsar_fit_final, pulsar_test) |>\n",
    "        bind_cols(pulsar_test)\n",
    "\n",
    "pulsar_test_predictions_final           \n",
    "print(\"Table 8: Test data with the classifier's predictions\")\n",
    "\n",
    "confusion_final <- pulsar_test_predictions_final |>\n",
    "    conf_mat(truth = class, estimate = .pred_class)\n",
    "confusion_final\n",
    "print(\"Table 9: Confusion matrix\")"
   ]
  },
  {
   "cell_type": "markdown",
   "id": "80337786-6d08-450c-8231-061bc18bf298",
   "metadata": {},
   "source": [
    "To visualize the accuracy of our classification model, we create a new column in the predictions table that will allow us to produce a visualization of the test data in such a way that colour-coding the observations will allow the information stored in the confusion matrix to be seen. "
   ]
  },
  {
   "cell_type": "code",
   "execution_count": null,
   "id": "b4ab16dc-0121-4492-b614-091faa0061ad",
   "metadata": {
    "tags": [],
    "vscode": {
     "languageId": "r"
    }
   },
   "outputs": [],
   "source": [
    "mutated_predictions <- pulsar_test_predictions_final |>\n",
    "    mutate(new_cat = case_when(.pred_class == NP & class == NP ~ \"False pulsar, correctly classified\",\n",
    "                               .pred_class == P & class == P ~ \"Real pulsar, correctly classified\",\n",
    "                               .pred_class == P & class == NP ~ \"False pulsar, incorrectly classified\",\n",
    "                               .pred_class == NP & class == P ~ \"Real pulsar, incorrectly classified\"))\n",
    "mutated_predictions\n",
    "print(\"Table 10: Predicted test set with clear accuracy labels\")"
   ]
  },
  {
   "cell_type": "markdown",
   "id": "dfd50700-bf7e-4cf7-a342-d02cb65b0153",
   "metadata": {},
   "source": [
    "<b> Visualization: Classifier accuracy </b>"
   ]
  },
  {
   "cell_type": "markdown",
   "id": "e461e12e-81dd-49b5-8997-48aef53b9f57",
   "metadata": {},
   "source": [
    "Due to the large number of predictors used in our data analysis, we will only choose 2 to include in our visualization of our classifier's accuracy (a scatterplot). This is because having many scatterplots that essentially show the same thing is both redundant and long to go through."
   ]
  },
  {
   "cell_type": "code",
   "execution_count": 4,
   "id": "4ab9c464-84ad-4a16-b9c8-855c6d16031f",
   "metadata": {
    "tags": [],
    "vscode": {
     "languageId": "r"
    }
   },
   "outputs": [
    {
     "ename": "ERROR",
     "evalue": "Error in ggplot(): could not find function \"ggplot\"\n",
     "output_type": "error",
     "traceback": [
      "Error in ggplot(): could not find function \"ggplot\"\nTraceback:\n"
     ]
    }
   ],
   "source": [
    "options(repr.plot.height = 10, repr.plot.width = 14)\n",
    "\n",
    "#Visualization with the 2 chosen predictors\n",
    "plot_1 <- ggplot() +\n",
    "    geom_point(data = mutated_predictions, mapping = aes(x = exc_kurtosis_integrated_profile, \n",
    "                                                              y = mean_dmsnr, colour = new_cat), alpha = 0.5) +\n",
    "    labs(x = \"Scaled Excess Kurtosis - Integrated Profile\", y = \"Scaled Mean - DMSNR curve\", colour = \"Prediction\") +\n",
    "    ggtitle(\"Figure 6: Classifier accuracy with regards to mean of DMSNR\n",
    "                \\ncurve and excess kurtosis of integrated profile\") +\n",
    "    scale_color_brewer(palette = \"Dark2\") +\n",
    "    theme(text = element_text(size = 20))\n",
    "plot_1\n",
    "\n",
    "\n",
    "\n",
    "#Next 2 predictors\n",
    "plot_2 <- ggplot() +\n",
    "    geom_point(data = mutated_predictions, mapping = aes(x = skew_dmsnr,\n",
    "                                                              y = skew_integrated_profile, colour = new_cat), alpha = 0.5) +\n",
    "    labs(x = \"Scaled Skewness - DMSNR curve\", y = \"Scaled Skewness - Integrated Profile\", colour = \"Prediction\") +\n",
    "    ggtitle(\"Figure 7: Classifier accuracy with regards to skewkness\n",
    "                \\nof both DMSNR curve and integrated profile\") +\n",
    "    scale_color_brewer(palette = \"Dark2\") +\n",
    "    theme(text = element_text(size = 20))\n",
    "#plot_2\n",
    "\n",
    "\n",
    "\n",
    "#Last 2 predictors\n",
    "plot_3 <- ggplot() +\n",
    "    geom_point(data = mutated_predictions, mapping = aes(x = stand_dev_integrated_profile, \n",
    "                                                             y = exc_kurtosis_dmsnr, colour = new_cat), alpha = 0.5) +\n",
    "    labs(x = \"Scaled Standard Deviation - Integrated Profile\", y = \"Scaled Excess Kurtosis - DMSNR curve\", colour = \"Prediction\") +\n",
    "    ggtitle(\"Figure 8: Classifier accuracy with regards to excess kurtosis of\n",
    "                \\nDMSNR curve and standard deviation of integrated profile\") +\n",
    "    scale_color_brewer(palette = \"Dark2\") +\n",
    "    theme(text = element_text(size = 20))\n",
    "#plot_3"
   ]
  },
  {
   "cell_type": "markdown",
   "id": "511f40e0-0a1a-4b35-862c-f6e1cab7a207",
   "metadata": {},
   "source": [
    "As seen in the plot above, there are very few observations in the testing set that were incorrectly classified. This indicates that our model is quite accurate. We can represent the accuracy of our model as a percentage, as well:"
   ]
  },
  {
   "cell_type": "code",
   "execution_count": null,
   "id": "9b2d99de-ed02-480e-8fc3-0e92d18fed0f",
   "metadata": {
    "tags": [],
    "vscode": {
     "languageId": "r"
    }
   },
   "outputs": [],
   "source": [
    "#From the confusion matrix:\n",
    "\n",
    "accuracy_perc <- ((3838 + 3853)/8130)*100\n",
    "accuracy_perc"
   ]
  },
  {
   "cell_type": "markdown",
   "id": "b0cce850-d0c1-4a2b-a29a-0d4c27d51260",
   "metadata": {},
   "source": [
    "Therefore, <b> ~__% </b> is a good estimate of how accuracte our classification model is."
   ]
  },
  {
   "cell_type": "markdown",
   "id": "3e75e84a-fc2f-4ad1-9499-4b7f7bed1fed",
   "metadata": {},
   "source": [
    "<b>Discussion </b>"
   ]
  },
  {
   "cell_type": "markdown",
   "id": "4b8cada9-9701-4662-b305-866fa4825139",
   "metadata": {},
   "source": [
    "summarize what you found: \n",
    "\n",
    "We found that training a classifier with our predictors (name them*) yields the most accurate predictions on new observations (i.e. the testing set). The accuracy of our model is __.\n",
    "\n",
    "The high accuracy of the model trained with the predictors from the HTRU2 data set on new observations, as reflected in the testing set, is an interesting and promising finding. It suggests that the predictors used in the model are indeed effective in identifying pulsar candidates, which aligns with the initial hypothesis of the study. \n",
    "\n",
    "(Before upsampling I wasn’t expecting a really high prediction accuracy with any combination of predictors, due to how rare the real pulsars were in the original dataset\n",
    "-Also, I don’t think I was expecting that the most accurate classifier would come from using 6 of the 8 variables available to us in the dataset → in our class readings it was mentioned that using very few or many predictors often harms how good the classifier is at making predictions (would have expected between 2-4 predictors to give the highest accuracy)→ **Due to the rarity of real pulsars in the original dataset, we did not expect to achieve a high prediction accuracy with any combination of predictors prior to upsampling. In addition, in contrast to what we had anticipated, we discovered that using 6 of the dataset's 8 available variables allowed us to create the most accurate classifier. This was unexpected because we had read in class that using either too few or too many predictors could reduce the classifier's accuracy, and we had anticipated that using 2-4 predictors would produce the highest accuracy. This unexpected result casts doubt on accepted wisdom and emphasises the nuanced interplay between predictor choice and pulsar classification prediction accuracy. It is necessary to conduct additional research and analysis to comprehend the underlying**\n",
    "\n",
    "\n",
    "The accurate prediction of new observations can help validate the existence of pulsars and provide insights into their properties, which could improve our understanding of pulsar candidates and their characteristics. This may increase our understanding of astrophysical processes and enhance our capacity to find and investigate pulsars in the future. Furthermore, the model's accuracy may have useful implications for pulsar research. It might be used, for instance, to streamline the procedure for picking pulsar candidates in extensive surveys like the High Time Resolution Universe Survey.\n",
    "\n",
    "The accuracy of the model might be improved through further research and comparisons with current approaches, which would also advance pulsar classification techniques.Additionally, the model's accuracy could be compared to other existing methods or models to assess its superiority and potential for further improvement.\n",
    "\n"
   ]
  },
  {
   "cell_type": "markdown",
   "id": "6eeaa03e",
   "metadata": {},
   "source": [
    "After performing predictor selection, we found that using four predictors - mean of the integrated profile, standard deviation of the integrated profile, mean of the DM-SNR curve, and standard deviation of the DM-SNR curve - led to the highest accuracy.\n",
    "\n",
    "Our findings suggest that these four predictors provide useful information for accurately classifying pulsar candidates as legitimate or spurious. Future research could explore whether additional predictors could further improve classification accuracy or if these four predictors are sufficient for classification purposes. Additionally, our results demonstrate the potential for using machine learning techniques to classify pulsar candidates with high accuracy and have implications for the field of astronomy more broadly.\n",
    "This project could lead to future questions such as: How well does the developed model perform on different datasets of pulsar candidates collected from other surveys? Can the identified pulsars be used for practical applications such as navigation or communication systems?\n",
    "\n",
    "In conclusion, our project demonstrates the potential for machine learning techniques to accurately classify pulsar candidates as legitimate or spurious based on information from their integrated pulse profile and DM-SNR curve. We found that the combination of excess kurtosis of the integrated profile, skewness of the DM-SNR curve, standard deviation of the integrated profile, and mean of the DM-SNR curve provided the highest accuracy in distinguishing between real and false pulsar signals, with an accuracy of approximately 95%.\n",
    "\n",
    "These findings have important implications for the field of astronomy and astrophysics, as they demonstrate the potential for machine learning to improve our ability to identify and classify celestial objects in large datasets. Future studies could build on this work by exploring additional predictors and refining the classification models to further increase accuracy and efficiency.\n",
    "\n",
    "Overall, our project provides valuable insights into the use of machine learning for astronomical data analysis, and highlights the potential for this approach to enhance our understanding of the universe."
   ]
  },
  {
   "cell_type": "markdown",
   "id": "96c5f4b5-a704-4ce1-bf06-579b54b9f3b8",
   "metadata": {},
   "source": [
    "**References**\n",
    "\n",
    "Dr Robert Lyon, University of Manchester, School of Physics and Astronomy, Alan Turing Building, Manchester M13 9PL, United Kingdom, robert.lyon '@' manchester.ac.uk\n",
    "\n",
    "Keith, M. J., et al. (2010). The HTRU survey. Handbook of pulsar astronomy, 379-422.\n",
    "\n",
    "United States. National Aeronautics and Space Administration. NASA technical note. Washington :National Aeronautics and Space Administration.\n",
    "\n",
    "Paula, G. (2020, February 5). Creating a new variable under conditions of other two variables. Posit Community. Retrieved April 13, 2023, from https://community.rstudio.com/t/creating-a-new-variable-under-conditions-of-other-two-variables/51825  "
   ]
  },
  {
   "cell_type": "code",
   "execution_count": null,
   "id": "10af3ded-fe1b-4137-8f5b-d18d0a90f2ab",
   "metadata": {
    "vscode": {
     "languageId": "r"
    }
   },
   "outputs": [],
   "source": []
  }
 ],
 "metadata": {
  "kernelspec": {
   "display_name": "R",
   "language": "R",
   "name": "ir"
  },
  "language_info": {
   "codemirror_mode": "r",
   "file_extension": ".r",
   "mimetype": "text/x-r-source",
   "name": "R",
   "pygments_lexer": "r",
   "version": "4.1.1"
  }
 },
 "nbformat": 4,
 "nbformat_minor": 5
}
