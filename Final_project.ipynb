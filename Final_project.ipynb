{
 "cells": [
  {
   "cell_type": "code",
   "execution_count": 1,
   "id": "18e9f3dc-d38a-4f62-ae68-565b9162ddb6",
   "metadata": {},
   "outputs": [
    {
     "name": "stderr",
     "output_type": "stream",
     "text": [
      "── \u001b[1mAttaching packages\u001b[22m ─────────────────────────────────────── tidyverse 1.3.1 ──\n",
      "\n",
      "\u001b[32m✔\u001b[39m \u001b[34mggplot2\u001b[39m 3.3.6     \u001b[32m✔\u001b[39m \u001b[34mpurrr  \u001b[39m 0.3.4\n",
      "\u001b[32m✔\u001b[39m \u001b[34mtibble \u001b[39m 3.1.7     \u001b[32m✔\u001b[39m \u001b[34mdplyr  \u001b[39m 1.0.9\n",
      "\u001b[32m✔\u001b[39m \u001b[34mtidyr  \u001b[39m 1.2.0     \u001b[32m✔\u001b[39m \u001b[34mstringr\u001b[39m 1.4.0\n",
      "\u001b[32m✔\u001b[39m \u001b[34mreadr  \u001b[39m 2.1.2     \u001b[32m✔\u001b[39m \u001b[34mforcats\u001b[39m 0.5.1\n",
      "\n",
      "── \u001b[1mConflicts\u001b[22m ────────────────────────────────────────── tidyverse_conflicts() ──\n",
      "\u001b[31m✖\u001b[39m \u001b[34mdplyr\u001b[39m::\u001b[32mfilter()\u001b[39m masks \u001b[34mstats\u001b[39m::filter()\n",
      "\u001b[31m✖\u001b[39m \u001b[34mdplyr\u001b[39m::\u001b[32mlag()\u001b[39m    masks \u001b[34mstats\u001b[39m::lag()\n",
      "\n",
      "── \u001b[1mAttaching packages\u001b[22m ────────────────────────────────────── tidymodels 1.0.0 ──\n",
      "\n",
      "\u001b[32m✔\u001b[39m \u001b[34mbroom       \u001b[39m 1.0.0     \u001b[32m✔\u001b[39m \u001b[34mrsample     \u001b[39m 1.0.0\n",
      "\u001b[32m✔\u001b[39m \u001b[34mdials       \u001b[39m 1.0.0     \u001b[32m✔\u001b[39m \u001b[34mtune        \u001b[39m 1.0.0\n",
      "\u001b[32m✔\u001b[39m \u001b[34minfer       \u001b[39m 1.0.2     \u001b[32m✔\u001b[39m \u001b[34mworkflows   \u001b[39m 1.0.0\n",
      "\u001b[32m✔\u001b[39m \u001b[34mmodeldata   \u001b[39m 1.0.0     \u001b[32m✔\u001b[39m \u001b[34mworkflowsets\u001b[39m 1.0.0\n",
      "\u001b[32m✔\u001b[39m \u001b[34mparsnip     \u001b[39m 1.0.0     \u001b[32m✔\u001b[39m \u001b[34myardstick   \u001b[39m 1.0.0\n",
      "\u001b[32m✔\u001b[39m \u001b[34mrecipes     \u001b[39m 1.0.1     \n",
      "\n",
      "── \u001b[1mConflicts\u001b[22m ───────────────────────────────────────── tidymodels_conflicts() ──\n",
      "\u001b[31m✖\u001b[39m \u001b[34mscales\u001b[39m::\u001b[32mdiscard()\u001b[39m masks \u001b[34mpurrr\u001b[39m::discard()\n",
      "\u001b[31m✖\u001b[39m \u001b[34mdplyr\u001b[39m::\u001b[32mfilter()\u001b[39m   masks \u001b[34mstats\u001b[39m::filter()\n",
      "\u001b[31m✖\u001b[39m \u001b[34mrecipes\u001b[39m::\u001b[32mfixed()\u001b[39m  masks \u001b[34mstringr\u001b[39m::fixed()\n",
      "\u001b[31m✖\u001b[39m \u001b[34mdplyr\u001b[39m::\u001b[32mlag()\u001b[39m      masks \u001b[34mstats\u001b[39m::lag()\n",
      "\u001b[31m✖\u001b[39m \u001b[34myardstick\u001b[39m::\u001b[32mspec()\u001b[39m masks \u001b[34mreadr\u001b[39m::spec()\n",
      "\u001b[31m✖\u001b[39m \u001b[34mrecipes\u001b[39m::\u001b[32mstep()\u001b[39m   masks \u001b[34mstats\u001b[39m::step()\n",
      "\u001b[34m•\u001b[39m Search for functions across packages at \u001b[32mhttps://www.tidymodels.org/find/\u001b[39m\n",
      "\n"
     ]
    },
    {
     "ename": "ERROR",
     "evalue": "Error in library(themis): there is no package called ‘themis’\n",
     "output_type": "error",
     "traceback": [
      "Error in library(themis): there is no package called ‘themis’\nTraceback:\n",
      "1. library(themis)"
     ]
    }
   ],
   "source": [
    "#load libraries\n",
    "library(tidyverse)\n",
    "library(repr)\n",
    "library(tidymodels)\n",
    "library(themis)\n",
    "options(repr.matrix.max.rows = 10)"
   ]
  },
  {
   "cell_type": "code",
   "execution_count": 5,
   "id": "f804ecb4-70e1-4a55-895f-aa14eaa2abbe",
   "metadata": {},
   "outputs": [
    {
     "name": "stderr",
     "output_type": "stream",
     "text": [
      "\u001b[1mRows: \u001b[22m\u001b[34m17898\u001b[39m \u001b[1mColumns: \u001b[22m\u001b[34m9\u001b[39m\n",
      "\u001b[36m──\u001b[39m \u001b[1mColumn specification\u001b[22m \u001b[36m────────────────────────────────────────────────────────\u001b[39m\n",
      "\u001b[1mDelimiter:\u001b[22m \",\"\n",
      "\u001b[32mdbl\u001b[39m (9): mean_integrated_profile, stand_dev_integrated_profile, exc_kurtosis...\n",
      "\n",
      "\u001b[36mℹ\u001b[39m Use `spec()` to retrieve the full column specification for this data.\n",
      "\u001b[36mℹ\u001b[39m Specify the column types or set `show_col_types = FALSE` to quiet this message.\n"
     ]
    },
    {
     "data": {
      "text/html": [
       "<table class=\"dataframe\">\n",
       "<caption>A tibble: 2 × 3</caption>\n",
       "<thead>\n",
       "\t<tr><th scope=col>class</th><th scope=col>n</th><th scope=col>percent</th></tr>\n",
       "\t<tr><th scope=col>&lt;fct&gt;</th><th scope=col>&lt;int&gt;</th><th scope=col>&lt;dbl&gt;</th></tr>\n",
       "</thead>\n",
       "<tbody>\n",
       "\t<tr><td>0</td><td>16259</td><td>90.842552</td></tr>\n",
       "\t<tr><td>1</td><td> 1639</td><td> 9.157448</td></tr>\n",
       "</tbody>\n",
       "</table>\n"
      ],
      "text/latex": [
       "A tibble: 2 × 3\n",
       "\\begin{tabular}{lll}\n",
       " class & n & percent\\\\\n",
       " <fct> & <int> & <dbl>\\\\\n",
       "\\hline\n",
       "\t 0 & 16259 & 90.842552\\\\\n",
       "\t 1 &  1639 &  9.157448\\\\\n",
       "\\end{tabular}\n"
      ],
      "text/markdown": [
       "\n",
       "A tibble: 2 × 3\n",
       "\n",
       "| class &lt;fct&gt; | n &lt;int&gt; | percent &lt;dbl&gt; |\n",
       "|---|---|---|\n",
       "| 0 | 16259 | 90.842552 |\n",
       "| 1 |  1639 |  9.157448 |\n",
       "\n"
      ],
      "text/plain": [
       "  class n     percent  \n",
       "1 0     16259 90.842552\n",
       "2 1      1639  9.157448"
      ]
     },
     "metadata": {},
     "output_type": "display_data"
    },
    {
     "ename": "ERROR",
     "evalue": "Error in step_upsample(class, over_ratio = 1, skip = FALSE): could not find function \"step_upsample\"\n",
     "output_type": "error",
     "traceback": [
      "Error in step_upsample(class, over_ratio = 1, skip = FALSE): could not find function \"step_upsample\"\nTraceback:\n",
      "1. prep(step_upsample(class, over_ratio = 1, skip = FALSE))"
     ]
    }
   ],
   "source": [
    "#Add columns\n",
    "unscaled_data <- read_csv(\"pulsar_data.csv\", \n",
    "                        col_names = c(\"mean_integrated_profile\", \n",
    "                                      \"stand_dev_integrated_profile\", \n",
    "                                      \"exc_kurtosis_integrated_profile\", \n",
    "                                      \"skew_integrated_profile\",\n",
    "                                      \"mean_dmsnr\", \n",
    "                                      \"stand_dev_dmsnr\", \n",
    "                                      \"exc_kurtosis_dmsnr\", \n",
    "                                      \"skew_dmsnr\", \"class\")) \n",
    "\n",
    "unscaled_data <- unscaled_data |>\n",
    "    mutate(class = as_factor(class))\n",
    "#pulsar_data \n",
    "\n",
    "#Class proportions in pulsar dataset (Imbalanced)\n",
    "num_obs <- nrow(unscaled_data)\n",
    "pulsar_proportions <- unscaled_data |>\n",
    "    group_by(class) |>\n",
    "    summarize(n = n()) |>\n",
    "    mutate(percent = 100*n/nrow(unscaled_data))\n",
    "pulsar_proportions\n",
    "\n",
    "set.seed(1)\n",
    "pulsar_split <- initial_split(unscaled_data, prop = 0.75, strata = class)\n",
    "pulsar_train <- training(pulsar_split)\n",
    "pulsar_test <- testing(pulsar_split) \n",
    "\n",
    "#Scale data and Upsample to balance data\n",
    "pulsar_recipe <- recipe(class ~ skew_integrated_profile + skew_dmsnr, data = pulsar_train) |>\n",
    "    step_scale(all_predictors()) |>\n",
    "    step_center(all_predictors()) #|>\n",
    "    step_upsample(class, over_ratio = 1, skip = FALSE) |>\n",
    "    prep()\n",
    "\n",
    "#check proportions\n",
    "upsampled_pulsar <- pulsar_data\n",
    "    group_by(Class) |>\n",
    "    summarize(n = n())\n",
    "upsampled_pulsar\n",
    "\n",
    "knn_spec <- nearest_neighbor(weight_func = \"rectangular\", neighbors = 3) |>\n",
    "       set_engine(\"kknn\") |>\n",
    "       set_mode(\"classification\")\n",
    "\n",
    "pulsar_fit <- workflow() |>\n",
    "       add_recipe(pulsar_recipe) |>\n",
    "       add_model(knn_spec) |>\n",
    "       fit(data = pulsar_train)\n",
    "pulsar_fit\n",
    "\n",
    "\n",
    "pulsar_test_predictions <- predict(pulsar_fit, pulsar_test) |>\n",
    "    bind_cols(pulsar_test)\n",
    "#pulsar_test_predictions\n",
    "\n",
    "pulsar_prediction_accuracy <- pulsar_test_predictions |>\n",
    "    metrics(truth = class, estimate = .pred_class) |>\n",
    "    filter(.metric == \"accuracy\")\n",
    "pulsar_prediction_accuracy\n",
    "\n",
    "confusion <- pulsar_test_predictions |>\n",
    "    conf_mat(truth = class, estimate = .pred_class)\n",
    "confusion"
   ]
  },
  {
   "cell_type": "code",
   "execution_count": null,
   "id": "15084792-cc40-4be1-a1d4-e1385a0708a2",
   "metadata": {},
   "outputs": [],
   "source": [
    "#10 fold cross validation\n",
    "pulsar_vfold <- vfold_cv(pulsar_train, v = 10, strata = class)\n",
    "\n",
    "pulsar_resample_fit <- workflow() |>\n",
    "       add_recipe(pulsar_recipe) |>\n",
    "       add_model(knn_spec) |>\n",
    "       fit_resamples(resamples = pulsar_vfold)\n",
    "\n",
    "pulsar_metrics <- collect_metrics(pulsar_resample_fit)\n",
    "pulsar_metrics"
   ]
  },
  {
   "cell_type": "code",
   "execution_count": null,
   "id": "f3dad9b6-9233-474f-b1cb-eedb8b441f6a",
   "metadata": {},
   "outputs": [],
   "source": [
    "#CAUTION: Don't run this cell. Highly advised.\n",
    "knn_tune <- nearest_neighbor(weight_func = \"rectangular\", neighbors = tune()) |>\n",
    "            set_engine(\"kknn\") |>\n",
    "            set_mode(\"classification\")\n",
    "#knn_tune\n",
    "\n",
    "k_vals <- tibble(neighbors = seq(from = 1, to = 100, by = 5))\n",
    "\n",
    "knn_results <- workflow() |>\n",
    "               add_recipe(pulsar_recipe) |>\n",
    "               add_model(knn_tune) |>\n",
    "               tune_grid(resamples = pulsar_vfold, grid = k_vals) |>\n",
    "               collect_metrics()\n",
    "#knn_results\n",
    "\n",
    "accuracies <- knn_results |> \n",
    "       filter(.metric == \"accuracy\")\n",
    "\n",
    "accuracy_versus_k <- ggplot(accuracies, aes(x = neighbors, y = mean))+\n",
    "       geom_point() +\n",
    "       geom_line() +\n",
    "       labs(x = \"Neighbors\", y = \"Accuracy Estimate\")  \n",
    "accuracy_versus_k\n"
   ]
  },
  {
   "cell_type": "code",
   "execution_count": null,
   "id": "d0c84d16-95ad-4cde-a4f4-b59acfaff950",
   "metadata": {},
   "outputs": [],
   "source": []
  }
 ],
 "metadata": {
  "kernelspec": {
   "display_name": "R",
   "language": "R",
   "name": "ir"
  },
  "language_info": {
   "codemirror_mode": "r",
   "file_extension": ".r",
   "mimetype": "text/x-r-source",
   "name": "R",
   "pygments_lexer": "r",
   "version": "4.1.3"
  }
 },
 "nbformat": 4,
 "nbformat_minor": 5
}
