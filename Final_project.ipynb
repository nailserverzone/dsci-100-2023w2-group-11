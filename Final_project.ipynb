{
 "cells": [
  {
   "cell_type": "code",
   "execution_count": 2,
   "id": "18e9f3dc-d38a-4f62-ae68-565b9162ddb6",
   "metadata": {},
   "outputs": [
    {
     "name": "stderr",
     "output_type": "stream",
     "text": [
      "── \u001b[1mAttaching packages\u001b[22m ─────────────────────────────────────── tidyverse 1.3.1 ──\n",
      "\n",
      "\u001b[32m✔\u001b[39m \u001b[34mggplot2\u001b[39m 3.3.6     \u001b[32m✔\u001b[39m \u001b[34mpurrr  \u001b[39m 0.3.4\n",
      "\u001b[32m✔\u001b[39m \u001b[34mtibble \u001b[39m 3.1.7     \u001b[32m✔\u001b[39m \u001b[34mdplyr  \u001b[39m 1.0.9\n",
      "\u001b[32m✔\u001b[39m \u001b[34mtidyr  \u001b[39m 1.2.0     \u001b[32m✔\u001b[39m \u001b[34mstringr\u001b[39m 1.4.0\n",
      "\u001b[32m✔\u001b[39m \u001b[34mreadr  \u001b[39m 2.1.2     \u001b[32m✔\u001b[39m \u001b[34mforcats\u001b[39m 0.5.1\n",
      "\n",
      "── \u001b[1mConflicts\u001b[22m ────────────────────────────────────────── tidyverse_conflicts() ──\n",
      "\u001b[31m✖\u001b[39m \u001b[34mdplyr\u001b[39m::\u001b[32mfilter()\u001b[39m masks \u001b[34mstats\u001b[39m::filter()\n",
      "\u001b[31m✖\u001b[39m \u001b[34mdplyr\u001b[39m::\u001b[32mlag()\u001b[39m    masks \u001b[34mstats\u001b[39m::lag()\n",
      "\n",
      "── \u001b[1mAttaching packages\u001b[22m ────────────────────────────────────── tidymodels 1.0.0 ──\n",
      "\n",
      "\u001b[32m✔\u001b[39m \u001b[34mbroom       \u001b[39m 1.0.0     \u001b[32m✔\u001b[39m \u001b[34mrsample     \u001b[39m 1.0.0\n",
      "\u001b[32m✔\u001b[39m \u001b[34mdials       \u001b[39m 1.0.0     \u001b[32m✔\u001b[39m \u001b[34mtune        \u001b[39m 1.0.0\n",
      "\u001b[32m✔\u001b[39m \u001b[34minfer       \u001b[39m 1.0.2     \u001b[32m✔\u001b[39m \u001b[34mworkflows   \u001b[39m 1.0.0\n",
      "\u001b[32m✔\u001b[39m \u001b[34mmodeldata   \u001b[39m 1.0.0     \u001b[32m✔\u001b[39m \u001b[34mworkflowsets\u001b[39m 1.0.0\n",
      "\u001b[32m✔\u001b[39m \u001b[34mparsnip     \u001b[39m 1.0.0     \u001b[32m✔\u001b[39m \u001b[34myardstick   \u001b[39m 1.0.0\n",
      "\u001b[32m✔\u001b[39m \u001b[34mrecipes     \u001b[39m 1.0.1     \n",
      "\n",
      "── \u001b[1mConflicts\u001b[22m ───────────────────────────────────────── tidymodels_conflicts() ──\n",
      "\u001b[31m✖\u001b[39m \u001b[34mscales\u001b[39m::\u001b[32mdiscard()\u001b[39m masks \u001b[34mpurrr\u001b[39m::discard()\n",
      "\u001b[31m✖\u001b[39m \u001b[34mdplyr\u001b[39m::\u001b[32mfilter()\u001b[39m   masks \u001b[34mstats\u001b[39m::filter()\n",
      "\u001b[31m✖\u001b[39m \u001b[34mrecipes\u001b[39m::\u001b[32mfixed()\u001b[39m  masks \u001b[34mstringr\u001b[39m::fixed()\n",
      "\u001b[31m✖\u001b[39m \u001b[34mdplyr\u001b[39m::\u001b[32mlag()\u001b[39m      masks \u001b[34mstats\u001b[39m::lag()\n",
      "\u001b[31m✖\u001b[39m \u001b[34myardstick\u001b[39m::\u001b[32mspec()\u001b[39m masks \u001b[34mreadr\u001b[39m::spec()\n",
      "\u001b[31m✖\u001b[39m \u001b[34mrecipes\u001b[39m::\u001b[32mstep()\u001b[39m   masks \u001b[34mstats\u001b[39m::step()\n",
      "\u001b[34m•\u001b[39m Learn how to get started at \u001b[32mhttps://www.tidymodels.org/start/\u001b[39m\n",
      "\n"
     ]
    }
   ],
   "source": [
    "#load libraries\n",
    "library(tidyverse)\n",
    "library(repr)\n",
    "library(tidymodels)\n",
    "#library(themis)\n",
    "options(repr.matrix.max.rows = 10)"
   ]
  },
  {
   "cell_type": "code",
   "execution_count": 6,
   "id": "f804ecb4-70e1-4a55-895f-aa14eaa2abbe",
   "metadata": {},
   "outputs": [
    {
     "name": "stderr",
     "output_type": "stream",
     "text": [
      "\u001b[1mRows: \u001b[22m\u001b[34m17898\u001b[39m \u001b[1mColumns: \u001b[22m\u001b[34m9\u001b[39m\n",
      "\u001b[36m──\u001b[39m \u001b[1mColumn specification\u001b[22m \u001b[36m────────────────────────────────────────────────────────\u001b[39m\n",
      "\u001b[1mDelimiter:\u001b[22m \",\"\n",
      "\u001b[32mdbl\u001b[39m (9): mean_integrated_profile, stand_dev_integrated_profile, exc_kurtosis...\n",
      "\n",
      "\u001b[36mℹ\u001b[39m Use `spec()` to retrieve the full column specification for this data.\n",
      "\u001b[36mℹ\u001b[39m Specify the column types or set `show_col_types = FALSE` to quiet this message.\n"
     ]
    },
    {
     "data": {
      "text/html": [
       "<table class=\"dataframe\">\n",
       "<caption>A tibble: 1 × 3</caption>\n",
       "<thead>\n",
       "\t<tr><th scope=col>.metric</th><th scope=col>.estimator</th><th scope=col>.estimate</th></tr>\n",
       "\t<tr><th scope=col>&lt;chr&gt;</th><th scope=col>&lt;chr&gt;</th><th scope=col>&lt;dbl&gt;</th></tr>\n",
       "</thead>\n",
       "<tbody>\n",
       "\t<tr><td>accuracy</td><td>binary</td><td>0.9716201</td></tr>\n",
       "</tbody>\n",
       "</table>\n"
      ],
      "text/latex": [
       "A tibble: 1 × 3\n",
       "\\begin{tabular}{lll}\n",
       " .metric & .estimator & .estimate\\\\\n",
       " <chr> & <chr> & <dbl>\\\\\n",
       "\\hline\n",
       "\t accuracy & binary & 0.9716201\\\\\n",
       "\\end{tabular}\n"
      ],
      "text/markdown": [
       "\n",
       "A tibble: 1 × 3\n",
       "\n",
       "| .metric &lt;chr&gt; | .estimator &lt;chr&gt; | .estimate &lt;dbl&gt; |\n",
       "|---|---|---|\n",
       "| accuracy | binary | 0.9716201 |\n",
       "\n"
      ],
      "text/plain": [
       "  .metric  .estimator .estimate\n",
       "1 accuracy binary     0.9716201"
      ]
     },
     "metadata": {},
     "output_type": "display_data"
    },
    {
     "data": {
      "text/plain": [
       "          Truth\n",
       "Prediction    0    1\n",
       "         0 4041   86\n",
       "         1   41  307"
      ]
     },
     "metadata": {},
     "output_type": "display_data"
    },
    {
     "data": {
      "text/html": [
       "<table class=\"dataframe\">\n",
       "<caption>A tibble: 2 × 3</caption>\n",
       "<thead>\n",
       "\t<tr><th scope=col>class</th><th scope=col>n</th><th scope=col>percent</th></tr>\n",
       "\t<tr><th scope=col>&lt;fct&gt;</th><th scope=col>&lt;int&gt;</th><th scope=col>&lt;dbl&gt;</th></tr>\n",
       "</thead>\n",
       "<tbody>\n",
       "\t<tr><td>0</td><td>4082</td><td>91.217877</td></tr>\n",
       "\t<tr><td>1</td><td> 393</td><td> 8.782123</td></tr>\n",
       "</tbody>\n",
       "</table>\n"
      ],
      "text/latex": [
       "A tibble: 2 × 3\n",
       "\\begin{tabular}{lll}\n",
       " class & n & percent\\\\\n",
       " <fct> & <int> & <dbl>\\\\\n",
       "\\hline\n",
       "\t 0 & 4082 & 91.217877\\\\\n",
       "\t 1 &  393 &  8.782123\\\\\n",
       "\\end{tabular}\n"
      ],
      "text/markdown": [
       "\n",
       "A tibble: 2 × 3\n",
       "\n",
       "| class &lt;fct&gt; | n &lt;int&gt; | percent &lt;dbl&gt; |\n",
       "|---|---|---|\n",
       "| 0 | 4082 | 91.217877 |\n",
       "| 1 |  393 |  8.782123 |\n",
       "\n"
      ],
      "text/plain": [
       "  class n    percent  \n",
       "1 0     4082 91.217877\n",
       "2 1      393  8.782123"
      ]
     },
     "metadata": {},
     "output_type": "display_data"
    }
   ],
   "source": [
    "#Add columns\n",
    "unscaled_data <- read_csv(\"pulsar_data.csv\", \n",
    "                        col_names = c(\"mean_integrated_profile\", \n",
    "                                      \"stand_dev_integrated_profile\", \n",
    "                                      \"exc_kurtosis_integrated_profile\", \n",
    "                                      \"skew_integrated_profile\",\n",
    "                                      \"mean_dmsnr\", \n",
    "                                      \"stand_dev_dmsnr\", \n",
    "                                      \"exc_kurtosis_dmsnr\", \n",
    "                                      \"skew_dmsnr\", \"class\")) \n",
    "\n",
    "unscaled_data <- unscaled_data |>\n",
    "    mutate(class = as_factor(class))\n",
    "#pulsar_data \n",
    "\n",
    "#Class proportions in pulsar dataset (Imbalanced)\n",
    "num_obs <- nrow(unscaled_data)\n",
    "pulsar_proportions <- unscaled_data |>\n",
    "    group_by(class) |>\n",
    "    summarize(n = n()) |>\n",
    "    mutate(percent = 100*n/nrow(unscaled_data))\n",
    "#pulsar_proportions\n",
    "\n",
    "pulsar_split <- initial_split(unscaled_data, prop = 0.75, strata = class)\n",
    "pulsar_train <- training(pulsar_split)\n",
    "pulsar_test <- testing(pulsar_split) \n",
    "\n",
    "#Scale data and Upsample to balance data\n",
    "pulsar_recipe <- recipe(class ~ skew_integrated_profile + skew_dmsnr, data = pulsar_train) |>\n",
    "    step_scale(all_predictors()) |>\n",
    "    step_center(all_predictors()) |>\n",
    "#    step_upsample(class, over_ratio = 1, skip = FALSE) |>\n",
    "    prep()\n",
    "#pulsar_recipe\n",
    "\n",
    "pulsar_data <- bake(pulsar_recipe, pulsar_train)\n",
    "\n",
    "#pulsar_data |>\n",
    "#  group_by(Class) |>\n",
    "#  summarize(n = n())\n",
    "#pulsar_data\n",
    "\n",
    "knn_spec <- nearest_neighbor(weight_func = \"rectangular\", neighbors = 5) |>\n",
    "  set_engine(\"kknn\") |>\n",
    "  set_mode(\"classification\")\n",
    "#knn_spec\n",
    "\n",
    "knn_fit <- workflow() |>\n",
    "  add_recipe(pulsar_recipe) |>\n",
    "  add_model(knn_spec) |>\n",
    "  fit(data = pulsar_train)\n",
    "#knn_fit\n",
    "\n",
    "pulsar_test_predictions <- predict(knn_fit, pulsar_test) |>\n",
    "    bind_cols(pulsar_test)\n",
    "#pulsar_test_predictions\n",
    "\n",
    "pulsar_test_predictions |>\n",
    "  metrics(truth = class, estimate = .pred_class) |>\n",
    "  filter(.metric == \"accuracy\")\n",
    "#pulsar_test_predictions\n",
    "\n",
    "confusion <- pulsar_test_predictions |>\n",
    "             conf_mat(truth = class, estimate = .pred_class)\n",
    "confusion\n",
    "\n"
   ]
  },
  {
   "cell_type": "code",
   "execution_count": null,
   "id": "15084792-cc40-4be1-a1d4-e1385a0708a2",
   "metadata": {},
   "outputs": [],
   "source": [
    "pulsar_split <- initial_split(pulsar_train, prop = 0.75, strata = Class)\n",
    "pulsar_subtrain <- training(pulsar_split)\n",
    "pulsar_validation <- testing(pulsar_split)\n",
    "\n",
    "# recreate the standardization recipe from before \n",
    "# (since it must be based on the training data)\n",
    "pulsar_recipe <- recipe(Class ~ Smoothness + Concavity, \n",
    "                        data = cancer_subtrain) |>\n",
    "  step_scale(all_predictors()) |>\n",
    "  step_center(all_predictors())\n",
    "\n",
    "# fit the knn model (we can reuse the old knn_spec model from before)\n",
    "knn_fit <- workflow() |>\n",
    "  add_recipe(cancer_recipe) |>\n",
    "  add_model(knn_spec) |>\n",
    "  fit(data = cancer_subtrain)\n",
    "\n",
    "# get predictions on the validation data\n",
    "validation_predicted <- predict(knn_fit, cancer_validation) |>\n",
    "  bind_cols(cancer_validation)\n",
    "\n",
    "# compute the accuracy\n",
    "acc <- validation_predicted |>\n",
    "  metrics(truth = Class, estimate = .pred_class) |>\n",
    "  filter(.metric == \"accuracy\") |>\n",
    "  select(.estimate) |>\n",
    "  pull()\n",
    "\n",
    "acc\n"
   ]
  }
 ],
 "metadata": {
  "kernelspec": {
   "display_name": "R",
   "language": "R",
   "name": "ir"
  },
  "language_info": {
   "codemirror_mode": "r",
   "file_extension": ".r",
   "mimetype": "text/x-r-source",
   "name": "R",
   "pygments_lexer": "r",
   "version": "4.1.3"
  }
 },
 "nbformat": 4,
 "nbformat_minor": 5
}
