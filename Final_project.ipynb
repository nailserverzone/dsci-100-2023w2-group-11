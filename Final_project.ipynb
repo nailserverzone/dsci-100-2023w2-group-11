{
 "cells": [
  {
   "cell_type": "code",
   "execution_count": 6,
   "id": "46b48142-65c0-4405-8699-0b24a532eaab",
   "metadata": {},
   "outputs": [
    {
     "name": "stderr",
     "output_type": "stream",
     "text": [
      "Updating HTML index of packages in '.Library'\n",
      "\n",
      "Making 'packages.html' ...\n",
      " done\n",
      "\n"
     ]
    }
   ],
   "source": [
    "#CAUTION: Takes a long time to load.\n",
    "install.packages(\"themis\")"
   ]
  },
  {
   "cell_type": "code",
   "execution_count": 4,
   "id": "18e9f3dc-d38a-4f62-ae68-565b9162ddb6",
   "metadata": {},
   "outputs": [],
   "source": [
    "#load libraries\n",
    "library(tidyverse)\n",
    "library(repr)\n",
    "library(tidymodels)\n",
    "library(themis)\n",
    "options(repr.matrix.max.rows = 10)"
   ]
  },
  {
   "cell_type": "code",
   "execution_count": null,
   "id": "f804ecb4-70e1-4a55-895f-aa14eaa2abbe",
   "metadata": {},
   "outputs": [],
   "source": [
    "#Add columns\n",
    "unscaled_data <- read_csv(\"pulsar_data.csv\", \n",
    "                        col_names = c(\"mean_integrated_profile\", \n",
    "                                      \"stand_dev_integrated_profile\", \n",
    "                                      \"exc_kurtosis_integrated_profile\", \n",
    "                                      \"skew_integrated_profile\",\n",
    "                                      \"mean_dmsnr\", \n",
    "                                      \"stand_dev_dmsnr\", \n",
    "                                      \"exc_kurtosis_dmsnr\", \n",
    "                                      \"skew_dmsnr\", \"class\")) \n",
    "\n",
    "unscaled_data <- unscaled_data |>\n",
    "    mutate(class = as_factor(class))\n",
    "#pulsar_data \n",
    "\n",
    "#Class proportions in pulsar dataset (Imbalanced)\n",
    "num_obs <- nrow(unscaled_data)\n",
    "pulsar_proportions <- unscaled_data |>\n",
    "    group_by(class) |>\n",
    "    summarize(n = n()) |>\n",
    "    mutate(percent = 100*n/nrow(unscaled_data))\n",
    "pulsar_proportions\n",
    "\n",
    "set.seed(1)\n",
    "pulsar_split <- initial_split(unscaled_data, prop = 0.75, strata = class)\n",
    "pulsar_train <- training(pulsar_split)\n",
    "pulsar_test <- testing(pulsar_split) \n",
    "\n",
    "#Scale data and Upsample to balance data\n",
    "pulsar_recipe <- recipe(class ~ skew_integrated_profile + skew_dmsnr, data = pulsar_train) |>\n",
    "    step_scale(all_predictors()) |>\n",
    "    step_center(all_predictors()) #|>\n",
    "    step_upsample(class, over_ratio = 1, skip = FALSE) |>\n",
    "  #  prep()\n",
    "\n",
    "#check proportions of upsampled data\n",
    "#pulsar_data <- pulsar_data\n",
    " #   group_by(class) |>\n",
    "  #  summarize(n = n())\n",
    "#pulsar_data\n",
    "\n",
    "knn_spec <- nearest_neighbor(weight_func = \"rectangular\", neighbors = 3) |>\n",
    "       set_engine(\"kknn\") |>\n",
    "       set_mode(\"classification\")\n",
    "\n",
    "pulsar_fit <- workflow() |>\n",
    "       add_recipe(pulsar_recipe) |>\n",
    "       add_model(knn_spec) |>\n",
    "       fit(data = pulsar_train)\n",
    "pulsar_fit\n",
    "\n",
    "\n",
    "pulsar_test_predictions <- predict(pulsar_fit, pulsar_test) |>\n",
    "    bind_cols(pulsar_test)\n",
    "#pulsar_test_predictions\n",
    "\n",
    "pulsar_prediction_accuracy <- pulsar_test_predictions |>\n",
    "    metrics(truth = class, estimate = .pred_class) |>\n",
    "    filter(.metric == \"accuracy\")\n",
    "pulsar_prediction_accuracy\n",
    "\n",
    "confusion <- pulsar_test_predictions |>\n",
    "    conf_mat(truth = class, estimate = .pred_class)\n",
    "confusion"
   ]
  },
  {
   "cell_type": "code",
   "execution_count": 7,
   "id": "15084792-cc40-4be1-a1d4-e1385a0708a2",
   "metadata": {},
   "outputs": [
    {
     "data": {
      "text/html": [
       "<table class=\"dataframe\">\n",
       "<caption>A tibble: 2 × 6</caption>\n",
       "<thead>\n",
       "\t<tr><th scope=col>.metric</th><th scope=col>.estimator</th><th scope=col>mean</th><th scope=col>n</th><th scope=col>std_err</th><th scope=col>.config</th></tr>\n",
       "\t<tr><th scope=col>&lt;chr&gt;</th><th scope=col>&lt;chr&gt;</th><th scope=col>&lt;dbl&gt;</th><th scope=col>&lt;int&gt;</th><th scope=col>&lt;dbl&gt;</th><th scope=col>&lt;chr&gt;</th></tr>\n",
       "</thead>\n",
       "<tbody>\n",
       "\t<tr><td>accuracy</td><td>binary</td><td>0.9699767</td><td>10</td><td>0.0005568752</td><td>Preprocessor1_Model1</td></tr>\n",
       "\t<tr><td>roc_auc </td><td>binary</td><td>0.9061469</td><td>10</td><td>0.0044618624</td><td>Preprocessor1_Model1</td></tr>\n",
       "</tbody>\n",
       "</table>\n"
      ],
      "text/latex": [
       "A tibble: 2 × 6\n",
       "\\begin{tabular}{llllll}\n",
       " .metric & .estimator & mean & n & std\\_err & .config\\\\\n",
       " <chr> & <chr> & <dbl> & <int> & <dbl> & <chr>\\\\\n",
       "\\hline\n",
       "\t accuracy & binary & 0.9699767 & 10 & 0.0005568752 & Preprocessor1\\_Model1\\\\\n",
       "\t roc\\_auc  & binary & 0.9061469 & 10 & 0.0044618624 & Preprocessor1\\_Model1\\\\\n",
       "\\end{tabular}\n"
      ],
      "text/markdown": [
       "\n",
       "A tibble: 2 × 6\n",
       "\n",
       "| .metric &lt;chr&gt; | .estimator &lt;chr&gt; | mean &lt;dbl&gt; | n &lt;int&gt; | std_err &lt;dbl&gt; | .config &lt;chr&gt; |\n",
       "|---|---|---|---|---|---|\n",
       "| accuracy | binary | 0.9699767 | 10 | 0.0005568752 | Preprocessor1_Model1 |\n",
       "| roc_auc  | binary | 0.9061469 | 10 | 0.0044618624 | Preprocessor1_Model1 |\n",
       "\n"
      ],
      "text/plain": [
       "  .metric  .estimator mean      n  std_err      .config             \n",
       "1 accuracy binary     0.9699767 10 0.0005568752 Preprocessor1_Model1\n",
       "2 roc_auc  binary     0.9061469 10 0.0044618624 Preprocessor1_Model1"
      ]
     },
     "metadata": {},
     "output_type": "display_data"
    }
   ],
   "source": [
    "#10 fold cross validation\n",
    "pulsar_vfold <- vfold_cv(pulsar_train, v = 10, strata = class)\n",
    "\n",
    "pulsar_resample_fit <- workflow() |>\n",
    "       add_recipe(pulsar_recipe) |>\n",
    "       add_model(knn_spec) |>\n",
    "       fit_resamples(resamples = pulsar_vfold)\n",
    "\n",
    "pulsar_metrics <- collect_metrics(pulsar_resample_fit)\n",
    "pulsar_metrics"
   ]
  },
  {
   "cell_type": "code",
   "execution_count": null,
   "id": "f3dad9b6-9233-474f-b1cb-eedb8b441f6a",
   "metadata": {},
   "outputs": [],
   "source": [
    "#CAUTION: Takes a long time to load.\n",
    "knn_tune <- nearest_neighbor(weight_func = \"rectangular\", neighbors = tune()) |>\n",
    "            set_engine(\"kknn\") |>\n",
    "            set_mode(\"classification\")\n",
    "#knn_tune\n",
    "\n",
    "k_vals <- tibble(neighbors = seq(from = 1, to = 100, by = 5))\n",
    "\n",
    "knn_results <- workflow() |>\n",
    "               add_recipe(pulsar_recipe) |>\n",
    "               add_model(knn_tune) |>\n",
    "               tune_grid(resamples = pulsar_vfold, grid = k_vals) |>\n",
    "               collect_metrics()\n",
    "#knn_results\n",
    "\n",
    "accuracies <- knn_results |> \n",
    "       filter(.metric == \"accuracy\")\n",
    "\n",
    "accuracy_versus_k <- ggplot(accuracies, aes(x = neighbors, y = mean))+\n",
    "       geom_point() +\n",
    "       geom_line() +\n",
    "       labs(x = \"Neighbors\", y = \"Accuracy Estimate\")  \n",
    "accuracy_versus_k\n"
   ]
  },
  {
   "cell_type": "code",
   "execution_count": null,
   "id": "d0c84d16-95ad-4cde-a4f4-b59acfaff950",
   "metadata": {},
   "outputs": [],
   "source": [
    "#we can have a separate cell for each combination of predictors that we try\n",
    "#pick one K value to use for all the combinations, to avoid having to find the best K each time (which could vary)\n",
    "#we could call the predictor combinations combo1, combo2, etc.\n",
    "#compare their accuracies, choose the most accurate set of predictors"
   ]
  },
  {
   "cell_type": "code",
   "execution_count": null,
   "id": "8f440e0e-71ee-4041-a3cf-600a88b11e23",
   "metadata": {},
   "outputs": [],
   "source": []
  }
 ],
 "metadata": {
  "kernelspec": {
   "display_name": "R",
   "language": "R",
   "name": "ir"
  },
  "language_info": {
   "codemirror_mode": "r",
   "file_extension": ".r",
   "mimetype": "text/x-r-source",
   "name": "R",
   "pygments_lexer": "r",
   "version": "4.1.3"
  }
 },
 "nbformat": 4,
 "nbformat_minor": 5
}
