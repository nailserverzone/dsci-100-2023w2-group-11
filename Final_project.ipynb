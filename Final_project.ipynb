{
 "cells": [
  {
   "cell_type": "code",
   "execution_count": 1,
   "id": "46b48142-65c0-4405-8699-0b24a532eaab",
   "metadata": {},
   "outputs": [
    {
     "name": "stderr",
     "output_type": "stream",
     "text": [
      "Updating HTML index of packages in '.Library'\n",
      "\n",
      "Making 'packages.html' ...\n",
      " done\n",
      "\n"
     ]
    }
   ],
   "source": [
    "#CAUTION: Takes a long time to load.\n",
    "install.packages(\"themis\")"
   ]
  },
  {
   "cell_type": "code",
   "execution_count": 2,
   "id": "18e9f3dc-d38a-4f62-ae68-565b9162ddb6",
   "metadata": {},
   "outputs": [
    {
     "name": "stderr",
     "output_type": "stream",
     "text": [
      "── \u001b[1mAttaching packages\u001b[22m ─────────────────────────────────────── tidyverse 1.3.1 ──\n",
      "\n",
      "\u001b[32m✔\u001b[39m \u001b[34mggplot2\u001b[39m 3.3.6     \u001b[32m✔\u001b[39m \u001b[34mpurrr  \u001b[39m 0.3.4\n",
      "\u001b[32m✔\u001b[39m \u001b[34mtibble \u001b[39m 3.1.7     \u001b[32m✔\u001b[39m \u001b[34mdplyr  \u001b[39m 1.0.9\n",
      "\u001b[32m✔\u001b[39m \u001b[34mtidyr  \u001b[39m 1.2.0     \u001b[32m✔\u001b[39m \u001b[34mstringr\u001b[39m 1.4.0\n",
      "\u001b[32m✔\u001b[39m \u001b[34mreadr  \u001b[39m 2.1.2     \u001b[32m✔\u001b[39m \u001b[34mforcats\u001b[39m 0.5.1\n",
      "\n",
      "── \u001b[1mConflicts\u001b[22m ────────────────────────────────────────── tidyverse_conflicts() ──\n",
      "\u001b[31m✖\u001b[39m \u001b[34mdplyr\u001b[39m::\u001b[32mfilter()\u001b[39m masks \u001b[34mstats\u001b[39m::filter()\n",
      "\u001b[31m✖\u001b[39m \u001b[34mdplyr\u001b[39m::\u001b[32mlag()\u001b[39m    masks \u001b[34mstats\u001b[39m::lag()\n",
      "\n",
      "── \u001b[1mAttaching packages\u001b[22m ────────────────────────────────────── tidymodels 1.0.0 ──\n",
      "\n",
      "\u001b[32m✔\u001b[39m \u001b[34mbroom       \u001b[39m 1.0.0     \u001b[32m✔\u001b[39m \u001b[34mrsample     \u001b[39m 1.0.0\n",
      "\u001b[32m✔\u001b[39m \u001b[34mdials       \u001b[39m 1.0.0     \u001b[32m✔\u001b[39m \u001b[34mtune        \u001b[39m 1.0.0\n",
      "\u001b[32m✔\u001b[39m \u001b[34minfer       \u001b[39m 1.0.2     \u001b[32m✔\u001b[39m \u001b[34mworkflows   \u001b[39m 1.0.0\n",
      "\u001b[32m✔\u001b[39m \u001b[34mmodeldata   \u001b[39m 1.0.0     \u001b[32m✔\u001b[39m \u001b[34mworkflowsets\u001b[39m 1.0.0\n",
      "\u001b[32m✔\u001b[39m \u001b[34mparsnip     \u001b[39m 1.0.0     \u001b[32m✔\u001b[39m \u001b[34myardstick   \u001b[39m 1.0.0\n",
      "\u001b[32m✔\u001b[39m \u001b[34mrecipes     \u001b[39m 1.0.1     \n",
      "\n",
      "── \u001b[1mConflicts\u001b[22m ───────────────────────────────────────── tidymodels_conflicts() ──\n",
      "\u001b[31m✖\u001b[39m \u001b[34mscales\u001b[39m::\u001b[32mdiscard()\u001b[39m masks \u001b[34mpurrr\u001b[39m::discard()\n",
      "\u001b[31m✖\u001b[39m \u001b[34mdplyr\u001b[39m::\u001b[32mfilter()\u001b[39m   masks \u001b[34mstats\u001b[39m::filter()\n",
      "\u001b[31m✖\u001b[39m \u001b[34mrecipes\u001b[39m::\u001b[32mfixed()\u001b[39m  masks \u001b[34mstringr\u001b[39m::fixed()\n",
      "\u001b[31m✖\u001b[39m \u001b[34mdplyr\u001b[39m::\u001b[32mlag()\u001b[39m      masks \u001b[34mstats\u001b[39m::lag()\n",
      "\u001b[31m✖\u001b[39m \u001b[34myardstick\u001b[39m::\u001b[32mspec()\u001b[39m masks \u001b[34mreadr\u001b[39m::spec()\n",
      "\u001b[31m✖\u001b[39m \u001b[34mrecipes\u001b[39m::\u001b[32mstep()\u001b[39m   masks \u001b[34mstats\u001b[39m::step()\n",
      "\u001b[34m•\u001b[39m Dig deeper into tidy modeling with R at \u001b[32mhttps://www.tmwr.org\u001b[39m\n",
      "\n"
     ]
    }
   ],
   "source": [
    "#load libraries\n",
    "library(tidyverse)\n",
    "library(repr)\n",
    "library(tidymodels)\n",
    "library(themis)\n",
    "options(repr.matrix.max.rows = 10)"
   ]
  },
  {
   "cell_type": "code",
   "execution_count": 21,
   "id": "f804ecb4-70e1-4a55-895f-aa14eaa2abbe",
   "metadata": {},
   "outputs": [
    {
     "name": "stderr",
     "output_type": "stream",
     "text": [
      "\u001b[1mRows: \u001b[22m\u001b[34m17898\u001b[39m \u001b[1mColumns: \u001b[22m\u001b[34m9\u001b[39m\n",
      "\u001b[36m──\u001b[39m \u001b[1mColumn specification\u001b[22m \u001b[36m────────────────────────────────────────────────────────\u001b[39m\n",
      "\u001b[1mDelimiter:\u001b[22m \",\"\n",
      "\u001b[32mdbl\u001b[39m (9): mean_integrated_profile, stand_dev_integrated_profile, exc_kurtosis...\n",
      "\n",
      "\u001b[36mℹ\u001b[39m Use `spec()` to retrieve the full column specification for this data.\n",
      "\u001b[36mℹ\u001b[39m Specify the column types or set `show_col_types = FALSE` to quiet this message.\n"
     ]
    },
    {
     "data": {
      "text/html": [
       "<table class=\"dataframe\">\n",
       "<caption>A tibble: 2 × 3</caption>\n",
       "<thead>\n",
       "\t<tr><th scope=col>class</th><th scope=col>n</th><th scope=col>percent</th></tr>\n",
       "\t<tr><th scope=col>&lt;fct&gt;</th><th scope=col>&lt;int&gt;</th><th scope=col>&lt;dbl&gt;</th></tr>\n",
       "</thead>\n",
       "<tbody>\n",
       "\t<tr><td>0</td><td>16259</td><td>90.842552</td></tr>\n",
       "\t<tr><td>1</td><td> 1639</td><td> 9.157448</td></tr>\n",
       "</tbody>\n",
       "</table>\n"
      ],
      "text/latex": [
       "A tibble: 2 × 3\n",
       "\\begin{tabular}{lll}\n",
       " class & n & percent\\\\\n",
       " <fct> & <int> & <dbl>\\\\\n",
       "\\hline\n",
       "\t 0 & 16259 & 90.842552\\\\\n",
       "\t 1 &  1639 &  9.157448\\\\\n",
       "\\end{tabular}\n"
      ],
      "text/markdown": [
       "\n",
       "A tibble: 2 × 3\n",
       "\n",
       "| class &lt;fct&gt; | n &lt;int&gt; | percent &lt;dbl&gt; |\n",
       "|---|---|---|\n",
       "| 0 | 16259 | 90.842552 |\n",
       "| 1 |  1639 |  9.157448 |\n",
       "\n"
      ],
      "text/plain": [
       "  class n     percent  \n",
       "1 0     16259 90.842552\n",
       "2 1      1639  9.157448"
      ]
     },
     "metadata": {},
     "output_type": "display_data"
    },
    {
     "data": {
      "text/html": [
       "<table class=\"dataframe\">\n",
       "<caption>A tibble: 32518 × 3</caption>\n",
       "<thead>\n",
       "\t<tr><th scope=col>skew_integrated_profile</th><th scope=col>skew_dmsnr</th><th scope=col>class</th></tr>\n",
       "\t<tr><th scope=col>&lt;dbl&gt;</th><th scope=col>&lt;dbl&gt;</th><th scope=col>&lt;fct&gt;</th></tr>\n",
       "</thead>\n",
       "<tbody>\n",
       "\t<tr><td>-0.4004478</td><td>-0.2874301</td><td>0</td></tr>\n",
       "\t<tr><td>-0.3705251</td><td> 0.2115755</td><td>0</td></tr>\n",
       "\t<tr><td>-0.1165896</td><td>-0.3913625</td><td>0</td></tr>\n",
       "\t<tr><td>-0.3901672</td><td>-0.4812869</td><td>0</td></tr>\n",
       "\t<tr><td>-0.1048632</td><td> 1.3867553</td><td>0</td></tr>\n",
       "\t<tr><td>⋮</td><td>⋮</td><td>⋮</td></tr>\n",
       "\t<tr><td>-0.1693495</td><td>-1.0001874</td><td>1</td></tr>\n",
       "\t<tr><td> 5.8648507</td><td>-0.9413518</td><td>1</td></tr>\n",
       "\t<tr><td> 0.5249475</td><td>-0.9954120</td><td>1</td></tr>\n",
       "\t<tr><td> 0.7549117</td><td>-0.9275990</td><td>1</td></tr>\n",
       "\t<tr><td>-0.2155222</td><td>-0.7978118</td><td>1</td></tr>\n",
       "</tbody>\n",
       "</table>\n"
      ],
      "text/latex": [
       "A tibble: 32518 × 3\n",
       "\\begin{tabular}{lll}\n",
       " skew\\_integrated\\_profile & skew\\_dmsnr & class\\\\\n",
       " <dbl> & <dbl> & <fct>\\\\\n",
       "\\hline\n",
       "\t -0.4004478 & -0.2874301 & 0\\\\\n",
       "\t -0.3705251 &  0.2115755 & 0\\\\\n",
       "\t -0.1165896 & -0.3913625 & 0\\\\\n",
       "\t -0.3901672 & -0.4812869 & 0\\\\\n",
       "\t -0.1048632 &  1.3867553 & 0\\\\\n",
       "\t ⋮ & ⋮ & ⋮\\\\\n",
       "\t -0.1693495 & -1.0001874 & 1\\\\\n",
       "\t  5.8648507 & -0.9413518 & 1\\\\\n",
       "\t  0.5249475 & -0.9954120 & 1\\\\\n",
       "\t  0.7549117 & -0.9275990 & 1\\\\\n",
       "\t -0.2155222 & -0.7978118 & 1\\\\\n",
       "\\end{tabular}\n"
      ],
      "text/markdown": [
       "\n",
       "A tibble: 32518 × 3\n",
       "\n",
       "| skew_integrated_profile &lt;dbl&gt; | skew_dmsnr &lt;dbl&gt; | class &lt;fct&gt; |\n",
       "|---|---|---|\n",
       "| -0.4004478 | -0.2874301 | 0 |\n",
       "| -0.3705251 |  0.2115755 | 0 |\n",
       "| -0.1165896 | -0.3913625 | 0 |\n",
       "| -0.3901672 | -0.4812869 | 0 |\n",
       "| -0.1048632 |  1.3867553 | 0 |\n",
       "| ⋮ | ⋮ | ⋮ |\n",
       "| -0.1693495 | -1.0001874 | 1 |\n",
       "|  5.8648507 | -0.9413518 | 1 |\n",
       "|  0.5249475 | -0.9954120 | 1 |\n",
       "|  0.7549117 | -0.9275990 | 1 |\n",
       "| -0.2155222 | -0.7978118 | 1 |\n",
       "\n"
      ],
      "text/plain": [
       "      skew_integrated_profile skew_dmsnr class\n",
       "1     -0.4004478              -0.2874301 0    \n",
       "2     -0.3705251               0.2115755 0    \n",
       "3     -0.1165896              -0.3913625 0    \n",
       "4     -0.3901672              -0.4812869 0    \n",
       "5     -0.1048632               1.3867553 0    \n",
       "⋮     ⋮                       ⋮          ⋮    \n",
       "32514 -0.1693495              -1.0001874 1    \n",
       "32515  5.8648507              -0.9413518 1    \n",
       "32516  0.5249475              -0.9954120 1    \n",
       "32517  0.7549117              -0.9275990 1    \n",
       "32518 -0.2155222              -0.7978118 1    "
      ]
     },
     "metadata": {},
     "output_type": "display_data"
    },
    {
     "data": {
      "text/html": [
       "<table class=\"dataframe\">\n",
       "<caption>A tibble: 2 × 3</caption>\n",
       "<thead>\n",
       "\t<tr><th scope=col>class</th><th scope=col>n</th><th scope=col>percent</th></tr>\n",
       "\t<tr><th scope=col>&lt;fct&gt;</th><th scope=col>&lt;int&gt;</th><th scope=col>&lt;dbl&gt;</th></tr>\n",
       "</thead>\n",
       "<tbody>\n",
       "\t<tr><td>0</td><td>16259</td><td>50</td></tr>\n",
       "\t<tr><td>1</td><td>16259</td><td>50</td></tr>\n",
       "</tbody>\n",
       "</table>\n"
      ],
      "text/latex": [
       "A tibble: 2 × 3\n",
       "\\begin{tabular}{lll}\n",
       " class & n & percent\\\\\n",
       " <fct> & <int> & <dbl>\\\\\n",
       "\\hline\n",
       "\t 0 & 16259 & 50\\\\\n",
       "\t 1 & 16259 & 50\\\\\n",
       "\\end{tabular}\n"
      ],
      "text/markdown": [
       "\n",
       "A tibble: 2 × 3\n",
       "\n",
       "| class &lt;fct&gt; | n &lt;int&gt; | percent &lt;dbl&gt; |\n",
       "|---|---|---|\n",
       "| 0 | 16259 | 50 |\n",
       "| 1 | 16259 | 50 |\n",
       "\n"
      ],
      "text/plain": [
       "  class n     percent\n",
       "1 0     16259 50     \n",
       "2 1     16259 50     "
      ]
     },
     "metadata": {},
     "output_type": "display_data"
    },
    {
     "data": {
      "text/html": [
       "<table class=\"dataframe\">\n",
       "<caption>A tibble: 32518 × 3</caption>\n",
       "<thead>\n",
       "\t<tr><th scope=col>skew_integrated_profile</th><th scope=col>skew_dmsnr</th><th scope=col>class</th></tr>\n",
       "\t<tr><th scope=col>&lt;dbl&gt;</th><th scope=col>&lt;dbl&gt;</th><th scope=col>&lt;fct&gt;</th></tr>\n",
       "</thead>\n",
       "<tbody>\n",
       "\t<tr><td>-0.4004478</td><td>-0.2874301</td><td>0</td></tr>\n",
       "\t<tr><td>-0.3705251</td><td> 0.2115755</td><td>0</td></tr>\n",
       "\t<tr><td>-0.1165896</td><td>-0.3913625</td><td>0</td></tr>\n",
       "\t<tr><td>-0.3901672</td><td>-0.4812869</td><td>0</td></tr>\n",
       "\t<tr><td>-0.1048632</td><td> 1.3867553</td><td>0</td></tr>\n",
       "\t<tr><td>⋮</td><td>⋮</td><td>⋮</td></tr>\n",
       "\t<tr><td>-0.1693495</td><td>-1.0001874</td><td>1</td></tr>\n",
       "\t<tr><td> 5.8648507</td><td>-0.9413518</td><td>1</td></tr>\n",
       "\t<tr><td> 0.5249475</td><td>-0.9954120</td><td>1</td></tr>\n",
       "\t<tr><td> 0.7549117</td><td>-0.9275990</td><td>1</td></tr>\n",
       "\t<tr><td>-0.2155222</td><td>-0.7978118</td><td>1</td></tr>\n",
       "</tbody>\n",
       "</table>\n"
      ],
      "text/latex": [
       "A tibble: 32518 × 3\n",
       "\\begin{tabular}{lll}\n",
       " skew\\_integrated\\_profile & skew\\_dmsnr & class\\\\\n",
       " <dbl> & <dbl> & <fct>\\\\\n",
       "\\hline\n",
       "\t -0.4004478 & -0.2874301 & 0\\\\\n",
       "\t -0.3705251 &  0.2115755 & 0\\\\\n",
       "\t -0.1165896 & -0.3913625 & 0\\\\\n",
       "\t -0.3901672 & -0.4812869 & 0\\\\\n",
       "\t -0.1048632 &  1.3867553 & 0\\\\\n",
       "\t ⋮ & ⋮ & ⋮\\\\\n",
       "\t -0.1693495 & -1.0001874 & 1\\\\\n",
       "\t  5.8648507 & -0.9413518 & 1\\\\\n",
       "\t  0.5249475 & -0.9954120 & 1\\\\\n",
       "\t  0.7549117 & -0.9275990 & 1\\\\\n",
       "\t -0.2155222 & -0.7978118 & 1\\\\\n",
       "\\end{tabular}\n"
      ],
      "text/markdown": [
       "\n",
       "A tibble: 32518 × 3\n",
       "\n",
       "| skew_integrated_profile &lt;dbl&gt; | skew_dmsnr &lt;dbl&gt; | class &lt;fct&gt; |\n",
       "|---|---|---|\n",
       "| -0.4004478 | -0.2874301 | 0 |\n",
       "| -0.3705251 |  0.2115755 | 0 |\n",
       "| -0.1165896 | -0.3913625 | 0 |\n",
       "| -0.3901672 | -0.4812869 | 0 |\n",
       "| -0.1048632 |  1.3867553 | 0 |\n",
       "| ⋮ | ⋮ | ⋮ |\n",
       "| -0.1693495 | -1.0001874 | 1 |\n",
       "|  5.8648507 | -0.9413518 | 1 |\n",
       "|  0.5249475 | -0.9954120 | 1 |\n",
       "|  0.7549117 | -0.9275990 | 1 |\n",
       "| -0.2155222 | -0.7978118 | 1 |\n",
       "\n"
      ],
      "text/plain": [
       "      skew_integrated_profile skew_dmsnr class\n",
       "1     -0.4004478              -0.2874301 0    \n",
       "2     -0.3705251               0.2115755 0    \n",
       "3     -0.1165896              -0.3913625 0    \n",
       "4     -0.3901672              -0.4812869 0    \n",
       "5     -0.1048632               1.3867553 0    \n",
       "⋮     ⋮                       ⋮          ⋮    \n",
       "32514 -0.1693495              -1.0001874 1    \n",
       "32515  5.8648507              -0.9413518 1    \n",
       "32516  0.5249475              -0.9954120 1    \n",
       "32517  0.7549117              -0.9275990 1    \n",
       "32518 -0.2155222              -0.7978118 1    "
      ]
     },
     "metadata": {},
     "output_type": "display_data"
    }
   ],
   "source": [
    "#Add columns\n",
    "unscaled_data <- read_csv(\"pulsar_data.csv\", \n",
    "                        col_names = c(\"mean_integrated_profile\", \n",
    "                                      \"stand_dev_integrated_profile\", \n",
    "                                      \"exc_kurtosis_integrated_profile\", \n",
    "                                      \"skew_integrated_profile\",\n",
    "                                      \"mean_dmsnr\", \n",
    "                                      \"stand_dev_dmsnr\", \n",
    "                                      \"exc_kurtosis_dmsnr\", \n",
    "                                      \"skew_dmsnr\", \"class\")) \n",
    "\n",
    "unscaled_data <- unscaled_data |>\n",
    "    mutate(class = as_factor(class))\n",
    "#unscaled_data \n",
    "\n",
    "#Class proportions in pulsar dataset (Imbalanced)\n",
    "num_obs <- nrow(unscaled_data)\n",
    "pulsar_proportions <- unscaled_data |>\n",
    "    group_by(class) |>\n",
    "    summarize(n = n()) |>\n",
    "    mutate(percent = 100*n/nrow(unscaled_data))\n",
    "pulsar_proportions\n",
    "\n",
    "#Scale data and Upsample to balance data\n",
    "pulsar_recipe <- recipe(class ~ skew_integrated_profile + skew_dmsnr, data = unscaled_data) |>\n",
    "    step_scale(all_predictors()) |>\n",
    "    step_center(all_predictors()) |>\n",
    "    step_upsample(class, over_ratio = 1, skip = FALSE) |>\n",
    "    prep()\n",
    "\n",
    "standardized_pulsar <- bake(pulsar_recipe, unscaled_data)\n",
    "standardized_pulsar\n",
    "\n",
    "#check proportions of upsampled data\n",
    "new_pulsar_proportions <- standardized_pulsar |>\n",
    "    group_by(class) |>\n",
    "    summarize(n = n()) |>\n",
    "    mutate(percent = 100*n/nrow(standardized_pulsar))\n",
    "new_pulsar_proportions"
   ]
  },
  {
   "cell_type": "code",
   "execution_count": 22,
   "id": "c18e7624-7e36-4f57-b9c5-0d0823d722f5",
   "metadata": {},
   "outputs": [
    {
     "data": {
      "text/plain": [
       "══ Workflow [trained] ══════════════════════════════════════════════════════════\n",
       "\u001b[3mPreprocessor:\u001b[23m Recipe\n",
       "\u001b[3mModel:\u001b[23m nearest_neighbor()\n",
       "\n",
       "── Preprocessor ────────────────────────────────────────────────────────────────\n",
       "0 Recipe Steps\n",
       "\n",
       "── Model ───────────────────────────────────────────────────────────────────────\n",
       "\n",
       "Call:\n",
       "kknn::train.kknn(formula = ..y ~ ., data = data, ks = min_rows(3,     data, 5), kernel = ~\"rectangular\")\n",
       "\n",
       "Type of response variable: nominal\n",
       "Minimal misclassification: 0.0271445\n",
       "Best kernel: rectangular\n",
       "Best k: 3"
      ]
     },
     "metadata": {},
     "output_type": "display_data"
    },
    {
     "data": {
      "text/html": [
       "<table class=\"dataframe\">\n",
       "<caption>A tibble: 8130 × 4</caption>\n",
       "<thead>\n",
       "\t<tr><th scope=col>.pred_class</th><th scope=col>skew_integrated_profile</th><th scope=col>skew_dmsnr</th><th scope=col>class</th></tr>\n",
       "\t<tr><th scope=col>&lt;fct&gt;</th><th scope=col>&lt;dbl&gt;</th><th scope=col>&lt;dbl&gt;</th><th scope=col>&lt;fct&gt;</th></tr>\n",
       "</thead>\n",
       "<tbody>\n",
       "\t<tr><td>0</td><td>-0.4004478</td><td>-0.2874301</td><td>0</td></tr>\n",
       "\t<tr><td>0</td><td>-0.3705251</td><td> 0.2115755</td><td>0</td></tr>\n",
       "\t<tr><td>0</td><td>-0.2409772</td><td>-0.6292692</td><td>0</td></tr>\n",
       "\t<tr><td>0</td><td>-0.2683108</td><td> 0.8513931</td><td>0</td></tr>\n",
       "\t<tr><td>0</td><td>-0.3286328</td><td> 1.1132819</td><td>0</td></tr>\n",
       "\t<tr><td>⋮</td><td>⋮</td><td>⋮</td><td>⋮</td></tr>\n",
       "\t<tr><td>1</td><td> 0.3127610</td><td>-0.9926231</td><td>1</td></tr>\n",
       "\t<tr><td>1</td><td> 1.3631719</td><td>-0.9950951</td><td>1</td></tr>\n",
       "\t<tr><td>1</td><td>-0.1693495</td><td>-1.0001874</td><td>1</td></tr>\n",
       "\t<tr><td>1</td><td> 5.8648507</td><td>-0.9413518</td><td>1</td></tr>\n",
       "\t<tr><td>1</td><td>-0.2155222</td><td>-0.7978118</td><td>1</td></tr>\n",
       "</tbody>\n",
       "</table>\n"
      ],
      "text/latex": [
       "A tibble: 8130 × 4\n",
       "\\begin{tabular}{llll}\n",
       " .pred\\_class & skew\\_integrated\\_profile & skew\\_dmsnr & class\\\\\n",
       " <fct> & <dbl> & <dbl> & <fct>\\\\\n",
       "\\hline\n",
       "\t 0 & -0.4004478 & -0.2874301 & 0\\\\\n",
       "\t 0 & -0.3705251 &  0.2115755 & 0\\\\\n",
       "\t 0 & -0.2409772 & -0.6292692 & 0\\\\\n",
       "\t 0 & -0.2683108 &  0.8513931 & 0\\\\\n",
       "\t 0 & -0.3286328 &  1.1132819 & 0\\\\\n",
       "\t ⋮ & ⋮ & ⋮ & ⋮\\\\\n",
       "\t 1 &  0.3127610 & -0.9926231 & 1\\\\\n",
       "\t 1 &  1.3631719 & -0.9950951 & 1\\\\\n",
       "\t 1 & -0.1693495 & -1.0001874 & 1\\\\\n",
       "\t 1 &  5.8648507 & -0.9413518 & 1\\\\\n",
       "\t 1 & -0.2155222 & -0.7978118 & 1\\\\\n",
       "\\end{tabular}\n"
      ],
      "text/markdown": [
       "\n",
       "A tibble: 8130 × 4\n",
       "\n",
       "| .pred_class &lt;fct&gt; | skew_integrated_profile &lt;dbl&gt; | skew_dmsnr &lt;dbl&gt; | class &lt;fct&gt; |\n",
       "|---|---|---|---|\n",
       "| 0 | -0.4004478 | -0.2874301 | 0 |\n",
       "| 0 | -0.3705251 |  0.2115755 | 0 |\n",
       "| 0 | -0.2409772 | -0.6292692 | 0 |\n",
       "| 0 | -0.2683108 |  0.8513931 | 0 |\n",
       "| 0 | -0.3286328 |  1.1132819 | 0 |\n",
       "| ⋮ | ⋮ | ⋮ | ⋮ |\n",
       "| 1 |  0.3127610 | -0.9926231 | 1 |\n",
       "| 1 |  1.3631719 | -0.9950951 | 1 |\n",
       "| 1 | -0.1693495 | -1.0001874 | 1 |\n",
       "| 1 |  5.8648507 | -0.9413518 | 1 |\n",
       "| 1 | -0.2155222 | -0.7978118 | 1 |\n",
       "\n"
      ],
      "text/plain": [
       "     .pred_class skew_integrated_profile skew_dmsnr class\n",
       "1    0           -0.4004478              -0.2874301 0    \n",
       "2    0           -0.3705251               0.2115755 0    \n",
       "3    0           -0.2409772              -0.6292692 0    \n",
       "4    0           -0.2683108               0.8513931 0    \n",
       "5    0           -0.3286328               1.1132819 0    \n",
       "⋮    ⋮           ⋮                       ⋮          ⋮    \n",
       "8126 1            0.3127610              -0.9926231 1    \n",
       "8127 1            1.3631719              -0.9950951 1    \n",
       "8128 1           -0.1693495              -1.0001874 1    \n",
       "8129 1            5.8648507              -0.9413518 1    \n",
       "8130 1           -0.2155222              -0.7978118 1    "
      ]
     },
     "metadata": {},
     "output_type": "display_data"
    },
    {
     "data": {
      "text/html": [
       "<table class=\"dataframe\">\n",
       "<caption>A tibble: 1 × 3</caption>\n",
       "<thead>\n",
       "\t<tr><th scope=col>.metric</th><th scope=col>.estimator</th><th scope=col>.estimate</th></tr>\n",
       "\t<tr><th scope=col>&lt;chr&gt;</th><th scope=col>&lt;chr&gt;</th><th scope=col>&lt;dbl&gt;</th></tr>\n",
       "</thead>\n",
       "<tbody>\n",
       "\t<tr><td>accuracy</td><td>binary</td><td>0.9687577</td></tr>\n",
       "</tbody>\n",
       "</table>\n"
      ],
      "text/latex": [
       "A tibble: 1 × 3\n",
       "\\begin{tabular}{lll}\n",
       " .metric & .estimator & .estimate\\\\\n",
       " <chr> & <chr> & <dbl>\\\\\n",
       "\\hline\n",
       "\t accuracy & binary & 0.9687577\\\\\n",
       "\\end{tabular}\n"
      ],
      "text/markdown": [
       "\n",
       "A tibble: 1 × 3\n",
       "\n",
       "| .metric &lt;chr&gt; | .estimator &lt;chr&gt; | .estimate &lt;dbl&gt; |\n",
       "|---|---|---|\n",
       "| accuracy | binary | 0.9687577 |\n",
       "\n"
      ],
      "text/plain": [
       "  .metric  .estimator .estimate\n",
       "1 accuracy binary     0.9687577"
      ]
     },
     "metadata": {},
     "output_type": "display_data"
    },
    {
     "data": {
      "text/plain": [
       "          Truth\n",
       "Prediction    0    1\n",
       "         0 3811    0\n",
       "         1  254 4065"
      ]
     },
     "metadata": {},
     "output_type": "display_data"
    }
   ],
   "source": [
    "set.seed(1)\n",
    "pulsar_split <- initial_split(standardized_pulsar, prop = 0.75, strata = class)\n",
    "pulsar_train <- training(pulsar_split)\n",
    "pulsar_test <- testing(pulsar_split) \n",
    "\n",
    "pulsar_recipe <- recipe(class ~ skew_integrated_profile + skew_dmsnr, data = standardized_pulsar)\n",
    "\n",
    "knn_spec <- nearest_neighbor(weight_func = \"rectangular\", neighbors = 3) |>\n",
    "    set_engine(\"kknn\") |>\n",
    "    set_mode(\"classification\")\n",
    "\n",
    "pulsar_fit <- workflow() |>\n",
    "    add_recipe(pulsar_recipe) |>\n",
    "    add_model(knn_spec) |>\n",
    "    fit(data = pulsar_train)\n",
    "pulsar_fit\n",
    "\n",
    "pulsar_test_predictions <- predict(pulsar_fit, pulsar_test) |>\n",
    "    bind_cols(pulsar_test)\n",
    "pulsar_test_predictions\n",
    "\n",
    "pulsar_prediction_accuracy <- pulsar_test_predictions |>\n",
    "    metrics(truth = class, estimate = .pred_class) |>\n",
    "    filter(.metric == \"accuracy\")\n",
    "pulsar_prediction_accuracy\n",
    "\n",
    "confusion <- pulsar_test_predictions |>\n",
    "    conf_mat(truth = class, estimate = .pred_class)\n",
    "confusion"
   ]
  },
  {
   "cell_type": "code",
   "execution_count": 23,
   "id": "15084792-cc40-4be1-a1d4-e1385a0708a2",
   "metadata": {},
   "outputs": [
    {
     "data": {
      "text/html": [
       "<table class=\"dataframe\">\n",
       "<caption>A tibble: 2 × 6</caption>\n",
       "<thead>\n",
       "\t<tr><th scope=col>.metric</th><th scope=col>.estimator</th><th scope=col>mean</th><th scope=col>n</th><th scope=col>std_err</th><th scope=col>.config</th></tr>\n",
       "\t<tr><th scope=col>&lt;chr&gt;</th><th scope=col>&lt;chr&gt;</th><th scope=col>&lt;dbl&gt;</th><th scope=col>&lt;int&gt;</th><th scope=col>&lt;dbl&gt;</th><th scope=col>&lt;chr&gt;</th></tr>\n",
       "</thead>\n",
       "<tbody>\n",
       "\t<tr><td>accuracy</td><td>binary</td><td>0.9710508</td><td>10</td><td>0.001107097</td><td>Preprocessor1_Model1</td></tr>\n",
       "\t<tr><td>roc_auc </td><td>binary</td><td>0.9841526</td><td>10</td><td>0.001011940</td><td>Preprocessor1_Model1</td></tr>\n",
       "</tbody>\n",
       "</table>\n"
      ],
      "text/latex": [
       "A tibble: 2 × 6\n",
       "\\begin{tabular}{llllll}\n",
       " .metric & .estimator & mean & n & std\\_err & .config\\\\\n",
       " <chr> & <chr> & <dbl> & <int> & <dbl> & <chr>\\\\\n",
       "\\hline\n",
       "\t accuracy & binary & 0.9710508 & 10 & 0.001107097 & Preprocessor1\\_Model1\\\\\n",
       "\t roc\\_auc  & binary & 0.9841526 & 10 & 0.001011940 & Preprocessor1\\_Model1\\\\\n",
       "\\end{tabular}\n"
      ],
      "text/markdown": [
       "\n",
       "A tibble: 2 × 6\n",
       "\n",
       "| .metric &lt;chr&gt; | .estimator &lt;chr&gt; | mean &lt;dbl&gt; | n &lt;int&gt; | std_err &lt;dbl&gt; | .config &lt;chr&gt; |\n",
       "|---|---|---|---|---|---|\n",
       "| accuracy | binary | 0.9710508 | 10 | 0.001107097 | Preprocessor1_Model1 |\n",
       "| roc_auc  | binary | 0.9841526 | 10 | 0.001011940 | Preprocessor1_Model1 |\n",
       "\n"
      ],
      "text/plain": [
       "  .metric  .estimator mean      n  std_err     .config             \n",
       "1 accuracy binary     0.9710508 10 0.001107097 Preprocessor1_Model1\n",
       "2 roc_auc  binary     0.9841526 10 0.001011940 Preprocessor1_Model1"
      ]
     },
     "metadata": {},
     "output_type": "display_data"
    }
   ],
   "source": [
    "#10 fold cross validation\n",
    "pulsar_vfold <- vfold_cv(pulsar_train, v = 10, strata = class)\n",
    "\n",
    "pulsar_resample_fit <- workflow() |>\n",
    "       add_recipe(pulsar_recipe) |>\n",
    "       add_model(knn_spec) |>\n",
    "       fit_resamples(resamples = pulsar_vfold)\n",
    "\n",
    "pulsar_metrics <- collect_metrics(pulsar_resample_fit)\n",
    "pulsar_metrics"
   ]
  },
  {
   "cell_type": "code",
   "execution_count": 5,
   "id": "f3dad9b6-9233-474f-b1cb-eedb8b441f6a",
   "metadata": {},
   "outputs": [
    {
     "data": {
      "image/png": "[encoded data removed]",
      "text/plain": [
       "plot without title"
      ]
     },
     "metadata": {
      "image/png": {
       "height": 420,
       "width": 420
      }
     },
     "output_type": "display_data"
    }
   ],
   "source": [
    "#CAUTION: Takes a long time to load.\n",
    "knn_tune <- nearest_neighbor(weight_func = \"rectangular\", neighbors = tune()) |>\n",
    "            set_engine(\"kknn\") |>\n",
    "            set_mode(\"classification\")\n",
    "#knn_tune\n",
    "\n",
    "k_vals <- tibble(neighbors = seq(from = 1, to = 100, by = 5))\n",
    "\n",
    "knn_results <- workflow() |>\n",
    "               add_recipe(pulsar_recipe) |>\n",
    "               add_model(knn_tune) |>\n",
    "               tune_grid(resamples = pulsar_vfold, grid = k_vals) |>\n",
    "               collect_metrics()\n",
    "#knn_results\n",
    "\n",
    "accuracies <- knn_results |> \n",
    "       filter(.metric == \"accuracy\")\n",
    "\n",
    "accuracy_versus_k <- ggplot(accuracies, aes(x = neighbors, y = mean))+\n",
    "       geom_point() +\n",
    "       geom_line() +\n",
    "       labs(x = \"Neighbors\", y = \"Accuracy Estimate\")  \n",
    "accuracy_versus_k\n"
   ]
  },
  {
   "cell_type": "code",
   "execution_count": 6,
   "id": "d0c84d16-95ad-4cde-a4f4-b59acfaff950",
   "metadata": {},
   "outputs": [],
   "source": [
    "#we can have a separate cell for each combination of predictors that we try\n",
    "#pick one K value to use for all the combinations, to avoid having to find the best K each time (which could vary)\n",
    "#we could call the predictor combinations combo1, combo2, etc.\n",
    "#compare their accuracies, choose the most accurate set of predictors\n",
    "#Read Chapter 6.8 on selecting good predictors."
   ]
  },
  {
   "cell_type": "code",
   "execution_count": null,
   "id": "8f440e0e-71ee-4041-a3cf-600a88b11e23",
   "metadata": {},
   "outputs": [],
   "source": []
  }
 ],
 "metadata": {
  "kernelspec": {
   "display_name": "R",
   "language": "R",
   "name": "ir"
  },
  "language_info": {
   "codemirror_mode": "r",
   "file_extension": ".r",
   "mimetype": "text/x-r-source",
   "name": "R",
   "pygments_lexer": "r",
   "version": "4.1.3"
  }
 },
 "nbformat": 4,
 "nbformat_minor": 5
}
