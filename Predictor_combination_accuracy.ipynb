{
 "cells": [
  {
   "cell_type": "code",
   "execution_count": 1,
   "id": "46b48142-65c0-4405-8699-0b24a532eaab",
   "metadata": {},
   "outputs": [
    {
     "name": "stderr",
     "output_type": "stream",
     "text": [
      "Updating HTML index of packages in '.Library'\n",
      "\n",
      "Making 'packages.html' ...\n",
      " done\n",
      "\n",
      "Skipping install of 'tune' from a github remote, the SHA1 (597ddf7a) has not changed since last install.\n",
      "  Use `force = TRUE` to force installation\n",
      "\n"
     ]
    }
   ],
   "source": [
    "#CAUTION: Takes a long time to load.\n",
    "install.packages(\"themis\")\n",
    "devtools::install_github(\"tidymodels/tune\")"
   ]
  },
  {
   "cell_type": "code",
   "execution_count": 2,
   "id": "18e9f3dc-d38a-4f62-ae68-565b9162ddb6",
   "metadata": {},
   "outputs": [
    {
     "name": "stderr",
     "output_type": "stream",
     "text": [
      "── \u001b[1mAttaching packages\u001b[22m ─────────────────────────────────────── tidyverse 1.3.1 ──\n",
      "\n",
      "\u001b[32m✔\u001b[39m \u001b[34mggplot2\u001b[39m 3.4.2     \u001b[32m✔\u001b[39m \u001b[34mpurrr  \u001b[39m 1.0.1\n",
      "\u001b[32m✔\u001b[39m \u001b[34mtibble \u001b[39m 3.2.1     \u001b[32m✔\u001b[39m \u001b[34mdplyr  \u001b[39m 1.1.1\n",
      "\u001b[32m✔\u001b[39m \u001b[34mtidyr  \u001b[39m 1.3.0     \u001b[32m✔\u001b[39m \u001b[34mstringr\u001b[39m 1.5.0\n",
      "\u001b[32m✔\u001b[39m \u001b[34mreadr  \u001b[39m 2.1.2     \u001b[32m✔\u001b[39m \u001b[34mforcats\u001b[39m 0.5.1\n",
      "\n",
      "── \u001b[1mConflicts\u001b[22m ────────────────────────────────────────── tidyverse_conflicts() ──\n",
      "\u001b[31m✖\u001b[39m \u001b[34mdplyr\u001b[39m::\u001b[32mfilter()\u001b[39m masks \u001b[34mstats\u001b[39m::filter()\n",
      "\u001b[31m✖\u001b[39m \u001b[34mdplyr\u001b[39m::\u001b[32mlag()\u001b[39m    masks \u001b[34mstats\u001b[39m::lag()\n",
      "\n",
      "── \u001b[1mAttaching packages\u001b[22m ────────────────────────────────────── tidymodels 1.0.0 ──\n",
      "\n",
      "\u001b[32m✔\u001b[39m \u001b[34mbroom       \u001b[39m 1.0.0          \u001b[32m✔\u001b[39m \u001b[34mrsample     \u001b[39m 1.1.1     \n",
      "\u001b[32m✔\u001b[39m \u001b[34mdials       \u001b[39m 1.2.0          \u001b[32m✔\u001b[39m \u001b[34mtune        \u001b[39m 1.1.1.\u001b[31m9000\u001b[39m\n",
      "\u001b[32m✔\u001b[39m \u001b[34minfer       \u001b[39m 1.0.2          \u001b[32m✔\u001b[39m \u001b[34mworkflows   \u001b[39m 1.1.3     \n",
      "\u001b[32m✔\u001b[39m \u001b[34mmodeldata   \u001b[39m 1.0.0          \u001b[32m✔\u001b[39m \u001b[34mworkflowsets\u001b[39m 1.0.0     \n",
      "\u001b[32m✔\u001b[39m \u001b[34mparsnip     \u001b[39m 1.1.0          \u001b[32m✔\u001b[39m \u001b[34myardstick   \u001b[39m 1.1.0     \n",
      "\u001b[32m✔\u001b[39m \u001b[34mrecipes     \u001b[39m 1.0.5          \n",
      "\n",
      "── \u001b[1mConflicts\u001b[22m ───────────────────────────────────────── tidymodels_conflicts() ──\n",
      "\u001b[31m✖\u001b[39m \u001b[34mscales\u001b[39m::\u001b[32mdiscard()\u001b[39m masks \u001b[34mpurrr\u001b[39m::discard()\n",
      "\u001b[31m✖\u001b[39m \u001b[34mdplyr\u001b[39m::\u001b[32mfilter()\u001b[39m   masks \u001b[34mstats\u001b[39m::filter()\n",
      "\u001b[31m✖\u001b[39m \u001b[34mrecipes\u001b[39m::\u001b[32mfixed()\u001b[39m  masks \u001b[34mstringr\u001b[39m::fixed()\n",
      "\u001b[31m✖\u001b[39m \u001b[34mdplyr\u001b[39m::\u001b[32mlag()\u001b[39m      masks \u001b[34mstats\u001b[39m::lag()\n",
      "\u001b[31m✖\u001b[39m \u001b[34myardstick\u001b[39m::\u001b[32mspec()\u001b[39m masks \u001b[34mreadr\u001b[39m::spec()\n",
      "\u001b[31m✖\u001b[39m \u001b[34mrecipes\u001b[39m::\u001b[32mstep()\u001b[39m   masks \u001b[34mstats\u001b[39m::step()\n",
      "\u001b[34m•\u001b[39m Use suppressPackageStartupMessages() to eliminate package startup messages\n",
      "\n"
     ]
    }
   ],
   "source": [
    "#load libraries\n",
    "library(tidyverse)\n",
    "library(repr)\n",
    "library(tidymodels)\n",
    "library(themis)\n",
    "options(repr.matrix.max.rows = 10)"
   ]
  },
  {
   "cell_type": "code",
   "execution_count": 3,
   "id": "f804ecb4-70e1-4a55-895f-aa14eaa2abbe",
   "metadata": {},
   "outputs": [
    {
     "name": "stderr",
     "output_type": "stream",
     "text": [
      "\u001b[1mRows: \u001b[22m\u001b[34m17898\u001b[39m \u001b[1mColumns: \u001b[22m\u001b[34m9\u001b[39m\n",
      "\u001b[36m──\u001b[39m \u001b[1mColumn specification\u001b[22m \u001b[36m────────────────────────────────────────────────────────\u001b[39m\n",
      "\u001b[1mDelimiter:\u001b[22m \",\"\n",
      "\u001b[32mdbl\u001b[39m (9): mean_integrated_profile, stand_dev_integrated_profile, exc_kurtosis...\n",
      "\n",
      "\u001b[36mℹ\u001b[39m Use `spec()` to retrieve the full column specification for this data.\n",
      "\u001b[36mℹ\u001b[39m Specify the column types or set `show_col_types = FALSE` to quiet this message.\n"
     ]
    },
    {
     "data": {
      "text/html": [
       "<table class=\"dataframe\">\n",
       "<caption>A tibble: 2 × 3</caption>\n",
       "<thead>\n",
       "\t<tr><th scope=col>class</th><th scope=col>n</th><th scope=col>percent</th></tr>\n",
       "\t<tr><th scope=col>&lt;fct&gt;</th><th scope=col>&lt;int&gt;</th><th scope=col>&lt;dbl&gt;</th></tr>\n",
       "</thead>\n",
       "<tbody>\n",
       "\t<tr><td>0</td><td>16259</td><td>90.842552</td></tr>\n",
       "\t<tr><td>1</td><td> 1639</td><td> 9.157448</td></tr>\n",
       "</tbody>\n",
       "</table>\n"
      ],
      "text/latex": [
       "A tibble: 2 × 3\n",
       "\\begin{tabular}{lll}\n",
       " class & n & percent\\\\\n",
       " <fct> & <int> & <dbl>\\\\\n",
       "\\hline\n",
       "\t 0 & 16259 & 90.842552\\\\\n",
       "\t 1 &  1639 &  9.157448\\\\\n",
       "\\end{tabular}\n"
      ],
      "text/markdown": [
       "\n",
       "A tibble: 2 × 3\n",
       "\n",
       "| class &lt;fct&gt; | n &lt;int&gt; | percent &lt;dbl&gt; |\n",
       "|---|---|---|\n",
       "| 0 | 16259 | 90.842552 |\n",
       "| 1 |  1639 |  9.157448 |\n",
       "\n"
      ],
      "text/plain": [
       "  class n     percent  \n",
       "1 0     16259 90.842552\n",
       "2 1      1639  9.157448"
      ]
     },
     "metadata": {},
     "output_type": "display_data"
    },
    {
     "data": {
      "text/html": [
       "<table class=\"dataframe\">\n",
       "<caption>A tibble: 32518 × 9</caption>\n",
       "<thead>\n",
       "\t<tr><th scope=col>mean_integrated_profile</th><th scope=col>stand_dev_integrated_profile</th><th scope=col>exc_kurtosis_integrated_profile</th><th scope=col>skew_integrated_profile</th><th scope=col>mean_dmsnr</th><th scope=col>stand_dev_dmsnr</th><th scope=col>exc_kurtosis_dmsnr</th><th scope=col>skew_dmsnr</th><th scope=col>class</th></tr>\n",
       "\t<tr><th scope=col>&lt;dbl&gt;</th><th scope=col>&lt;dbl&gt;</th><th scope=col>&lt;dbl&gt;</th><th scope=col>&lt;dbl&gt;</th><th scope=col>&lt;dbl&gt;</th><th scope=col>&lt;dbl&gt;</th><th scope=col>&lt;dbl&gt;</th><th scope=col>&lt;dbl&gt;</th><th scope=col>&lt;fct&gt;</th></tr>\n",
       "</thead>\n",
       "<tbody>\n",
       "\t<tr><td> 1.1492849</td><td> 1.3347944</td><td>-0.66955083</td><td>-0.4004478</td><td>-0.3194313</td><td>-0.3706151</td><td>-0.07279575</td><td>-0.2874301</td><td>0</td></tr>\n",
       "\t<tr><td>-0.3341589</td><td> 1.8022150</td><td>-0.01178443</td><td>-0.3705251</td><td>-0.3710915</td><td>-0.5889076</td><td> 0.50441285</td><td> 0.2115755</td><td>0</td></tr>\n",
       "\t<tr><td>-0.3143634</td><td>-1.0532928</td><td>-0.14522850</td><td>-0.1165896</td><td>-0.3220980</td><td>-0.2353216</td><td>-0.12599257</td><td>-0.3913625</td><td>0</td></tr>\n",
       "\t<tr><td> 1.0006664</td><td> 1.5532110</td><td>-0.51339427</td><td>-0.3901672</td><td>-0.3043957</td><td>-0.2756588</td><td>-0.31225666</td><td>-0.4812869</td><td>0</td></tr>\n",
       "\t<tr><td>-0.8713781</td><td>-0.8588548</td><td> 0.11560548</td><td>-0.1048632</td><td>-0.3879995</td><td>-0.7630898</td><td> 1.32398915</td><td> 1.3867553</td><td>0</td></tr>\n",
       "\t<tr><td>⋮</td><td>⋮</td><td>⋮</td><td>⋮</td><td>⋮</td><td>⋮</td><td>⋮</td><td>⋮</td><td>⋮</td></tr>\n",
       "\t<tr><td>-2.166612</td><td>-1.9520955</td><td> 2.1815060</td><td> 1.8354590</td><td> 0.5976007</td><td> 2.2678715</td><td>-1.354256</td><td>-0.95343207</td><td>1</td></tr>\n",
       "\t<tr><td> 1.046653</td><td> 0.9397284</td><td>-0.5382742</td><td>-0.2657063</td><td>-0.3475735</td><td>-0.4223449</td><td> 0.198705</td><td>-0.09824041</td><td>1</td></tr>\n",
       "\t<tr><td>-3.752993</td><td>-2.2471781</td><td> 5.8572492</td><td> 7.2607024</td><td> 3.1807233</td><td> 1.4400133</td><td>-1.677280</td><td>-0.97551622</td><td>1</td></tr>\n",
       "\t<tr><td>-2.123062</td><td>-1.4209607</td><td> 2.5306170</td><td> 1.8276224</td><td> 3.5134365</td><td> 3.3556144</td><td>-1.871146</td><td>-0.99935108</td><td>1</td></tr>\n",
       "\t<tr><td>-1.157956</td><td>-1.2028563</td><td> 0.8005589</td><td> 0.3517588</td><td> 0.2935404</td><td> 1.1690513</td><td>-1.295849</td><td>-0.93547334</td><td>1</td></tr>\n",
       "</tbody>\n",
       "</table>\n"
      ],
      "text/latex": [
       "A tibble: 32518 × 9\n",
       "\\begin{tabular}{lllllllll}\n",
       " mean\\_integrated\\_profile & stand\\_dev\\_integrated\\_profile & exc\\_kurtosis\\_integrated\\_profile & skew\\_integrated\\_profile & mean\\_dmsnr & stand\\_dev\\_dmsnr & exc\\_kurtosis\\_dmsnr & skew\\_dmsnr & class\\\\\n",
       " <dbl> & <dbl> & <dbl> & <dbl> & <dbl> & <dbl> & <dbl> & <dbl> & <fct>\\\\\n",
       "\\hline\n",
       "\t  1.1492849 &  1.3347944 & -0.66955083 & -0.4004478 & -0.3194313 & -0.3706151 & -0.07279575 & -0.2874301 & 0\\\\\n",
       "\t -0.3341589 &  1.8022150 & -0.01178443 & -0.3705251 & -0.3710915 & -0.5889076 &  0.50441285 &  0.2115755 & 0\\\\\n",
       "\t -0.3143634 & -1.0532928 & -0.14522850 & -0.1165896 & -0.3220980 & -0.2353216 & -0.12599257 & -0.3913625 & 0\\\\\n",
       "\t  1.0006664 &  1.5532110 & -0.51339427 & -0.3901672 & -0.3043957 & -0.2756588 & -0.31225666 & -0.4812869 & 0\\\\\n",
       "\t -0.8713781 & -0.8588548 &  0.11560548 & -0.1048632 & -0.3879995 & -0.7630898 &  1.32398915 &  1.3867553 & 0\\\\\n",
       "\t ⋮ & ⋮ & ⋮ & ⋮ & ⋮ & ⋮ & ⋮ & ⋮ & ⋮\\\\\n",
       "\t -2.166612 & -1.9520955 &  2.1815060 &  1.8354590 &  0.5976007 &  2.2678715 & -1.354256 & -0.95343207 & 1\\\\\n",
       "\t  1.046653 &  0.9397284 & -0.5382742 & -0.2657063 & -0.3475735 & -0.4223449 &  0.198705 & -0.09824041 & 1\\\\\n",
       "\t -3.752993 & -2.2471781 &  5.8572492 &  7.2607024 &  3.1807233 &  1.4400133 & -1.677280 & -0.97551622 & 1\\\\\n",
       "\t -2.123062 & -1.4209607 &  2.5306170 &  1.8276224 &  3.5134365 &  3.3556144 & -1.871146 & -0.99935108 & 1\\\\\n",
       "\t -1.157956 & -1.2028563 &  0.8005589 &  0.3517588 &  0.2935404 &  1.1690513 & -1.295849 & -0.93547334 & 1\\\\\n",
       "\\end{tabular}\n"
      ],
      "text/markdown": [
       "\n",
       "A tibble: 32518 × 9\n",
       "\n",
       "| mean_integrated_profile &lt;dbl&gt; | stand_dev_integrated_profile &lt;dbl&gt; | exc_kurtosis_integrated_profile &lt;dbl&gt; | skew_integrated_profile &lt;dbl&gt; | mean_dmsnr &lt;dbl&gt; | stand_dev_dmsnr &lt;dbl&gt; | exc_kurtosis_dmsnr &lt;dbl&gt; | skew_dmsnr &lt;dbl&gt; | class &lt;fct&gt; |\n",
       "|---|---|---|---|---|---|---|---|---|\n",
       "|  1.1492849 |  1.3347944 | -0.66955083 | -0.4004478 | -0.3194313 | -0.3706151 | -0.07279575 | -0.2874301 | 0 |\n",
       "| -0.3341589 |  1.8022150 | -0.01178443 | -0.3705251 | -0.3710915 | -0.5889076 |  0.50441285 |  0.2115755 | 0 |\n",
       "| -0.3143634 | -1.0532928 | -0.14522850 | -0.1165896 | -0.3220980 | -0.2353216 | -0.12599257 | -0.3913625 | 0 |\n",
       "|  1.0006664 |  1.5532110 | -0.51339427 | -0.3901672 | -0.3043957 | -0.2756588 | -0.31225666 | -0.4812869 | 0 |\n",
       "| -0.8713781 | -0.8588548 |  0.11560548 | -0.1048632 | -0.3879995 | -0.7630898 |  1.32398915 |  1.3867553 | 0 |\n",
       "| ⋮ | ⋮ | ⋮ | ⋮ | ⋮ | ⋮ | ⋮ | ⋮ | ⋮ |\n",
       "| -2.166612 | -1.9520955 |  2.1815060 |  1.8354590 |  0.5976007 |  2.2678715 | -1.354256 | -0.95343207 | 1 |\n",
       "|  1.046653 |  0.9397284 | -0.5382742 | -0.2657063 | -0.3475735 | -0.4223449 |  0.198705 | -0.09824041 | 1 |\n",
       "| -3.752993 | -2.2471781 |  5.8572492 |  7.2607024 |  3.1807233 |  1.4400133 | -1.677280 | -0.97551622 | 1 |\n",
       "| -2.123062 | -1.4209607 |  2.5306170 |  1.8276224 |  3.5134365 |  3.3556144 | -1.871146 | -0.99935108 | 1 |\n",
       "| -1.157956 | -1.2028563 |  0.8005589 |  0.3517588 |  0.2935404 |  1.1690513 | -1.295849 | -0.93547334 | 1 |\n",
       "\n"
      ],
      "text/plain": [
       "      mean_integrated_profile stand_dev_integrated_profile\n",
       "1      1.1492849               1.3347944                  \n",
       "2     -0.3341589               1.8022150                  \n",
       "3     -0.3143634              -1.0532928                  \n",
       "4      1.0006664               1.5532110                  \n",
       "5     -0.8713781              -0.8588548                  \n",
       "⋮     ⋮                       ⋮                           \n",
       "32514 -2.166612               -1.9520955                  \n",
       "32515  1.046653                0.9397284                  \n",
       "32516 -3.752993               -2.2471781                  \n",
       "32517 -2.123062               -1.4209607                  \n",
       "32518 -1.157956               -1.2028563                  \n",
       "      exc_kurtosis_integrated_profile skew_integrated_profile mean_dmsnr\n",
       "1     -0.66955083                     -0.4004478              -0.3194313\n",
       "2     -0.01178443                     -0.3705251              -0.3710915\n",
       "3     -0.14522850                     -0.1165896              -0.3220980\n",
       "4     -0.51339427                     -0.3901672              -0.3043957\n",
       "5      0.11560548                     -0.1048632              -0.3879995\n",
       "⋮     ⋮                               ⋮                       ⋮         \n",
       "32514  2.1815060                       1.8354590               0.5976007\n",
       "32515 -0.5382742                      -0.2657063              -0.3475735\n",
       "32516  5.8572492                       7.2607024               3.1807233\n",
       "32517  2.5306170                       1.8276224               3.5134365\n",
       "32518  0.8005589                       0.3517588               0.2935404\n",
       "      stand_dev_dmsnr exc_kurtosis_dmsnr skew_dmsnr  class\n",
       "1     -0.3706151      -0.07279575        -0.2874301  0    \n",
       "2     -0.5889076       0.50441285         0.2115755  0    \n",
       "3     -0.2353216      -0.12599257        -0.3913625  0    \n",
       "4     -0.2756588      -0.31225666        -0.4812869  0    \n",
       "5     -0.7630898       1.32398915         1.3867553  0    \n",
       "⋮     ⋮               ⋮                  ⋮           ⋮    \n",
       "32514  2.2678715      -1.354256          -0.95343207 1    \n",
       "32515 -0.4223449       0.198705          -0.09824041 1    \n",
       "32516  1.4400133      -1.677280          -0.97551622 1    \n",
       "32517  3.3556144      -1.871146          -0.99935108 1    \n",
       "32518  1.1690513      -1.295849          -0.93547334 1    "
      ]
     },
     "metadata": {},
     "output_type": "display_data"
    },
    {
     "data": {
      "text/html": [
       "<table class=\"dataframe\">\n",
       "<caption>A tibble: 2 × 3</caption>\n",
       "<thead>\n",
       "\t<tr><th scope=col>class</th><th scope=col>n</th><th scope=col>percent</th></tr>\n",
       "\t<tr><th scope=col>&lt;fct&gt;</th><th scope=col>&lt;int&gt;</th><th scope=col>&lt;dbl&gt;</th></tr>\n",
       "</thead>\n",
       "<tbody>\n",
       "\t<tr><td>0</td><td>16259</td><td>50</td></tr>\n",
       "\t<tr><td>1</td><td>16259</td><td>50</td></tr>\n",
       "</tbody>\n",
       "</table>\n"
      ],
      "text/latex": [
       "A tibble: 2 × 3\n",
       "\\begin{tabular}{lll}\n",
       " class & n & percent\\\\\n",
       " <fct> & <int> & <dbl>\\\\\n",
       "\\hline\n",
       "\t 0 & 16259 & 50\\\\\n",
       "\t 1 & 16259 & 50\\\\\n",
       "\\end{tabular}\n"
      ],
      "text/markdown": [
       "\n",
       "A tibble: 2 × 3\n",
       "\n",
       "| class &lt;fct&gt; | n &lt;int&gt; | percent &lt;dbl&gt; |\n",
       "|---|---|---|\n",
       "| 0 | 16259 | 50 |\n",
       "| 1 | 16259 | 50 |\n",
       "\n"
      ],
      "text/plain": [
       "  class n     percent\n",
       "1 0     16259 50     \n",
       "2 1     16259 50     "
      ]
     },
     "metadata": {},
     "output_type": "display_data"
    }
   ],
   "source": [
    "#Add columns\n",
    "unscaled_data <- read_csv(\"pulsar_data.csv\", \n",
    "                        col_names = c(\"mean_integrated_profile\", \n",
    "                                      \"stand_dev_integrated_profile\", \n",
    "                                      \"exc_kurtosis_integrated_profile\", \n",
    "                                      \"skew_integrated_profile\",\n",
    "                                      \"mean_dmsnr\", \n",
    "                                      \"stand_dev_dmsnr\", \n",
    "                                      \"exc_kurtosis_dmsnr\", \n",
    "                                      \"skew_dmsnr\", \"class\")) \n",
    "\n",
    "unscaled_data <- unscaled_data |>\n",
    "    mutate(class = as_factor(class))\n",
    "#unscaled_data \n",
    "\n",
    "#Class proportions in pulsar training set (Imbalanced)\n",
    "num_obs <- nrow(pulsar_train)\n",
    "pulsar_proportions <- pulsar_train |>\n",
    "    group_by(class) |>\n",
    "    summarize(n = n()) |>\n",
    "    mutate(percent = 100*n/nrow(pulsar_train))\n",
    "pulsar_proportions\n",
    "\n",
    "#Scale data\n",
    "pulsar_recipe <- recipe(class ~ exc_kurtosis_integrated_profile + skew_dmsnr + stand_dev_integrated_profile + \n",
    "                        mean_dmsnr + skew_integrated_profile + exc_kurtosis_dmsnr, data = pulsar_train) |>\n",
    "    step_scale(all_predictors()) |>\n",
    "    step_center(all_predictors()) |>\n",
    "    prep()\n",
    "\n",
    "standardized_pulsar <- bake(pulsar_recipe, pulsar_train)\n",
    "standardized_pulsar"
   ]
  },
  {
   "cell_type": "code",
   "execution_count": 4,
   "id": "b3cccccc-ac7f-4dce-844e-b612c3085ccc",
   "metadata": {},
   "outputs": [
    {
     "data": {
      "text/plain": [
       "══ Workflow [trained] ══════════════════════════════════════════════════════════\n",
       "\u001b[3mPreprocessor:\u001b[23m Recipe\n",
       "\u001b[3mModel:\u001b[23m nearest_neighbor()\n",
       "\n",
       "── Preprocessor ────────────────────────────────────────────────────────────────\n",
       "0 Recipe Steps\n",
       "\n",
       "── Model ───────────────────────────────────────────────────────────────────────\n",
       "\n",
       "Call:\n",
       "kknn::train.kknn(formula = ..y ~ ., data = data, ks = min_rows(3,     data, 5), kernel = ~\"rectangular\")\n",
       "\n",
       "Type of response variable: nominal\n",
       "Minimal misclassification: 0.0173446\n",
       "Best kernel: rectangular\n",
       "Best k: 3"
      ]
     },
     "metadata": {},
     "output_type": "display_data"
    },
    {
     "data": {
      "text/html": [
       "<table class=\"dataframe\">\n",
       "<caption>A tibble: 8130 × 10</caption>\n",
       "<thead>\n",
       "\t<tr><th scope=col>.pred_class</th><th scope=col>mean_integrated_profile</th><th scope=col>stand_dev_integrated_profile</th><th scope=col>exc_kurtosis_integrated_profile</th><th scope=col>skew_integrated_profile</th><th scope=col>mean_dmsnr</th><th scope=col>stand_dev_dmsnr</th><th scope=col>exc_kurtosis_dmsnr</th><th scope=col>skew_dmsnr</th><th scope=col>class</th></tr>\n",
       "\t<tr><th scope=col>&lt;fct&gt;</th><th scope=col>&lt;dbl&gt;</th><th scope=col>&lt;dbl&gt;</th><th scope=col>&lt;dbl&gt;</th><th scope=col>&lt;dbl&gt;</th><th scope=col>&lt;dbl&gt;</th><th scope=col>&lt;dbl&gt;</th><th scope=col>&lt;dbl&gt;</th><th scope=col>&lt;dbl&gt;</th><th scope=col>&lt;fct&gt;</th></tr>\n",
       "</thead>\n",
       "<tbody>\n",
       "\t<tr><td>0</td><td> 1.14928492</td><td> 1.3347944</td><td>-0.66955083</td><td>-0.4004478</td><td>-0.3194313</td><td>-0.3706151</td><td>-0.07279575</td><td>-0.2874301</td><td>0</td></tr>\n",
       "\t<tr><td>0</td><td>-0.33415887</td><td> 1.8022150</td><td>-0.01178443</td><td>-0.3705251</td><td>-0.3710915</td><td>-0.5889076</td><td> 0.50441285</td><td> 0.2115755</td><td>0</td></tr>\n",
       "\t<tr><td>0</td><td> 1.20836685</td><td>-0.1843379</td><td>-0.75014651</td><td>-0.2409772</td><td>-0.2455865</td><td> 0.1378174</td><td>-0.49428426</td><td>-0.6292692</td><td>0</td></tr>\n",
       "\t<tr><td>0</td><td> 0.86453436</td><td>-0.3640536</td><td>-0.52527844</td><td>-0.2683108</td><td>-0.3726235</td><td>-0.7354026</td><td> 0.81412244</td><td> 0.8513931</td><td>0</td></tr>\n",
       "\t<tr><td>0</td><td>-0.05610833</td><td> 0.3606682</td><td>-0.31974505</td><td>-0.3286328</td><td>-0.3768221</td><td>-0.7320593</td><td> 1.12389396</td><td> 1.1132819</td><td>0</td></tr>\n",
       "\t<tr><td>⋮</td><td>⋮</td><td>⋮</td><td>⋮</td><td>⋮</td><td>⋮</td><td>⋮</td><td>⋮</td><td>⋮</td><td>⋮</td></tr>\n",
       "\t<tr><td>1</td><td>-3.0467505</td><td>-1.8818304</td><td> 3.9260786</td><td> 3.6100431</td><td> 0.8612918</td><td> 2.0332997</td><td>-1.4654083</td><td>-0.96733050</td><td>1</td></tr>\n",
       "\t<tr><td>1</td><td> 0.4838518</td><td>-0.3830039</td><td> 0.1144993</td><td>-0.1561154</td><td>-0.2983247</td><td>-0.1768484</td><td>-0.3552104</td><td>-0.53353167</td><td>1</td></tr>\n",
       "\t<tr><td>1</td><td>-2.1666124</td><td>-1.9520955</td><td> 2.1815060</td><td> 1.8354590</td><td> 0.5976007</td><td> 2.2678715</td><td>-1.3542559</td><td>-0.95343207</td><td>1</td></tr>\n",
       "\t<tr><td>1</td><td> 1.0466529</td><td> 0.9397284</td><td>-0.5382742</td><td>-0.2657063</td><td>-0.3475735</td><td>-0.4223449</td><td> 0.1987050</td><td>-0.09824041</td><td>1</td></tr>\n",
       "\t<tr><td>1</td><td>-1.1579559</td><td>-1.2028563</td><td> 0.8005589</td><td> 0.3517588</td><td> 0.2935404</td><td> 1.1690513</td><td>-1.2958494</td><td>-0.93547334</td><td>1</td></tr>\n",
       "</tbody>\n",
       "</table>\n"
      ],
      "text/latex": [
       "A tibble: 8130 × 10\n",
       "\\begin{tabular}{llllllllll}\n",
       " .pred\\_class & mean\\_integrated\\_profile & stand\\_dev\\_integrated\\_profile & exc\\_kurtosis\\_integrated\\_profile & skew\\_integrated\\_profile & mean\\_dmsnr & stand\\_dev\\_dmsnr & exc\\_kurtosis\\_dmsnr & skew\\_dmsnr & class\\\\\n",
       " <fct> & <dbl> & <dbl> & <dbl> & <dbl> & <dbl> & <dbl> & <dbl> & <dbl> & <fct>\\\\\n",
       "\\hline\n",
       "\t 0 &  1.14928492 &  1.3347944 & -0.66955083 & -0.4004478 & -0.3194313 & -0.3706151 & -0.07279575 & -0.2874301 & 0\\\\\n",
       "\t 0 & -0.33415887 &  1.8022150 & -0.01178443 & -0.3705251 & -0.3710915 & -0.5889076 &  0.50441285 &  0.2115755 & 0\\\\\n",
       "\t 0 &  1.20836685 & -0.1843379 & -0.75014651 & -0.2409772 & -0.2455865 &  0.1378174 & -0.49428426 & -0.6292692 & 0\\\\\n",
       "\t 0 &  0.86453436 & -0.3640536 & -0.52527844 & -0.2683108 & -0.3726235 & -0.7354026 &  0.81412244 &  0.8513931 & 0\\\\\n",
       "\t 0 & -0.05610833 &  0.3606682 & -0.31974505 & -0.3286328 & -0.3768221 & -0.7320593 &  1.12389396 &  1.1132819 & 0\\\\\n",
       "\t ⋮ & ⋮ & ⋮ & ⋮ & ⋮ & ⋮ & ⋮ & ⋮ & ⋮ & ⋮\\\\\n",
       "\t 1 & -3.0467505 & -1.8818304 &  3.9260786 &  3.6100431 &  0.8612918 &  2.0332997 & -1.4654083 & -0.96733050 & 1\\\\\n",
       "\t 1 &  0.4838518 & -0.3830039 &  0.1144993 & -0.1561154 & -0.2983247 & -0.1768484 & -0.3552104 & -0.53353167 & 1\\\\\n",
       "\t 1 & -2.1666124 & -1.9520955 &  2.1815060 &  1.8354590 &  0.5976007 &  2.2678715 & -1.3542559 & -0.95343207 & 1\\\\\n",
       "\t 1 &  1.0466529 &  0.9397284 & -0.5382742 & -0.2657063 & -0.3475735 & -0.4223449 &  0.1987050 & -0.09824041 & 1\\\\\n",
       "\t 1 & -1.1579559 & -1.2028563 &  0.8005589 &  0.3517588 &  0.2935404 &  1.1690513 & -1.2958494 & -0.93547334 & 1\\\\\n",
       "\\end{tabular}\n"
      ],
      "text/markdown": [
       "\n",
       "A tibble: 8130 × 10\n",
       "\n",
       "| .pred_class &lt;fct&gt; | mean_integrated_profile &lt;dbl&gt; | stand_dev_integrated_profile &lt;dbl&gt; | exc_kurtosis_integrated_profile &lt;dbl&gt; | skew_integrated_profile &lt;dbl&gt; | mean_dmsnr &lt;dbl&gt; | stand_dev_dmsnr &lt;dbl&gt; | exc_kurtosis_dmsnr &lt;dbl&gt; | skew_dmsnr &lt;dbl&gt; | class &lt;fct&gt; |\n",
       "|---|---|---|---|---|---|---|---|---|---|\n",
       "| 0 |  1.14928492 |  1.3347944 | -0.66955083 | -0.4004478 | -0.3194313 | -0.3706151 | -0.07279575 | -0.2874301 | 0 |\n",
       "| 0 | -0.33415887 |  1.8022150 | -0.01178443 | -0.3705251 | -0.3710915 | -0.5889076 |  0.50441285 |  0.2115755 | 0 |\n",
       "| 0 |  1.20836685 | -0.1843379 | -0.75014651 | -0.2409772 | -0.2455865 |  0.1378174 | -0.49428426 | -0.6292692 | 0 |\n",
       "| 0 |  0.86453436 | -0.3640536 | -0.52527844 | -0.2683108 | -0.3726235 | -0.7354026 |  0.81412244 |  0.8513931 | 0 |\n",
       "| 0 | -0.05610833 |  0.3606682 | -0.31974505 | -0.3286328 | -0.3768221 | -0.7320593 |  1.12389396 |  1.1132819 | 0 |\n",
       "| ⋮ | ⋮ | ⋮ | ⋮ | ⋮ | ⋮ | ⋮ | ⋮ | ⋮ | ⋮ |\n",
       "| 1 | -3.0467505 | -1.8818304 |  3.9260786 |  3.6100431 |  0.8612918 |  2.0332997 | -1.4654083 | -0.96733050 | 1 |\n",
       "| 1 |  0.4838518 | -0.3830039 |  0.1144993 | -0.1561154 | -0.2983247 | -0.1768484 | -0.3552104 | -0.53353167 | 1 |\n",
       "| 1 | -2.1666124 | -1.9520955 |  2.1815060 |  1.8354590 |  0.5976007 |  2.2678715 | -1.3542559 | -0.95343207 | 1 |\n",
       "| 1 |  1.0466529 |  0.9397284 | -0.5382742 | -0.2657063 | -0.3475735 | -0.4223449 |  0.1987050 | -0.09824041 | 1 |\n",
       "| 1 | -1.1579559 | -1.2028563 |  0.8005589 |  0.3517588 |  0.2935404 |  1.1690513 | -1.2958494 | -0.93547334 | 1 |\n",
       "\n"
      ],
      "text/plain": [
       "     .pred_class mean_integrated_profile stand_dev_integrated_profile\n",
       "1    0            1.14928492              1.3347944                  \n",
       "2    0           -0.33415887              1.8022150                  \n",
       "3    0            1.20836685             -0.1843379                  \n",
       "4    0            0.86453436             -0.3640536                  \n",
       "5    0           -0.05610833              0.3606682                  \n",
       "⋮    ⋮           ⋮                       ⋮                           \n",
       "8126 1           -3.0467505              -1.8818304                  \n",
       "8127 1            0.4838518              -0.3830039                  \n",
       "8128 1           -2.1666124              -1.9520955                  \n",
       "8129 1            1.0466529               0.9397284                  \n",
       "8130 1           -1.1579559              -1.2028563                  \n",
       "     exc_kurtosis_integrated_profile skew_integrated_profile mean_dmsnr\n",
       "1    -0.66955083                     -0.4004478              -0.3194313\n",
       "2    -0.01178443                     -0.3705251              -0.3710915\n",
       "3    -0.75014651                     -0.2409772              -0.2455865\n",
       "4    -0.52527844                     -0.2683108              -0.3726235\n",
       "5    -0.31974505                     -0.3286328              -0.3768221\n",
       "⋮    ⋮                               ⋮                       ⋮         \n",
       "8126  3.9260786                       3.6100431               0.8612918\n",
       "8127  0.1144993                      -0.1561154              -0.2983247\n",
       "8128  2.1815060                       1.8354590               0.5976007\n",
       "8129 -0.5382742                      -0.2657063              -0.3475735\n",
       "8130  0.8005589                       0.3517588               0.2935404\n",
       "     stand_dev_dmsnr exc_kurtosis_dmsnr skew_dmsnr  class\n",
       "1    -0.3706151      -0.07279575        -0.2874301  0    \n",
       "2    -0.5889076       0.50441285         0.2115755  0    \n",
       "3     0.1378174      -0.49428426        -0.6292692  0    \n",
       "4    -0.7354026       0.81412244         0.8513931  0    \n",
       "5    -0.7320593       1.12389396         1.1132819  0    \n",
       "⋮    ⋮               ⋮                  ⋮           ⋮    \n",
       "8126  2.0332997      -1.4654083         -0.96733050 1    \n",
       "8127 -0.1768484      -0.3552104         -0.53353167 1    \n",
       "8128  2.2678715      -1.3542559         -0.95343207 1    \n",
       "8129 -0.4223449       0.1987050         -0.09824041 1    \n",
       "8130  1.1690513      -1.2958494         -0.93547334 1    "
      ]
     },
     "metadata": {},
     "output_type": "display_data"
    },
    {
     "data": {
      "text/html": [
       "<table class=\"dataframe\">\n",
       "<caption>A tibble: 1 × 3</caption>\n",
       "<thead>\n",
       "\t<tr><th scope=col>.metric</th><th scope=col>.estimator</th><th scope=col>.estimate</th></tr>\n",
       "\t<tr><th scope=col>&lt;chr&gt;</th><th scope=col>&lt;chr&gt;</th><th scope=col>&lt;dbl&gt;</th></tr>\n",
       "</thead>\n",
       "<tbody>\n",
       "\t<tr><td>accuracy</td><td>binary</td><td>0.9826568</td></tr>\n",
       "</tbody>\n",
       "</table>\n"
      ],
      "text/latex": [
       "A tibble: 1 × 3\n",
       "\\begin{tabular}{lll}\n",
       " .metric & .estimator & .estimate\\\\\n",
       " <chr> & <chr> & <dbl>\\\\\n",
       "\\hline\n",
       "\t accuracy & binary & 0.9826568\\\\\n",
       "\\end{tabular}\n"
      ],
      "text/markdown": [
       "\n",
       "A tibble: 1 × 3\n",
       "\n",
       "| .metric &lt;chr&gt; | .estimator &lt;chr&gt; | .estimate &lt;dbl&gt; |\n",
       "|---|---|---|\n",
       "| accuracy | binary | 0.9826568 |\n",
       "\n"
      ],
      "text/plain": [
       "  .metric  .estimator .estimate\n",
       "1 accuracy binary     0.9826568"
      ]
     },
     "metadata": {},
     "output_type": "display_data"
    },
    {
     "data": {
      "text/plain": [
       "          Truth\n",
       "Prediction    0    1\n",
       "         0 3927    3\n",
       "         1  138 4062"
      ]
     },
     "metadata": {},
     "output_type": "display_data"
    }
   ],
   "source": [
    "set.seed(1)\n",
    "pulsar_split <- initial_split(standardized_pulsar, prop = 0.75, strata = class)\n",
    "pulsar_train <- training(pulsar_split)\n",
    "pulsar_test <- testing(pulsar_split) \n",
    "\n",
    "#Check class proportions in the training set\n",
    "pulsar_proportions <- pulsar_train |>\n",
    "    group_by(class) |>\n",
    "    summarize(n = n()) |>\n",
    "    mutate(percent = 100*n/nrow(pulsar_train))\n",
    "pulsar_proportions\n",
    "\n",
    "#Upscale data to balance training set\n",
    "pulsar_recipe <- recipe(class ~ ., data = pulsar_train) |>\n",
    "    step_upsample(class, over_ratio = 1, skip = FALSE) |>\n",
    "    prep |>\n",
    "pulsar_recipe\n",
    "\n",
    "pulsar_train <- bake(pulsar_recipe, pulsar_train)\n",
    "pulsar_train\n",
    "\n",
    "#Check new proportions in training set\n",
    "new_pulsar_proportions <- pulsar_train |>\n",
    "    group_by(class) |>\n",
    "    summarize(n = n()) |>\n",
    "    mutate(percent = 100*n/nrow(pulsar_train))\n",
    "new_pulsar_proportions\n",
    "\n",
    "knn_spec <- nearest_neighbor(weight_func = \"rectangular\", neighbors = 3) |>\n",
    "    set_engine(\"kknn\") |>\n",
    "    set_mode(\"classification\")\n",
    "\n",
    "pulsar_fit <- workflow() |>\n",
    "    add_recipe(pulsar_recipe) |>\n",
    "    add_model(knn_spec) |>\n",
    "    fit(data = pulsar_train)\n",
    "pulsar_fit\n",
    "\n",
    "pulsar_test_predictions <- predict(pulsar_fit, pulsar_test) |>\n",
    "    bind_cols(pulsar_test)\n",
    "pulsar_test_predictions\n",
    "\n",
    "pulsar_prediction_accuracy <- pulsar_test_predictions |>\n",
    "    metrics(truth = class, estimate = .pred_class) |>\n",
    "    filter(.metric == \"accuracy\")\n",
    "pulsar_prediction_accuracy\n",
    "\n",
    "confusion <- pulsar_test_predictions |>\n",
    "    conf_mat(truth = class, estimate = .pred_class)\n",
    "confusion"
   ]
  },
  {
   "cell_type": "code",
   "execution_count": 5,
   "id": "15084792-cc40-4be1-a1d4-e1385a0708a2",
   "metadata": {},
   "outputs": [
    {
     "data": {
      "text/html": [
       "<table class=\"dataframe\">\n",
       "<caption>A tibble: 2 × 6</caption>\n",
       "<thead>\n",
       "\t<tr><th scope=col>.metric</th><th scope=col>.estimator</th><th scope=col>mean</th><th scope=col>n</th><th scope=col>std_err</th><th scope=col>.config</th></tr>\n",
       "\t<tr><th scope=col>&lt;chr&gt;</th><th scope=col>&lt;chr&gt;</th><th scope=col>&lt;dbl&gt;</th><th scope=col>&lt;int&gt;</th><th scope=col>&lt;dbl&gt;</th><th scope=col>&lt;chr&gt;</th></tr>\n",
       "</thead>\n",
       "<tbody>\n",
       "\t<tr><td>accuracy</td><td>binary</td><td>0.9810977</td><td>10</td><td>0.0007607266</td><td>Preprocessor1_Model1</td></tr>\n",
       "\t<tr><td>roc_auc </td><td>binary</td><td>0.9890403</td><td>10</td><td>0.0005064399</td><td>Preprocessor1_Model1</td></tr>\n",
       "</tbody>\n",
       "</table>\n"
      ],
      "text/latex": [
       "A tibble: 2 × 6\n",
       "\\begin{tabular}{llllll}\n",
       " .metric & .estimator & mean & n & std\\_err & .config\\\\\n",
       " <chr> & <chr> & <dbl> & <int> & <dbl> & <chr>\\\\\n",
       "\\hline\n",
       "\t accuracy & binary & 0.9810977 & 10 & 0.0007607266 & Preprocessor1\\_Model1\\\\\n",
       "\t roc\\_auc  & binary & 0.9890403 & 10 & 0.0005064399 & Preprocessor1\\_Model1\\\\\n",
       "\\end{tabular}\n"
      ],
      "text/markdown": [
       "\n",
       "A tibble: 2 × 6\n",
       "\n",
       "| .metric &lt;chr&gt; | .estimator &lt;chr&gt; | mean &lt;dbl&gt; | n &lt;int&gt; | std_err &lt;dbl&gt; | .config &lt;chr&gt; |\n",
       "|---|---|---|---|---|---|\n",
       "| accuracy | binary | 0.9810977 | 10 | 0.0007607266 | Preprocessor1_Model1 |\n",
       "| roc_auc  | binary | 0.9890403 | 10 | 0.0005064399 | Preprocessor1_Model1 |\n",
       "\n"
      ],
      "text/plain": [
       "  .metric  .estimator mean      n  std_err      .config             \n",
       "1 accuracy binary     0.9810977 10 0.0007607266 Preprocessor1_Model1\n",
       "2 roc_auc  binary     0.9890403 10 0.0005064399 Preprocessor1_Model1"
      ]
     },
     "metadata": {},
     "output_type": "display_data"
    }
   ],
   "source": [
    "#10 fold cross validation\n",
    "pulsar_vfold <- vfold_cv(pulsar_train, v = 10, strata = class)\n",
    "\n",
    "pulsar_resample_fit <- workflow() |>\n",
    "       add_recipe(pulsar_recipe) |>\n",
    "       add_model(knn_spec) |>\n",
    "       fit_resamples(resamples = pulsar_vfold)\n",
    "\n",
    "pulsar_metrics <- collect_metrics(pulsar_resample_fit)\n",
    "pulsar_metrics"
   ]
  },
  {
   "cell_type": "code",
   "execution_count": 6,
   "id": "f3dad9b6-9233-474f-b1cb-eedb8b441f6a",
   "metadata": {},
   "outputs": [
    {
     "data": {
      "image/png": "[encoded data removed]",
      "text/plain": [
       "plot without title"
      ]
     },
     "metadata": {
      "image/png": {
       "height": 420,
       "width": 420
      }
     },
     "output_type": "display_data"
    }
   ],
   "source": [
    "#CAUTION: Takes a long time to load.\n",
    "knn_tune <- nearest_neighbor(weight_func = \"rectangular\", neighbors = tune()) |>\n",
    "            set_engine(\"kknn\") |>\n",
    "            set_mode(\"classification\")\n",
    "#knn_tune\n",
    "\n",
    "k_vals <- tibble(neighbors = seq(from = 1, to = 100, by = 5))\n",
    "\n",
    "knn_results <- workflow() |>\n",
    "               add_recipe(pulsar_recipe) |>\n",
    "               add_model(knn_tune) |>\n",
    "               tune_grid(resamples = pulsar_vfold, grid = k_vals) |>\n",
    "               collect_metrics()\n",
    "#knn_results\n",
    "\n",
    "accuracies <- knn_results |> \n",
    "       filter(.metric == \"accuracy\")\n",
    "\n",
    "accuracy_versus_k <- ggplot(accuracies, aes(x = neighbors, y = mean))+\n",
    "       geom_point() +\n",
    "       geom_line() +\n",
    "       labs(x = \"Neighbors\", y = \"Accuracy Estimate\")  \n",
    "\n",
    "\n",
    "\n",
    "accuracy_versus_k\n"
   ]
  },
  {
   "cell_type": "markdown",
   "id": "13591307-6a28-45f7-9559-b9fd446c6e30",
   "metadata": {},
   "source": [
    "**Selecting Predictors**"
   ]
  },
  {
   "cell_type": "code",
   "execution_count": 7,
   "id": "f9db86c0-14aa-4fcd-87e7-a71362c1417f",
   "metadata": {},
   "outputs": [
    {
     "data": {
      "text/html": [
       "<style>\n",
       ".list-inline {list-style: none; margin:0; padding: 0}\n",
       ".list-inline>li {display: inline-block}\n",
       ".list-inline>li:not(:last-child)::after {content: \"\\00b7\"; padding: 0 .5ex}\n",
       "</style>\n",
       "<ol class=list-inline><li>'mean_integrated_profile'</li><li>'stand_dev_integrated_profile'</li><li>'exc_kurtosis_integrated_profile'</li><li>'skew_integrated_profile'</li><li>'mean_dmsnr'</li><li>'stand_dev_dmsnr'</li><li>'exc_kurtosis_dmsnr'</li><li>'skew_dmsnr'</li></ol>\n"
      ],
      "text/latex": [
       "\\begin{enumerate*}\n",
       "\\item 'mean\\_integrated\\_profile'\n",
       "\\item 'stand\\_dev\\_integrated\\_profile'\n",
       "\\item 'exc\\_kurtosis\\_integrated\\_profile'\n",
       "\\item 'skew\\_integrated\\_profile'\n",
       "\\item 'mean\\_dmsnr'\n",
       "\\item 'stand\\_dev\\_dmsnr'\n",
       "\\item 'exc\\_kurtosis\\_dmsnr'\n",
       "\\item 'skew\\_dmsnr'\n",
       "\\end{enumerate*}\n"
      ],
      "text/markdown": [
       "1. 'mean_integrated_profile'\n",
       "2. 'stand_dev_integrated_profile'\n",
       "3. 'exc_kurtosis_integrated_profile'\n",
       "4. 'skew_integrated_profile'\n",
       "5. 'mean_dmsnr'\n",
       "6. 'stand_dev_dmsnr'\n",
       "7. 'exc_kurtosis_dmsnr'\n",
       "8. 'skew_dmsnr'\n",
       "\n",
       "\n"
      ],
      "text/plain": [
       "[1] \"mean_integrated_profile\"         \"stand_dev_integrated_profile\"   \n",
       "[3] \"exc_kurtosis_integrated_profile\" \"skew_integrated_profile\"        \n",
       "[5] \"mean_dmsnr\"                      \"stand_dev_dmsnr\"                \n",
       "[7] \"exc_kurtosis_dmsnr\"              \"skew_dmsnr\"                     "
      ]
     },
     "metadata": {},
     "output_type": "display_data"
    }
   ],
   "source": [
    "names <- colnames(pulsar_train |> select(-class))\n",
    "names"
   ]
  },
  {
   "cell_type": "code",
   "execution_count": null,
   "id": "3a78cd2a-8fa3-4c14-b92f-3d393d4bb4a6",
   "metadata": {},
   "outputs": [],
   "source": []
  },
  {
   "cell_type": "code",
   "execution_count": 8,
   "id": "e34b4583-cb62-469d-ac7b-44a903952429",
   "metadata": {},
   "outputs": [
    {
     "data": {
      "text/html": [
       "'class ~ mean_integrated_profile+stand_dev_integrated_profile+exc_kurtosis_integrated_profile+skew_integrated_profile+mean_dmsnr+stand_dev_dmsnr+exc_kurtosis_dmsnr+skew_dmsnr'"
      ],
      "text/latex": [
       "'class \\textasciitilde{} mean\\_integrated\\_profile+stand\\_dev\\_integrated\\_profile+exc\\_kurtosis\\_integrated\\_profile+skew\\_integrated\\_profile+mean\\_dmsnr+stand\\_dev\\_dmsnr+exc\\_kurtosis\\_dmsnr+skew\\_dmsnr'"
      ],
      "text/markdown": [
       "'class ~ mean_integrated_profile+stand_dev_integrated_profile+exc_kurtosis_integrated_profile+skew_integrated_profile+mean_dmsnr+stand_dev_dmsnr+exc_kurtosis_dmsnr+skew_dmsnr'"
      ],
      "text/plain": [
       "[1] \"class ~ mean_integrated_profile+stand_dev_integrated_profile+exc_kurtosis_integrated_profile+skew_integrated_profile+mean_dmsnr+stand_dev_dmsnr+exc_kurtosis_dmsnr+skew_dmsnr\""
      ]
     },
     "metadata": {},
     "output_type": "display_data"
    }
   ],
   "source": [
    "example_formula <- paste(\"class\", \"~\", paste(names, collapse=\"+\"))\n",
    "example_formula"
   ]
  },
  {
   "cell_type": "code",
   "execution_count": 9,
   "id": "e961799a-d823-44a2-ada2-dd5e0caceee8",
   "metadata": {},
   "outputs": [],
   "source": [
    "# create an empty tibble to store the results\n",
    "predictor_accuracies <- tibble(size = integer(), \n",
    "                     model_string = character(), \n",
    "                     accuracy = numeric())"
   ]
  },
  {
   "cell_type": "code",
   "execution_count": 10,
   "id": "1838d8fb-5b4e-452b-9c10-66d613dfdf77",
   "metadata": {},
   "outputs": [
    {
     "name": "stderr",
     "output_type": "stream",
     "text": [
      "Warning message:\n",
      "“No tuning parameters have been detected, performance will be evaluated using the resamples with no tuning. Did you want to [tune()] parameters?”\n",
      "Warning message:\n",
      "“No tuning parameters have been detected, performance will be evaluated using the resamples with no tuning. Did you want to [tune()] parameters?”\n",
      "Warning message:\n",
      "“No tuning parameters have been detected, performance will be evaluated using the resamples with no tuning. Did you want to [tune()] parameters?”\n",
      "Warning message:\n",
      "“No tuning parameters have been detected, performance will be evaluated using the resamples with no tuning. Did you want to [tune()] parameters?”\n",
      "Warning message:\n",
      "“No tuning parameters have been detected, performance will be evaluated using the resamples with no tuning. Did you want to [tune()] parameters?”\n",
      "Warning message:\n",
      "“No tuning parameters have been detected, performance will be evaluated using the resamples with no tuning. Did you want to [tune()] parameters?”\n",
      "Warning message:\n",
      "“No tuning parameters have been detected, performance will be evaluated using the resamples with no tuning. Did you want to [tune()] parameters?”\n",
      "Warning message:\n",
      "“No tuning parameters have been detected, performance will be evaluated using the resamples with no tuning. Did you want to [tune()] parameters?”\n",
      "Warning message:\n",
      "“No tuning parameters have been detected, performance will be evaluated using the resamples with no tuning. Did you want to [tune()] parameters?”\n",
      "Warning message:\n",
      "“No tuning parameters have been detected, performance will be evaluated using the resamples with no tuning. Did you want to [tune()] parameters?”\n",
      "Warning message:\n",
      "“No tuning parameters have been detected, performance will be evaluated using the resamples with no tuning. Did you want to [tune()] parameters?”\n",
      "Warning message:\n",
      "“No tuning parameters have been detected, performance will be evaluated using the resamples with no tuning. Did you want to [tune()] parameters?”\n",
      "Warning message:\n",
      "“No tuning parameters have been detected, performance will be evaluated using the resamples with no tuning. Did you want to [tune()] parameters?”\n",
      "Warning message:\n",
      "“No tuning parameters have been detected, performance will be evaluated using the resamples with no tuning. Did you want to [tune()] parameters?”\n",
      "Warning message:\n",
      "“No tuning parameters have been detected, performance will be evaluated using the resamples with no tuning. Did you want to [tune()] parameters?”\n",
      "Warning message:\n",
      "“No tuning parameters have been detected, performance will be evaluated using the resamples with no tuning. Did you want to [tune()] parameters?”\n",
      "Warning message:\n",
      "“No tuning parameters have been detected, performance will be evaluated using the resamples with no tuning. Did you want to [tune()] parameters?”\n",
      "Warning message:\n",
      "“No tuning parameters have been detected, performance will be evaluated using the resamples with no tuning. Did you want to [tune()] parameters?”\n",
      "Warning message:\n",
      "“No tuning parameters have been detected, performance will be evaluated using the resamples with no tuning. Did you want to [tune()] parameters?”\n",
      "Warning message:\n",
      "“No tuning parameters have been detected, performance will be evaluated using the resamples with no tuning. Did you want to [tune()] parameters?”\n",
      "Warning message:\n",
      "“No tuning parameters have been detected, performance will be evaluated using the resamples with no tuning. Did you want to [tune()] parameters?”\n",
      "Warning message:\n",
      "“No tuning parameters have been detected, performance will be evaluated using the resamples with no tuning. Did you want to [tune()] parameters?”\n",
      "Warning message:\n",
      "“No tuning parameters have been detected, performance will be evaluated using the resamples with no tuning. Did you want to [tune()] parameters?”\n",
      "Warning message:\n",
      "“No tuning parameters have been detected, performance will be evaluated using the resamples with no tuning. Did you want to [tune()] parameters?”\n",
      "Warning message:\n",
      "“No tuning parameters have been detected, performance will be evaluated using the resamples with no tuning. Did you want to [tune()] parameters?”\n",
      "Warning message:\n",
      "“No tuning parameters have been detected, performance will be evaluated using the resamples with no tuning. Did you want to [tune()] parameters?”\n",
      "Warning message:\n",
      "“No tuning parameters have been detected, performance will be evaluated using the resamples with no tuning. Did you want to [tune()] parameters?”\n",
      "Warning message:\n",
      "“No tuning parameters have been detected, performance will be evaluated using the resamples with no tuning. Did you want to [tune()] parameters?”\n",
      "Warning message:\n",
      "“No tuning parameters have been detected, performance will be evaluated using the resamples with no tuning. Did you want to [tune()] parameters?”\n",
      "Warning message:\n",
      "“No tuning parameters have been detected, performance will be evaluated using the resamples with no tuning. Did you want to [tune()] parameters?”\n",
      "Warning message:\n",
      "“No tuning parameters have been detected, performance will be evaluated using the resamples with no tuning. Did you want to [tune()] parameters?”\n",
      "Warning message:\n",
      "“No tuning parameters have been detected, performance will be evaluated using the resamples with no tuning. Did you want to [tune()] parameters?”\n",
      "Warning message:\n",
      "“No tuning parameters have been detected, performance will be evaluated using the resamples with no tuning. Did you want to [tune()] parameters?”\n",
      "Warning message:\n",
      "“No tuning parameters have been detected, performance will be evaluated using the resamples with no tuning. Did you want to [tune()] parameters?”\n",
      "Warning message:\n",
      "“No tuning parameters have been detected, performance will be evaluated using the resamples with no tuning. Did you want to [tune()] parameters?”\n",
      "Warning message:\n",
      "“No tuning parameters have been detected, performance will be evaluated using the resamples with no tuning. Did you want to [tune()] parameters?”\n"
     ]
    },
    {
     "data": {
      "text/html": [
       "<table class=\"dataframe\">\n",
       "<caption>A tibble: 8 × 3</caption>\n",
       "<thead>\n",
       "\t<tr><th scope=col>size</th><th scope=col>model_string</th><th scope=col>accuracy</th></tr>\n",
       "\t<tr><th scope=col>&lt;int&gt;</th><th scope=col>&lt;chr&gt;</th><th scope=col>&lt;dbl&gt;</th></tr>\n",
       "</thead>\n",
       "<tbody>\n",
       "\t<tr><td>1</td><td>class ~ exc_kurtosis_integrated_profile                                                                                                                                      </td><td>0.9751922</td></tr>\n",
       "\t<tr><td>2</td><td>class ~ exc_kurtosis_integrated_profile+skew_dmsnr                                                                                                                           </td><td>0.9797034</td></tr>\n",
       "\t<tr><td>3</td><td>class ~ exc_kurtosis_integrated_profile+skew_dmsnr+stand_dev_integrated_profile                                                                                              </td><td>0.9815490</td></tr>\n",
       "\t<tr><td>4</td><td>class ~ exc_kurtosis_integrated_profile+skew_dmsnr+stand_dev_integrated_profile+mean_dmsnr                                                                                   </td><td>0.9817129</td></tr>\n",
       "\t<tr><td>5</td><td>class ~ exc_kurtosis_integrated_profile+skew_dmsnr+stand_dev_integrated_profile+mean_dmsnr+skew_integrated_profile                                                           </td><td>0.9814256</td></tr>\n",
       "\t<tr><td>6</td><td>class ~ exc_kurtosis_integrated_profile+skew_dmsnr+stand_dev_integrated_profile+mean_dmsnr+skew_integrated_profile+exc_kurtosis_dmsnr                                        </td><td>0.9817127</td></tr>\n",
       "\t<tr><td>7</td><td>class ~ exc_kurtosis_integrated_profile+skew_dmsnr+stand_dev_integrated_profile+mean_dmsnr+skew_integrated_profile+exc_kurtosis_dmsnr+mean_integrated_profile                </td><td>0.9815897</td></tr>\n",
       "\t<tr><td>8</td><td>class ~ exc_kurtosis_integrated_profile+skew_dmsnr+stand_dev_integrated_profile+mean_dmsnr+skew_integrated_profile+exc_kurtosis_dmsnr+mean_integrated_profile+stand_dev_dmsnr</td><td>0.9810977</td></tr>\n",
       "</tbody>\n",
       "</table>\n"
      ],
      "text/latex": [
       "A tibble: 8 × 3\n",
       "\\begin{tabular}{lll}\n",
       " size & model\\_string & accuracy\\\\\n",
       " <int> & <chr> & <dbl>\\\\\n",
       "\\hline\n",
       "\t 1 & class \\textasciitilde{} exc\\_kurtosis\\_integrated\\_profile                                                                                                                                       & 0.9751922\\\\\n",
       "\t 2 & class \\textasciitilde{} exc\\_kurtosis\\_integrated\\_profile+skew\\_dmsnr                                                                                                                            & 0.9797034\\\\\n",
       "\t 3 & class \\textasciitilde{} exc\\_kurtosis\\_integrated\\_profile+skew\\_dmsnr+stand\\_dev\\_integrated\\_profile                                                                                               & 0.9815490\\\\\n",
       "\t 4 & class \\textasciitilde{} exc\\_kurtosis\\_integrated\\_profile+skew\\_dmsnr+stand\\_dev\\_integrated\\_profile+mean\\_dmsnr                                                                                    & 0.9817129\\\\\n",
       "\t 5 & class \\textasciitilde{} exc\\_kurtosis\\_integrated\\_profile+skew\\_dmsnr+stand\\_dev\\_integrated\\_profile+mean\\_dmsnr+skew\\_integrated\\_profile                                                            & 0.9814256\\\\\n",
       "\t 6 & class \\textasciitilde{} exc\\_kurtosis\\_integrated\\_profile+skew\\_dmsnr+stand\\_dev\\_integrated\\_profile+mean\\_dmsnr+skew\\_integrated\\_profile+exc\\_kurtosis\\_dmsnr                                         & 0.9817127\\\\\n",
       "\t 7 & class \\textasciitilde{} exc\\_kurtosis\\_integrated\\_profile+skew\\_dmsnr+stand\\_dev\\_integrated\\_profile+mean\\_dmsnr+skew\\_integrated\\_profile+exc\\_kurtosis\\_dmsnr+mean\\_integrated\\_profile                 & 0.9815897\\\\\n",
       "\t 8 & class \\textasciitilde{} exc\\_kurtosis\\_integrated\\_profile+skew\\_dmsnr+stand\\_dev\\_integrated\\_profile+mean\\_dmsnr+skew\\_integrated\\_profile+exc\\_kurtosis\\_dmsnr+mean\\_integrated\\_profile+stand\\_dev\\_dmsnr & 0.9810977\\\\\n",
       "\\end{tabular}\n"
      ],
      "text/markdown": [
       "\n",
       "A tibble: 8 × 3\n",
       "\n",
       "| size &lt;int&gt; | model_string &lt;chr&gt; | accuracy &lt;dbl&gt; |\n",
       "|---|---|---|\n",
       "| 1 | class ~ exc_kurtosis_integrated_profile                                                                                                                                       | 0.9751922 |\n",
       "| 2 | class ~ exc_kurtosis_integrated_profile+skew_dmsnr                                                                                                                            | 0.9797034 |\n",
       "| 3 | class ~ exc_kurtosis_integrated_profile+skew_dmsnr+stand_dev_integrated_profile                                                                                               | 0.9815490 |\n",
       "| 4 | class ~ exc_kurtosis_integrated_profile+skew_dmsnr+stand_dev_integrated_profile+mean_dmsnr                                                                                    | 0.9817129 |\n",
       "| 5 | class ~ exc_kurtosis_integrated_profile+skew_dmsnr+stand_dev_integrated_profile+mean_dmsnr+skew_integrated_profile                                                            | 0.9814256 |\n",
       "| 6 | class ~ exc_kurtosis_integrated_profile+skew_dmsnr+stand_dev_integrated_profile+mean_dmsnr+skew_integrated_profile+exc_kurtosis_dmsnr                                         | 0.9817127 |\n",
       "| 7 | class ~ exc_kurtosis_integrated_profile+skew_dmsnr+stand_dev_integrated_profile+mean_dmsnr+skew_integrated_profile+exc_kurtosis_dmsnr+mean_integrated_profile                 | 0.9815897 |\n",
       "| 8 | class ~ exc_kurtosis_integrated_profile+skew_dmsnr+stand_dev_integrated_profile+mean_dmsnr+skew_integrated_profile+exc_kurtosis_dmsnr+mean_integrated_profile+stand_dev_dmsnr | 0.9810977 |\n",
       "\n"
      ],
      "text/plain": [
       "  size\n",
       "1 1   \n",
       "2 2   \n",
       "3 3   \n",
       "4 4   \n",
       "5 5   \n",
       "6 6   \n",
       "7 7   \n",
       "8 8   \n",
       "  model_string                                                                                                                                                                 \n",
       "1 class ~ exc_kurtosis_integrated_profile                                                                                                                                      \n",
       "2 class ~ exc_kurtosis_integrated_profile+skew_dmsnr                                                                                                                           \n",
       "3 class ~ exc_kurtosis_integrated_profile+skew_dmsnr+stand_dev_integrated_profile                                                                                              \n",
       "4 class ~ exc_kurtosis_integrated_profile+skew_dmsnr+stand_dev_integrated_profile+mean_dmsnr                                                                                   \n",
       "5 class ~ exc_kurtosis_integrated_profile+skew_dmsnr+stand_dev_integrated_profile+mean_dmsnr+skew_integrated_profile                                                           \n",
       "6 class ~ exc_kurtosis_integrated_profile+skew_dmsnr+stand_dev_integrated_profile+mean_dmsnr+skew_integrated_profile+exc_kurtosis_dmsnr                                        \n",
       "7 class ~ exc_kurtosis_integrated_profile+skew_dmsnr+stand_dev_integrated_profile+mean_dmsnr+skew_integrated_profile+exc_kurtosis_dmsnr+mean_integrated_profile                \n",
       "8 class ~ exc_kurtosis_integrated_profile+skew_dmsnr+stand_dev_integrated_profile+mean_dmsnr+skew_integrated_profile+exc_kurtosis_dmsnr+mean_integrated_profile+stand_dev_dmsnr\n",
       "  accuracy \n",
       "1 0.9751922\n",
       "2 0.9797034\n",
       "3 0.9815490\n",
       "4 0.9817129\n",
       "5 0.9814256\n",
       "6 0.9817127\n",
       "7 0.9815897\n",
       "8 0.9810977"
      ]
     },
     "metadata": {},
     "output_type": "display_data"
    }
   ],
   "source": [
    "# store the total number of predictors\n",
    "n_total <- length(names)\n",
    "\n",
    "# stores selected predictors\n",
    "selected <- c()\n",
    "\n",
    "# for every size from 1 to the total number of predictors\n",
    "for (i in 1:n_total) {\n",
    "    # for every predictor still not added yet\n",
    "    accs <- list()\n",
    "    models <- list()\n",
    "    for (j in 1:length(names)) {\n",
    "        # create a model string for this combination of predictors\n",
    "        preds_new <- c(selected, names[[j]])\n",
    "        model_string <- paste(\"class\", \"~\", paste(preds_new, collapse=\"+\"))\n",
    "\n",
    "        # create a recipe from the model string\n",
    "        pulsar_recipe <- recipe(as.formula(model_string), \n",
    "                                data = pulsar_train) |>\n",
    "                          step_scale(all_predictors()) |>\n",
    "                          step_center(all_predictors())\n",
    "\n",
    "        # tune the KNN classifier with these predictors, \n",
    "        # and collect the accuracy for the best K\n",
    "        acc <- workflow() |>\n",
    "          add_recipe(pulsar_recipe) |>\n",
    "          add_model(knn_spec) |>\n",
    "          tune_grid(resamples = pulsar_vfold, grid = 10) |>\n",
    "          collect_metrics() |>\n",
    "          filter(.metric == \"accuracy\") |>\n",
    "          summarize(mx = max(mean))\n",
    "        acc <- acc$mx |> unlist()\n",
    "\n",
    "        # add this result to the dataframe\n",
    "        accs[[j]] <- acc\n",
    "        models[[j]] <- model_string\n",
    "    }\n",
    "    jstar <- which.max(unlist(accs))\n",
    "predictor_accuracies <- predictor_accuracies |> \n",
    "      add_row(size = i, \n",
    "              model_string = models[[jstar]], \n",
    "              accuracy = accs[[jstar]])\n",
    "    selected <- c(selected, names[[jstar]])\n",
    "    names <- names[-jstar]\n",
    "}\n",
    "predictor_accuracies"
   ]
  },
  {
   "cell_type": "markdown",
   "id": "a6ad220a-70ee-4a89-99d0-73000de0700f",
   "metadata": {},
   "source": [
    "Based on the data above, the highest accuracy is obtained by having exc_kurtosis_integrated_profile+skew_dmsnr+stand_dev_integrated_profile+mean_dmsnr as predictors"
   ]
  },
  {
   "cell_type": "code",
   "execution_count": null,
   "id": "efca7c97-8078-4c5f-a204-790d65191714",
   "metadata": {},
   "outputs": [],
   "source": []
  }
 ],
 "metadata": {
  "kernelspec": {
   "display_name": "R",
   "language": "R",
   "name": "ir"
  },
  "language_info": {
   "codemirror_mode": "r",
   "file_extension": ".r",
   "mimetype": "text/x-r-source",
   "name": "R",
   "pygments_lexer": "r",
   "version": "4.1.3"
  }
 },
 "nbformat": 4,
 "nbformat_minor": 5
}
