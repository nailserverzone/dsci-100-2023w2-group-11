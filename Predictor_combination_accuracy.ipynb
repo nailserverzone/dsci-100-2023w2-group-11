{
 "cells": [
  {
   "cell_type": "code",
   "execution_count": 1,
   "id": "46b48142-65c0-4405-8699-0b24a532eaab",
   "metadata": {
    "tags": []
   },
   "outputs": [
    {
     "name": "stderr",
     "output_type": "stream",
     "text": [
      "Installing package into ‘/home/jupyter/R/x86_64-pc-linux-gnu-library/4.2’\n",
      "(as ‘lib’ is unspecified)\n",
      "\n",
      "Skipping install of 'tune' from a github remote, the SHA1 (597ddf7a) has not changed since last install.\n",
      "  Use `force = TRUE` to force installation\n",
      "\n",
      "Installing package into ‘/home/jupyter/R/x86_64-pc-linux-gnu-library/4.2’\n",
      "(as ‘lib’ is unspecified)\n",
      "\n"
     ]
    }
   ],
   "source": [
    "#CAUTION: Takes a long time to load.\n",
    "install.packages(\"themis\")\n",
    "devtools::install_github(\"tidymodels/tune\")\n",
    "install.packages(\"kknn\")"
   ]
  },
  {
   "cell_type": "code",
   "execution_count": 2,
   "id": "18e9f3dc-d38a-4f62-ae68-565b9162ddb6",
   "metadata": {
    "tags": []
   },
   "outputs": [
    {
     "name": "stderr",
     "output_type": "stream",
     "text": [
      "Warning message in system(\"timedatectl\", intern = TRUE):\n",
      "“running command 'timedatectl' had status 1”\n",
      "── \u001b[1mAttaching core tidyverse packages\u001b[22m ──────────────────────── tidyverse 2.0.0 ──\n",
      "\u001b[32m✔\u001b[39m \u001b[34mdplyr    \u001b[39m 1.1.1     \u001b[32m✔\u001b[39m \u001b[34mreadr    \u001b[39m 2.1.4\n",
      "\u001b[32m✔\u001b[39m \u001b[34mforcats  \u001b[39m 1.0.0     \u001b[32m✔\u001b[39m \u001b[34mstringr  \u001b[39m 1.5.0\n",
      "\u001b[32m✔\u001b[39m \u001b[34mggplot2  \u001b[39m 3.4.2     \u001b[32m✔\u001b[39m \u001b[34mtibble   \u001b[39m 3.2.1\n",
      "\u001b[32m✔\u001b[39m \u001b[34mlubridate\u001b[39m 1.9.2     \u001b[32m✔\u001b[39m \u001b[34mtidyr    \u001b[39m 1.3.0\n",
      "\u001b[32m✔\u001b[39m \u001b[34mpurrr    \u001b[39m 1.0.1     \n",
      "── \u001b[1mConflicts\u001b[22m ────────────────────────────────────────── tidyverse_conflicts() ──\n",
      "\u001b[31m✖\u001b[39m \u001b[34mdplyr\u001b[39m::\u001b[32mfilter()\u001b[39m masks \u001b[34mstats\u001b[39m::filter()\n",
      "\u001b[31m✖\u001b[39m \u001b[34mdplyr\u001b[39m::\u001b[32mlag()\u001b[39m    masks \u001b[34mstats\u001b[39m::lag()\n",
      "\u001b[36mℹ\u001b[39m Use the conflicted package (\u001b[3m\u001b[34m<http://conflicted.r-lib.org/>\u001b[39m\u001b[23m) to force all conflicts to become errors\n",
      "── \u001b[1mAttaching packages\u001b[22m ────────────────────────────────────── tidymodels 1.0.0 ──\n",
      "\n",
      "\u001b[32m✔\u001b[39m \u001b[34mbroom       \u001b[39m 1.0.4          \u001b[32m✔\u001b[39m \u001b[34mrsample     \u001b[39m 1.1.1     \n",
      "\u001b[32m✔\u001b[39m \u001b[34mdials       \u001b[39m 1.2.0          \u001b[32m✔\u001b[39m \u001b[34mtune        \u001b[39m 1.1.1.\u001b[31m9000\u001b[39m\n",
      "\u001b[32m✔\u001b[39m \u001b[34minfer       \u001b[39m 1.0.4          \u001b[32m✔\u001b[39m \u001b[34mworkflows   \u001b[39m 1.1.3     \n",
      "\u001b[32m✔\u001b[39m \u001b[34mmodeldata   \u001b[39m 1.1.0          \u001b[32m✔\u001b[39m \u001b[34mworkflowsets\u001b[39m 1.0.1     \n",
      "\u001b[32m✔\u001b[39m \u001b[34mparsnip     \u001b[39m 1.1.0          \u001b[32m✔\u001b[39m \u001b[34myardstick   \u001b[39m 1.1.0     \n",
      "\u001b[32m✔\u001b[39m \u001b[34mrecipes     \u001b[39m 1.0.5          \n",
      "\n",
      "── \u001b[1mConflicts\u001b[22m ───────────────────────────────────────── tidymodels_conflicts() ──\n",
      "\u001b[31m✖\u001b[39m \u001b[34mscales\u001b[39m::\u001b[32mdiscard()\u001b[39m masks \u001b[34mpurrr\u001b[39m::discard()\n",
      "\u001b[31m✖\u001b[39m \u001b[34mdplyr\u001b[39m::\u001b[32mfilter()\u001b[39m   masks \u001b[34mstats\u001b[39m::filter()\n",
      "\u001b[31m✖\u001b[39m \u001b[34mrecipes\u001b[39m::\u001b[32mfixed()\u001b[39m  masks \u001b[34mstringr\u001b[39m::fixed()\n",
      "\u001b[31m✖\u001b[39m \u001b[34mdplyr\u001b[39m::\u001b[32mlag()\u001b[39m      masks \u001b[34mstats\u001b[39m::lag()\n",
      "\u001b[31m✖\u001b[39m \u001b[34myardstick\u001b[39m::\u001b[32mspec()\u001b[39m masks \u001b[34mreadr\u001b[39m::spec()\n",
      "\u001b[31m✖\u001b[39m \u001b[34mrecipes\u001b[39m::\u001b[32mstep()\u001b[39m   masks \u001b[34mstats\u001b[39m::step()\n",
      "\u001b[34m•\u001b[39m Dig deeper into tidy modeling with R at \u001b[32mhttps://www.tmwr.org\u001b[39m\n",
      "\n"
     ]
    }
   ],
   "source": [
    "#load libraries\n",
    "library(tidyverse)\n",
    "library(repr)\n",
    "library(tidymodels)\n",
    "library(themis)\n",
    "options(repr.matrix.max.rows = 10)"
   ]
  },
  {
   "cell_type": "code",
   "execution_count": 3,
   "id": "f804ecb4-70e1-4a55-895f-aa14eaa2abbe",
   "metadata": {
    "tags": []
   },
   "outputs": [
    {
     "name": "stderr",
     "output_type": "stream",
     "text": [
      "\u001b[1mRows: \u001b[22m\u001b[34m17898\u001b[39m \u001b[1mColumns: \u001b[22m\u001b[34m9\u001b[39m\n",
      "\u001b[36m──\u001b[39m \u001b[1mColumn specification\u001b[22m \u001b[36m────────────────────────────────────────────────────────\u001b[39m\n",
      "\u001b[1mDelimiter:\u001b[22m \",\"\n",
      "\u001b[32mdbl\u001b[39m (9): mean_integrated_profile, stand_dev_integrated_profile, exc_kurtosis...\n",
      "\n",
      "\u001b[36mℹ\u001b[39m Use `spec()` to retrieve the full column specification for this data.\n",
      "\u001b[36mℹ\u001b[39m Specify the column types or set `show_col_types = FALSE` to quiet this message.\n"
     ]
    },
    {
     "data": {
      "text/html": [
       "<table class=\"dataframe\">\n",
       "<caption>A tibble: 2 × 3</caption>\n",
       "<thead>\n",
       "\t<tr><th scope=col>class</th><th scope=col>n</th><th scope=col>percent</th></tr>\n",
       "\t<tr><th scope=col>&lt;fct&gt;</th><th scope=col>&lt;int&gt;</th><th scope=col>&lt;dbl&gt;</th></tr>\n",
       "</thead>\n",
       "<tbody>\n",
       "\t<tr><td>0</td><td>16259</td><td>90.842552</td></tr>\n",
       "\t<tr><td>1</td><td> 1639</td><td> 9.157448</td></tr>\n",
       "</tbody>\n",
       "</table>\n"
      ],
      "text/latex": [
       "A tibble: 2 × 3\n",
       "\\begin{tabular}{lll}\n",
       " class & n & percent\\\\\n",
       " <fct> & <int> & <dbl>\\\\\n",
       "\\hline\n",
       "\t 0 & 16259 & 90.842552\\\\\n",
       "\t 1 &  1639 &  9.157448\\\\\n",
       "\\end{tabular}\n"
      ],
      "text/markdown": [
       "\n",
       "A tibble: 2 × 3\n",
       "\n",
       "| class &lt;fct&gt; | n &lt;int&gt; | percent &lt;dbl&gt; |\n",
       "|---|---|---|\n",
       "| 0 | 16259 | 90.842552 |\n",
       "| 1 |  1639 |  9.157448 |\n",
       "\n"
      ],
      "text/plain": [
       "  class n     percent  \n",
       "1 0     16259 90.842552\n",
       "2 1      1639  9.157448"
      ]
     },
     "metadata": {},
     "output_type": "display_data"
    }
   ],
   "source": [
    "#Add columns\n",
    "unscaled_data <- read_csv(\"pulsar_data.csv\", \n",
    "                        col_names = c(\"mean_integrated_profile\", \n",
    "                                      \"stand_dev_integrated_profile\", \n",
    "                                      \"exc_kurtosis_integrated_profile\", \n",
    "                                      \"skew_integrated_profile\",\n",
    "                                      \"mean_dmsnr\", \n",
    "                                      \"stand_dev_dmsnr\", \n",
    "                                      \"exc_kurtosis_dmsnr\", \n",
    "                                      \"skew_dmsnr\", \"class\")) \n",
    "\n",
    "unscaled_data <- unscaled_data |>\n",
    "    mutate(class = as_factor(class))\n",
    "#unscaled_data \n",
    "\n",
    "#Class proportions in unscaled dataset (Imbalanced)\n",
    "num_obs <- nrow(unscaled_data)\n",
    "pulsar_proportions <- unscaled_data |>\n",
    "    group_by(class) |>\n",
    "    summarize(n = n()) |>\n",
    "    mutate(percent = 100*n/nrow(unscaled_data))\n",
    "pulsar_proportions\n",
    "\n",
    "#Scale data\n",
    "#pulsar_recipe <- recipe(class ~ exc_kurtosis_integrated_profile + skew_dmsnr + stand_dev_integrated_profile + \n",
    "#                        mean_dmsnr + skew_integrated_profile + exc_kurtosis_dmsnr, data = unscaled_data) |>\n",
    "#    step_scale(all_predictors()) |>\n",
    "#    step_center(all_predictors()) |>\n",
    "#    prep()\n",
    "\n",
    "#standardized_pulsar <- bake(pulsar_recipe, unscaled_data)\n",
    "#standardized_pulsar"
   ]
  },
  {
   "cell_type": "code",
   "execution_count": 4,
   "id": "b3cccccc-ac7f-4dce-844e-b612c3085ccc",
   "metadata": {
    "tags": []
   },
   "outputs": [
    {
     "data": {
      "text/html": [
       "<table class=\"dataframe\">\n",
       "<caption>A tibble: 2 × 3</caption>\n",
       "<thead>\n",
       "\t<tr><th scope=col>class</th><th scope=col>n</th><th scope=col>percent</th></tr>\n",
       "\t<tr><th scope=col>&lt;fct&gt;</th><th scope=col>&lt;int&gt;</th><th scope=col>&lt;dbl&gt;</th></tr>\n",
       "</thead>\n",
       "<tbody>\n",
       "\t<tr><td>0</td><td>12200</td><td>90.888773</td></tr>\n",
       "\t<tr><td>1</td><td> 1223</td><td> 9.111227</td></tr>\n",
       "</tbody>\n",
       "</table>\n"
      ],
      "text/latex": [
       "A tibble: 2 × 3\n",
       "\\begin{tabular}{lll}\n",
       " class & n & percent\\\\\n",
       " <fct> & <int> & <dbl>\\\\\n",
       "\\hline\n",
       "\t 0 & 12200 & 90.888773\\\\\n",
       "\t 1 &  1223 &  9.111227\\\\\n",
       "\\end{tabular}\n"
      ],
      "text/markdown": [
       "\n",
       "A tibble: 2 × 3\n",
       "\n",
       "| class &lt;fct&gt; | n &lt;int&gt; | percent &lt;dbl&gt; |\n",
       "|---|---|---|\n",
       "| 0 | 12200 | 90.888773 |\n",
       "| 1 |  1223 |  9.111227 |\n",
       "\n"
      ],
      "text/plain": [
       "  class n     percent  \n",
       "1 0     12200 90.888773\n",
       "2 1      1223  9.111227"
      ]
     },
     "metadata": {},
     "output_type": "display_data"
    },
    {
     "name": "stderr",
     "output_type": "stream",
     "text": [
      "\n",
      "\n",
      "\u001b[36m──\u001b[39m \u001b[1mRecipe\u001b[22m \u001b[36m──────────────────────────────────────────────────────────────────────\u001b[39m\n",
      "\n",
      "\n",
      "\n",
      "── Inputs \n",
      "\n",
      "Number of variables by role\n",
      "\n",
      "outcome:   1\n",
      "predictor: 8\n",
      "\n",
      "\n",
      "\n",
      "── Training information \n",
      "\n",
      "Training data contained 13423 data points and no incomplete rows.\n",
      "\n",
      "\n",
      "\n",
      "── Operations \n",
      "\n",
      "\u001b[36m•\u001b[39m Scaling for: \u001b[34mmean_integrated_profile\u001b[39m, ... | \u001b[3mTrained\u001b[23m\n",
      "\n",
      "\u001b[36m•\u001b[39m Centering for: \u001b[34mmean_integrated_profile\u001b[39m, ... | \u001b[3mTrained\u001b[23m\n",
      "\n",
      "\u001b[36m•\u001b[39m Up-sampling based on: \u001b[34mclass\u001b[39m | \u001b[3mTrained\u001b[23m\n",
      "\n"
     ]
    },
    {
     "data": {
      "text/html": [
       "<table class=\"dataframe\">\n",
       "<caption>A tibble: 24400 × 9</caption>\n",
       "<thead>\n",
       "\t<tr><th scope=col>mean_integrated_profile</th><th scope=col>stand_dev_integrated_profile</th><th scope=col>exc_kurtosis_integrated_profile</th><th scope=col>skew_integrated_profile</th><th scope=col>mean_dmsnr</th><th scope=col>stand_dev_dmsnr</th><th scope=col>exc_kurtosis_dmsnr</th><th scope=col>skew_dmsnr</th><th scope=col>class</th></tr>\n",
       "\t<tr><th scope=col>&lt;dbl&gt;</th><th scope=col>&lt;dbl&gt;</th><th scope=col>&lt;dbl&gt;</th><th scope=col>&lt;dbl&gt;</th><th scope=col>&lt;dbl&gt;</th><th scope=col>&lt;dbl&gt;</th><th scope=col>&lt;dbl&gt;</th><th scope=col>&lt;dbl&gt;</th><th scope=col>&lt;fct&gt;</th></tr>\n",
       "</thead>\n",
       "<tbody>\n",
       "\t<tr><td>-0.3382028</td><td> 1.80673446</td><td>-0.009077165</td><td>-0.3682483</td><td>-0.3705891</td><td>-0.5859249</td><td> 0.5078324</td><td> 0.2171164</td><td>0</td></tr>\n",
       "\t<tr><td>-0.3182986</td><td>-1.05924615</td><td>-0.143049363</td><td>-0.1145006</td><td>-0.3210346</td><td>-0.2330929</td><td>-0.1273024</td><td>-0.3951781</td><td>0</td></tr>\n",
       "\t<tr><td> 1.0039566</td><td> 1.55681725</td><td>-0.512672218</td><td>-0.3878759</td><td>-0.3031295</td><td>-0.2733441</td><td>-0.3149639</td><td>-0.4864979</td><td>0</td></tr>\n",
       "\t<tr><td>-0.6885178</td><td> 0.01970171</td><td> 0.053749649</td><td>-0.2172864</td><td>-0.3719951</td><td>-0.6020723</td><td> 0.5179523</td><td> 0.2552567</td><td>0</td></tr>\n",
       "\t<tr><td> 0.3272118</td><td> 0.32285369</td><td>-0.418436890</td><td>-0.3029714</td><td>-0.3938600</td><td>-0.8719274</td><td> 2.4373284</td><td> 3.5765731</td><td>0</td></tr>\n",
       "\t<tr><td>⋮</td><td>⋮</td><td>⋮</td><td>⋮</td><td>⋮</td><td>⋮</td><td>⋮</td><td>⋮</td><td>⋮</td></tr>\n",
       "\t<tr><td>-3.00874182</td><td>-2.1534919</td><td>3.8811359</td><td> 3.9084502</td><td> 0.8392652</td><td>1.9072175</td><td>-1.4380657</td><td>-0.9719605</td><td>1</td></tr>\n",
       "\t<tr><td>-3.22064561</td><td>-0.4111971</td><td>3.0779063</td><td> 1.8956762</td><td> 2.0203681</td><td>2.3648486</td><td>-1.7075928</td><td>-1.0024231</td><td>1</td></tr>\n",
       "\t<tr><td>-0.99198116</td><td>-0.2663260</td><td>0.7525602</td><td> 0.1399375</td><td> 0.3947089</td><td>1.3811141</td><td>-1.3643983</td><td>-0.9603344</td><td>1</td></tr>\n",
       "\t<tr><td>-3.68854879</td><td>-2.6687807</td><td>6.3194929</td><td> 8.3330416</td><td> 4.1352890</td><td>2.8327114</td><td>-1.9108906</td><td>-1.0084590</td><td>1</td></tr>\n",
       "\t<tr><td> 0.05130818</td><td>-0.7139360</td><td>0.1358233</td><td>-0.1022850</td><td>-0.2087549</td><td>0.3292815</td><td>-0.6590595</td><td>-0.7254966</td><td>1</td></tr>\n",
       "</tbody>\n",
       "</table>\n"
      ],
      "text/latex": [
       "A tibble: 24400 × 9\n",
       "\\begin{tabular}{lllllllll}\n",
       " mean\\_integrated\\_profile & stand\\_dev\\_integrated\\_profile & exc\\_kurtosis\\_integrated\\_profile & skew\\_integrated\\_profile & mean\\_dmsnr & stand\\_dev\\_dmsnr & exc\\_kurtosis\\_dmsnr & skew\\_dmsnr & class\\\\\n",
       " <dbl> & <dbl> & <dbl> & <dbl> & <dbl> & <dbl> & <dbl> & <dbl> & <fct>\\\\\n",
       "\\hline\n",
       "\t -0.3382028 &  1.80673446 & -0.009077165 & -0.3682483 & -0.3705891 & -0.5859249 &  0.5078324 &  0.2171164 & 0\\\\\n",
       "\t -0.3182986 & -1.05924615 & -0.143049363 & -0.1145006 & -0.3210346 & -0.2330929 & -0.1273024 & -0.3951781 & 0\\\\\n",
       "\t  1.0039566 &  1.55681725 & -0.512672218 & -0.3878759 & -0.3031295 & -0.2733441 & -0.3149639 & -0.4864979 & 0\\\\\n",
       "\t -0.6885178 &  0.01970171 &  0.053749649 & -0.2172864 & -0.3719951 & -0.6020723 &  0.5179523 &  0.2552567 & 0\\\\\n",
       "\t  0.3272118 &  0.32285369 & -0.418436890 & -0.3029714 & -0.3938600 & -0.8719274 &  2.4373284 &  3.5765731 & 0\\\\\n",
       "\t ⋮ & ⋮ & ⋮ & ⋮ & ⋮ & ⋮ & ⋮ & ⋮ & ⋮\\\\\n",
       "\t -3.00874182 & -2.1534919 & 3.8811359 &  3.9084502 &  0.8392652 & 1.9072175 & -1.4380657 & -0.9719605 & 1\\\\\n",
       "\t -3.22064561 & -0.4111971 & 3.0779063 &  1.8956762 &  2.0203681 & 2.3648486 & -1.7075928 & -1.0024231 & 1\\\\\n",
       "\t -0.99198116 & -0.2663260 & 0.7525602 &  0.1399375 &  0.3947089 & 1.3811141 & -1.3643983 & -0.9603344 & 1\\\\\n",
       "\t -3.68854879 & -2.6687807 & 6.3194929 &  8.3330416 &  4.1352890 & 2.8327114 & -1.9108906 & -1.0084590 & 1\\\\\n",
       "\t  0.05130818 & -0.7139360 & 0.1358233 & -0.1022850 & -0.2087549 & 0.3292815 & -0.6590595 & -0.7254966 & 1\\\\\n",
       "\\end{tabular}\n"
      ],
      "text/markdown": [
       "\n",
       "A tibble: 24400 × 9\n",
       "\n",
       "| mean_integrated_profile &lt;dbl&gt; | stand_dev_integrated_profile &lt;dbl&gt; | exc_kurtosis_integrated_profile &lt;dbl&gt; | skew_integrated_profile &lt;dbl&gt; | mean_dmsnr &lt;dbl&gt; | stand_dev_dmsnr &lt;dbl&gt; | exc_kurtosis_dmsnr &lt;dbl&gt; | skew_dmsnr &lt;dbl&gt; | class &lt;fct&gt; |\n",
       "|---|---|---|---|---|---|---|---|---|\n",
       "| -0.3382028 |  1.80673446 | -0.009077165 | -0.3682483 | -0.3705891 | -0.5859249 |  0.5078324 |  0.2171164 | 0 |\n",
       "| -0.3182986 | -1.05924615 | -0.143049363 | -0.1145006 | -0.3210346 | -0.2330929 | -0.1273024 | -0.3951781 | 0 |\n",
       "|  1.0039566 |  1.55681725 | -0.512672218 | -0.3878759 | -0.3031295 | -0.2733441 | -0.3149639 | -0.4864979 | 0 |\n",
       "| -0.6885178 |  0.01970171 |  0.053749649 | -0.2172864 | -0.3719951 | -0.6020723 |  0.5179523 |  0.2552567 | 0 |\n",
       "|  0.3272118 |  0.32285369 | -0.418436890 | -0.3029714 | -0.3938600 | -0.8719274 |  2.4373284 |  3.5765731 | 0 |\n",
       "| ⋮ | ⋮ | ⋮ | ⋮ | ⋮ | ⋮ | ⋮ | ⋮ | ⋮ |\n",
       "| -3.00874182 | -2.1534919 | 3.8811359 |  3.9084502 |  0.8392652 | 1.9072175 | -1.4380657 | -0.9719605 | 1 |\n",
       "| -3.22064561 | -0.4111971 | 3.0779063 |  1.8956762 |  2.0203681 | 2.3648486 | -1.7075928 | -1.0024231 | 1 |\n",
       "| -0.99198116 | -0.2663260 | 0.7525602 |  0.1399375 |  0.3947089 | 1.3811141 | -1.3643983 | -0.9603344 | 1 |\n",
       "| -3.68854879 | -2.6687807 | 6.3194929 |  8.3330416 |  4.1352890 | 2.8327114 | -1.9108906 | -1.0084590 | 1 |\n",
       "|  0.05130818 | -0.7139360 | 0.1358233 | -0.1022850 | -0.2087549 | 0.3292815 | -0.6590595 | -0.7254966 | 1 |\n",
       "\n"
      ],
      "text/plain": [
       "      mean_integrated_profile stand_dev_integrated_profile\n",
       "1     -0.3382028               1.80673446                 \n",
       "2     -0.3182986              -1.05924615                 \n",
       "3      1.0039566               1.55681725                 \n",
       "4     -0.6885178               0.01970171                 \n",
       "5      0.3272118               0.32285369                 \n",
       "⋮     ⋮                       ⋮                           \n",
       "24396 -3.00874182             -2.1534919                  \n",
       "24397 -3.22064561             -0.4111971                  \n",
       "24398 -0.99198116             -0.2663260                  \n",
       "24399 -3.68854879             -2.6687807                  \n",
       "24400  0.05130818             -0.7139360                  \n",
       "      exc_kurtosis_integrated_profile skew_integrated_profile mean_dmsnr\n",
       "1     -0.009077165                    -0.3682483              -0.3705891\n",
       "2     -0.143049363                    -0.1145006              -0.3210346\n",
       "3     -0.512672218                    -0.3878759              -0.3031295\n",
       "4      0.053749649                    -0.2172864              -0.3719951\n",
       "5     -0.418436890                    -0.3029714              -0.3938600\n",
       "⋮     ⋮                               ⋮                       ⋮         \n",
       "24396 3.8811359                        3.9084502               0.8392652\n",
       "24397 3.0779063                        1.8956762               2.0203681\n",
       "24398 0.7525602                        0.1399375               0.3947089\n",
       "24399 6.3194929                        8.3330416               4.1352890\n",
       "24400 0.1358233                       -0.1022850              -0.2087549\n",
       "      stand_dev_dmsnr exc_kurtosis_dmsnr skew_dmsnr class\n",
       "1     -0.5859249       0.5078324          0.2171164 0    \n",
       "2     -0.2330929      -0.1273024         -0.3951781 0    \n",
       "3     -0.2733441      -0.3149639         -0.4864979 0    \n",
       "4     -0.6020723       0.5179523          0.2552567 0    \n",
       "5     -0.8719274       2.4373284          3.5765731 0    \n",
       "⋮     ⋮               ⋮                  ⋮          ⋮    \n",
       "24396 1.9072175       -1.4380657         -0.9719605 1    \n",
       "24397 2.3648486       -1.7075928         -1.0024231 1    \n",
       "24398 1.3811141       -1.3643983         -0.9603344 1    \n",
       "24399 2.8327114       -1.9108906         -1.0084590 1    \n",
       "24400 0.3292815       -0.6590595         -0.7254966 1    "
      ]
     },
     "metadata": {},
     "output_type": "display_data"
    },
    {
     "data": {
      "text/html": [
       "<table class=\"dataframe\">\n",
       "<caption>A tibble: 2 × 3</caption>\n",
       "<thead>\n",
       "\t<tr><th scope=col>class</th><th scope=col>n</th><th scope=col>percent</th></tr>\n",
       "\t<tr><th scope=col>&lt;fct&gt;</th><th scope=col>&lt;int&gt;</th><th scope=col>&lt;dbl&gt;</th></tr>\n",
       "</thead>\n",
       "<tbody>\n",
       "\t<tr><td>0</td><td>12200</td><td>50</td></tr>\n",
       "\t<tr><td>1</td><td>12200</td><td>50</td></tr>\n",
       "</tbody>\n",
       "</table>\n"
      ],
      "text/latex": [
       "A tibble: 2 × 3\n",
       "\\begin{tabular}{lll}\n",
       " class & n & percent\\\\\n",
       " <fct> & <int> & <dbl>\\\\\n",
       "\\hline\n",
       "\t 0 & 12200 & 50\\\\\n",
       "\t 1 & 12200 & 50\\\\\n",
       "\\end{tabular}\n"
      ],
      "text/markdown": [
       "\n",
       "A tibble: 2 × 3\n",
       "\n",
       "| class &lt;fct&gt; | n &lt;int&gt; | percent &lt;dbl&gt; |\n",
       "|---|---|---|\n",
       "| 0 | 12200 | 50 |\n",
       "| 1 | 12200 | 50 |\n",
       "\n"
      ],
      "text/plain": [
       "  class n     percent\n",
       "1 0     12200 50     \n",
       "2 1     12200 50     "
      ]
     },
     "metadata": {},
     "output_type": "display_data"
    },
    {
     "data": {
      "text/plain": [
       "══ Workflow [trained] ══════════════════════════════════════════════════════════\n",
       "\u001b[3mPreprocessor:\u001b[23m Recipe\n",
       "\u001b[3mModel:\u001b[23m nearest_neighbor()\n",
       "\n",
       "── Preprocessor ────────────────────────────────────────────────────────────────\n",
       "0 Recipe Steps\n",
       "\n",
       "── Model ───────────────────────────────────────────────────────────────────────\n",
       "\n",
       "Call:\n",
       "kknn::train.kknn(formula = ..y ~ ., data = data, ks = min_rows(3,     data, 5), kernel = ~\"rectangular\")\n",
       "\n",
       "Type of response variable: nominal\n",
       "Minimal misclassification: 0.01385246\n",
       "Best kernel: rectangular\n",
       "Best k: 3"
      ]
     },
     "metadata": {},
     "output_type": "display_data"
    },
    {
     "data": {
      "text/html": [
       "<table class=\"dataframe\">\n",
       "<caption>A tibble: 4475 × 10</caption>\n",
       "<thead>\n",
       "\t<tr><th scope=col>.pred_class</th><th scope=col>mean_integrated_profile</th><th scope=col>stand_dev_integrated_profile</th><th scope=col>exc_kurtosis_integrated_profile</th><th scope=col>skew_integrated_profile</th><th scope=col>mean_dmsnr</th><th scope=col>stand_dev_dmsnr</th><th scope=col>exc_kurtosis_dmsnr</th><th scope=col>skew_dmsnr</th><th scope=col>class</th></tr>\n",
       "\t<tr><th scope=col>&lt;fct&gt;</th><th scope=col>&lt;dbl&gt;</th><th scope=col>&lt;dbl&gt;</th><th scope=col>&lt;dbl&gt;</th><th scope=col>&lt;dbl&gt;</th><th scope=col>&lt;dbl&gt;</th><th scope=col>&lt;dbl&gt;</th><th scope=col>&lt;dbl&gt;</th><th scope=col>&lt;dbl&gt;</th><th scope=col>&lt;fct&gt;</th></tr>\n",
       "</thead>\n",
       "<tbody>\n",
       "\t<tr><td>0</td><td>140.56250</td><td>55.68378</td><td>-0.23457141</td><td>-0.6996484</td><td>3.199833</td><td>19.11043</td><td> 7.975532</td><td> 74.24222</td><td>0</td></tr>\n",
       "\t<tr><td>0</td><td> 88.72656</td><td>40.67223</td><td> 0.60086608</td><td> 1.1234917</td><td>1.178930</td><td>11.46872</td><td>14.269573</td><td>252.56731</td><td>0</td></tr>\n",
       "\t<tr><td>0</td><td>142.07812</td><td>45.28807</td><td>-0.32032843</td><td> 0.2839525</td><td>5.376254</td><td>29.00990</td><td> 6.076266</td><td> 37.83139</td><td>0</td></tr>\n",
       "\t<tr><td>0</td><td>133.25781</td><td>44.05824</td><td>-0.08105986</td><td> 0.1153615</td><td>1.632107</td><td>12.00781</td><td>11.972067</td><td>195.54345</td><td>0</td></tr>\n",
       "\t<tr><td>0</td><td>109.64062</td><td>49.01765</td><td> 0.13763583</td><td>-0.2566998</td><td>1.508361</td><td>12.07290</td><td>13.367926</td><td>223.43842</td><td>0</td></tr>\n",
       "\t<tr><td>⋮</td><td>⋮</td><td>⋮</td><td>⋮</td><td>⋮</td><td>⋮</td><td>⋮</td><td>⋮</td><td>⋮</td><td>⋮</td></tr>\n",
       "\t<tr><td>0</td><td>119.00781</td><td>52.09104</td><td> 0.21529353</td><td>-0.02022867</td><td>2.0125418</td><td>18.754594</td><td>10.339768</td><td>111.76052</td><td>0</td></tr>\n",
       "\t<tr><td>0</td><td>133.14062</td><td>43.70618</td><td>-0.01268608</td><td> 0.23239435</td><td>2.0919732</td><td>13.489370</td><td> 9.821958</td><td>131.52103</td><td>0</td></tr>\n",
       "\t<tr><td>0</td><td> 90.14844</td><td>40.78604</td><td> 0.45713856</td><td> 0.88551621</td><td>5.3545150</td><td>29.759511</td><td> 6.102231</td><td> 37.97952</td><td>0</td></tr>\n",
       "\t<tr><td>0</td><td>121.37500</td><td>53.24516</td><td> 0.10377221</td><td>-0.36511875</td><td>1.0953177</td><td>12.239976</td><td>16.258042</td><td>303.88002</td><td>0</td></tr>\n",
       "\t<tr><td>0</td><td>118.48438</td><td>50.60848</td><td>-0.02905883</td><td>-0.02749376</td><td>0.4222408</td><td> 8.086684</td><td>27.446113</td><td>830.63855</td><td>0</td></tr>\n",
       "</tbody>\n",
       "</table>\n"
      ],
      "text/latex": [
       "A tibble: 4475 × 10\n",
       "\\begin{tabular}{llllllllll}\n",
       " .pred\\_class & mean\\_integrated\\_profile & stand\\_dev\\_integrated\\_profile & exc\\_kurtosis\\_integrated\\_profile & skew\\_integrated\\_profile & mean\\_dmsnr & stand\\_dev\\_dmsnr & exc\\_kurtosis\\_dmsnr & skew\\_dmsnr & class\\\\\n",
       " <fct> & <dbl> & <dbl> & <dbl> & <dbl> & <dbl> & <dbl> & <dbl> & <dbl> & <fct>\\\\\n",
       "\\hline\n",
       "\t 0 & 140.56250 & 55.68378 & -0.23457141 & -0.6996484 & 3.199833 & 19.11043 &  7.975532 &  74.24222 & 0\\\\\n",
       "\t 0 &  88.72656 & 40.67223 &  0.60086608 &  1.1234917 & 1.178930 & 11.46872 & 14.269573 & 252.56731 & 0\\\\\n",
       "\t 0 & 142.07812 & 45.28807 & -0.32032843 &  0.2839525 & 5.376254 & 29.00990 &  6.076266 &  37.83139 & 0\\\\\n",
       "\t 0 & 133.25781 & 44.05824 & -0.08105986 &  0.1153615 & 1.632107 & 12.00781 & 11.972067 & 195.54345 & 0\\\\\n",
       "\t 0 & 109.64062 & 49.01765 &  0.13763583 & -0.2566998 & 1.508361 & 12.07290 & 13.367926 & 223.43842 & 0\\\\\n",
       "\t ⋮ & ⋮ & ⋮ & ⋮ & ⋮ & ⋮ & ⋮ & ⋮ & ⋮ & ⋮\\\\\n",
       "\t 0 & 119.00781 & 52.09104 &  0.21529353 & -0.02022867 & 2.0125418 & 18.754594 & 10.339768 & 111.76052 & 0\\\\\n",
       "\t 0 & 133.14062 & 43.70618 & -0.01268608 &  0.23239435 & 2.0919732 & 13.489370 &  9.821958 & 131.52103 & 0\\\\\n",
       "\t 0 &  90.14844 & 40.78604 &  0.45713856 &  0.88551621 & 5.3545150 & 29.759511 &  6.102231 &  37.97952 & 0\\\\\n",
       "\t 0 & 121.37500 & 53.24516 &  0.10377221 & -0.36511875 & 1.0953177 & 12.239976 & 16.258042 & 303.88002 & 0\\\\\n",
       "\t 0 & 118.48438 & 50.60848 & -0.02905883 & -0.02749376 & 0.4222408 &  8.086684 & 27.446113 & 830.63855 & 0\\\\\n",
       "\\end{tabular}\n"
      ],
      "text/markdown": [
       "\n",
       "A tibble: 4475 × 10\n",
       "\n",
       "| .pred_class &lt;fct&gt; | mean_integrated_profile &lt;dbl&gt; | stand_dev_integrated_profile &lt;dbl&gt; | exc_kurtosis_integrated_profile &lt;dbl&gt; | skew_integrated_profile &lt;dbl&gt; | mean_dmsnr &lt;dbl&gt; | stand_dev_dmsnr &lt;dbl&gt; | exc_kurtosis_dmsnr &lt;dbl&gt; | skew_dmsnr &lt;dbl&gt; | class &lt;fct&gt; |\n",
       "|---|---|---|---|---|---|---|---|---|---|\n",
       "| 0 | 140.56250 | 55.68378 | -0.23457141 | -0.6996484 | 3.199833 | 19.11043 |  7.975532 |  74.24222 | 0 |\n",
       "| 0 |  88.72656 | 40.67223 |  0.60086608 |  1.1234917 | 1.178930 | 11.46872 | 14.269573 | 252.56731 | 0 |\n",
       "| 0 | 142.07812 | 45.28807 | -0.32032843 |  0.2839525 | 5.376254 | 29.00990 |  6.076266 |  37.83139 | 0 |\n",
       "| 0 | 133.25781 | 44.05824 | -0.08105986 |  0.1153615 | 1.632107 | 12.00781 | 11.972067 | 195.54345 | 0 |\n",
       "| 0 | 109.64062 | 49.01765 |  0.13763583 | -0.2566998 | 1.508361 | 12.07290 | 13.367926 | 223.43842 | 0 |\n",
       "| ⋮ | ⋮ | ⋮ | ⋮ | ⋮ | ⋮ | ⋮ | ⋮ | ⋮ | ⋮ |\n",
       "| 0 | 119.00781 | 52.09104 |  0.21529353 | -0.02022867 | 2.0125418 | 18.754594 | 10.339768 | 111.76052 | 0 |\n",
       "| 0 | 133.14062 | 43.70618 | -0.01268608 |  0.23239435 | 2.0919732 | 13.489370 |  9.821958 | 131.52103 | 0 |\n",
       "| 0 |  90.14844 | 40.78604 |  0.45713856 |  0.88551621 | 5.3545150 | 29.759511 |  6.102231 |  37.97952 | 0 |\n",
       "| 0 | 121.37500 | 53.24516 |  0.10377221 | -0.36511875 | 1.0953177 | 12.239976 | 16.258042 | 303.88002 | 0 |\n",
       "| 0 | 118.48438 | 50.60848 | -0.02905883 | -0.02749376 | 0.4222408 |  8.086684 | 27.446113 | 830.63855 | 0 |\n",
       "\n"
      ],
      "text/plain": [
       "     .pred_class mean_integrated_profile stand_dev_integrated_profile\n",
       "1    0           140.56250               55.68378                    \n",
       "2    0            88.72656               40.67223                    \n",
       "3    0           142.07812               45.28807                    \n",
       "4    0           133.25781               44.05824                    \n",
       "5    0           109.64062               49.01765                    \n",
       "⋮    ⋮           ⋮                       ⋮                           \n",
       "4471 0           119.00781               52.09104                    \n",
       "4472 0           133.14062               43.70618                    \n",
       "4473 0            90.14844               40.78604                    \n",
       "4474 0           121.37500               53.24516                    \n",
       "4475 0           118.48438               50.60848                    \n",
       "     exc_kurtosis_integrated_profile skew_integrated_profile mean_dmsnr\n",
       "1    -0.23457141                     -0.6996484              3.199833  \n",
       "2     0.60086608                      1.1234917              1.178930  \n",
       "3    -0.32032843                      0.2839525              5.376254  \n",
       "4    -0.08105986                      0.1153615              1.632107  \n",
       "5     0.13763583                     -0.2566998              1.508361  \n",
       "⋮    ⋮                               ⋮                       ⋮         \n",
       "4471  0.21529353                     -0.02022867             2.0125418 \n",
       "4472 -0.01268608                      0.23239435             2.0919732 \n",
       "4473  0.45713856                      0.88551621             5.3545150 \n",
       "4474  0.10377221                     -0.36511875             1.0953177 \n",
       "4475 -0.02905883                     -0.02749376             0.4222408 \n",
       "     stand_dev_dmsnr exc_kurtosis_dmsnr skew_dmsnr class\n",
       "1    19.11043         7.975532           74.24222  0    \n",
       "2    11.46872        14.269573          252.56731  0    \n",
       "3    29.00990         6.076266           37.83139  0    \n",
       "4    12.00781        11.972067          195.54345  0    \n",
       "5    12.07290        13.367926          223.43842  0    \n",
       "⋮    ⋮               ⋮                  ⋮          ⋮    \n",
       "4471 18.754594       10.339768          111.76052  0    \n",
       "4472 13.489370        9.821958          131.52103  0    \n",
       "4473 29.759511        6.102231           37.97952  0    \n",
       "4474 12.239976       16.258042          303.88002  0    \n",
       "4475  8.086684       27.446113          830.63855  0    "
      ]
     },
     "metadata": {},
     "output_type": "display_data"
    },
    {
     "data": {
      "text/html": [
       "<table class=\"dataframe\">\n",
       "<caption>A tibble: 1 × 3</caption>\n",
       "<thead>\n",
       "\t<tr><th scope=col>.metric</th><th scope=col>.estimator</th><th scope=col>.estimate</th></tr>\n",
       "\t<tr><th scope=col>&lt;chr&gt;</th><th scope=col>&lt;chr&gt;</th><th scope=col>&lt;dbl&gt;</th></tr>\n",
       "</thead>\n",
       "<tbody>\n",
       "\t<tr><td>accuracy</td><td>binary</td><td>0.907486</td></tr>\n",
       "</tbody>\n",
       "</table>\n"
      ],
      "text/latex": [
       "A tibble: 1 × 3\n",
       "\\begin{tabular}{lll}\n",
       " .metric & .estimator & .estimate\\\\\n",
       " <chr> & <chr> & <dbl>\\\\\n",
       "\\hline\n",
       "\t accuracy & binary & 0.907486\\\\\n",
       "\\end{tabular}\n"
      ],
      "text/markdown": [
       "\n",
       "A tibble: 1 × 3\n",
       "\n",
       "| .metric &lt;chr&gt; | .estimator &lt;chr&gt; | .estimate &lt;dbl&gt; |\n",
       "|---|---|---|\n",
       "| accuracy | binary | 0.907486 |\n",
       "\n"
      ],
      "text/plain": [
       "  .metric  .estimator .estimate\n",
       "1 accuracy binary     0.907486 "
      ]
     },
     "metadata": {},
     "output_type": "display_data"
    },
    {
     "data": {
      "text/plain": [
       "          Truth\n",
       "Prediction    0    1\n",
       "         0 4059  414\n",
       "         1    0    2"
      ]
     },
     "metadata": {},
     "output_type": "display_data"
    }
   ],
   "source": [
    "set.seed(1)\n",
    "pulsar_split <- initial_split(unscaled_data, prop = 0.75, strata = class)\n",
    "pulsar_train <- training(pulsar_split)\n",
    "pulsar_test <- testing(pulsar_split) \n",
    "\n",
    "#Check class proportions in the training set\n",
    "pulsar_proportions <- pulsar_train |>\n",
    "    group_by(class) |>\n",
    "    summarize(n = n()) |>\n",
    "    mutate(percent = 100*n/nrow(pulsar_train)) \n",
    "pulsar_proportions\n",
    "\n",
    "#Standardize and Upsample data to balance the training set\n",
    "pulsar_recipe <- recipe(class ~ ., data = pulsar_train) |>\n",
    "    step_scale(all_predictors()) |>\n",
    "    step_center(all_predictors()) |>\n",
    "    themis::step_upsample(class, over_ratio = 1, skip = FALSE) |>\n",
    "    prep()\n",
    "pulsar_recipe\n",
    "\n",
    "pulsar_train <- bake(pulsar_recipe, pulsar_train)\n",
    "pulsar_train\n",
    "\n",
    "#Check new proportions in training set\n",
    "new_pulsar_proportions <- pulsar_train |>\n",
    "    group_by(class) |>\n",
    "    summarize(n = n()) |>\n",
    "    mutate(percent = 100*n/nrow(pulsar_train))\n",
    "new_pulsar_proportions\n",
    "\n",
    "dummy_recipe <- recipe(class ~ ., data = pulsar_train)\n",
    "\n",
    "knn_spec <- nearest_neighbor(weight_func = \"rectangular\", neighbors = 3) |>\n",
    "    set_engine(\"kknn\") |>\n",
    "    set_mode(\"classification\")\n",
    "\n",
    "pulsar_fit <- workflow() |>\n",
    "    add_recipe(dummy_recipe) |>\n",
    "    add_model(knn_spec) |>\n",
    "    fit(data = pulsar_train)\n",
    "pulsar_fit\n",
    "\n",
    "pulsar_test_predictions <- predict(pulsar_fit, pulsar_test) |>\n",
    "    bind_cols(pulsar_test)\n",
    "pulsar_test_predictions\n",
    "\n",
    "pulsar_prediction_accuracy <- pulsar_test_predictions |>\n",
    "    metrics(truth = class, estimate = .pred_class) |>\n",
    "    filter(.metric == \"accuracy\")\n",
    "pulsar_prediction_accuracy\n",
    "\n",
    "confusion <- pulsar_test_predictions |>\n",
    "    conf_mat(truth = class, estimate = .pred_class)\n",
    "confusion"
   ]
  },
  {
   "cell_type": "code",
   "execution_count": 5,
   "id": "15084792-cc40-4be1-a1d4-e1385a0708a2",
   "metadata": {
    "tags": []
   },
   "outputs": [
    {
     "data": {
      "text/html": [
       "<table class=\"dataframe\">\n",
       "<caption>A tibble: 2 × 6</caption>\n",
       "<thead>\n",
       "\t<tr><th scope=col>.metric</th><th scope=col>.estimator</th><th scope=col>mean</th><th scope=col>n</th><th scope=col>std_err</th><th scope=col>.config</th></tr>\n",
       "\t<tr><th scope=col>&lt;chr&gt;</th><th scope=col>&lt;chr&gt;</th><th scope=col>&lt;dbl&gt;</th><th scope=col>&lt;int&gt;</th><th scope=col>&lt;dbl&gt;</th><th scope=col>&lt;chr&gt;</th></tr>\n",
       "</thead>\n",
       "<tbody>\n",
       "\t<tr><td>accuracy</td><td>binary</td><td>0.9852459</td><td>10</td><td>0.0010421984</td><td>Preprocessor1_Model1</td></tr>\n",
       "\t<tr><td>roc_auc </td><td>binary</td><td>0.9913005</td><td>10</td><td>0.0008092232</td><td>Preprocessor1_Model1</td></tr>\n",
       "</tbody>\n",
       "</table>\n"
      ],
      "text/latex": [
       "A tibble: 2 × 6\n",
       "\\begin{tabular}{llllll}\n",
       " .metric & .estimator & mean & n & std\\_err & .config\\\\\n",
       " <chr> & <chr> & <dbl> & <int> & <dbl> & <chr>\\\\\n",
       "\\hline\n",
       "\t accuracy & binary & 0.9852459 & 10 & 0.0010421984 & Preprocessor1\\_Model1\\\\\n",
       "\t roc\\_auc  & binary & 0.9913005 & 10 & 0.0008092232 & Preprocessor1\\_Model1\\\\\n",
       "\\end{tabular}\n"
      ],
      "text/markdown": [
       "\n",
       "A tibble: 2 × 6\n",
       "\n",
       "| .metric &lt;chr&gt; | .estimator &lt;chr&gt; | mean &lt;dbl&gt; | n &lt;int&gt; | std_err &lt;dbl&gt; | .config &lt;chr&gt; |\n",
       "|---|---|---|---|---|---|\n",
       "| accuracy | binary | 0.9852459 | 10 | 0.0010421984 | Preprocessor1_Model1 |\n",
       "| roc_auc  | binary | 0.9913005 | 10 | 0.0008092232 | Preprocessor1_Model1 |\n",
       "\n"
      ],
      "text/plain": [
       "  .metric  .estimator mean      n  std_err      .config             \n",
       "1 accuracy binary     0.9852459 10 0.0010421984 Preprocessor1_Model1\n",
       "2 roc_auc  binary     0.9913005 10 0.0008092232 Preprocessor1_Model1"
      ]
     },
     "metadata": {},
     "output_type": "display_data"
    }
   ],
   "source": [
    "#10 fold cross validation\n",
    "pulsar_vfold <- vfold_cv(pulsar_train, v = 10, strata = class)\n",
    "\n",
    "pulsar_resample_fit <- workflow() |>\n",
    "       add_recipe(dummy_recipe) |>\n",
    "       add_model(knn_spec) |>\n",
    "       fit_resamples(resamples = pulsar_vfold)\n",
    "\n",
    "pulsar_metrics <- collect_metrics(pulsar_resample_fit)\n",
    "pulsar_metrics"
   ]
  },
  {
   "cell_type": "code",
   "execution_count": null,
   "id": "f3dad9b6-9233-474f-b1cb-eedb8b441f6a",
   "metadata": {
    "tags": []
   },
   "outputs": [],
   "source": [
    "#CAUTION: Takes a long time to load.\n",
    "knn_tune <- nearest_neighbor(weight_func = \"rectangular\", neighbors = tune()) |>\n",
    "            set_engine(\"kknn\") |>\n",
    "            set_mode(\"classification\")\n",
    "#knn_tune\n",
    "\n",
    "k_vals <- tibble(neighbors = seq(from = 1, to = 100, by = 5))\n",
    "\n",
    "knn_results <- workflow() |>\n",
    "               add_recipe(dummy_recipe) |>\n",
    "               add_model(knn_tune) |>\n",
    "               tune_grid(resamples = pulsar_vfold, grid = k_vals) |>\n",
    "               collect_metrics()\n",
    "#knn_results\n",
    "\n",
    "accuracies <- knn_results |> \n",
    "       filter(.metric == \"accuracy\")\n",
    "\n",
    "accuracy_versus_k <- ggplot(accuracies, aes(x = neighbors, y = mean))+\n",
    "       geom_point() +\n",
    "       geom_line() +\n",
    "       labs(x = \"Neighbors\", y = \"Accuracy Estimate\")  \n",
    "\n",
    "\n",
    "\n",
    "accuracy_versus_k\n"
   ]
  },
  {
   "cell_type": "markdown",
   "id": "13591307-6a28-45f7-9559-b9fd446c6e30",
   "metadata": {},
   "source": [
    "**Selecting Predictors**"
   ]
  },
  {
   "cell_type": "code",
   "execution_count": null,
   "id": "f9db86c0-14aa-4fcd-87e7-a71362c1417f",
   "metadata": {
    "tags": []
   },
   "outputs": [],
   "source": [
    "names <- colnames(pulsar_train |> select(-class))\n",
    "names"
   ]
  },
  {
   "cell_type": "code",
   "execution_count": null,
   "id": "3a78cd2a-8fa3-4c14-b92f-3d393d4bb4a6",
   "metadata": {},
   "outputs": [],
   "source": []
  },
  {
   "cell_type": "code",
   "execution_count": null,
   "id": "e34b4583-cb62-469d-ac7b-44a903952429",
   "metadata": {
    "tags": []
   },
   "outputs": [],
   "source": [
    "example_formula <- paste(\"class\", \"~\", paste(names, collapse=\"+\"))\n",
    "example_formula"
   ]
  },
  {
   "cell_type": "code",
   "execution_count": null,
   "id": "e961799a-d823-44a2-ada2-dd5e0caceee8",
   "metadata": {
    "tags": []
   },
   "outputs": [],
   "source": [
    "# create an empty tibble to store the results\n",
    "predictor_accuracies <- tibble(size = integer(), \n",
    "                     model_string = character(), \n",
    "                     accuracy = numeric())"
   ]
  },
  {
   "cell_type": "code",
   "execution_count": null,
   "id": "1838d8fb-5b4e-452b-9c10-66d613dfdf77",
   "metadata": {
    "tags": []
   },
   "outputs": [],
   "source": [
    "# store the total number of predictors\n",
    "n_total <- length(names)\n",
    "\n",
    "# stores selected predictors\n",
    "selected <- c()\n",
    "\n",
    "# for every size from 1 to the total number of predictors\n",
    "for (i in 1:n_total) {\n",
    "    # for every predictor still not added yet\n",
    "    accs <- list()\n",
    "    models <- list()\n",
    "    for (j in 1:length(names)) {\n",
    "        # create a model string for this combination of predictors\n",
    "        preds_new <- c(selected, names[[j]])\n",
    "        model_string <- paste(\"class\", \"~\", paste(preds_new, collapse=\"+\"))\n",
    "\n",
    "        # create a recipe from the model string\n",
    "        pulsar_recipe <- recipe(as.formula(model_string), \n",
    "                                data = pulsar_train) |>\n",
    "                          step_scale(all_predictors()) |>\n",
    "                          step_center(all_predictors())\n",
    "\n",
    "        # tune the KNN classifier with these predictors, \n",
    "        # and collect the accuracy for the best K\n",
    "        acc <- workflow() |>\n",
    "          add_recipe(pulsar_recipe) |>\n",
    "          add_model(knn_spec) |>\n",
    "          tune_grid(resamples = pulsar_vfold, grid = 10) |>\n",
    "          collect_metrics() |>\n",
    "          filter(.metric == \"accuracy\") |>\n",
    "          summarize(mx = max(mean))\n",
    "        acc <- acc$mx |> unlist()\n",
    "\n",
    "        # add this result to the dataframe\n",
    "        accs[[j]] <- acc\n",
    "        models[[j]] <- model_string\n",
    "    }\n",
    "    jstar <- which.max(unlist(accs))\n",
    "predictor_accuracies <- predictor_accuracies |> \n",
    "      add_row(size = i, \n",
    "              model_string = models[[jstar]], \n",
    "              accuracy = accs[[jstar]])\n",
    "    selected <- c(selected, names[[jstar]])\n",
    "    names <- names[-jstar]\n",
    "}\n",
    "predictor_accuracies"
   ]
  },
  {
   "cell_type": "markdown",
   "id": "a6ad220a-70ee-4a89-99d0-73000de0700f",
   "metadata": {},
   "source": [
    "Based on the data above, the highest accuracy is obtained by having exc_kurtosis_integrated_profile+skew_dmsnr+stand_dev_integrated_profile+mean_dmsnr as predictors"
   ]
  },
  {
   "cell_type": "code",
   "execution_count": null,
   "id": "efca7c97-8078-4c5f-a204-790d65191714",
   "metadata": {},
   "outputs": [],
   "source": []
  }
 ],
 "metadata": {
  "kernelspec": {
   "display_name": "R",
   "language": "R",
   "name": "ir"
  },
  "language_info": {
   "codemirror_mode": "r",
   "file_extension": ".r",
   "mimetype": "text/x-r-source",
   "name": "R",
   "pygments_lexer": "r",
   "version": "4.2.3"
  }
 },
 "nbformat": 4,
 "nbformat_minor": 5
}
