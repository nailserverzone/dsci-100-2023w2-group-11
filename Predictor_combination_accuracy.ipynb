{
 "cells": [
  {
   "cell_type": "code",
   "execution_count": 24,
   "id": "46b48142-65c0-4405-8699-0b24a532eaab",
   "metadata": {
    "tags": []
   },
   "outputs": [
    {
     "name": "stderr",
     "output_type": "stream",
     "text": [
      "Installing package into ‘/home/jupyter/R/x86_64-pc-linux-gnu-library/4.2’\n",
      "(as ‘lib’ is unspecified)\n",
      "\n",
      "Skipping install of 'tune' from a github remote, the SHA1 (597ddf7a) has not changed since last install.\n",
      "  Use `force = TRUE` to force installation\n",
      "\n",
      "Installing package into ‘/home/jupyter/R/x86_64-pc-linux-gnu-library/4.2’\n",
      "(as ‘lib’ is unspecified)\n",
      "\n",
      "also installing the dependency ‘igraph’\n",
      "\n",
      "\n"
     ]
    }
   ],
   "source": [
    "#CAUTION: Takes a long time to load.\n",
    "install.packages(\"themis\")\n",
    "devtools::install_github(\"tidymodels/tune\")\n",
    "install.packages(\"kknn\")"
   ]
  },
  {
   "cell_type": "code",
   "execution_count": 2,
   "id": "18e9f3dc-d38a-4f62-ae68-565b9162ddb6",
   "metadata": {
    "tags": []
   },
   "outputs": [
    {
     "name": "stderr",
     "output_type": "stream",
     "text": [
      "Warning message in system(\"timedatectl\", intern = TRUE):\n",
      "“running command 'timedatectl' had status 1”\n",
      "── \u001b[1mAttaching core tidyverse packages\u001b[22m ──────────────────────── tidyverse 2.0.0 ──\n",
      "\u001b[32m✔\u001b[39m \u001b[34mdplyr    \u001b[39m 1.1.1     \u001b[32m✔\u001b[39m \u001b[34mreadr    \u001b[39m 2.1.4\n",
      "\u001b[32m✔\u001b[39m \u001b[34mforcats  \u001b[39m 1.0.0     \u001b[32m✔\u001b[39m \u001b[34mstringr  \u001b[39m 1.5.0\n",
      "\u001b[32m✔\u001b[39m \u001b[34mggplot2  \u001b[39m 3.4.2     \u001b[32m✔\u001b[39m \u001b[34mtibble   \u001b[39m 3.2.1\n",
      "\u001b[32m✔\u001b[39m \u001b[34mlubridate\u001b[39m 1.9.2     \u001b[32m✔\u001b[39m \u001b[34mtidyr    \u001b[39m 1.3.0\n",
      "\u001b[32m✔\u001b[39m \u001b[34mpurrr    \u001b[39m 1.0.1     \n",
      "── \u001b[1mConflicts\u001b[22m ────────────────────────────────────────── tidyverse_conflicts() ──\n",
      "\u001b[31m✖\u001b[39m \u001b[34mdplyr\u001b[39m::\u001b[32mfilter()\u001b[39m masks \u001b[34mstats\u001b[39m::filter()\n",
      "\u001b[31m✖\u001b[39m \u001b[34mdplyr\u001b[39m::\u001b[32mlag()\u001b[39m    masks \u001b[34mstats\u001b[39m::lag()\n",
      "\u001b[36mℹ\u001b[39m Use the conflicted package (\u001b[3m\u001b[34m<http://conflicted.r-lib.org/>\u001b[39m\u001b[23m) to force all conflicts to become errors\n",
      "── \u001b[1mAttaching packages\u001b[22m ────────────────────────────────────── tidymodels 1.0.0 ──\n",
      "\n",
      "\u001b[32m✔\u001b[39m \u001b[34mbroom       \u001b[39m 1.0.4          \u001b[32m✔\u001b[39m \u001b[34mrsample     \u001b[39m 1.1.1     \n",
      "\u001b[32m✔\u001b[39m \u001b[34mdials       \u001b[39m 1.2.0          \u001b[32m✔\u001b[39m \u001b[34mtune        \u001b[39m 1.1.1.\u001b[31m9000\u001b[39m\n",
      "\u001b[32m✔\u001b[39m \u001b[34minfer       \u001b[39m 1.0.4          \u001b[32m✔\u001b[39m \u001b[34mworkflows   \u001b[39m 1.1.3     \n",
      "\u001b[32m✔\u001b[39m \u001b[34mmodeldata   \u001b[39m 1.1.0          \u001b[32m✔\u001b[39m \u001b[34mworkflowsets\u001b[39m 1.0.1     \n",
      "\u001b[32m✔\u001b[39m \u001b[34mparsnip     \u001b[39m 1.1.0          \u001b[32m✔\u001b[39m \u001b[34myardstick   \u001b[39m 1.1.0     \n",
      "\u001b[32m✔\u001b[39m \u001b[34mrecipes     \u001b[39m 1.0.5          \n",
      "\n",
      "── \u001b[1mConflicts\u001b[22m ───────────────────────────────────────── tidymodels_conflicts() ──\n",
      "\u001b[31m✖\u001b[39m \u001b[34mscales\u001b[39m::\u001b[32mdiscard()\u001b[39m masks \u001b[34mpurrr\u001b[39m::discard()\n",
      "\u001b[31m✖\u001b[39m \u001b[34mdplyr\u001b[39m::\u001b[32mfilter()\u001b[39m   masks \u001b[34mstats\u001b[39m::filter()\n",
      "\u001b[31m✖\u001b[39m \u001b[34mrecipes\u001b[39m::\u001b[32mfixed()\u001b[39m  masks \u001b[34mstringr\u001b[39m::fixed()\n",
      "\u001b[31m✖\u001b[39m \u001b[34mdplyr\u001b[39m::\u001b[32mlag()\u001b[39m      masks \u001b[34mstats\u001b[39m::lag()\n",
      "\u001b[31m✖\u001b[39m \u001b[34myardstick\u001b[39m::\u001b[32mspec()\u001b[39m masks \u001b[34mreadr\u001b[39m::spec()\n",
      "\u001b[31m✖\u001b[39m \u001b[34mrecipes\u001b[39m::\u001b[32mstep()\u001b[39m   masks \u001b[34mstats\u001b[39m::step()\n",
      "\u001b[34m•\u001b[39m Learn how to get started at \u001b[32mhttps://www.tidymodels.org/start/\u001b[39m\n",
      "\n"
     ]
    }
   ],
   "source": [
    "#load libraries\n",
    "library(tidyverse)\n",
    "library(repr)\n",
    "library(tidymodels)\n",
    "library(themis)\n",
    "options(repr.matrix.max.rows = 10)"
   ]
  },
  {
   "cell_type": "code",
   "execution_count": 9,
   "id": "f804ecb4-70e1-4a55-895f-aa14eaa2abbe",
   "metadata": {
    "tags": []
   },
   "outputs": [
    {
     "name": "stderr",
     "output_type": "stream",
     "text": [
      "\u001b[1mRows: \u001b[22m\u001b[34m17898\u001b[39m \u001b[1mColumns: \u001b[22m\u001b[34m9\u001b[39m\n",
      "\u001b[36m──\u001b[39m \u001b[1mColumn specification\u001b[22m \u001b[36m────────────────────────────────────────────────────────\u001b[39m\n",
      "\u001b[1mDelimiter:\u001b[22m \",\"\n",
      "\u001b[32mdbl\u001b[39m (9): mean_integrated_profile, stand_dev_integrated_profile, exc_kurtosis...\n",
      "\n",
      "\u001b[36mℹ\u001b[39m Use `spec()` to retrieve the full column specification for this data.\n",
      "\u001b[36mℹ\u001b[39m Specify the column types or set `show_col_types = FALSE` to quiet this message.\n"
     ]
    },
    {
     "data": {
      "text/html": [
       "<table class=\"dataframe\">\n",
       "<caption>A tibble: 2 × 3</caption>\n",
       "<thead>\n",
       "\t<tr><th scope=col>class</th><th scope=col>n</th><th scope=col>percent</th></tr>\n",
       "\t<tr><th scope=col>&lt;fct&gt;</th><th scope=col>&lt;int&gt;</th><th scope=col>&lt;dbl&gt;</th></tr>\n",
       "</thead>\n",
       "<tbody>\n",
       "\t<tr><td>0</td><td>16259</td><td>90.842552</td></tr>\n",
       "\t<tr><td>1</td><td> 1639</td><td> 9.157448</td></tr>\n",
       "</tbody>\n",
       "</table>\n"
      ],
      "text/latex": [
       "A tibble: 2 × 3\n",
       "\\begin{tabular}{lll}\n",
       " class & n & percent\\\\\n",
       " <fct> & <int> & <dbl>\\\\\n",
       "\\hline\n",
       "\t 0 & 16259 & 90.842552\\\\\n",
       "\t 1 &  1639 &  9.157448\\\\\n",
       "\\end{tabular}\n"
      ],
      "text/markdown": [
       "\n",
       "A tibble: 2 × 3\n",
       "\n",
       "| class &lt;fct&gt; | n &lt;int&gt; | percent &lt;dbl&gt; |\n",
       "|---|---|---|\n",
       "| 0 | 16259 | 90.842552 |\n",
       "| 1 |  1639 |  9.157448 |\n",
       "\n"
      ],
      "text/plain": [
       "  class n     percent  \n",
       "1 0     16259 90.842552\n",
       "2 1      1639  9.157448"
      ]
     },
     "metadata": {},
     "output_type": "display_data"
    },
    {
     "data": {
      "text/html": [
       "<table class=\"dataframe\">\n",
       "<caption>A tibble: 17898 × 7</caption>\n",
       "<thead>\n",
       "\t<tr><th scope=col>exc_kurtosis_integrated_profile</th><th scope=col>skew_dmsnr</th><th scope=col>stand_dev_integrated_profile</th><th scope=col>mean_dmsnr</th><th scope=col>skew_integrated_profile</th><th scope=col>exc_kurtosis_dmsnr</th><th scope=col>class</th></tr>\n",
       "\t<tr><th scope=col>&lt;dbl&gt;</th><th scope=col>&lt;dbl&gt;</th><th scope=col>&lt;dbl&gt;</th><th scope=col>&lt;dbl&gt;</th><th scope=col>&lt;dbl&gt;</th><th scope=col>&lt;dbl&gt;</th><th scope=col>&lt;fct&gt;</th></tr>\n",
       "</thead>\n",
       "<tbody>\n",
       "\t<tr><td>-0.66955083</td><td>-0.2874301</td><td> 1.3347944</td><td>-0.3194313</td><td>-0.4004478</td><td>-0.07279575</td><td>0</td></tr>\n",
       "\t<tr><td>-0.01178443</td><td> 0.2115755</td><td> 1.8022150</td><td>-0.3710915</td><td>-0.3705251</td><td> 0.50441285</td><td>0</td></tr>\n",
       "\t<tr><td>-0.14522850</td><td>-0.3913625</td><td>-1.0532928</td><td>-0.3220980</td><td>-0.1165896</td><td>-0.12599257</td><td>0</td></tr>\n",
       "\t<tr><td>-0.51339427</td><td>-0.4812869</td><td> 1.5532110</td><td>-0.3043957</td><td>-0.3901672</td><td>-0.31225666</td><td>0</td></tr>\n",
       "\t<tr><td> 0.11560548</td><td> 1.3867553</td><td>-0.8588548</td><td>-0.3879995</td><td>-0.1048632</td><td> 1.32398915</td><td>0</td></tr>\n",
       "\t<tr><td>⋮</td><td>⋮</td><td>⋮</td><td>⋮</td><td>⋮</td><td>⋮</td><td>⋮</td></tr>\n",
       "\t<tr><td>-0.6256372</td><td> 1.6999868</td><td>1.9432298</td><td>-0.3839995</td><td>-0.4066857</td><td> 1.586009</td><td>0</td></tr>\n",
       "\t<tr><td>-0.3288215</td><td>-0.9065487</td><td>0.4290505</td><td> 0.1287725</td><td>-0.2346366</td><td>-1.189126</td><td>0</td></tr>\n",
       "\t<tr><td>-0.2993254</td><td>-0.9413038</td><td>1.9561650</td><td> 0.2991291</td><td>-0.4074805</td><td>-1.288043</td><td>0</td></tr>\n",
       "\t<tr><td>-0.2600428</td><td> 0.2758422</td><td>1.0744797</td><td>-0.3619567</td><td>-0.2910333</td><td> 0.378246</td><td>0</td></tr>\n",
       "\t<tr><td> 0.8726496</td><td>-0.9710246</td><td>5.7353094</td><td> 5.9611249</td><td>-0.2725005</td><td>-2.197266</td><td>0</td></tr>\n",
       "</tbody>\n",
       "</table>\n"
      ],
      "text/latex": [
       "A tibble: 17898 × 7\n",
       "\\begin{tabular}{lllllll}\n",
       " exc\\_kurtosis\\_integrated\\_profile & skew\\_dmsnr & stand\\_dev\\_integrated\\_profile & mean\\_dmsnr & skew\\_integrated\\_profile & exc\\_kurtosis\\_dmsnr & class\\\\\n",
       " <dbl> & <dbl> & <dbl> & <dbl> & <dbl> & <dbl> & <fct>\\\\\n",
       "\\hline\n",
       "\t -0.66955083 & -0.2874301 &  1.3347944 & -0.3194313 & -0.4004478 & -0.07279575 & 0\\\\\n",
       "\t -0.01178443 &  0.2115755 &  1.8022150 & -0.3710915 & -0.3705251 &  0.50441285 & 0\\\\\n",
       "\t -0.14522850 & -0.3913625 & -1.0532928 & -0.3220980 & -0.1165896 & -0.12599257 & 0\\\\\n",
       "\t -0.51339427 & -0.4812869 &  1.5532110 & -0.3043957 & -0.3901672 & -0.31225666 & 0\\\\\n",
       "\t  0.11560548 &  1.3867553 & -0.8588548 & -0.3879995 & -0.1048632 &  1.32398915 & 0\\\\\n",
       "\t ⋮ & ⋮ & ⋮ & ⋮ & ⋮ & ⋮ & ⋮\\\\\n",
       "\t -0.6256372 &  1.6999868 & 1.9432298 & -0.3839995 & -0.4066857 &  1.586009 & 0\\\\\n",
       "\t -0.3288215 & -0.9065487 & 0.4290505 &  0.1287725 & -0.2346366 & -1.189126 & 0\\\\\n",
       "\t -0.2993254 & -0.9413038 & 1.9561650 &  0.2991291 & -0.4074805 & -1.288043 & 0\\\\\n",
       "\t -0.2600428 &  0.2758422 & 1.0744797 & -0.3619567 & -0.2910333 &  0.378246 & 0\\\\\n",
       "\t  0.8726496 & -0.9710246 & 5.7353094 &  5.9611249 & -0.2725005 & -2.197266 & 0\\\\\n",
       "\\end{tabular}\n"
      ],
      "text/markdown": [
       "\n",
       "A tibble: 17898 × 7\n",
       "\n",
       "| exc_kurtosis_integrated_profile &lt;dbl&gt; | skew_dmsnr &lt;dbl&gt; | stand_dev_integrated_profile &lt;dbl&gt; | mean_dmsnr &lt;dbl&gt; | skew_integrated_profile &lt;dbl&gt; | exc_kurtosis_dmsnr &lt;dbl&gt; | class &lt;fct&gt; |\n",
       "|---|---|---|---|---|---|---|\n",
       "| -0.66955083 | -0.2874301 |  1.3347944 | -0.3194313 | -0.4004478 | -0.07279575 | 0 |\n",
       "| -0.01178443 |  0.2115755 |  1.8022150 | -0.3710915 | -0.3705251 |  0.50441285 | 0 |\n",
       "| -0.14522850 | -0.3913625 | -1.0532928 | -0.3220980 | -0.1165896 | -0.12599257 | 0 |\n",
       "| -0.51339427 | -0.4812869 |  1.5532110 | -0.3043957 | -0.3901672 | -0.31225666 | 0 |\n",
       "|  0.11560548 |  1.3867553 | -0.8588548 | -0.3879995 | -0.1048632 |  1.32398915 | 0 |\n",
       "| ⋮ | ⋮ | ⋮ | ⋮ | ⋮ | ⋮ | ⋮ |\n",
       "| -0.6256372 |  1.6999868 | 1.9432298 | -0.3839995 | -0.4066857 |  1.586009 | 0 |\n",
       "| -0.3288215 | -0.9065487 | 0.4290505 |  0.1287725 | -0.2346366 | -1.189126 | 0 |\n",
       "| -0.2993254 | -0.9413038 | 1.9561650 |  0.2991291 | -0.4074805 | -1.288043 | 0 |\n",
       "| -0.2600428 |  0.2758422 | 1.0744797 | -0.3619567 | -0.2910333 |  0.378246 | 0 |\n",
       "|  0.8726496 | -0.9710246 | 5.7353094 |  5.9611249 | -0.2725005 | -2.197266 | 0 |\n",
       "\n"
      ],
      "text/plain": [
       "      exc_kurtosis_integrated_profile skew_dmsnr stand_dev_integrated_profile\n",
       "1     -0.66955083                     -0.2874301  1.3347944                  \n",
       "2     -0.01178443                      0.2115755  1.8022150                  \n",
       "3     -0.14522850                     -0.3913625 -1.0532928                  \n",
       "4     -0.51339427                     -0.4812869  1.5532110                  \n",
       "5      0.11560548                      1.3867553 -0.8588548                  \n",
       "⋮     ⋮                               ⋮          ⋮                           \n",
       "17894 -0.6256372                       1.6999868 1.9432298                   \n",
       "17895 -0.3288215                      -0.9065487 0.4290505                   \n",
       "17896 -0.2993254                      -0.9413038 1.9561650                   \n",
       "17897 -0.2600428                       0.2758422 1.0744797                   \n",
       "17898  0.8726496                      -0.9710246 5.7353094                   \n",
       "      mean_dmsnr skew_integrated_profile exc_kurtosis_dmsnr class\n",
       "1     -0.3194313 -0.4004478              -0.07279575        0    \n",
       "2     -0.3710915 -0.3705251               0.50441285        0    \n",
       "3     -0.3220980 -0.1165896              -0.12599257        0    \n",
       "4     -0.3043957 -0.3901672              -0.31225666        0    \n",
       "5     -0.3879995 -0.1048632               1.32398915        0    \n",
       "⋮     ⋮          ⋮                       ⋮                  ⋮    \n",
       "17894 -0.3839995 -0.4066857               1.586009          0    \n",
       "17895  0.1287725 -0.2346366              -1.189126          0    \n",
       "17896  0.2991291 -0.4074805              -1.288043          0    \n",
       "17897 -0.3619567 -0.2910333               0.378246          0    \n",
       "17898  5.9611249 -0.2725005              -2.197266          0    "
      ]
     },
     "metadata": {},
     "output_type": "display_data"
    }
   ],
   "source": [
    "#Add columns\n",
    "unscaled_data <- read_csv(\"pulsar_data.csv\", \n",
    "                        col_names = c(\"mean_integrated_profile\", \n",
    "                                      \"stand_dev_integrated_profile\", \n",
    "                                      \"exc_kurtosis_integrated_profile\", \n",
    "                                      \"skew_integrated_profile\",\n",
    "                                      \"mean_dmsnr\", \n",
    "                                      \"stand_dev_dmsnr\", \n",
    "                                      \"exc_kurtosis_dmsnr\", \n",
    "                                      \"skew_dmsnr\", \"class\")) \n",
    "\n",
    "unscaled_data <- unscaled_data |>\n",
    "    mutate(class = as_factor(class))\n",
    "#unscaled_data \n",
    "\n",
    "#Class proportions in unscaled dataset (Imbalanced)\n",
    "num_obs <- nrow(unscaled_data)\n",
    "pulsar_proportions <- unscaled_data |>\n",
    "    group_by(class) |>\n",
    "    summarize(n = n()) |>\n",
    "    mutate(percent = 100*n/nrow(unscaled_data))\n",
    "pulsar_proportions\n",
    "\n",
    "#Scale data\n",
    "#pulsar_recipe <- recipe(class ~ exc_kurtosis_integrated_profile + skew_dmsnr + stand_dev_integrated_profile + \n",
    "#                        mean_dmsnr + skew_integrated_profile + exc_kurtosis_dmsnr, data = unscaled_data) |>\n",
    "#    step_scale(all_predictors()) |>\n",
    "#    step_center(all_predictors()) |>\n",
    "#    prep()\n",
    "\n",
    "#standardized_pulsar <- bake(pulsar_recipe, unscaled_data)\n",
    "#standardized_pulsar"
   ]
  },
  {
   "cell_type": "code",
   "execution_count": 30,
   "id": "b3cccccc-ac7f-4dce-844e-b612c3085ccc",
   "metadata": {
    "tags": []
   },
   "outputs": [
    {
     "data": {
      "text/html": [
       "<table class=\"dataframe\">\n",
       "<caption>A tibble: 2 × 3</caption>\n",
       "<thead>\n",
       "\t<tr><th scope=col>class</th><th scope=col>n</th><th scope=col>percent</th></tr>\n",
       "\t<tr><th scope=col>&lt;fct&gt;</th><th scope=col>&lt;int&gt;</th><th scope=col>&lt;dbl&gt;</th></tr>\n",
       "</thead>\n",
       "<tbody>\n",
       "\t<tr><td>0</td><td>12200</td><td>90.888773</td></tr>\n",
       "\t<tr><td>1</td><td> 1223</td><td> 9.111227</td></tr>\n",
       "</tbody>\n",
       "</table>\n"
      ],
      "text/latex": [
       "A tibble: 2 × 3\n",
       "\\begin{tabular}{lll}\n",
       " class & n & percent\\\\\n",
       " <fct> & <int> & <dbl>\\\\\n",
       "\\hline\n",
       "\t 0 & 12200 & 90.888773\\\\\n",
       "\t 1 &  1223 &  9.111227\\\\\n",
       "\\end{tabular}\n"
      ],
      "text/markdown": [
       "\n",
       "A tibble: 2 × 3\n",
       "\n",
       "| class &lt;fct&gt; | n &lt;int&gt; | percent &lt;dbl&gt; |\n",
       "|---|---|---|\n",
       "| 0 | 12200 | 90.888773 |\n",
       "| 1 |  1223 |  9.111227 |\n",
       "\n"
      ],
      "text/plain": [
       "  class n     percent  \n",
       "1 0     12200 90.888773\n",
       "2 1      1223  9.111227"
      ]
     },
     "metadata": {},
     "output_type": "display_data"
    },
    {
     "name": "stderr",
     "output_type": "stream",
     "text": [
      "\n",
      "\n",
      "\u001b[36m──\u001b[39m \u001b[1mRecipe\u001b[22m \u001b[36m──────────────────────────────────────────────────────────────────────\u001b[39m\n",
      "\n",
      "\n",
      "\n",
      "── Inputs \n",
      "\n",
      "Number of variables by role\n",
      "\n",
      "outcome:   1\n",
      "predictor: 8\n",
      "\n",
      "\n",
      "\n",
      "── Training information \n",
      "\n",
      "Training data contained 13423 data points and no incomplete rows.\n",
      "\n",
      "\n",
      "\n",
      "── Operations \n",
      "\n",
      "\u001b[36m•\u001b[39m Scaling for: \u001b[34mmean_integrated_profile\u001b[39m, ... | \u001b[3mTrained\u001b[23m\n",
      "\n",
      "\u001b[36m•\u001b[39m Centering for: \u001b[34mmean_integrated_profile\u001b[39m, ... | \u001b[3mTrained\u001b[23m\n",
      "\n",
      "\u001b[36m•\u001b[39m Up-sampling based on: \u001b[34mclass\u001b[39m | \u001b[3mTrained\u001b[23m\n",
      "\n"
     ]
    },
    {
     "ename": "ERROR",
     "evalue": "Error in as.data.frame.default(value, stringsAsFactors = FALSE): cannot coerce class ‘\"recipe\"’ to a data.frame\n",
     "output_type": "error",
     "traceback": [
      "Error in as.data.frame.default(value, stringsAsFactors = FALSE): cannot coerce class ‘\"recipe\"’ to a data.frame\nTraceback:\n",
      "1. recipe(class ~ ., data = pulsar_recipe)",
      "2. recipe.formula(class ~ ., data = pulsar_recipe)",
      "3. form2args(formula, data, ...)",
      "4. as_tibble(data)",
      "5. as_tibble.default(data)",
      "6. as_tibble(as.data.frame(value, stringsAsFactors = FALSE), ...)",
      "7. as.data.frame(value, stringsAsFactors = FALSE)",
      "8. as.data.frame.default(value, stringsAsFactors = FALSE)",
      "9. stop(gettextf(\"cannot coerce class %s to a data.frame\", sQuote(deparse(class(x))[1L])), \n .     domain = NA)"
     ]
    }
   ],
   "source": [
    "set.seed(1)\n",
    "pulsar_split <- initial_split(unscaled_data, prop = 0.75, strata = class)\n",
    "pulsar_train <- training(pulsar_split)\n",
    "pulsar_test <- testing(pulsar_split) \n",
    "\n",
    "#Check class proportions in the training set\n",
    "pulsar_proportions <- pulsar_train |>\n",
    "    group_by(class) |>\n",
    "    summarize(n = n()) |>\n",
    "    mutate(percent = 100*n/nrow(pulsar_train)) \n",
    "pulsar_proportions\n",
    "\n",
    "#Upscale data to balance training set\n",
    "pulsar_recipe <- recipe(class ~ ., data = pulsar_train) |>\n",
    "    step_scale(all_predictors()) |>\n",
    "    step_center(all_predictors()) |>\n",
    "    themis::step_upsample(class, over_ratio = 1, skip = FALSE) |>\n",
    "    prep(pulsar_train) \n",
    "pulsar_recipe\n",
    "\n",
    "#Check new proportions in training set\n",
    "#new_pulsar_proportions <- pulsar_recipe |>\n",
    "#    group_by(class) |>\n",
    "#    summarize(n = n())\n",
    "#new_pulsar_proportions\n",
    "\n",
    "dummy_recipe <- recipe(class ~ ., data = pulsar_recipe)\n",
    "\n",
    "#Check new proportions in training set\n",
    "#new_pulsar_proportions <- upsampled_train |>\n",
    "#    group_by(class) |>\n",
    "#    summarize(n = n()) |>\n",
    "#    mutate(percent = 100*n/nrow(pulsar_upsampled))\n",
    "#new_pulsar_proportions\n",
    "\n",
    "knn_spec <- nearest_neighbor(weight_func = \"rectangular\", neighbors = 3) |>\n",
    "    set_engine(\"kknn\") |>\n",
    "    set_mode(\"classification\")\n",
    "\n",
    "pulsar_fit <- workflow() |>\n",
    "    add_recipe(pulsar_recipe) |>\n",
    "    add_model(knn_spec) |>\n",
    "    fit(data = pulsar_upsampled)\n",
    "pulsar_fit\n",
    "\n",
    "pulsar_test_predictions <- predict(pulsar_fit, pulsar_test) |>\n",
    "    bind_cols(pulsar_test)\n",
    "pulsar_test_predictions\n",
    "\n",
    "pulsar_prediction_accuracy <- pulsar_test_predictions |>\n",
    "    metrics(truth = class, estimate = .pred_class) |>\n",
    "    filter(.metric == \"accuracy\")\n",
    "pulsar_prediction_accuracy\n",
    "\n",
    "confusion <- pulsar_test_predictions |>\n",
    "    conf_mat(truth = class, estimate = .pred_class)\n",
    "confusion"
   ]
  },
  {
   "cell_type": "code",
   "execution_count": 13,
   "id": "15084792-cc40-4be1-a1d4-e1385a0708a2",
   "metadata": {
    "tags": []
   },
   "outputs": [
    {
     "ename": "ERROR",
     "evalue": "Error in eval_select_impl(NULL, .vars, expr(c(!!!dots)), include = .include, : object 'pulsar_train' not found\n",
     "output_type": "error",
     "traceback": [
      "Error in eval_select_impl(NULL, .vars, expr(c(!!!dots)), include = .include, : object 'pulsar_train' not found\nTraceback:\n",
      "1. vfold_cv(pulsar_train, v = 10, strata = class)",
      "2. tidyselect::vars_select(names(data), !!enquo(strata))",
      "3. eval_select_impl(NULL, .vars, expr(c(!!!dots)), include = .include, \n .     exclude = .exclude, strict = .strict, name_spec = unique_name_spec, \n .     uniquely_named = TRUE, error_call = caller_env())"
     ]
    }
   ],
   "source": [
    "#10 fold cross validation\n",
    "pulsar_vfold <- vfold_cv(pulsar_train, v = 10, strata = class)\n",
    "\n",
    "pulsar_resample_fit <- workflow() |>\n",
    "       add_recipe(pulsar_recipe) |>\n",
    "       add_model(knn_spec) |>\n",
    "       fit_resamples(resamples = pulsar_vfold)\n",
    "\n",
    "pulsar_metrics <- collect_metrics(pulsar_resample_fit)\n",
    "pulsar_metrics"
   ]
  },
  {
   "cell_type": "code",
   "execution_count": null,
   "id": "f3dad9b6-9233-474f-b1cb-eedb8b441f6a",
   "metadata": {
    "tags": []
   },
   "outputs": [],
   "source": [
    "#CAUTION: Takes a long time to load.\n",
    "knn_tune <- nearest_neighbor(weight_func = \"rectangular\", neighbors = tune()) |>\n",
    "            set_engine(\"kknn\") |>\n",
    "            set_mode(\"classification\")\n",
    "#knn_tune\n",
    "\n",
    "k_vals <- tibble(neighbors = seq(from = 1, to = 100, by = 5))\n",
    "\n",
    "knn_results <- workflow() |>\n",
    "               add_recipe(pulsar_recipe) |>\n",
    "               add_model(knn_tune) |>\n",
    "               tune_grid(resamples = pulsar_vfold, grid = k_vals) |>\n",
    "               collect_metrics()\n",
    "#knn_results\n",
    "\n",
    "accuracies <- knn_results |> \n",
    "       filter(.metric == \"accuracy\")\n",
    "\n",
    "accuracy_versus_k <- ggplot(accuracies, aes(x = neighbors, y = mean))+\n",
    "       geom_point() +\n",
    "       geom_line() +\n",
    "       labs(x = \"Neighbors\", y = \"Accuracy Estimate\")  \n",
    "\n",
    "\n",
    "\n",
    "accuracy_versus_k\n"
   ]
  },
  {
   "cell_type": "markdown",
   "id": "13591307-6a28-45f7-9559-b9fd446c6e30",
   "metadata": {},
   "source": [
    "**Selecting Predictors**"
   ]
  },
  {
   "cell_type": "code",
   "execution_count": null,
   "id": "f9db86c0-14aa-4fcd-87e7-a71362c1417f",
   "metadata": {
    "tags": []
   },
   "outputs": [],
   "source": [
    "names <- colnames(pulsar_train |> select(-class))\n",
    "names"
   ]
  },
  {
   "cell_type": "code",
   "execution_count": null,
   "id": "3a78cd2a-8fa3-4c14-b92f-3d393d4bb4a6",
   "metadata": {},
   "outputs": [],
   "source": []
  },
  {
   "cell_type": "code",
   "execution_count": null,
   "id": "e34b4583-cb62-469d-ac7b-44a903952429",
   "metadata": {
    "tags": []
   },
   "outputs": [],
   "source": [
    "example_formula <- paste(\"class\", \"~\", paste(names, collapse=\"+\"))\n",
    "example_formula"
   ]
  },
  {
   "cell_type": "code",
   "execution_count": null,
   "id": "e961799a-d823-44a2-ada2-dd5e0caceee8",
   "metadata": {
    "tags": []
   },
   "outputs": [],
   "source": [
    "# create an empty tibble to store the results\n",
    "predictor_accuracies <- tibble(size = integer(), \n",
    "                     model_string = character(), \n",
    "                     accuracy = numeric())"
   ]
  },
  {
   "cell_type": "code",
   "execution_count": null,
   "id": "1838d8fb-5b4e-452b-9c10-66d613dfdf77",
   "metadata": {
    "tags": []
   },
   "outputs": [],
   "source": [
    "# store the total number of predictors\n",
    "n_total <- length(names)\n",
    "\n",
    "# stores selected predictors\n",
    "selected <- c()\n",
    "\n",
    "# for every size from 1 to the total number of predictors\n",
    "for (i in 1:n_total) {\n",
    "    # for every predictor still not added yet\n",
    "    accs <- list()\n",
    "    models <- list()\n",
    "    for (j in 1:length(names)) {\n",
    "        # create a model string for this combination of predictors\n",
    "        preds_new <- c(selected, names[[j]])\n",
    "        model_string <- paste(\"class\", \"~\", paste(preds_new, collapse=\"+\"))\n",
    "\n",
    "        # create a recipe from the model string\n",
    "        pulsar_recipe <- recipe(as.formula(model_string), \n",
    "                                data = pulsar_train) |>\n",
    "                          step_scale(all_predictors()) |>\n",
    "                          step_center(all_predictors())\n",
    "\n",
    "        # tune the KNN classifier with these predictors, \n",
    "        # and collect the accuracy for the best K\n",
    "        acc <- workflow() |>\n",
    "          add_recipe(pulsar_recipe) |>\n",
    "          add_model(knn_spec) |>\n",
    "          tune_grid(resamples = pulsar_vfold, grid = 10) |>\n",
    "          collect_metrics() |>\n",
    "          filter(.metric == \"accuracy\") |>\n",
    "          summarize(mx = max(mean))\n",
    "        acc <- acc$mx |> unlist()\n",
    "\n",
    "        # add this result to the dataframe\n",
    "        accs[[j]] <- acc\n",
    "        models[[j]] <- model_string\n",
    "    }\n",
    "    jstar <- which.max(unlist(accs))\n",
    "predictor_accuracies <- predictor_accuracies |> \n",
    "      add_row(size = i, \n",
    "              model_string = models[[jstar]], \n",
    "              accuracy = accs[[jstar]])\n",
    "    selected <- c(selected, names[[jstar]])\n",
    "    names <- names[-jstar]\n",
    "}\n",
    "predictor_accuracies"
   ]
  },
  {
   "cell_type": "markdown",
   "id": "a6ad220a-70ee-4a89-99d0-73000de0700f",
   "metadata": {},
   "source": [
    "Based on the data above, the highest accuracy is obtained by having exc_kurtosis_integrated_profile+skew_dmsnr+stand_dev_integrated_profile+mean_dmsnr as predictors"
   ]
  },
  {
   "cell_type": "code",
   "execution_count": null,
   "id": "efca7c97-8078-4c5f-a204-790d65191714",
   "metadata": {},
   "outputs": [],
   "source": []
  }
 ],
 "metadata": {
  "kernelspec": {
   "display_name": "R",
   "language": "R",
   "name": "ir"
  },
  "language_info": {
   "codemirror_mode": "r",
   "file_extension": ".r",
   "mimetype": "text/x-r-source",
   "name": "R",
   "pygments_lexer": "r",
   "version": "4.1.3"
  }
 },
 "nbformat": 4,
 "nbformat_minor": 5
}
