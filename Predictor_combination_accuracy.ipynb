{
 "cells": [
  {
   "cell_type": "code",
   "execution_count": null,
   "id": "46b48142-65c0-4405-8699-0b24a532eaab",
   "metadata": {},
   "outputs": [
    {
     "name": "stderr",
     "output_type": "stream",
     "text": [
      "Warning message in install.packages(\"themis\"):\n",
      "“installation of package ‘themis’ had non-zero exit status”\n",
      "Updating HTML index of packages in '.Library'\n",
      "\n",
      "Making 'packages.html' ...\n",
      " done\n",
      "\n"
     ]
    }
   ],
   "source": [
    "#CAUTION: Takes a long time to load.\n",
    "install.packages(\"themis\")\n",
    "devtools::install_github(\"tidymodels/tune\")"
   ]
  },
  {
   "cell_type": "code",
   "execution_count": 22,
   "id": "18e9f3dc-d38a-4f62-ae68-565b9162ddb6",
   "metadata": {},
   "outputs": [],
   "source": [
    "#load libraries\n",
    "library(tidyverse)\n",
    "library(repr)\n",
    "library(tidymodels)\n",
    "library(themis)\n",
    "options(repr.matrix.max.rows = 10)"
   ]
  },
  {
   "cell_type": "code",
   "execution_count": 23,
   "id": "f804ecb4-70e1-4a55-895f-aa14eaa2abbe",
   "metadata": {},
   "outputs": [
    {
     "name": "stderr",
     "output_type": "stream",
     "text": [
      "\u001b[1mRows: \u001b[22m\u001b[34m17898\u001b[39m \u001b[1mColumns: \u001b[22m\u001b[34m9\u001b[39m\n",
      "\u001b[36m──\u001b[39m \u001b[1mColumn specification\u001b[22m \u001b[36m────────────────────────────────────────────────────────\u001b[39m\n",
      "\u001b[1mDelimiter:\u001b[22m \",\"\n",
      "\u001b[32mdbl\u001b[39m (9): mean_integrated_profile, stand_dev_integrated_profile, exc_kurtosis...\n",
      "\n",
      "\u001b[36mℹ\u001b[39m Use `spec()` to retrieve the full column specification for this data.\n",
      "\u001b[36mℹ\u001b[39m Specify the column types or set `show_col_types = FALSE` to quiet this message.\n"
     ]
    },
    {
     "data": {
      "text/html": [
       "<table class=\"dataframe\">\n",
       "<caption>A tibble: 2 × 3</caption>\n",
       "<thead>\n",
       "\t<tr><th scope=col>class</th><th scope=col>n</th><th scope=col>percent</th></tr>\n",
       "\t<tr><th scope=col>&lt;fct&gt;</th><th scope=col>&lt;int&gt;</th><th scope=col>&lt;dbl&gt;</th></tr>\n",
       "</thead>\n",
       "<tbody>\n",
       "\t<tr><td>0</td><td>16259</td><td>90.842552</td></tr>\n",
       "\t<tr><td>1</td><td> 1639</td><td> 9.157448</td></tr>\n",
       "</tbody>\n",
       "</table>\n"
      ],
      "text/latex": [
       "A tibble: 2 × 3\n",
       "\\begin{tabular}{lll}\n",
       " class & n & percent\\\\\n",
       " <fct> & <int> & <dbl>\\\\\n",
       "\\hline\n",
       "\t 0 & 16259 & 90.842552\\\\\n",
       "\t 1 &  1639 &  9.157448\\\\\n",
       "\\end{tabular}\n"
      ],
      "text/markdown": [
       "\n",
       "A tibble: 2 × 3\n",
       "\n",
       "| class &lt;fct&gt; | n &lt;int&gt; | percent &lt;dbl&gt; |\n",
       "|---|---|---|\n",
       "| 0 | 16259 | 90.842552 |\n",
       "| 1 |  1639 |  9.157448 |\n",
       "\n"
      ],
      "text/plain": [
       "  class n     percent  \n",
       "1 0     16259 90.842552\n",
       "2 1      1639  9.157448"
      ]
     },
     "metadata": {},
     "output_type": "display_data"
    },
    {
     "data": {
      "text/html": [
       "<table class=\"dataframe\">\n",
       "<caption>A tibble: 32518 × 9</caption>\n",
       "<thead>\n",
       "\t<tr><th scope=col>mean_integrated_profile</th><th scope=col>stand_dev_integrated_profile</th><th scope=col>exc_kurtosis_integrated_profile</th><th scope=col>skew_integrated_profile</th><th scope=col>mean_dmsnr</th><th scope=col>stand_dev_dmsnr</th><th scope=col>exc_kurtosis_dmsnr</th><th scope=col>skew_dmsnr</th><th scope=col>class</th></tr>\n",
       "\t<tr><th scope=col>&lt;dbl&gt;</th><th scope=col>&lt;dbl&gt;</th><th scope=col>&lt;dbl&gt;</th><th scope=col>&lt;dbl&gt;</th><th scope=col>&lt;dbl&gt;</th><th scope=col>&lt;dbl&gt;</th><th scope=col>&lt;dbl&gt;</th><th scope=col>&lt;dbl&gt;</th><th scope=col>&lt;fct&gt;</th></tr>\n",
       "</thead>\n",
       "<tbody>\n",
       "\t<tr><td> 1.1492849</td><td> 1.3347944</td><td>-0.66955083</td><td>-0.4004478</td><td>-0.3194313</td><td>-0.3706151</td><td>-0.07279575</td><td>-0.2874301</td><td>0</td></tr>\n",
       "\t<tr><td>-0.3341589</td><td> 1.8022150</td><td>-0.01178443</td><td>-0.3705251</td><td>-0.3710915</td><td>-0.5889076</td><td> 0.50441285</td><td> 0.2115755</td><td>0</td></tr>\n",
       "\t<tr><td>-0.3143634</td><td>-1.0532928</td><td>-0.14522850</td><td>-0.1165896</td><td>-0.3220980</td><td>-0.2353216</td><td>-0.12599257</td><td>-0.3913625</td><td>0</td></tr>\n",
       "\t<tr><td> 1.0006664</td><td> 1.5532110</td><td>-0.51339427</td><td>-0.3901672</td><td>-0.3043957</td><td>-0.2756588</td><td>-0.31225666</td><td>-0.4812869</td><td>0</td></tr>\n",
       "\t<tr><td>-0.8713781</td><td>-0.8588548</td><td> 0.11560548</td><td>-0.1048632</td><td>-0.3879995</td><td>-0.7630898</td><td> 1.32398915</td><td> 1.3867553</td><td>0</td></tr>\n",
       "\t<tr><td>⋮</td><td>⋮</td><td>⋮</td><td>⋮</td><td>⋮</td><td>⋮</td><td>⋮</td><td>⋮</td><td>⋮</td></tr>\n",
       "\t<tr><td>-3.172223</td><td>-2.5335244</td><td>5.301855</td><td>6.488476</td><td>2.1203704</td><td>2.432440</td><td>-1.661591</td><td>-0.9870469</td><td>1</td></tr>\n",
       "\t<tr><td>-2.581709</td><td>-2.0642483</td><td>3.049599</td><td>2.608256</td><td>2.2779326</td><td>2.536356</td><td>-1.699247</td><td>-0.9903347</td><td>1</td></tr>\n",
       "\t<tr><td>-2.635613</td><td>-1.4922772</td><td>2.835443</td><td>2.085346</td><td>2.8116410</td><td>2.903726</td><td>-1.790218</td><td>-0.9959803</td><td>1</td></tr>\n",
       "\t<tr><td>-2.967264</td><td>-1.5177722</td><td>3.658343</td><td>3.166748</td><td>3.2621144</td><td>1.923437</td><td>-1.637846</td><td>-0.9879704</td><td>1</td></tr>\n",
       "\t<tr><td>-2.991932</td><td>-0.7927153</td><td>2.863271</td><td>1.720925</td><td>0.9444417</td><td>2.245277</td><td>-1.478053</td><td>-0.9704632</td><td>1</td></tr>\n",
       "</tbody>\n",
       "</table>\n"
      ],
      "text/latex": [
       "A tibble: 32518 × 9\n",
       "\\begin{tabular}{lllllllll}\n",
       " mean\\_integrated\\_profile & stand\\_dev\\_integrated\\_profile & exc\\_kurtosis\\_integrated\\_profile & skew\\_integrated\\_profile & mean\\_dmsnr & stand\\_dev\\_dmsnr & exc\\_kurtosis\\_dmsnr & skew\\_dmsnr & class\\\\\n",
       " <dbl> & <dbl> & <dbl> & <dbl> & <dbl> & <dbl> & <dbl> & <dbl> & <fct>\\\\\n",
       "\\hline\n",
       "\t  1.1492849 &  1.3347944 & -0.66955083 & -0.4004478 & -0.3194313 & -0.3706151 & -0.07279575 & -0.2874301 & 0\\\\\n",
       "\t -0.3341589 &  1.8022150 & -0.01178443 & -0.3705251 & -0.3710915 & -0.5889076 &  0.50441285 &  0.2115755 & 0\\\\\n",
       "\t -0.3143634 & -1.0532928 & -0.14522850 & -0.1165896 & -0.3220980 & -0.2353216 & -0.12599257 & -0.3913625 & 0\\\\\n",
       "\t  1.0006664 &  1.5532110 & -0.51339427 & -0.3901672 & -0.3043957 & -0.2756588 & -0.31225666 & -0.4812869 & 0\\\\\n",
       "\t -0.8713781 & -0.8588548 &  0.11560548 & -0.1048632 & -0.3879995 & -0.7630898 &  1.32398915 &  1.3867553 & 0\\\\\n",
       "\t ⋮ & ⋮ & ⋮ & ⋮ & ⋮ & ⋮ & ⋮ & ⋮ & ⋮\\\\\n",
       "\t -3.172223 & -2.5335244 & 5.301855 & 6.488476 & 2.1203704 & 2.432440 & -1.661591 & -0.9870469 & 1\\\\\n",
       "\t -2.581709 & -2.0642483 & 3.049599 & 2.608256 & 2.2779326 & 2.536356 & -1.699247 & -0.9903347 & 1\\\\\n",
       "\t -2.635613 & -1.4922772 & 2.835443 & 2.085346 & 2.8116410 & 2.903726 & -1.790218 & -0.9959803 & 1\\\\\n",
       "\t -2.967264 & -1.5177722 & 3.658343 & 3.166748 & 3.2621144 & 1.923437 & -1.637846 & -0.9879704 & 1\\\\\n",
       "\t -2.991932 & -0.7927153 & 2.863271 & 1.720925 & 0.9444417 & 2.245277 & -1.478053 & -0.9704632 & 1\\\\\n",
       "\\end{tabular}\n"
      ],
      "text/markdown": [
       "\n",
       "A tibble: 32518 × 9\n",
       "\n",
       "| mean_integrated_profile &lt;dbl&gt; | stand_dev_integrated_profile &lt;dbl&gt; | exc_kurtosis_integrated_profile &lt;dbl&gt; | skew_integrated_profile &lt;dbl&gt; | mean_dmsnr &lt;dbl&gt; | stand_dev_dmsnr &lt;dbl&gt; | exc_kurtosis_dmsnr &lt;dbl&gt; | skew_dmsnr &lt;dbl&gt; | class &lt;fct&gt; |\n",
       "|---|---|---|---|---|---|---|---|---|\n",
       "|  1.1492849 |  1.3347944 | -0.66955083 | -0.4004478 | -0.3194313 | -0.3706151 | -0.07279575 | -0.2874301 | 0 |\n",
       "| -0.3341589 |  1.8022150 | -0.01178443 | -0.3705251 | -0.3710915 | -0.5889076 |  0.50441285 |  0.2115755 | 0 |\n",
       "| -0.3143634 | -1.0532928 | -0.14522850 | -0.1165896 | -0.3220980 | -0.2353216 | -0.12599257 | -0.3913625 | 0 |\n",
       "|  1.0006664 |  1.5532110 | -0.51339427 | -0.3901672 | -0.3043957 | -0.2756588 | -0.31225666 | -0.4812869 | 0 |\n",
       "| -0.8713781 | -0.8588548 |  0.11560548 | -0.1048632 | -0.3879995 | -0.7630898 |  1.32398915 |  1.3867553 | 0 |\n",
       "| ⋮ | ⋮ | ⋮ | ⋮ | ⋮ | ⋮ | ⋮ | ⋮ | ⋮ |\n",
       "| -3.172223 | -2.5335244 | 5.301855 | 6.488476 | 2.1203704 | 2.432440 | -1.661591 | -0.9870469 | 1 |\n",
       "| -2.581709 | -2.0642483 | 3.049599 | 2.608256 | 2.2779326 | 2.536356 | -1.699247 | -0.9903347 | 1 |\n",
       "| -2.635613 | -1.4922772 | 2.835443 | 2.085346 | 2.8116410 | 2.903726 | -1.790218 | -0.9959803 | 1 |\n",
       "| -2.967264 | -1.5177722 | 3.658343 | 3.166748 | 3.2621144 | 1.923437 | -1.637846 | -0.9879704 | 1 |\n",
       "| -2.991932 | -0.7927153 | 2.863271 | 1.720925 | 0.9444417 | 2.245277 | -1.478053 | -0.9704632 | 1 |\n",
       "\n"
      ],
      "text/plain": [
       "      mean_integrated_profile stand_dev_integrated_profile\n",
       "1      1.1492849               1.3347944                  \n",
       "2     -0.3341589               1.8022150                  \n",
       "3     -0.3143634              -1.0532928                  \n",
       "4      1.0006664               1.5532110                  \n",
       "5     -0.8713781              -0.8588548                  \n",
       "⋮     ⋮                       ⋮                           \n",
       "32514 -3.172223               -2.5335244                  \n",
       "32515 -2.581709               -2.0642483                  \n",
       "32516 -2.635613               -1.4922772                  \n",
       "32517 -2.967264               -1.5177722                  \n",
       "32518 -2.991932               -0.7927153                  \n",
       "      exc_kurtosis_integrated_profile skew_integrated_profile mean_dmsnr\n",
       "1     -0.66955083                     -0.4004478              -0.3194313\n",
       "2     -0.01178443                     -0.3705251              -0.3710915\n",
       "3     -0.14522850                     -0.1165896              -0.3220980\n",
       "4     -0.51339427                     -0.3901672              -0.3043957\n",
       "5      0.11560548                     -0.1048632              -0.3879995\n",
       "⋮     ⋮                               ⋮                       ⋮         \n",
       "32514 5.301855                        6.488476                2.1203704 \n",
       "32515 3.049599                        2.608256                2.2779326 \n",
       "32516 2.835443                        2.085346                2.8116410 \n",
       "32517 3.658343                        3.166748                3.2621144 \n",
       "32518 2.863271                        1.720925                0.9444417 \n",
       "      stand_dev_dmsnr exc_kurtosis_dmsnr skew_dmsnr class\n",
       "1     -0.3706151      -0.07279575        -0.2874301 0    \n",
       "2     -0.5889076       0.50441285         0.2115755 0    \n",
       "3     -0.2353216      -0.12599257        -0.3913625 0    \n",
       "4     -0.2756588      -0.31225666        -0.4812869 0    \n",
       "5     -0.7630898       1.32398915         1.3867553 0    \n",
       "⋮     ⋮               ⋮                  ⋮          ⋮    \n",
       "32514 2.432440        -1.661591          -0.9870469 1    \n",
       "32515 2.536356        -1.699247          -0.9903347 1    \n",
       "32516 2.903726        -1.790218          -0.9959803 1    \n",
       "32517 1.923437        -1.637846          -0.9879704 1    \n",
       "32518 2.245277        -1.478053          -0.9704632 1    "
      ]
     },
     "metadata": {},
     "output_type": "display_data"
    },
    {
     "data": {
      "text/html": [
       "<table class=\"dataframe\">\n",
       "<caption>A tibble: 2 × 3</caption>\n",
       "<thead>\n",
       "\t<tr><th scope=col>class</th><th scope=col>n</th><th scope=col>percent</th></tr>\n",
       "\t<tr><th scope=col>&lt;fct&gt;</th><th scope=col>&lt;int&gt;</th><th scope=col>&lt;dbl&gt;</th></tr>\n",
       "</thead>\n",
       "<tbody>\n",
       "\t<tr><td>0</td><td>16259</td><td>50</td></tr>\n",
       "\t<tr><td>1</td><td>16259</td><td>50</td></tr>\n",
       "</tbody>\n",
       "</table>\n"
      ],
      "text/latex": [
       "A tibble: 2 × 3\n",
       "\\begin{tabular}{lll}\n",
       " class & n & percent\\\\\n",
       " <fct> & <int> & <dbl>\\\\\n",
       "\\hline\n",
       "\t 0 & 16259 & 50\\\\\n",
       "\t 1 & 16259 & 50\\\\\n",
       "\\end{tabular}\n"
      ],
      "text/markdown": [
       "\n",
       "A tibble: 2 × 3\n",
       "\n",
       "| class &lt;fct&gt; | n &lt;int&gt; | percent &lt;dbl&gt; |\n",
       "|---|---|---|\n",
       "| 0 | 16259 | 50 |\n",
       "| 1 | 16259 | 50 |\n",
       "\n"
      ],
      "text/plain": [
       "  class n     percent\n",
       "1 0     16259 50     \n",
       "2 1     16259 50     "
      ]
     },
     "metadata": {},
     "output_type": "display_data"
    }
   ],
   "source": [
    "#Add columns\n",
    "unscaled_data <- read_csv(\"pulsar_data.csv\", \n",
    "                        col_names = c(\"mean_integrated_profile\", \n",
    "                                      \"stand_dev_integrated_profile\", \n",
    "                                      \"exc_kurtosis_integrated_profile\", \n",
    "                                      \"skew_integrated_profile\",\n",
    "                                      \"mean_dmsnr\", \n",
    "                                      \"stand_dev_dmsnr\", \n",
    "                                      \"exc_kurtosis_dmsnr\", \n",
    "                                      \"skew_dmsnr\", \"class\")) \n",
    "\n",
    "unscaled_data <- unscaled_data |>\n",
    "    mutate(class = as_factor(class))\n",
    "#unscaled_data \n",
    "\n",
    "#Class proportions in pulsar dataset (Imbalanced)\n",
    "num_obs <- nrow(unscaled_data)\n",
    "pulsar_proportions <- unscaled_data |>\n",
    "    group_by(class) |>\n",
    "    summarize(n = n()) |>\n",
    "    mutate(percent = 100*n/nrow(unscaled_data))\n",
    "pulsar_proportions\n",
    "\n",
    "#Scale data and Upsample to balance data\n",
    "pulsar_recipe <- recipe(class ~ ., data = unscaled_data) |>\n",
    "    step_scale(all_predictors()) |>\n",
    "    step_center(all_predictors()) |>\n",
    "    step_upsample(class, over_ratio = 1, skip = FALSE) |>\n",
    "    prep()\n",
    "\n",
    "standardized_pulsar <- bake(pulsar_recipe, unscaled_data)\n",
    "standardized_pulsar\n",
    "\n",
    "#check proportions of upsampled data\n",
    "new_pulsar_proportions <- standardized_pulsar |>\n",
    "    group_by(class) |>\n",
    "    summarize(n = n()) |>\n",
    "    mutate(percent = 100*n/nrow(standardized_pulsar))\n",
    "new_pulsar_proportions"
   ]
  },
  {
   "cell_type": "code",
   "execution_count": 24,
   "id": "b3cccccc-ac7f-4dce-844e-b612c3085ccc",
   "metadata": {},
   "outputs": [
    {
     "data": {
      "text/plain": [
       "══ Workflow [trained] ══════════════════════════════════════════════════════════\n",
       "\u001b[3mPreprocessor:\u001b[23m Recipe\n",
       "\u001b[3mModel:\u001b[23m nearest_neighbor()\n",
       "\n",
       "── Preprocessor ────────────────────────────────────────────────────────────────\n",
       "0 Recipe Steps\n",
       "\n",
       "── Model ───────────────────────────────────────────────────────────────────────\n",
       "\n",
       "Call:\n",
       "kknn::train.kknn(formula = ..y ~ ., data = data, ks = min_rows(3,     data, 5), kernel = ~\"rectangular\")\n",
       "\n",
       "Type of response variable: nominal\n",
       "Minimal misclassification: 0.0174266\n",
       "Best kernel: rectangular\n",
       "Best k: 3"
      ]
     },
     "metadata": {},
     "output_type": "display_data"
    },
    {
     "data": {
      "text/html": [
       "<table class=\"dataframe\">\n",
       "<caption>A tibble: 8130 × 10</caption>\n",
       "<thead>\n",
       "\t<tr><th scope=col>.pred_class</th><th scope=col>mean_integrated_profile</th><th scope=col>stand_dev_integrated_profile</th><th scope=col>exc_kurtosis_integrated_profile</th><th scope=col>skew_integrated_profile</th><th scope=col>mean_dmsnr</th><th scope=col>stand_dev_dmsnr</th><th scope=col>exc_kurtosis_dmsnr</th><th scope=col>skew_dmsnr</th><th scope=col>class</th></tr>\n",
       "\t<tr><th scope=col>&lt;fct&gt;</th><th scope=col>&lt;dbl&gt;</th><th scope=col>&lt;dbl&gt;</th><th scope=col>&lt;dbl&gt;</th><th scope=col>&lt;dbl&gt;</th><th scope=col>&lt;dbl&gt;</th><th scope=col>&lt;dbl&gt;</th><th scope=col>&lt;dbl&gt;</th><th scope=col>&lt;dbl&gt;</th><th scope=col>&lt;fct&gt;</th></tr>\n",
       "</thead>\n",
       "<tbody>\n",
       "\t<tr><td>0</td><td> 1.14928492</td><td> 1.3347944</td><td>-0.66955083</td><td>-0.4004478</td><td>-0.3194313</td><td>-0.3706151</td><td>-0.07279575</td><td>-0.2874301</td><td>0</td></tr>\n",
       "\t<tr><td>0</td><td>-0.33415887</td><td> 1.8022150</td><td>-0.01178443</td><td>-0.3705251</td><td>-0.3710915</td><td>-0.5889076</td><td> 0.50441285</td><td> 0.2115755</td><td>0</td></tr>\n",
       "\t<tr><td>0</td><td> 1.20836685</td><td>-0.1843379</td><td>-0.75014651</td><td>-0.2409772</td><td>-0.2455865</td><td> 0.1378174</td><td>-0.49428426</td><td>-0.6292692</td><td>0</td></tr>\n",
       "\t<tr><td>0</td><td> 0.86453436</td><td>-0.3640536</td><td>-0.52527844</td><td>-0.2683108</td><td>-0.3726235</td><td>-0.7354026</td><td> 0.81412244</td><td> 0.8513931</td><td>0</td></tr>\n",
       "\t<tr><td>0</td><td>-0.05610833</td><td> 0.3606682</td><td>-0.31974505</td><td>-0.3286328</td><td>-0.3768221</td><td>-0.7320593</td><td> 1.12389396</td><td> 1.1132819</td><td>0</td></tr>\n",
       "\t<tr><td>⋮</td><td>⋮</td><td>⋮</td><td>⋮</td><td>⋮</td><td>⋮</td><td>⋮</td><td>⋮</td><td>⋮</td><td>⋮</td></tr>\n",
       "\t<tr><td>1</td><td>-0.579623</td><td> 0.1476754</td><td>0.09901916</td><td>-0.2389543</td><td>0.1819930</td><td>1.596178</td><td>-1.159821</td><td>-0.9101226</td><td>1</td></tr>\n",
       "\t<tr><td>1</td><td>-2.080426</td><td>-0.9888789</td><td>1.90721038</td><td> 1.2482890</td><td>1.8660128</td><td>3.228820</td><td>-1.668233</td><td>-0.9940773</td><td>1</td></tr>\n",
       "\t<tr><td>1</td><td>-3.172223</td><td>-2.5335244</td><td>5.30185505</td><td> 6.4884765</td><td>2.1203704</td><td>2.432440</td><td>-1.661591</td><td>-0.9870469</td><td>1</td></tr>\n",
       "\t<tr><td>1</td><td>-2.581709</td><td>-2.0642483</td><td>3.04959922</td><td> 2.6082557</td><td>2.2779326</td><td>2.536356</td><td>-1.699247</td><td>-0.9903347</td><td>1</td></tr>\n",
       "\t<tr><td>1</td><td>-2.991932</td><td>-0.7927153</td><td>2.86327050</td><td> 1.7209251</td><td>0.9444417</td><td>2.245277</td><td>-1.478053</td><td>-0.9704632</td><td>1</td></tr>\n",
       "</tbody>\n",
       "</table>\n"
      ],
      "text/latex": [
       "A tibble: 8130 × 10\n",
       "\\begin{tabular}{llllllllll}\n",
       " .pred\\_class & mean\\_integrated\\_profile & stand\\_dev\\_integrated\\_profile & exc\\_kurtosis\\_integrated\\_profile & skew\\_integrated\\_profile & mean\\_dmsnr & stand\\_dev\\_dmsnr & exc\\_kurtosis\\_dmsnr & skew\\_dmsnr & class\\\\\n",
       " <fct> & <dbl> & <dbl> & <dbl> & <dbl> & <dbl> & <dbl> & <dbl> & <dbl> & <fct>\\\\\n",
       "\\hline\n",
       "\t 0 &  1.14928492 &  1.3347944 & -0.66955083 & -0.4004478 & -0.3194313 & -0.3706151 & -0.07279575 & -0.2874301 & 0\\\\\n",
       "\t 0 & -0.33415887 &  1.8022150 & -0.01178443 & -0.3705251 & -0.3710915 & -0.5889076 &  0.50441285 &  0.2115755 & 0\\\\\n",
       "\t 0 &  1.20836685 & -0.1843379 & -0.75014651 & -0.2409772 & -0.2455865 &  0.1378174 & -0.49428426 & -0.6292692 & 0\\\\\n",
       "\t 0 &  0.86453436 & -0.3640536 & -0.52527844 & -0.2683108 & -0.3726235 & -0.7354026 &  0.81412244 &  0.8513931 & 0\\\\\n",
       "\t 0 & -0.05610833 &  0.3606682 & -0.31974505 & -0.3286328 & -0.3768221 & -0.7320593 &  1.12389396 &  1.1132819 & 0\\\\\n",
       "\t ⋮ & ⋮ & ⋮ & ⋮ & ⋮ & ⋮ & ⋮ & ⋮ & ⋮ & ⋮\\\\\n",
       "\t 1 & -0.579623 &  0.1476754 & 0.09901916 & -0.2389543 & 0.1819930 & 1.596178 & -1.159821 & -0.9101226 & 1\\\\\n",
       "\t 1 & -2.080426 & -0.9888789 & 1.90721038 &  1.2482890 & 1.8660128 & 3.228820 & -1.668233 & -0.9940773 & 1\\\\\n",
       "\t 1 & -3.172223 & -2.5335244 & 5.30185505 &  6.4884765 & 2.1203704 & 2.432440 & -1.661591 & -0.9870469 & 1\\\\\n",
       "\t 1 & -2.581709 & -2.0642483 & 3.04959922 &  2.6082557 & 2.2779326 & 2.536356 & -1.699247 & -0.9903347 & 1\\\\\n",
       "\t 1 & -2.991932 & -0.7927153 & 2.86327050 &  1.7209251 & 0.9444417 & 2.245277 & -1.478053 & -0.9704632 & 1\\\\\n",
       "\\end{tabular}\n"
      ],
      "text/markdown": [
       "\n",
       "A tibble: 8130 × 10\n",
       "\n",
       "| .pred_class &lt;fct&gt; | mean_integrated_profile &lt;dbl&gt; | stand_dev_integrated_profile &lt;dbl&gt; | exc_kurtosis_integrated_profile &lt;dbl&gt; | skew_integrated_profile &lt;dbl&gt; | mean_dmsnr &lt;dbl&gt; | stand_dev_dmsnr &lt;dbl&gt; | exc_kurtosis_dmsnr &lt;dbl&gt; | skew_dmsnr &lt;dbl&gt; | class &lt;fct&gt; |\n",
       "|---|---|---|---|---|---|---|---|---|---|\n",
       "| 0 |  1.14928492 |  1.3347944 | -0.66955083 | -0.4004478 | -0.3194313 | -0.3706151 | -0.07279575 | -0.2874301 | 0 |\n",
       "| 0 | -0.33415887 |  1.8022150 | -0.01178443 | -0.3705251 | -0.3710915 | -0.5889076 |  0.50441285 |  0.2115755 | 0 |\n",
       "| 0 |  1.20836685 | -0.1843379 | -0.75014651 | -0.2409772 | -0.2455865 |  0.1378174 | -0.49428426 | -0.6292692 | 0 |\n",
       "| 0 |  0.86453436 | -0.3640536 | -0.52527844 | -0.2683108 | -0.3726235 | -0.7354026 |  0.81412244 |  0.8513931 | 0 |\n",
       "| 0 | -0.05610833 |  0.3606682 | -0.31974505 | -0.3286328 | -0.3768221 | -0.7320593 |  1.12389396 |  1.1132819 | 0 |\n",
       "| ⋮ | ⋮ | ⋮ | ⋮ | ⋮ | ⋮ | ⋮ | ⋮ | ⋮ | ⋮ |\n",
       "| 1 | -0.579623 |  0.1476754 | 0.09901916 | -0.2389543 | 0.1819930 | 1.596178 | -1.159821 | -0.9101226 | 1 |\n",
       "| 1 | -2.080426 | -0.9888789 | 1.90721038 |  1.2482890 | 1.8660128 | 3.228820 | -1.668233 | -0.9940773 | 1 |\n",
       "| 1 | -3.172223 | -2.5335244 | 5.30185505 |  6.4884765 | 2.1203704 | 2.432440 | -1.661591 | -0.9870469 | 1 |\n",
       "| 1 | -2.581709 | -2.0642483 | 3.04959922 |  2.6082557 | 2.2779326 | 2.536356 | -1.699247 | -0.9903347 | 1 |\n",
       "| 1 | -2.991932 | -0.7927153 | 2.86327050 |  1.7209251 | 0.9444417 | 2.245277 | -1.478053 | -0.9704632 | 1 |\n",
       "\n"
      ],
      "text/plain": [
       "     .pred_class mean_integrated_profile stand_dev_integrated_profile\n",
       "1    0            1.14928492              1.3347944                  \n",
       "2    0           -0.33415887              1.8022150                  \n",
       "3    0            1.20836685             -0.1843379                  \n",
       "4    0            0.86453436             -0.3640536                  \n",
       "5    0           -0.05610833              0.3606682                  \n",
       "⋮    ⋮           ⋮                       ⋮                           \n",
       "8126 1           -0.579623                0.1476754                  \n",
       "8127 1           -2.080426               -0.9888789                  \n",
       "8128 1           -3.172223               -2.5335244                  \n",
       "8129 1           -2.581709               -2.0642483                  \n",
       "8130 1           -2.991932               -0.7927153                  \n",
       "     exc_kurtosis_integrated_profile skew_integrated_profile mean_dmsnr\n",
       "1    -0.66955083                     -0.4004478              -0.3194313\n",
       "2    -0.01178443                     -0.3705251              -0.3710915\n",
       "3    -0.75014651                     -0.2409772              -0.2455865\n",
       "4    -0.52527844                     -0.2683108              -0.3726235\n",
       "5    -0.31974505                     -0.3286328              -0.3768221\n",
       "⋮    ⋮                               ⋮                       ⋮         \n",
       "8126 0.09901916                      -0.2389543              0.1819930 \n",
       "8127 1.90721038                       1.2482890              1.8660128 \n",
       "8128 5.30185505                       6.4884765              2.1203704 \n",
       "8129 3.04959922                       2.6082557              2.2779326 \n",
       "8130 2.86327050                       1.7209251              0.9444417 \n",
       "     stand_dev_dmsnr exc_kurtosis_dmsnr skew_dmsnr class\n",
       "1    -0.3706151      -0.07279575        -0.2874301 0    \n",
       "2    -0.5889076       0.50441285         0.2115755 0    \n",
       "3     0.1378174      -0.49428426        -0.6292692 0    \n",
       "4    -0.7354026       0.81412244         0.8513931 0    \n",
       "5    -0.7320593       1.12389396         1.1132819 0    \n",
       "⋮    ⋮               ⋮                  ⋮          ⋮    \n",
       "8126 1.596178        -1.159821          -0.9101226 1    \n",
       "8127 3.228820        -1.668233          -0.9940773 1    \n",
       "8128 2.432440        -1.661591          -0.9870469 1    \n",
       "8129 2.536356        -1.699247          -0.9903347 1    \n",
       "8130 2.245277        -1.478053          -0.9704632 1    "
      ]
     },
     "metadata": {},
     "output_type": "display_data"
    },
    {
     "data": {
      "text/html": [
       "<table class=\"dataframe\">\n",
       "<caption>A tibble: 1 × 3</caption>\n",
       "<thead>\n",
       "\t<tr><th scope=col>.metric</th><th scope=col>.estimator</th><th scope=col>.estimate</th></tr>\n",
       "\t<tr><th scope=col>&lt;chr&gt;</th><th scope=col>&lt;chr&gt;</th><th scope=col>&lt;dbl&gt;</th></tr>\n",
       "</thead>\n",
       "<tbody>\n",
       "\t<tr><td>accuracy</td><td>binary</td><td>0.9824108</td></tr>\n",
       "</tbody>\n",
       "</table>\n"
      ],
      "text/latex": [
       "A tibble: 1 × 3\n",
       "\\begin{tabular}{lll}\n",
       " .metric & .estimator & .estimate\\\\\n",
       " <chr> & <chr> & <dbl>\\\\\n",
       "\\hline\n",
       "\t accuracy & binary & 0.9824108\\\\\n",
       "\\end{tabular}\n"
      ],
      "text/markdown": [
       "\n",
       "A tibble: 1 × 3\n",
       "\n",
       "| .metric &lt;chr&gt; | .estimator &lt;chr&gt; | .estimate &lt;dbl&gt; |\n",
       "|---|---|---|\n",
       "| accuracy | binary | 0.9824108 |\n",
       "\n"
      ],
      "text/plain": [
       "  .metric  .estimator .estimate\n",
       "1 accuracy binary     0.9824108"
      ]
     },
     "metadata": {},
     "output_type": "display_data"
    },
    {
     "data": {
      "text/plain": [
       "          Truth\n",
       "Prediction    0    1\n",
       "         0 3926    4\n",
       "         1  139 4061"
      ]
     },
     "metadata": {},
     "output_type": "display_data"
    }
   ],
   "source": [
    "set.seed(1)\n",
    "pulsar_split <- initial_split(standardized_pulsar, prop = 0.75, strata = class)\n",
    "pulsar_train <- training(pulsar_split)\n",
    "pulsar_test <- testing(pulsar_split) \n",
    "\n",
    "pulsar_recipe <- recipe(class ~ ., data = standardized_pulsar)\n",
    "\n",
    "knn_spec <- nearest_neighbor(weight_func = \"rectangular\", neighbors = 3) |>\n",
    "    set_engine(\"kknn\") |>\n",
    "    set_mode(\"classification\")\n",
    "\n",
    "pulsar_fit <- workflow() |>\n",
    "    add_recipe(pulsar_recipe) |>\n",
    "    add_model(knn_spec) |>\n",
    "    fit(data = pulsar_train)\n",
    "pulsar_fit\n",
    "\n",
    "pulsar_test_predictions <- predict(pulsar_fit, pulsar_test) |>\n",
    "    bind_cols(pulsar_test)\n",
    "pulsar_test_predictions\n",
    "\n",
    "pulsar_prediction_accuracy <- pulsar_test_predictions |>\n",
    "    metrics(truth = class, estimate = .pred_class) |>\n",
    "    filter(.metric == \"accuracy\")\n",
    "pulsar_prediction_accuracy\n",
    "\n",
    "confusion <- pulsar_test_predictions |>\n",
    "    conf_mat(truth = class, estimate = .pred_class)\n",
    "confusion"
   ]
  },
  {
   "cell_type": "code",
   "execution_count": 25,
   "id": "15084792-cc40-4be1-a1d4-e1385a0708a2",
   "metadata": {},
   "outputs": [
    {
     "data": {
      "text/html": [
       "<table class=\"dataframe\">\n",
       "<caption>A tibble: 2 × 6</caption>\n",
       "<thead>\n",
       "\t<tr><th scope=col>.metric</th><th scope=col>.estimator</th><th scope=col>mean</th><th scope=col>n</th><th scope=col>std_err</th><th scope=col>.config</th></tr>\n",
       "\t<tr><th scope=col>&lt;chr&gt;</th><th scope=col>&lt;chr&gt;</th><th scope=col>&lt;dbl&gt;</th><th scope=col>&lt;int&gt;</th><th scope=col>&lt;dbl&gt;</th><th scope=col>&lt;chr&gt;</th></tr>\n",
       "</thead>\n",
       "<tbody>\n",
       "\t<tr><td>accuracy</td><td>binary</td><td>0.9808927</td><td>10</td><td>0.0006686887</td><td>Preprocessor1_Model1</td></tr>\n",
       "\t<tr><td>roc_auc </td><td>binary</td><td>0.9890878</td><td>10</td><td>0.0004404272</td><td>Preprocessor1_Model1</td></tr>\n",
       "</tbody>\n",
       "</table>\n"
      ],
      "text/latex": [
       "A tibble: 2 × 6\n",
       "\\begin{tabular}{llllll}\n",
       " .metric & .estimator & mean & n & std\\_err & .config\\\\\n",
       " <chr> & <chr> & <dbl> & <int> & <dbl> & <chr>\\\\\n",
       "\\hline\n",
       "\t accuracy & binary & 0.9808927 & 10 & 0.0006686887 & Preprocessor1\\_Model1\\\\\n",
       "\t roc\\_auc  & binary & 0.9890878 & 10 & 0.0004404272 & Preprocessor1\\_Model1\\\\\n",
       "\\end{tabular}\n"
      ],
      "text/markdown": [
       "\n",
       "A tibble: 2 × 6\n",
       "\n",
       "| .metric &lt;chr&gt; | .estimator &lt;chr&gt; | mean &lt;dbl&gt; | n &lt;int&gt; | std_err &lt;dbl&gt; | .config &lt;chr&gt; |\n",
       "|---|---|---|---|---|---|\n",
       "| accuracy | binary | 0.9808927 | 10 | 0.0006686887 | Preprocessor1_Model1 |\n",
       "| roc_auc  | binary | 0.9890878 | 10 | 0.0004404272 | Preprocessor1_Model1 |\n",
       "\n"
      ],
      "text/plain": [
       "  .metric  .estimator mean      n  std_err      .config             \n",
       "1 accuracy binary     0.9808927 10 0.0006686887 Preprocessor1_Model1\n",
       "2 roc_auc  binary     0.9890878 10 0.0004404272 Preprocessor1_Model1"
      ]
     },
     "metadata": {},
     "output_type": "display_data"
    }
   ],
   "source": [
    "#10 fold cross validation\n",
    "pulsar_vfold <- vfold_cv(pulsar_train, v = 10, strata = class)\n",
    "\n",
    "pulsar_resample_fit <- workflow() |>\n",
    "       add_recipe(pulsar_recipe) |>\n",
    "       add_model(knn_spec) |>\n",
    "       fit_resamples(resamples = pulsar_vfold)\n",
    "\n",
    "pulsar_metrics <- collect_metrics(pulsar_resample_fit)\n",
    "pulsar_metrics"
   ]
  },
  {
   "cell_type": "code",
   "execution_count": 26,
   "id": "f3dad9b6-9233-474f-b1cb-eedb8b441f6a",
   "metadata": {},
   "outputs": [
    {
     "data": {
      "image/png": "[encoded data removed]",
      "text/plain": [
       "plot without title"
      ]
     },
     "metadata": {
      "image/png": {
       "height": 420,
       "width": 420
      }
     },
     "output_type": "display_data"
    }
   ],
   "source": [
    "#CAUTION: Takes a long time to load.\n",
    "knn_tune <- nearest_neighbor(weight_func = \"rectangular\", neighbors = tune()) |>\n",
    "            set_engine(\"kknn\") |>\n",
    "            set_mode(\"classification\")\n",
    "#knn_tune\n",
    "\n",
    "k_vals <- tibble(neighbors = seq(from = 1, to = 100, by = 5))\n",
    "\n",
    "knn_results <- workflow() |>\n",
    "               add_recipe(pulsar_recipe) |>\n",
    "               add_model(knn_tune) |>\n",
    "               tune_grid(resamples = pulsar_vfold, grid = k_vals) |>\n",
    "               collect_metrics()\n",
    "#knn_results\n",
    "\n",
    "accuracies <- knn_results |> \n",
    "       filter(.metric == \"accuracy\")\n",
    "\n",
    "accuracy_versus_k <- ggplot(accuracies, aes(x = neighbors, y = mean))+\n",
    "       geom_point() +\n",
    "       geom_line() +\n",
    "       labs(x = \"Neighbors\", y = \"Accuracy Estimate\")  \n",
    "\n",
    "\n",
    "\n",
    "accuracy_versus_k\n"
   ]
  },
  {
   "cell_type": "code",
   "execution_count": 27,
   "id": "d0c84d16-95ad-4cde-a4f4-b59acfaff950",
   "metadata": {},
   "outputs": [],
   "source": [
    "#we can have a separate cell for each combination of predictors that we try\n",
    "#pick one K value to use for all the combinations, to avoid having to find the best K each time (which could vary)\n",
    "#we could call the predictor combinations combo1, combo2, etc.\n",
    "#compare their accuracies, choose the most accurate set of predictors\n",
    "#Read Chapter 6.8 on selecting good predictors."
   ]
  },
  {
   "cell_type": "markdown",
   "id": "13591307-6a28-45f7-9559-b9fd446c6e30",
   "metadata": {},
   "source": [
    "**Selecting Predictors**"
   ]
  },
  {
   "cell_type": "code",
   "execution_count": 32,
   "id": "f9db86c0-14aa-4fcd-87e7-a71362c1417f",
   "metadata": {},
   "outputs": [
    {
     "data": {
      "text/html": [
       "<style>\n",
       ".list-inline {list-style: none; margin:0; padding: 0}\n",
       ".list-inline>li {display: inline-block}\n",
       ".list-inline>li:not(:last-child)::after {content: \"\\00b7\"; padding: 0 .5ex}\n",
       "</style>\n",
       "<ol class=list-inline><li>'mean_integrated_profile'</li><li>'stand_dev_integrated_profile'</li><li>'exc_kurtosis_integrated_profile'</li><li>'skew_integrated_profile'</li><li>'mean_dmsnr'</li><li>'stand_dev_dmsnr'</li><li>'exc_kurtosis_dmsnr'</li><li>'skew_dmsnr'</li></ol>\n"
      ],
      "text/latex": [
       "\\begin{enumerate*}\n",
       "\\item 'mean\\_integrated\\_profile'\n",
       "\\item 'stand\\_dev\\_integrated\\_profile'\n",
       "\\item 'exc\\_kurtosis\\_integrated\\_profile'\n",
       "\\item 'skew\\_integrated\\_profile'\n",
       "\\item 'mean\\_dmsnr'\n",
       "\\item 'stand\\_dev\\_dmsnr'\n",
       "\\item 'exc\\_kurtosis\\_dmsnr'\n",
       "\\item 'skew\\_dmsnr'\n",
       "\\end{enumerate*}\n"
      ],
      "text/markdown": [
       "1. 'mean_integrated_profile'\n",
       "2. 'stand_dev_integrated_profile'\n",
       "3. 'exc_kurtosis_integrated_profile'\n",
       "4. 'skew_integrated_profile'\n",
       "5. 'mean_dmsnr'\n",
       "6. 'stand_dev_dmsnr'\n",
       "7. 'exc_kurtosis_dmsnr'\n",
       "8. 'skew_dmsnr'\n",
       "\n",
       "\n"
      ],
      "text/plain": [
       "[1] \"mean_integrated_profile\"         \"stand_dev_integrated_profile\"   \n",
       "[3] \"exc_kurtosis_integrated_profile\" \"skew_integrated_profile\"        \n",
       "[5] \"mean_dmsnr\"                      \"stand_dev_dmsnr\"                \n",
       "[7] \"exc_kurtosis_dmsnr\"              \"skew_dmsnr\"                     "
      ]
     },
     "metadata": {},
     "output_type": "display_data"
    }
   ],
   "source": [
    "names <- colnames(pulsar_train |> select(-class))\n",
    "names"
   ]
  },
  {
   "cell_type": "code",
   "execution_count": null,
   "id": "3a78cd2a-8fa3-4c14-b92f-3d393d4bb4a6",
   "metadata": {},
   "outputs": [],
   "source": []
  },
  {
   "cell_type": "code",
   "execution_count": 29,
   "id": "e34b4583-cb62-469d-ac7b-44a903952429",
   "metadata": {},
   "outputs": [
    {
     "data": {
      "text/html": [
       "'class ~ mean_integrated_profile+stand_dev_integrated_profile+exc_kurtosis_integrated_profile+skew_integrated_profile+mean_dmsnr+stand_dev_dmsnr+exc_kurtosis_dmsnr+skew_dmsnr'"
      ],
      "text/latex": [
       "'class \\textasciitilde{} mean\\_integrated\\_profile+stand\\_dev\\_integrated\\_profile+exc\\_kurtosis\\_integrated\\_profile+skew\\_integrated\\_profile+mean\\_dmsnr+stand\\_dev\\_dmsnr+exc\\_kurtosis\\_dmsnr+skew\\_dmsnr'"
      ],
      "text/markdown": [
       "'class ~ mean_integrated_profile+stand_dev_integrated_profile+exc_kurtosis_integrated_profile+skew_integrated_profile+mean_dmsnr+stand_dev_dmsnr+exc_kurtosis_dmsnr+skew_dmsnr'"
      ],
      "text/plain": [
       "[1] \"class ~ mean_integrated_profile+stand_dev_integrated_profile+exc_kurtosis_integrated_profile+skew_integrated_profile+mean_dmsnr+stand_dev_dmsnr+exc_kurtosis_dmsnr+skew_dmsnr\""
      ]
     },
     "metadata": {},
     "output_type": "display_data"
    }
   ],
   "source": [
    "example_formula <- paste(\"class\", \"~\", paste(names, collapse=\"+\"))\n",
    "example_formula"
   ]
  },
  {
   "cell_type": "code",
   "execution_count": 30,
   "id": "e961799a-d823-44a2-ada2-dd5e0caceee8",
   "metadata": {},
   "outputs": [],
   "source": [
    "# create an empty tibble to store the results\n",
    "predictor_accuracies <- tibble(size = integer(), \n",
    "                     model_string = character(), \n",
    "                     accuracy = numeric())"
   ]
  },
  {
   "cell_type": "code",
   "execution_count": 31,
   "id": "1838d8fb-5b4e-452b-9c10-66d613dfdf77",
   "metadata": {},
   "outputs": [
    {
     "name": "stderr",
     "output_type": "stream",
     "text": [
      "Warning message:\n",
      "“No tuning parameters have been detected, performance will be evaluated using the resamples with no tuning. Did you want to [tune()] parameters?”\n",
      "Warning message:\n",
      "“No tuning parameters have been detected, performance will be evaluated using the resamples with no tuning. Did you want to [tune()] parameters?”\n",
      "Warning message:\n",
      "“No tuning parameters have been detected, performance will be evaluated using the resamples with no tuning. Did you want to [tune()] parameters?”\n",
      "Warning message:\n",
      "“No tuning parameters have been detected, performance will be evaluated using the resamples with no tuning. Did you want to [tune()] parameters?”\n",
      "Warning message:\n",
      "“No tuning parameters have been detected, performance will be evaluated using the resamples with no tuning. Did you want to [tune()] parameters?”\n",
      "Warning message:\n",
      "“No tuning parameters have been detected, performance will be evaluated using the resamples with no tuning. Did you want to [tune()] parameters?”\n",
      "Warning message:\n",
      "“No tuning parameters have been detected, performance will be evaluated using the resamples with no tuning. Did you want to [tune()] parameters?”\n",
      "Warning message:\n",
      "“No tuning parameters have been detected, performance will be evaluated using the resamples with no tuning. Did you want to [tune()] parameters?”\n",
      "Warning message:\n",
      "“No tuning parameters have been detected, performance will be evaluated using the resamples with no tuning. Did you want to [tune()] parameters?”\n",
      "Warning message:\n",
      "“No tuning parameters have been detected, performance will be evaluated using the resamples with no tuning. Did you want to [tune()] parameters?”\n",
      "Warning message:\n",
      "“No tuning parameters have been detected, performance will be evaluated using the resamples with no tuning. Did you want to [tune()] parameters?”\n",
      "Warning message:\n",
      "“No tuning parameters have been detected, performance will be evaluated using the resamples with no tuning. Did you want to [tune()] parameters?”\n",
      "Warning message:\n",
      "“No tuning parameters have been detected, performance will be evaluated using the resamples with no tuning. Did you want to [tune()] parameters?”\n",
      "Warning message:\n",
      "“No tuning parameters have been detected, performance will be evaluated using the resamples with no tuning. Did you want to [tune()] parameters?”\n",
      "Warning message:\n",
      "“No tuning parameters have been detected, performance will be evaluated using the resamples with no tuning. Did you want to [tune()] parameters?”\n",
      "Warning message:\n",
      "“No tuning parameters have been detected, performance will be evaluated using the resamples with no tuning. Did you want to [tune()] parameters?”\n",
      "Warning message:\n",
      "“No tuning parameters have been detected, performance will be evaluated using the resamples with no tuning. Did you want to [tune()] parameters?”\n",
      "Warning message:\n",
      "“No tuning parameters have been detected, performance will be evaluated using the resamples with no tuning. Did you want to [tune()] parameters?”\n",
      "Warning message:\n",
      "“No tuning parameters have been detected, performance will be evaluated using the resamples with no tuning. Did you want to [tune()] parameters?”\n",
      "Warning message:\n",
      "“No tuning parameters have been detected, performance will be evaluated using the resamples with no tuning. Did you want to [tune()] parameters?”\n",
      "Warning message:\n",
      "“No tuning parameters have been detected, performance will be evaluated using the resamples with no tuning. Did you want to [tune()] parameters?”\n",
      "Warning message:\n",
      "“No tuning parameters have been detected, performance will be evaluated using the resamples with no tuning. Did you want to [tune()] parameters?”\n",
      "Warning message:\n",
      "“No tuning parameters have been detected, performance will be evaluated using the resamples with no tuning. Did you want to [tune()] parameters?”\n",
      "Warning message:\n",
      "“No tuning parameters have been detected, performance will be evaluated using the resamples with no tuning. Did you want to [tune()] parameters?”\n",
      "Warning message:\n",
      "“No tuning parameters have been detected, performance will be evaluated using the resamples with no tuning. Did you want to [tune()] parameters?”\n",
      "Warning message:\n",
      "“No tuning parameters have been detected, performance will be evaluated using the resamples with no tuning. Did you want to [tune()] parameters?”\n",
      "Warning message:\n",
      "“No tuning parameters have been detected, performance will be evaluated using the resamples with no tuning. Did you want to [tune()] parameters?”\n",
      "Warning message:\n",
      "“No tuning parameters have been detected, performance will be evaluated using the resamples with no tuning. Did you want to [tune()] parameters?”\n",
      "Warning message:\n",
      "“No tuning parameters have been detected, performance will be evaluated using the resamples with no tuning. Did you want to [tune()] parameters?”\n",
      "Warning message:\n",
      "“No tuning parameters have been detected, performance will be evaluated using the resamples with no tuning. Did you want to [tune()] parameters?”\n",
      "Warning message:\n",
      "“No tuning parameters have been detected, performance will be evaluated using the resamples with no tuning. Did you want to [tune()] parameters?”\n",
      "Warning message:\n",
      "“No tuning parameters have been detected, performance will be evaluated using the resamples with no tuning. Did you want to [tune()] parameters?”\n",
      "Warning message:\n",
      "“No tuning parameters have been detected, performance will be evaluated using the resamples with no tuning. Did you want to [tune()] parameters?”\n",
      "Warning message:\n",
      "“No tuning parameters have been detected, performance will be evaluated using the resamples with no tuning. Did you want to [tune()] parameters?”\n",
      "Warning message:\n",
      "“No tuning parameters have been detected, performance will be evaluated using the resamples with no tuning. Did you want to [tune()] parameters?”\n",
      "Warning message:\n",
      "“No tuning parameters have been detected, performance will be evaluated using the resamples with no tuning. Did you want to [tune()] parameters?”\n"
     ]
    },
    {
     "data": {
      "text/html": [
       "<table class=\"dataframe\">\n",
       "<caption>A tibble: 8 × 3</caption>\n",
       "<thead>\n",
       "\t<tr><th scope=col>size</th><th scope=col>model_string</th><th scope=col>accuracy</th></tr>\n",
       "\t<tr><th scope=col>&lt;int&gt;</th><th scope=col>&lt;chr&gt;</th><th scope=col>&lt;dbl&gt;</th></tr>\n",
       "</thead>\n",
       "<tbody>\n",
       "\t<tr><td>1</td><td>class ~ exc_kurtosis_integrated_profile                                                                                                                                      </td><td>0.9749051</td></tr>\n",
       "\t<tr><td>2</td><td>class ~ exc_kurtosis_integrated_profile+skew_dmsnr                                                                                                                           </td><td>0.9792116</td></tr>\n",
       "\t<tr><td>3</td><td>class ~ exc_kurtosis_integrated_profile+skew_dmsnr+stand_dev_integrated_profile                                                                                              </td><td>0.9810161</td></tr>\n",
       "\t<tr><td>4</td><td>class ~ exc_kurtosis_integrated_profile+skew_dmsnr+stand_dev_integrated_profile+mean_dmsnr                                                                                   </td><td>0.9813030</td></tr>\n",
       "\t<tr><td>5</td><td>class ~ exc_kurtosis_integrated_profile+skew_dmsnr+stand_dev_integrated_profile+mean_dmsnr+skew_integrated_profile                                                           </td><td>0.9814259</td></tr>\n",
       "\t<tr><td>6</td><td>class ~ exc_kurtosis_integrated_profile+skew_dmsnr+stand_dev_integrated_profile+mean_dmsnr+skew_integrated_profile+exc_kurtosis_dmsnr                                        </td><td>0.9815489</td></tr>\n",
       "\t<tr><td>7</td><td>class ~ exc_kurtosis_integrated_profile+skew_dmsnr+stand_dev_integrated_profile+mean_dmsnr+skew_integrated_profile+exc_kurtosis_dmsnr+mean_integrated_profile                </td><td>0.9813028</td></tr>\n",
       "\t<tr><td>8</td><td>class ~ exc_kurtosis_integrated_profile+skew_dmsnr+stand_dev_integrated_profile+mean_dmsnr+skew_integrated_profile+exc_kurtosis_dmsnr+mean_integrated_profile+stand_dev_dmsnr</td><td>0.9808927</td></tr>\n",
       "</tbody>\n",
       "</table>\n"
      ],
      "text/latex": [
       "A tibble: 8 × 3\n",
       "\\begin{tabular}{lll}\n",
       " size & model\\_string & accuracy\\\\\n",
       " <int> & <chr> & <dbl>\\\\\n",
       "\\hline\n",
       "\t 1 & class \\textasciitilde{} exc\\_kurtosis\\_integrated\\_profile                                                                                                                                       & 0.9749051\\\\\n",
       "\t 2 & class \\textasciitilde{} exc\\_kurtosis\\_integrated\\_profile+skew\\_dmsnr                                                                                                                            & 0.9792116\\\\\n",
       "\t 3 & class \\textasciitilde{} exc\\_kurtosis\\_integrated\\_profile+skew\\_dmsnr+stand\\_dev\\_integrated\\_profile                                                                                               & 0.9810161\\\\\n",
       "\t 4 & class \\textasciitilde{} exc\\_kurtosis\\_integrated\\_profile+skew\\_dmsnr+stand\\_dev\\_integrated\\_profile+mean\\_dmsnr                                                                                    & 0.9813030\\\\\n",
       "\t 5 & class \\textasciitilde{} exc\\_kurtosis\\_integrated\\_profile+skew\\_dmsnr+stand\\_dev\\_integrated\\_profile+mean\\_dmsnr+skew\\_integrated\\_profile                                                            & 0.9814259\\\\\n",
       "\t 6 & class \\textasciitilde{} exc\\_kurtosis\\_integrated\\_profile+skew\\_dmsnr+stand\\_dev\\_integrated\\_profile+mean\\_dmsnr+skew\\_integrated\\_profile+exc\\_kurtosis\\_dmsnr                                         & 0.9815489\\\\\n",
       "\t 7 & class \\textasciitilde{} exc\\_kurtosis\\_integrated\\_profile+skew\\_dmsnr+stand\\_dev\\_integrated\\_profile+mean\\_dmsnr+skew\\_integrated\\_profile+exc\\_kurtosis\\_dmsnr+mean\\_integrated\\_profile                 & 0.9813028\\\\\n",
       "\t 8 & class \\textasciitilde{} exc\\_kurtosis\\_integrated\\_profile+skew\\_dmsnr+stand\\_dev\\_integrated\\_profile+mean\\_dmsnr+skew\\_integrated\\_profile+exc\\_kurtosis\\_dmsnr+mean\\_integrated\\_profile+stand\\_dev\\_dmsnr & 0.9808927\\\\\n",
       "\\end{tabular}\n"
      ],
      "text/markdown": [
       "\n",
       "A tibble: 8 × 3\n",
       "\n",
       "| size &lt;int&gt; | model_string &lt;chr&gt; | accuracy &lt;dbl&gt; |\n",
       "|---|---|---|\n",
       "| 1 | class ~ exc_kurtosis_integrated_profile                                                                                                                                       | 0.9749051 |\n",
       "| 2 | class ~ exc_kurtosis_integrated_profile+skew_dmsnr                                                                                                                            | 0.9792116 |\n",
       "| 3 | class ~ exc_kurtosis_integrated_profile+skew_dmsnr+stand_dev_integrated_profile                                                                                               | 0.9810161 |\n",
       "| 4 | class ~ exc_kurtosis_integrated_profile+skew_dmsnr+stand_dev_integrated_profile+mean_dmsnr                                                                                    | 0.9813030 |\n",
       "| 5 | class ~ exc_kurtosis_integrated_profile+skew_dmsnr+stand_dev_integrated_profile+mean_dmsnr+skew_integrated_profile                                                            | 0.9814259 |\n",
       "| 6 | class ~ exc_kurtosis_integrated_profile+skew_dmsnr+stand_dev_integrated_profile+mean_dmsnr+skew_integrated_profile+exc_kurtosis_dmsnr                                         | 0.9815489 |\n",
       "| 7 | class ~ exc_kurtosis_integrated_profile+skew_dmsnr+stand_dev_integrated_profile+mean_dmsnr+skew_integrated_profile+exc_kurtosis_dmsnr+mean_integrated_profile                 | 0.9813028 |\n",
       "| 8 | class ~ exc_kurtosis_integrated_profile+skew_dmsnr+stand_dev_integrated_profile+mean_dmsnr+skew_integrated_profile+exc_kurtosis_dmsnr+mean_integrated_profile+stand_dev_dmsnr | 0.9808927 |\n",
       "\n"
      ],
      "text/plain": [
       "  size\n",
       "1 1   \n",
       "2 2   \n",
       "3 3   \n",
       "4 4   \n",
       "5 5   \n",
       "6 6   \n",
       "7 7   \n",
       "8 8   \n",
       "  model_string                                                                                                                                                                 \n",
       "1 class ~ exc_kurtosis_integrated_profile                                                                                                                                      \n",
       "2 class ~ exc_kurtosis_integrated_profile+skew_dmsnr                                                                                                                           \n",
       "3 class ~ exc_kurtosis_integrated_profile+skew_dmsnr+stand_dev_integrated_profile                                                                                              \n",
       "4 class ~ exc_kurtosis_integrated_profile+skew_dmsnr+stand_dev_integrated_profile+mean_dmsnr                                                                                   \n",
       "5 class ~ exc_kurtosis_integrated_profile+skew_dmsnr+stand_dev_integrated_profile+mean_dmsnr+skew_integrated_profile                                                           \n",
       "6 class ~ exc_kurtosis_integrated_profile+skew_dmsnr+stand_dev_integrated_profile+mean_dmsnr+skew_integrated_profile+exc_kurtosis_dmsnr                                        \n",
       "7 class ~ exc_kurtosis_integrated_profile+skew_dmsnr+stand_dev_integrated_profile+mean_dmsnr+skew_integrated_profile+exc_kurtosis_dmsnr+mean_integrated_profile                \n",
       "8 class ~ exc_kurtosis_integrated_profile+skew_dmsnr+stand_dev_integrated_profile+mean_dmsnr+skew_integrated_profile+exc_kurtosis_dmsnr+mean_integrated_profile+stand_dev_dmsnr\n",
       "  accuracy \n",
       "1 0.9749051\n",
       "2 0.9792116\n",
       "3 0.9810161\n",
       "4 0.9813030\n",
       "5 0.9814259\n",
       "6 0.9815489\n",
       "7 0.9813028\n",
       "8 0.9808927"
      ]
     },
     "metadata": {},
     "output_type": "display_data"
    }
   ],
   "source": [
    "# store the total number of predictors\n",
    "n_total <- length(names)\n",
    "\n",
    "# stores selected predictors\n",
    "selected <- c()\n",
    "\n",
    "# for every size from 1 to the total number of predictors\n",
    "for (i in 1:n_total) {\n",
    "    # for every predictor still not added yet\n",
    "    accs <- list()\n",
    "    models <- list()\n",
    "    for (j in 1:length(names)) {\n",
    "        # create a model string for this combination of predictors\n",
    "        preds_new <- c(selected, names[[j]])\n",
    "        model_string <- paste(\"class\", \"~\", paste(preds_new, collapse=\"+\"))\n",
    "\n",
    "        # create a recipe from the model string\n",
    "        pulsar_recipe <- recipe(as.formula(model_string), \n",
    "                                data = pulsar_train) |>\n",
    "                          step_scale(all_predictors()) |>\n",
    "                          step_center(all_predictors())\n",
    "\n",
    "        # tune the KNN classifier with these predictors, \n",
    "        # and collect the accuracy for the best K\n",
    "        acc <- workflow() |>\n",
    "          add_recipe(pulsar_recipe) |>\n",
    "          add_model(knn_spec) |>\n",
    "          tune_grid(resamples = pulsar_vfold, grid = 10) |>\n",
    "          collect_metrics() |>\n",
    "          filter(.metric == \"accuracy\") |>\n",
    "          summarize(mx = max(mean))\n",
    "        acc <- acc$mx |> unlist()\n",
    "\n",
    "        # add this result to the dataframe\n",
    "        accs[[j]] <- acc\n",
    "        models[[j]] <- model_string\n",
    "    }\n",
    "    jstar <- which.max(unlist(accs))\n",
    "predictor_accuracies <- predictor_accuracies |> \n",
    "      add_row(size = i, \n",
    "              model_string = models[[jstar]], \n",
    "              accuracy = accs[[jstar]])\n",
    "    selected <- c(selected, names[[jstar]])\n",
    "    names <- names[-jstar]\n",
    "}\n",
    "predictor_accuracies"
   ]
  },
  {
   "cell_type": "markdown",
   "id": "a6ad220a-70ee-4a89-99d0-73000de0700f",
   "metadata": {},
   "source": [
    "Based on the data above, the highest accuracy obtained by having exc_kurtosis_integrated_profile+skew_dmsnr+stand_dev_integrated_profile+mean_dmsnr+skew_integrated_profile+exc_kurtosis_dmsnr as predictors"
   ]
  },
  {
   "cell_type": "code",
   "execution_count": null,
   "id": "efca7c97-8078-4c5f-a204-790d65191714",
   "metadata": {},
   "outputs": [],
   "source": []
  }
 ],
 "metadata": {
  "kernelspec": {
   "display_name": "R",
   "language": "R",
   "name": "ir"
  },
  "language_info": {
   "codemirror_mode": "r",
   "file_extension": ".r",
   "mimetype": "text/x-r-source",
   "name": "R",
   "pygments_lexer": "r",
   "version": "4.1.3"
  }
 },
 "nbformat": 4,
 "nbformat_minor": 5
}
