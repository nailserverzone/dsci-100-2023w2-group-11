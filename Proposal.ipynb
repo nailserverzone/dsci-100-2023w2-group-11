{
 "cells": [
  {
   "cell_type": "markdown",
   "id": "ecad93d0-f04d-410e-af45-d0f34e1c3f69",
   "metadata": {},
   "source": [
    "Group Eleven Proposal:\n",
    "\n",
    "Group members: Katie Archer, \n"
   ]
  },
  {
   "cell_type": "code",
   "execution_count": 3,
   "id": "989e6e53-ce44-41cf-9653-ccdc624bfd1f",
   "metadata": {},
   "outputs": [
    {
     "name": "stderr",
     "output_type": "stream",
     "text": [
      "\u001b[1mRows: \u001b[22m\u001b[34m17898\u001b[39m \u001b[1mColumns: \u001b[22m\u001b[34m9\u001b[39m\n",
      "\u001b[36m──\u001b[39m \u001b[1mColumn specification\u001b[22m \u001b[36m────────────────────────────────────────────────────────\u001b[39m\n",
      "\u001b[1mDelimiter:\u001b[22m \",\"\n",
      "\u001b[32mdbl\u001b[39m (9): mean_integrated_profile, stand_dev_integrated_profile, exc_kurtosis...\n",
      "\n",
      "\u001b[36mℹ\u001b[39m Use `spec()` to retrieve the full column specification for this data.\n",
      "\u001b[36mℹ\u001b[39m Specify the column types or set `show_col_types = FALSE` to quiet this message.\n"
     ]
    },
    {
     "data": {
      "text/html": [
       "<table class=\"dataframe\">\n",
       "<caption>A spec_tbl_df: 17898 × 9</caption>\n",
       "<thead>\n",
       "\t<tr><th scope=col>mean_integrated_profile</th><th scope=col>stand_dev_integrated_profile</th><th scope=col>exc_kurtosis_integrated_profile</th><th scope=col>skew_integrated_profile</th><th scope=col>mean_dmsnr</th><th scope=col>stand_dev_dmsnr</th><th scope=col>exc_kurtosis_dmsnr</th><th scope=col>skew_dmsnr</th><th scope=col>class</th></tr>\n",
       "\t<tr><th scope=col>&lt;dbl&gt;</th><th scope=col>&lt;dbl&gt;</th><th scope=col>&lt;dbl&gt;</th><th scope=col>&lt;dbl&gt;</th><th scope=col>&lt;dbl&gt;</th><th scope=col>&lt;dbl&gt;</th><th scope=col>&lt;dbl&gt;</th><th scope=col>&lt;dbl&gt;</th><th scope=col>&lt;dbl&gt;</th></tr>\n",
       "</thead>\n",
       "<tbody>\n",
       "\t<tr><td>140.56250</td><td>55.68378</td><td>-0.23457141</td><td>-0.6996484</td><td>3.199833</td><td>19.11043</td><td> 7.975532</td><td> 74.24222</td><td>0</td></tr>\n",
       "\t<tr><td>102.50781</td><td>58.88243</td><td> 0.46531815</td><td>-0.5150879</td><td>1.677258</td><td>14.86015</td><td>10.576487</td><td>127.39358</td><td>0</td></tr>\n",
       "\t<tr><td>103.01562</td><td>39.34165</td><td> 0.32332837</td><td> 1.0511644</td><td>3.121237</td><td>21.74467</td><td> 7.735822</td><td> 63.17191</td><td>0</td></tr>\n",
       "\t<tr><td>136.75000</td><td>57.17845</td><td>-0.06841464</td><td>-0.6362384</td><td>3.642977</td><td>20.95928</td><td> 6.896499</td><td> 53.59366</td><td>0</td></tr>\n",
       "\t<tr><td> 88.72656</td><td>40.67223</td><td> 0.60086608</td><td> 1.1234917</td><td>1.178930</td><td>11.46872</td><td>14.269573</td><td>252.56731</td><td>0</td></tr>\n",
       "\t<tr><td>⋮</td><td>⋮</td><td>⋮</td><td>⋮</td><td>⋮</td><td>⋮</td><td>⋮</td><td>⋮</td><td>⋮</td></tr>\n",
       "\t<tr><td>136.4297</td><td>59.84742</td><td>-0.1878456</td><td>-0.73812297</td><td>  1.296823</td><td>12.16606</td><td>15.450260</td><td>285.931022</td><td>0</td></tr>\n",
       "\t<tr><td>122.5547</td><td>49.48561</td><td> 0.1279781</td><td> 0.32306090</td><td> 16.409699</td><td>44.62689</td><td> 2.945244</td><td>  8.297092</td><td>0</td></tr>\n",
       "\t<tr><td>119.3359</td><td>59.93594</td><td> 0.1593631</td><td>-0.74302540</td><td> 21.430602</td><td>58.87200</td><td> 2.499517</td><td>  4.595173</td><td>0</td></tr>\n",
       "\t<tr><td>114.5078</td><td>53.90240</td><td> 0.2011614</td><td>-0.02478884</td><td>  1.946488</td><td>13.38173</td><td>10.007967</td><td>134.238910</td><td>0</td></tr>\n",
       "\t<tr><td> 57.0625</td><td>85.79734</td><td> 1.4063910</td><td> 0.08951971</td><td>188.306020</td><td>64.71256</td><td>-1.597527</td><td>  1.429475</td><td>0</td></tr>\n",
       "</tbody>\n",
       "</table>\n"
      ],
      "text/latex": [
       "A spec\\_tbl\\_df: 17898 × 9\n",
       "\\begin{tabular}{lllllllll}\n",
       " mean\\_integrated\\_profile & stand\\_dev\\_integrated\\_profile & exc\\_kurtosis\\_integrated\\_profile & skew\\_integrated\\_profile & mean\\_dmsnr & stand\\_dev\\_dmsnr & exc\\_kurtosis\\_dmsnr & skew\\_dmsnr & class\\\\\n",
       " <dbl> & <dbl> & <dbl> & <dbl> & <dbl> & <dbl> & <dbl> & <dbl> & <dbl>\\\\\n",
       "\\hline\n",
       "\t 140.56250 & 55.68378 & -0.23457141 & -0.6996484 & 3.199833 & 19.11043 &  7.975532 &  74.24222 & 0\\\\\n",
       "\t 102.50781 & 58.88243 &  0.46531815 & -0.5150879 & 1.677258 & 14.86015 & 10.576487 & 127.39358 & 0\\\\\n",
       "\t 103.01562 & 39.34165 &  0.32332837 &  1.0511644 & 3.121237 & 21.74467 &  7.735822 &  63.17191 & 0\\\\\n",
       "\t 136.75000 & 57.17845 & -0.06841464 & -0.6362384 & 3.642977 & 20.95928 &  6.896499 &  53.59366 & 0\\\\\n",
       "\t  88.72656 & 40.67223 &  0.60086608 &  1.1234917 & 1.178930 & 11.46872 & 14.269573 & 252.56731 & 0\\\\\n",
       "\t ⋮ & ⋮ & ⋮ & ⋮ & ⋮ & ⋮ & ⋮ & ⋮ & ⋮\\\\\n",
       "\t 136.4297 & 59.84742 & -0.1878456 & -0.73812297 &   1.296823 & 12.16606 & 15.450260 & 285.931022 & 0\\\\\n",
       "\t 122.5547 & 49.48561 &  0.1279781 &  0.32306090 &  16.409699 & 44.62689 &  2.945244 &   8.297092 & 0\\\\\n",
       "\t 119.3359 & 59.93594 &  0.1593631 & -0.74302540 &  21.430602 & 58.87200 &  2.499517 &   4.595173 & 0\\\\\n",
       "\t 114.5078 & 53.90240 &  0.2011614 & -0.02478884 &   1.946488 & 13.38173 & 10.007967 & 134.238910 & 0\\\\\n",
       "\t  57.0625 & 85.79734 &  1.4063910 &  0.08951971 & 188.306020 & 64.71256 & -1.597527 &   1.429475 & 0\\\\\n",
       "\\end{tabular}\n"
      ],
      "text/markdown": [
       "\n",
       "A spec_tbl_df: 17898 × 9\n",
       "\n",
       "| mean_integrated_profile &lt;dbl&gt; | stand_dev_integrated_profile &lt;dbl&gt; | exc_kurtosis_integrated_profile &lt;dbl&gt; | skew_integrated_profile &lt;dbl&gt; | mean_dmsnr &lt;dbl&gt; | stand_dev_dmsnr &lt;dbl&gt; | exc_kurtosis_dmsnr &lt;dbl&gt; | skew_dmsnr &lt;dbl&gt; | class &lt;dbl&gt; |\n",
       "|---|---|---|---|---|---|---|---|---|\n",
       "| 140.56250 | 55.68378 | -0.23457141 | -0.6996484 | 3.199833 | 19.11043 |  7.975532 |  74.24222 | 0 |\n",
       "| 102.50781 | 58.88243 |  0.46531815 | -0.5150879 | 1.677258 | 14.86015 | 10.576487 | 127.39358 | 0 |\n",
       "| 103.01562 | 39.34165 |  0.32332837 |  1.0511644 | 3.121237 | 21.74467 |  7.735822 |  63.17191 | 0 |\n",
       "| 136.75000 | 57.17845 | -0.06841464 | -0.6362384 | 3.642977 | 20.95928 |  6.896499 |  53.59366 | 0 |\n",
       "|  88.72656 | 40.67223 |  0.60086608 |  1.1234917 | 1.178930 | 11.46872 | 14.269573 | 252.56731 | 0 |\n",
       "| ⋮ | ⋮ | ⋮ | ⋮ | ⋮ | ⋮ | ⋮ | ⋮ | ⋮ |\n",
       "| 136.4297 | 59.84742 | -0.1878456 | -0.73812297 |   1.296823 | 12.16606 | 15.450260 | 285.931022 | 0 |\n",
       "| 122.5547 | 49.48561 |  0.1279781 |  0.32306090 |  16.409699 | 44.62689 |  2.945244 |   8.297092 | 0 |\n",
       "| 119.3359 | 59.93594 |  0.1593631 | -0.74302540 |  21.430602 | 58.87200 |  2.499517 |   4.595173 | 0 |\n",
       "| 114.5078 | 53.90240 |  0.2011614 | -0.02478884 |   1.946488 | 13.38173 | 10.007967 | 134.238910 | 0 |\n",
       "|  57.0625 | 85.79734 |  1.4063910 |  0.08951971 | 188.306020 | 64.71256 | -1.597527 |   1.429475 | 0 |\n",
       "\n"
      ],
      "text/plain": [
       "      mean_integrated_profile stand_dev_integrated_profile\n",
       "1     140.56250               55.68378                    \n",
       "2     102.50781               58.88243                    \n",
       "3     103.01562               39.34165                    \n",
       "4     136.75000               57.17845                    \n",
       "5      88.72656               40.67223                    \n",
       "⋮     ⋮                       ⋮                           \n",
       "17894 136.4297                59.84742                    \n",
       "17895 122.5547                49.48561                    \n",
       "17896 119.3359                59.93594                    \n",
       "17897 114.5078                53.90240                    \n",
       "17898  57.0625                85.79734                    \n",
       "      exc_kurtosis_integrated_profile skew_integrated_profile mean_dmsnr\n",
       "1     -0.23457141                     -0.6996484              3.199833  \n",
       "2      0.46531815                     -0.5150879              1.677258  \n",
       "3      0.32332837                      1.0511644              3.121237  \n",
       "4     -0.06841464                     -0.6362384              3.642977  \n",
       "5      0.60086608                      1.1234917              1.178930  \n",
       "⋮     ⋮                               ⋮                       ⋮         \n",
       "17894 -0.1878456                      -0.73812297               1.296823\n",
       "17895  0.1279781                       0.32306090              16.409699\n",
       "17896  0.1593631                      -0.74302540              21.430602\n",
       "17897  0.2011614                      -0.02478884               1.946488\n",
       "17898  1.4063910                       0.08951971             188.306020\n",
       "      stand_dev_dmsnr exc_kurtosis_dmsnr skew_dmsnr class\n",
       "1     19.11043         7.975532           74.24222  0    \n",
       "2     14.86015        10.576487          127.39358  0    \n",
       "3     21.74467         7.735822           63.17191  0    \n",
       "4     20.95928         6.896499           53.59366  0    \n",
       "5     11.46872        14.269573          252.56731  0    \n",
       "⋮     ⋮               ⋮                  ⋮          ⋮    \n",
       "17894 12.16606        15.450260          285.931022 0    \n",
       "17895 44.62689         2.945244            8.297092 0    \n",
       "17896 58.87200         2.499517            4.595173 0    \n",
       "17897 13.38173        10.007967          134.238910 0    \n",
       "17898 64.71256        -1.597527            1.429475 0    "
      ]
     },
     "metadata": {},
     "output_type": "display_data"
    }
   ],
   "source": [
    "library(tidyverse)\n",
    "options(repr.matrix.max.rows = 10)\n",
    "\n",
    "pulsar_data <- read_csv(\"data/pulsar_data.csv\", col_names = c(\"mean_integrated_profile\", \"stand_dev_integrated_profile\", \"exc_kurtosis_integrated_profile\", \"skew_integrated_profile\",\n",
    "                  \"mean_dmsnr\", \"stand_dev_dmsnr\", \"exc_kurtosis_dmsnr\", \"skew_dmsnr\", \"class\"))\n",
    "pulsar_data\n"
   ]
  },
  {
   "cell_type": "code",
   "execution_count": null,
   "id": "1bb0d027-7cde-477d-901c-1f737ae1c078",
   "metadata": {},
   "outputs": [],
   "source": []
  }
 ],
 "metadata": {
  "kernelspec": {
   "display_name": "R",
   "language": "R",
   "name": "ir"
  },
  "language_info": {
   "codemirror_mode": "r",
   "file_extension": ".r",
   "mimetype": "text/x-r-source",
   "name": "R",
   "pygments_lexer": "r",
   "version": "4.1.3"
  }
 },
 "nbformat": 4,
 "nbformat_minor": 5
}
